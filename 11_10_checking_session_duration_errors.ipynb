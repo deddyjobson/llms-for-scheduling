{
 "cells": [
  {
   "cell_type": "code",
   "execution_count": 1,
   "id": "f52b3bca-8da1-4f3a-bf58-9633cf4d371d",
   "metadata": {
    "tags": []
   },
   "outputs": [],
   "source": [
    "from tqdm import tqdm\n",
    "import numpy as np\n",
    "from io import StringIO"
   ]
  },
  {
   "cell_type": "code",
   "execution_count": 2,
   "id": "f2fd0ef6-a7a3-4593-abf4-83147c572e11",
   "metadata": {},
   "outputs": [],
   "source": [
    "import openai\n",
    "\n",
    "with open(\"secret/secret_key_file.txt\", 'r') as file:\n",
    "    api_key = file.read().strip()\n",
    "\n",
    "client = openai.OpenAI(api_key = api_key)"
   ]
  },
  {
   "cell_type": "code",
   "execution_count": 3,
   "id": "5f1c7ebb-2229-4c01-866f-d118967680c2",
   "metadata": {
    "tags": []
   },
   "outputs": [],
   "source": [
    "import matplotlib.pyplot as plt\n",
    "import pandas as pd\n",
    "import re\n",
    "from bs4 import BeautifulSoup\n",
    "\n",
    "# Without error capture to ensure the output (whether success or failure) is reported back.\n",
    "# Attempt to read tables from the HTML file using pandas\n",
    "file_path = \"data/Program - MSR 2022.html\""
   ]
  },
  {
   "cell_type": "code",
   "execution_count": 4,
   "id": "12541858-24bc-4f76-b116-ad9f40cc98cf",
   "metadata": {
    "tags": []
   },
   "outputs": [],
   "source": [
    "with open(file_path, 'r') as file:\n",
    "    html_content = file.read()"
   ]
  },
  {
   "cell_type": "code",
   "execution_count": 5,
   "id": "3320d105-9782-4253-baba-3c70a948c8c2",
   "metadata": {
    "tags": []
   },
   "outputs": [],
   "source": [
    "soup = BeautifulSoup(html_content, 'lxml')"
   ]
  },
  {
   "cell_type": "code",
   "execution_count": 6,
   "id": "326b1a65-9233-4e11-b07d-7e8d956c7bb8",
   "metadata": {
    "tags": []
   },
   "outputs": [],
   "source": [
    "rows = soup.find_all('tr', class_='hidable')"
   ]
  },
  {
   "cell_type": "code",
   "execution_count": 7,
   "id": "cf114e01-0846-40e7-aebe-1e52de2e5c34",
   "metadata": {
    "tags": []
   },
   "outputs": [],
   "source": [
    "# Regex to match date pattern (e.g., \"Tue 16 May\")\n",
    "date_pattern = re.compile(r\"\\b(?:Mon|Tue|Wed|Thu|Fri|Sat|Sun)\\s\\d{1,2}\\s(?:Jan|Feb|Mar|Apr|May|Jun|Jul|Aug|Sep|Oct|Nov|Dec)\")"
   ]
  },
  {
   "cell_type": "code",
   "execution_count": 8,
   "id": "c1f56910-958e-4ddd-9d1f-67c8247b226b",
   "metadata": {
    "tags": []
   },
   "outputs": [
    {
     "data": {
      "text/html": [
       "<div>\n",
       "<style scoped>\n",
       "    .dataframe tbody tr th:only-of-type {\n",
       "        vertical-align: middle;\n",
       "    }\n",
       "\n",
       "    .dataframe tbody tr th {\n",
       "        vertical-align: top;\n",
       "    }\n",
       "\n",
       "    .dataframe thead th {\n",
       "        text-align: right;\n",
       "    }\n",
       "</style>\n",
       "<table border=\"1\" class=\"dataframe\">\n",
       "  <thead>\n",
       "    <tr style=\"text-align: right;\">\n",
       "      <th></th>\n",
       "      <th>Time</th>\n",
       "      <th>Duration</th>\n",
       "      <th>Talk Title</th>\n",
       "      <th>Link</th>\n",
       "      <th>Authors</th>\n",
       "      <th>Session</th>\n",
       "      <th>Date</th>\n",
       "    </tr>\n",
       "  </thead>\n",
       "  <tbody>\n",
       "    <tr>\n",
       "      <th>0</th>\n",
       "      <td>22:00</td>\n",
       "      <td>4m</td>\n",
       "      <td>An Empirical Evaluation of GitHub Copilot’s Co...</td>\n",
       "      <td>#</td>\n",
       "      <td>[Nhan Nguyen, Sarah Nadi]</td>\n",
       "      <td>Session 1Technical Papers/Registered Reportsat...</td>\n",
       "      <td>Tue 17 May</td>\n",
       "    </tr>\n",
       "    <tr>\n",
       "      <th>1</th>\n",
       "      <td>22:04</td>\n",
       "      <td>4m</td>\n",
       "      <td>Comments on Comments: Where Code Review and Do...</td>\n",
       "      <td>#</td>\n",
       "      <td>[Nikitha Rao, Jason Tsay, Martin Hirzel, Vince...</td>\n",
       "      <td>Session 1Technical Papers/Registered Reportsat...</td>\n",
       "      <td>Tue 17 May</td>\n",
       "    </tr>\n",
       "    <tr>\n",
       "      <th>2</th>\n",
       "      <td>22:08</td>\n",
       "      <td>7m</td>\n",
       "      <td>Does This Apply to Me? An Empirical Study of T...</td>\n",
       "      <td>#</td>\n",
       "      <td>[Akalanka Galappaththi, Sarah Nadi, Christoph ...</td>\n",
       "      <td>Session 1Technical Papers/Registered Reportsat...</td>\n",
       "      <td>Tue 17 May</td>\n",
       "    </tr>\n",
       "    <tr>\n",
       "      <th>3</th>\n",
       "      <td>22:15</td>\n",
       "      <td>7m</td>\n",
       "      <td>Towards Reliable Agile Iterative Planning via ...</td>\n",
       "      <td>#</td>\n",
       "      <td>[Jirat Pasuksmit, Patanamon Thongtanunam, Shan...</td>\n",
       "      <td>Session 1Technical Papers/Registered Reportsat...</td>\n",
       "      <td>Tue 17 May</td>\n",
       "    </tr>\n",
       "    <tr>\n",
       "      <th>4</th>\n",
       "      <td>22:22</td>\n",
       "      <td>7m</td>\n",
       "      <td>BotHunter: An Approach to Detect Software Bots...</td>\n",
       "      <td>#</td>\n",
       "      <td>[Ahmad Abdellatif, Mairieli Wessel, Igor Stein...</td>\n",
       "      <td>Session 1Technical Papers/Registered Reportsat...</td>\n",
       "      <td>Tue 17 May</td>\n",
       "    </tr>\n",
       "  </tbody>\n",
       "</table>\n",
       "</div>"
      ],
      "text/plain": [
       "    Time Duration                                         Talk Title Link  \\\n",
       "0  22:00       4m  An Empirical Evaluation of GitHub Copilot’s Co...    #   \n",
       "1  22:04       4m  Comments on Comments: Where Code Review and Do...    #   \n",
       "2  22:08       7m  Does This Apply to Me? An Empirical Study of T...    #   \n",
       "3  22:15       7m  Towards Reliable Agile Iterative Planning via ...    #   \n",
       "4  22:22       7m  BotHunter: An Approach to Detect Software Bots...    #   \n",
       "\n",
       "                                             Authors  \\\n",
       "0                          [Nhan Nguyen, Sarah Nadi]   \n",
       "1  [Nikitha Rao, Jason Tsay, Martin Hirzel, Vince...   \n",
       "2  [Akalanka Galappaththi, Sarah Nadi, Christoph ...   \n",
       "3  [Jirat Pasuksmit, Patanamon Thongtanunam, Shan...   \n",
       "4  [Ahmad Abdellatif, Mairieli Wessel, Igor Stein...   \n",
       "\n",
       "                                             Session        Date  \n",
       "0  Session 1Technical Papers/Registered Reportsat...  Tue 17 May  \n",
       "1  Session 1Technical Papers/Registered Reportsat...  Tue 17 May  \n",
       "2  Session 1Technical Papers/Registered Reportsat...  Tue 17 May  \n",
       "3  Session 1Technical Papers/Registered Reportsat...  Tue 17 May  \n",
       "4  Session 1Technical Papers/Registered Reportsat...  Tue 17 May  "
      ]
     },
     "execution_count": 8,
     "metadata": {},
     "output_type": "execute_result"
    }
   ],
   "source": [
    "extracted_rows = []\n",
    "\n",
    "# Loop through each row to extract required details\n",
    "for row in rows:\n",
    "    temp_row = []\n",
    "    \n",
    "    # Extract session details from parent div if not already extracted\n",
    "    session_div = row.find_previous('div', class_='session-info-in-table')\n",
    "    session = session_div.get_text(strip=True) if session_div else ''\n",
    "    \n",
    "    datetime_info = row.find('td', class_='text-right')\n",
    "    talk_info = row.find_all('td')[-1]\n",
    "    \n",
    "    if datetime_info and talk_info:\n",
    "        time = datetime_info.find('div', class_='start-time').get_text(strip=True) if datetime_info.find('div', class_='start-time') else ''\n",
    "        duration = datetime_info.find('strong').get_text(strip=True) if datetime_info.find('strong') else ''\n",
    "        \n",
    "        # Calculate end time based on start time and duration if needed\n",
    "        \n",
    "        temp_row.append(time)\n",
    "        # temp_row.append(end_time)  # Calculate and append end time if needed\n",
    "        temp_row.append(duration)\n",
    "        \n",
    "        talk_title = talk_info.find('strong')\n",
    "        if talk_title:\n",
    "            temp_row.append(talk_title.get_text(strip=True))\n",
    "            \n",
    "            link = talk_title.find('a', href=True)\n",
    "            temp_row.append(link['href'] if link else '')\n",
    "        else:\n",
    "            temp_row.extend(['', ''])\n",
    "            \n",
    "        # Extract authors\n",
    "        authors_div = talk_info.find('div', class_='performers')\n",
    "        authors = [author.get_text(strip=True) for author in authors_div.find_all('a')] if authors_div else []\n",
    "        temp_row.append(authors)\n",
    "        \n",
    "        # Append session information\n",
    "        temp_row.append(session)\n",
    "        \n",
    "        # Locate date information\n",
    "        # Tip: You may need to adjust how you locate the 'date information' based on your HTML structure\n",
    "        date_info = row.find_previous('div', class_='day-wrapper')\n",
    "        if date_info:\n",
    "            date_text = date_info.get_text(strip=True)\n",
    "            matched_date = date_pattern.search(date_text)\n",
    "            date = matched_date.group(0) if matched_date else \"Date Not Found\"\n",
    "        else:\n",
    "            date = None\n",
    "        temp_row.append(date)\n",
    "        \n",
    "        extracted_rows.append(temp_row)\n",
    "\n",
    "columns = ['Time', 'Duration', 'Talk Title', 'Link', 'Authors', 'Session', 'Date']\n",
    "df = pd.DataFrame(extracted_rows, columns=columns)\n",
    "\n",
    "df.head()"
   ]
  },
  {
   "cell_type": "code",
   "execution_count": 9,
   "id": "0cbbcd35-7fe8-4c81-a61f-83b25fe0bef5",
   "metadata": {
    "tags": []
   },
   "outputs": [
    {
     "data": {
      "text/html": [
       "<div>\n",
       "<style scoped>\n",
       "    .dataframe tbody tr th:only-of-type {\n",
       "        vertical-align: middle;\n",
       "    }\n",
       "\n",
       "    .dataframe tbody tr th {\n",
       "        vertical-align: top;\n",
       "    }\n",
       "\n",
       "    .dataframe thead th {\n",
       "        text-align: right;\n",
       "    }\n",
       "</style>\n",
       "<table border=\"1\" class=\"dataframe\">\n",
       "  <thead>\n",
       "    <tr style=\"text-align: right;\">\n",
       "      <th></th>\n",
       "      <th>session</th>\n",
       "      <th>date</th>\n",
       "      <th>start_time</th>\n",
       "      <th>end_time</th>\n",
       "      <th>duration</th>\n",
       "      <th>talk_title</th>\n",
       "      <th>authors</th>\n",
       "    </tr>\n",
       "  </thead>\n",
       "  <tbody>\n",
       "    <tr>\n",
       "      <th>0</th>\n",
       "      <td>Session 1Technical Papers/Registered Reportsat...</td>\n",
       "      <td>Tue 17 May</td>\n",
       "      <td>1900-05-17 22:00:00</td>\n",
       "      <td>1900-05-17 22:04:00</td>\n",
       "      <td>4</td>\n",
       "      <td>An Empirical Evaluation of GitHub Copilot’s Co...</td>\n",
       "      <td>[Nhan Nguyen, Sarah Nadi]</td>\n",
       "    </tr>\n",
       "    <tr>\n",
       "      <th>1</th>\n",
       "      <td>Session 1Technical Papers/Registered Reportsat...</td>\n",
       "      <td>Tue 17 May</td>\n",
       "      <td>1900-05-17 22:04:00</td>\n",
       "      <td>1900-05-17 22:08:00</td>\n",
       "      <td>4</td>\n",
       "      <td>Comments on Comments: Where Code Review and Do...</td>\n",
       "      <td>[Nikitha Rao, Jason Tsay, Martin Hirzel, Vince...</td>\n",
       "    </tr>\n",
       "    <tr>\n",
       "      <th>2</th>\n",
       "      <td>Session 1Technical Papers/Registered Reportsat...</td>\n",
       "      <td>Tue 17 May</td>\n",
       "      <td>1900-05-17 22:08:00</td>\n",
       "      <td>1900-05-17 22:15:00</td>\n",
       "      <td>7</td>\n",
       "      <td>Does This Apply to Me? An Empirical Study of T...</td>\n",
       "      <td>[Akalanka Galappaththi, Sarah Nadi, Christoph ...</td>\n",
       "    </tr>\n",
       "    <tr>\n",
       "      <th>3</th>\n",
       "      <td>Session 1Technical Papers/Registered Reportsat...</td>\n",
       "      <td>Tue 17 May</td>\n",
       "      <td>1900-05-17 22:15:00</td>\n",
       "      <td>1900-05-17 22:22:00</td>\n",
       "      <td>7</td>\n",
       "      <td>Towards Reliable Agile Iterative Planning via ...</td>\n",
       "      <td>[Jirat Pasuksmit, Patanamon Thongtanunam, Shan...</td>\n",
       "    </tr>\n",
       "    <tr>\n",
       "      <th>4</th>\n",
       "      <td>Session 1Technical Papers/Registered Reportsat...</td>\n",
       "      <td>Tue 17 May</td>\n",
       "      <td>1900-05-17 22:22:00</td>\n",
       "      <td>1900-05-17 22:29:00</td>\n",
       "      <td>7</td>\n",
       "      <td>BotHunter: An Approach to Detect Software Bots...</td>\n",
       "      <td>[Ahmad Abdellatif, Mairieli Wessel, Igor Stein...</td>\n",
       "    </tr>\n",
       "  </tbody>\n",
       "</table>\n",
       "</div>"
      ],
      "text/plain": [
       "                                             session        date  \\\n",
       "0  Session 1Technical Papers/Registered Reportsat...  Tue 17 May   \n",
       "1  Session 1Technical Papers/Registered Reportsat...  Tue 17 May   \n",
       "2  Session 1Technical Papers/Registered Reportsat...  Tue 17 May   \n",
       "3  Session 1Technical Papers/Registered Reportsat...  Tue 17 May   \n",
       "4  Session 1Technical Papers/Registered Reportsat...  Tue 17 May   \n",
       "\n",
       "           start_time            end_time  duration  \\\n",
       "0 1900-05-17 22:00:00 1900-05-17 22:04:00         4   \n",
       "1 1900-05-17 22:04:00 1900-05-17 22:08:00         4   \n",
       "2 1900-05-17 22:08:00 1900-05-17 22:15:00         7   \n",
       "3 1900-05-17 22:15:00 1900-05-17 22:22:00         7   \n",
       "4 1900-05-17 22:22:00 1900-05-17 22:29:00         7   \n",
       "\n",
       "                                          talk_title  \\\n",
       "0  An Empirical Evaluation of GitHub Copilot’s Co...   \n",
       "1  Comments on Comments: Where Code Review and Do...   \n",
       "2  Does This Apply to Me? An Empirical Study of T...   \n",
       "3  Towards Reliable Agile Iterative Planning via ...   \n",
       "4  BotHunter: An Approach to Detect Software Bots...   \n",
       "\n",
       "                                             authors  \n",
       "0                          [Nhan Nguyen, Sarah Nadi]  \n",
       "1  [Nikitha Rao, Jason Tsay, Martin Hirzel, Vince...  \n",
       "2  [Akalanka Galappaththi, Sarah Nadi, Christoph ...  \n",
       "3  [Jirat Pasuksmit, Patanamon Thongtanunam, Shan...  \n",
       "4  [Ahmad Abdellatif, Mairieli Wessel, Igor Stein...  "
      ]
     },
     "execution_count": 9,
     "metadata": {},
     "output_type": "execute_result"
    }
   ],
   "source": [
    "# Convert all column names to lowercase and replace spaces with hyphens\n",
    "df.columns = [col.lower().replace(' ', '_') for col in df.columns]\n",
    "\n",
    "# Put date first\n",
    "df = df[['date'] + [col for col in df.columns if col != 'date']]\n",
    "\n",
    "# Convert Time to start_time as datetime and calculate end_time\n",
    "df['start_time'] = pd.to_datetime(df['date'] + ' ' + df['time'], format='%a %d %b %H:%M')\n",
    "df['duration'] = df['duration'].str.extract('(\\d+)').astype(int)  # Extract duration in minutes\n",
    "df['end_time'] = df['start_time'] + pd.to_timedelta(df['duration'], unit='m')\n",
    "\n",
    "# Delete the Link column\n",
    "df = df.drop(['link', 'time'], axis=1)\n",
    "\n",
    "# Move Authors column to the last position\n",
    "df = df[[col for col in df.columns if col != 'authors'] + ['authors']]\n",
    "\n",
    "df = df[['session', 'date', 'start_time', 'end_time', 'duration', 'talk_title','authors']]\n",
    "\n",
    "# Display the final data frame\n",
    "df.head()"
   ]
  },
  {
   "cell_type": "code",
   "execution_count": 10,
   "id": "d27a617a-ec1a-4177-9e80-4c7d1667de41",
   "metadata": {},
   "outputs": [
    {
     "data": {
      "text/html": [
       "<div>\n",
       "<style scoped>\n",
       "    .dataframe tbody tr th:only-of-type {\n",
       "        vertical-align: middle;\n",
       "    }\n",
       "\n",
       "    .dataframe tbody tr th {\n",
       "        vertical-align: top;\n",
       "    }\n",
       "\n",
       "    .dataframe thead th {\n",
       "        text-align: right;\n",
       "    }\n",
       "</style>\n",
       "<table border=\"1\" class=\"dataframe\">\n",
       "  <thead>\n",
       "    <tr style=\"text-align: right;\">\n",
       "      <th></th>\n",
       "      <th>session</th>\n",
       "      <th>date</th>\n",
       "      <th>start_time</th>\n",
       "      <th>end_time</th>\n",
       "      <th>duration</th>\n",
       "      <th>talk_title</th>\n",
       "      <th>authors</th>\n",
       "    </tr>\n",
       "  </thead>\n",
       "  <tbody>\n",
       "    <tr>\n",
       "      <th>0</th>\n",
       "      <td>Session 1Technical Papers/Registered Reportsat...</td>\n",
       "      <td>Tue 17 May</td>\n",
       "      <td>-36619320</td>\n",
       "      <td>-36619316</td>\n",
       "      <td>4</td>\n",
       "      <td>An Empirical Evaluation of GitHub Copilot’s Co...</td>\n",
       "      <td>[Nhan Nguyen, Sarah Nadi]</td>\n",
       "    </tr>\n",
       "    <tr>\n",
       "      <th>1</th>\n",
       "      <td>Session 1Technical Papers/Registered Reportsat...</td>\n",
       "      <td>Tue 17 May</td>\n",
       "      <td>-36619316</td>\n",
       "      <td>-36619312</td>\n",
       "      <td>4</td>\n",
       "      <td>Comments on Comments: Where Code Review and Do...</td>\n",
       "      <td>[Nikitha Rao, Jason Tsay, Martin Hirzel, Vince...</td>\n",
       "    </tr>\n",
       "    <tr>\n",
       "      <th>2</th>\n",
       "      <td>Session 1Technical Papers/Registered Reportsat...</td>\n",
       "      <td>Tue 17 May</td>\n",
       "      <td>-36619312</td>\n",
       "      <td>-36619305</td>\n",
       "      <td>7</td>\n",
       "      <td>Does This Apply to Me? An Empirical Study of T...</td>\n",
       "      <td>[Akalanka Galappaththi, Sarah Nadi, Christoph ...</td>\n",
       "    </tr>\n",
       "    <tr>\n",
       "      <th>3</th>\n",
       "      <td>Session 1Technical Papers/Registered Reportsat...</td>\n",
       "      <td>Tue 17 May</td>\n",
       "      <td>-36619305</td>\n",
       "      <td>-36619298</td>\n",
       "      <td>7</td>\n",
       "      <td>Towards Reliable Agile Iterative Planning via ...</td>\n",
       "      <td>[Jirat Pasuksmit, Patanamon Thongtanunam, Shan...</td>\n",
       "    </tr>\n",
       "    <tr>\n",
       "      <th>4</th>\n",
       "      <td>Session 1Technical Papers/Registered Reportsat...</td>\n",
       "      <td>Tue 17 May</td>\n",
       "      <td>-36619298</td>\n",
       "      <td>-36619291</td>\n",
       "      <td>7</td>\n",
       "      <td>BotHunter: An Approach to Detect Software Bots...</td>\n",
       "      <td>[Ahmad Abdellatif, Mairieli Wessel, Igor Stein...</td>\n",
       "    </tr>\n",
       "  </tbody>\n",
       "</table>\n",
       "</div>"
      ],
      "text/plain": [
       "                                             session        date  start_time  \\\n",
       "0  Session 1Technical Papers/Registered Reportsat...  Tue 17 May   -36619320   \n",
       "1  Session 1Technical Papers/Registered Reportsat...  Tue 17 May   -36619316   \n",
       "2  Session 1Technical Papers/Registered Reportsat...  Tue 17 May   -36619312   \n",
       "3  Session 1Technical Papers/Registered Reportsat...  Tue 17 May   -36619305   \n",
       "4  Session 1Technical Papers/Registered Reportsat...  Tue 17 May   -36619298   \n",
       "\n",
       "   end_time  duration                                         talk_title  \\\n",
       "0 -36619316         4  An Empirical Evaluation of GitHub Copilot’s Co...   \n",
       "1 -36619312         4  Comments on Comments: Where Code Review and Do...   \n",
       "2 -36619305         7  Does This Apply to Me? An Empirical Study of T...   \n",
       "3 -36619298         7  Towards Reliable Agile Iterative Planning via ...   \n",
       "4 -36619291         7  BotHunter: An Approach to Detect Software Bots...   \n",
       "\n",
       "                                             authors  \n",
       "0                          [Nhan Nguyen, Sarah Nadi]  \n",
       "1  [Nikitha Rao, Jason Tsay, Martin Hirzel, Vince...  \n",
       "2  [Akalanka Galappaththi, Sarah Nadi, Christoph ...  \n",
       "3  [Jirat Pasuksmit, Patanamon Thongtanunam, Shan...  \n",
       "4  [Ahmad Abdellatif, Mairieli Wessel, Igor Stein...  "
      ]
     },
     "execution_count": 10,
     "metadata": {},
     "output_type": "execute_result"
    }
   ],
   "source": [
    "df['start_time'] = pd.to_datetime(df['start_time']).astype(int) // 10**9 // 60\n",
    "df['end_time'] = pd.to_datetime(df['end_time']).astype(int) // 10**9 // 60\n",
    "\n",
    "df.head()"
   ]
  },
  {
   "cell_type": "code",
   "execution_count": 11,
   "id": "ce7fa989-65a3-44d2-9354-f5b7da361991",
   "metadata": {
    "tags": []
   },
   "outputs": [
    {
     "data": {
      "text/plain": [
       "(187, 7)"
      ]
     },
     "execution_count": 11,
     "metadata": {},
     "output_type": "execute_result"
    }
   ],
   "source": [
    "df.shape"
   ]
  },
  {
   "cell_type": "code",
   "execution_count": 12,
   "id": "937f76b1-f8d1-4fb4-bc76-6812ef57f298",
   "metadata": {},
   "outputs": [],
   "source": [
    "sessions = df.groupby(\"session\").size()\n",
    "valid_sessions = sessions[sessions>3].index\n",
    "df = df[df.session.isin(valid_sessions)]"
   ]
  },
  {
   "cell_type": "code",
   "execution_count": 13,
   "id": "338e357c-cd3a-4241-8635-c594425e280a",
   "metadata": {
    "tags": []
   },
   "outputs": [],
   "source": [
    "delete_talk_title = \"Discussions and Q&A\"\n",
    "df = df[df.talk_title!=delete_talk_title]"
   ]
  },
  {
   "cell_type": "code",
   "execution_count": 14,
   "id": "3fe5da9c-8e5f-4d12-bf0a-c3133cf13158",
   "metadata": {
    "tags": []
   },
   "outputs": [],
   "source": [
    "df = df[~df.session.str.startswith(\"Blended\")]"
   ]
  },
  {
   "cell_type": "code",
   "execution_count": 15,
   "id": "d21121ba-2349-494f-bddf-18d93d325335",
   "metadata": {
    "tags": []
   },
   "outputs": [
    {
     "data": {
      "text/plain": [
       "(125, 7)"
      ]
     },
     "execution_count": 15,
     "metadata": {},
     "output_type": "execute_result"
    }
   ],
   "source": [
    "df.shape"
   ]
  },
  {
   "cell_type": "code",
   "execution_count": 16,
   "id": "e0bc286c-d50c-4eb6-94b4-43708b997b85",
   "metadata": {
    "tags": []
   },
   "outputs": [
    {
     "data": {
      "text/plain": [
       "session       object\n",
       "date          object\n",
       "start_time     int64\n",
       "end_time       int64\n",
       "duration       int64\n",
       "talk_title    object\n",
       "authors       object\n",
       "dtype: object"
      ]
     },
     "execution_count": 16,
     "metadata": {},
     "output_type": "execute_result"
    }
   ],
   "source": [
    "df.dtypes"
   ]
  },
  {
   "cell_type": "code",
   "execution_count": 17,
   "id": "4e5a9caa-71d0-49aa-ac7c-347d1d5077d4",
   "metadata": {
    "tags": []
   },
   "outputs": [
    {
     "data": {
      "text/html": [
       "<div>\n",
       "<style scoped>\n",
       "    .dataframe tbody tr th:only-of-type {\n",
       "        vertical-align: middle;\n",
       "    }\n",
       "\n",
       "    .dataframe tbody tr th {\n",
       "        vertical-align: top;\n",
       "    }\n",
       "\n",
       "    .dataframe thead th {\n",
       "        text-align: right;\n",
       "    }\n",
       "</style>\n",
       "<table border=\"1\" class=\"dataframe\">\n",
       "  <thead>\n",
       "    <tr style=\"text-align: right;\">\n",
       "      <th></th>\n",
       "      <th>date</th>\n",
       "      <th>total_duration</th>\n",
       "    </tr>\n",
       "  </thead>\n",
       "  <tbody>\n",
       "    <tr>\n",
       "      <th>0</th>\n",
       "      <td>Fri 20 May</td>\n",
       "      <td>147</td>\n",
       "    </tr>\n",
       "    <tr>\n",
       "      <th>1</th>\n",
       "      <td>Thu 19 May</td>\n",
       "      <td>314</td>\n",
       "    </tr>\n",
       "    <tr>\n",
       "      <th>2</th>\n",
       "      <td>Tue 17 May</td>\n",
       "      <td>36</td>\n",
       "    </tr>\n",
       "    <tr>\n",
       "      <th>3</th>\n",
       "      <td>Wed 18 May</td>\n",
       "      <td>238</td>\n",
       "    </tr>\n",
       "  </tbody>\n",
       "</table>\n",
       "</div>"
      ],
      "text/plain": [
       "         date  total_duration\n",
       "0  Fri 20 May             147\n",
       "1  Thu 19 May             314\n",
       "2  Tue 17 May              36\n",
       "3  Wed 18 May             238"
      ]
     },
     "execution_count": 17,
     "metadata": {},
     "output_type": "execute_result"
    }
   ],
   "source": [
    "def merge_intervals(intervals):\n",
    "    if not intervals:\n",
    "        return 0\n",
    "    \n",
    "    # Sort intervals by the start time\n",
    "    intervals.sort(key=lambda x: x[0])\n",
    "    \n",
    "    merged = [intervals[0]]\n",
    "    for current_start, current_end in intervals[1:]:\n",
    "        last_end = merged[-1][1]\n",
    "        \n",
    "        if current_start <= last_end:\n",
    "            # There's an overlap, extend the previous interval\n",
    "            merged[-1] = (merged[-1][0], max(last_end, current_end))\n",
    "        else:\n",
    "            # No overlap, add this interval as is\n",
    "            merged.append((current_start, current_end))\n",
    "    \n",
    "    # Compute total duration in minutes (or another unit as desired)\n",
    "    total_duration_minutes = sum((end - start) for start, end in merged)   # convert seconds to minutes\n",
    "    return total_duration_minutes\n",
    "\n",
    "total_durations = []\n",
    "\n",
    "for date, group in df.groupby('date'):\n",
    "    intervals = list(zip(group['start_time'], group['end_time']))\n",
    "    total_duration = merge_intervals(intervals)\n",
    "    total_durations.append({'date': date, 'total_duration': total_duration})\n",
    "\n",
    "# Converting the result into a DataFrame\n",
    "total_duration_df = pd.DataFrame(total_durations)\n",
    "\n",
    "total_duration_df"
   ]
  },
  {
   "cell_type": "code",
   "execution_count": 18,
   "id": "8ea0bf22-5d87-4f8c-bf6a-6301eb5da164",
   "metadata": {
    "tags": []
   },
   "outputs": [
    {
     "data": {
      "text/html": [
       "<div>\n",
       "<style scoped>\n",
       "    .dataframe tbody tr th:only-of-type {\n",
       "        vertical-align: middle;\n",
       "    }\n",
       "\n",
       "    .dataframe tbody tr th {\n",
       "        vertical-align: top;\n",
       "    }\n",
       "\n",
       "    .dataframe thead th {\n",
       "        text-align: right;\n",
       "    }\n",
       "</style>\n",
       "<table border=\"1\" class=\"dataframe\">\n",
       "  <thead>\n",
       "    <tr style=\"text-align: right;\">\n",
       "      <th></th>\n",
       "      <th>date</th>\n",
       "      <th>duration</th>\n",
       "    </tr>\n",
       "  </thead>\n",
       "  <tbody>\n",
       "    <tr>\n",
       "      <th>0</th>\n",
       "      <td>Fri 20 May</td>\n",
       "      <td>147</td>\n",
       "    </tr>\n",
       "    <tr>\n",
       "      <th>1</th>\n",
       "      <td>Thu 19 May</td>\n",
       "      <td>314</td>\n",
       "    </tr>\n",
       "    <tr>\n",
       "      <th>2</th>\n",
       "      <td>Tue 17 May</td>\n",
       "      <td>36</td>\n",
       "    </tr>\n",
       "    <tr>\n",
       "      <th>3</th>\n",
       "      <td>Wed 18 May</td>\n",
       "      <td>238</td>\n",
       "    </tr>\n",
       "  </tbody>\n",
       "</table>\n",
       "</div>"
      ],
      "text/plain": [
       "         date  duration\n",
       "0  Fri 20 May       147\n",
       "1  Thu 19 May       314\n",
       "2  Tue 17 May        36\n",
       "3  Wed 18 May       238"
      ]
     },
     "execution_count": 18,
     "metadata": {},
     "output_type": "execute_result"
    }
   ],
   "source": [
    "dates = df.groupby(\"date\")[\"duration\"].sum().reset_index()\n",
    "\n",
    "\n",
    "dates"
   ]
  },
  {
   "cell_type": "markdown",
   "id": "1b506b7e-c251-4d69-a4ae-efa64d2eb59a",
   "metadata": {},
   "source": [
    "## Get Schedule through GPT\n"
   ]
  },
  {
   "cell_type": "code",
   "execution_count": 19,
   "id": "6fd44b47-dad4-441b-b1f2-c693ed2a96c2",
   "metadata": {},
   "outputs": [],
   "source": [
    "NUM_SESSION_LIST = [2,3,5,10,len(df.session.unique())] # number of sessions we will consider\n",
    "SESSION_SIZE_LIST = [2, 5, 10] # number of papers in each session. 10 = \"All papers\".  "
   ]
  },
  {
   "cell_type": "code",
   "execution_count": 20,
   "id": "2545a34d-9d55-47d3-8a9e-0d99765f8b54",
   "metadata": {},
   "outputs": [],
   "source": [
    "N_ITERATIONS = 10 # we want to get confidence intervals"
   ]
  },
  {
   "cell_type": "code",
   "execution_count": 21,
   "id": "66f27966-a5f1-4e84-8ad6-0bf79a88bac9",
   "metadata": {},
   "outputs": [
    {
     "name": "stdout",
     "output_type": "stream",
     "text": [
      "\n",
      "Program creation is the process of taking all the accepted papers to a conference and allocating a presentation slot for each paper with parallel sessions. \n",
      "The PC chairs of a conference typically do this manually. \n",
      "Assign sessions to the following papers based on the following constraints:\n",
      "1. The total length of all paper presentations within a session should be less than or equal to the length of the session they are in. \n",
      "2. No new sessions should be added. \n",
      "3. The \"Discussions and Q&A\" event\n"
     ]
    }
   ],
   "source": [
    "prompt_template = \"\"\"\n",
    "Program creation is the process of taking all the accepted papers to a conference and allocating a presentation slot for each paper with parallel sessions. \n",
    "The PC chairs of a conference typically do this manually. \n",
    "Assign sessions to the following papers based on the following constraints:\n",
    "1. The total length of all paper presentations within a session should be less than or equal to the length of the session they are in. \n",
    "2. No new sessions should be added. \n",
    "3. The \"Discussions and Q&A\" event should only be at the end of a session if present. \n",
    "4. All papers must be assigned to some session. \n",
    "\n",
    "The output should contain the schedule in the form of the csv representation of a data frame. This csv representation should be in three quotes (```) on both sides so that I can easily extract it from your result and make a data frame. \n",
    "Example output format(use as many rows as the actual number of papers):\n",
    "\n",
    "```\n",
    "session@talk_title@duration\n",
    "231@An Empirical Study on Maintainable Method Size in Java@7\n",
    "223@Improve Quality of Cloud Serverless Architectures through Software Repository Mining@7\n",
    "15@Extracting corrective actions from code repositories@7\n",
    "15@How to Improve Deep Learning for Software Analytics (a case study with code smell detection)@7\n",
    "11@ReCover: a Curated Dataset for Regression Testing Research@4\n",
    "```\n",
    "\n",
    "The list of paper and session titles are below: \n",
    "\n",
    "Session Lengths:\n",
    "{sessions_df_string}\n",
    "\n",
    "Paper durations:\n",
    "{papers_df_string}\n",
    "\n",
    "\n",
    "Make sure, above all else, that your response is formatted as requested, with the proper headers.\n",
    "\n",
    "\"\"\"\n",
    "\n",
    "# Print the start_prompt to verify\n",
    "print(prompt_template[:500])"
   ]
  },
  {
   "cell_type": "code",
   "execution_count": 22,
   "id": "d9f9efaf-1500-4f9c-9429-524c6b094788",
   "metadata": {},
   "outputs": [
    {
     "data": {
      "text/plain": [
       "{'constraint_num_papers_error': 0,\n",
       " 'constraint_num_sessions_error': 0,\n",
       " 'constraint_error_session_0_duration': duration    0\n",
       " Name: 0, dtype: int64,\n",
       " 'constraint_error_session_0_duration_reasonable': duration    True\n",
       " Name: 0, dtype: bool}"
      ]
     },
     "execution_count": 22,
     "metadata": {},
     "output_type": "execute_result"
    }
   ],
   "source": [
    "def evaluate_schedule(df_human, df_llm):\n",
    "    sessions_human = df_human.groupby(\"session\")[\"duration\"].sum().sort_values(ascending=False)\n",
    "    sessions_llm = df_llm.groupby(\"session\")[\"duration\"].sum().sort_values(ascending=False).reset_index()\n",
    "    sessions_llm.index = pd.Categorical(sessions_llm.index).codes\n",
    "    del sessions_llm[\"session\"]\n",
    "    sessions_human.index = pd.Categorical(sessions_human.index).codes\n",
    "    \n",
    "    result = {}\n",
    "    \n",
    "    result[\"constraint_num_papers_error\"] = len(df_llm) - len(df_human) \n",
    "    result[\"constraint_num_sessions_error\"] = len(sessions_llm) - len(sessions_human)\n",
    "    \n",
    "    # Iterate and compare values\n",
    "    for idx, session_duration_llm in sessions_llm.iterrows():\n",
    "        if idx < len(sessions_human):\n",
    "            session_duration_human = sessions_human.iloc[idx]\n",
    "            result[f\"constraint_error_session_{idx}_duration\"] = session_duration_llm - session_duration_human \n",
    "            result[f\"constraint_error_session_{idx}_duration_reasonable\"] = session_duration_llm / session_duration_human - 1 <= 0.1\n",
    "        else:\n",
    "            result[f\"constraint_error_session_{idx}_duration\"] = np.inf\n",
    "            result[f\"constraint_error_session_{idx}_duration_reasonable\"] = False\n",
    "\n",
    "    \n",
    "    return result\n",
    "\n",
    "df_test = df.sample()\n",
    "evaluate_schedule(df_test, df_test)"
   ]
  },
  {
   "cell_type": "code",
   "execution_count": 23,
   "id": "4fc15005-cc68-473f-b21e-e8e848d8c32b",
   "metadata": {},
   "outputs": [],
   "source": [
    "def get_llm_schedule(df):\n",
    "    sessions = df.groupby(\"session\")[\"duration\"].sum()\n",
    "    sessions_sorted = sessions.sort_values(ascending=False)\n",
    "\n",
    "    prompt = prompt_template.format(\n",
    "        sessions_df_string = sessions.to_string(index=False)\n",
    "        ,papers_df_string = df[[\"talk_title\",\"duration\"]].to_string(index=False)\n",
    "    )\n",
    "\n",
    "    response = client.chat.completions.create(\n",
    "    model= \"gpt-4-0125-preview\", #\"gpt-3.5-turbo-0125\",  # You can switch this to \"gpt-4-turbo-preview\", \"gpt-3.5-turbo-0125\"\n",
    "        messages=[\n",
    "            {\n",
    "                \"role\": \"user\",\n",
    "                \"content\": prompt\n",
    "            },\n",
    "        ],\n",
    "        temperature=0.8,\n",
    "        # max_tokens=256,\n",
    "        top_p=1,\n",
    "        frequency_penalty=0,\n",
    "        presence_penalty=0\n",
    "    )\n",
    "    ans_string = response.choices[0].message.content\n",
    "    \n",
    "    match = re.search(\"```\\n(.*?)\\n```\", ans_string, re.DOTALL)\n",
    "    if match:\n",
    "        csv_string = match.group(1)  # Extract the actual CSV data\n",
    "        # print(\"Extracted CSV:\\n\", csv_string)\n",
    "\n",
    "        # Convert the CSV string to a DataFrame\n",
    "        # StringIO is used to convert the string to a file-like object\n",
    "        df_results = pd.read_csv(StringIO(csv_string), sep=\"@\")\n",
    "        \n",
    "\n",
    "        # print(\"Got the df!\")\n",
    "    else:\n",
    "        print(\"No CSV data found in the string. Abort!\")\n",
    "        print(ans_string[:200])\n",
    "        raise ValueError\n",
    "        \n",
    "    # print(df_results.head())\n",
    "    try:\n",
    "        evaluation = evaluate_schedule(df, df_results)\n",
    "    except Exception as error:\n",
    "        print('Caught this error: ' + repr(error))\n",
    "        print(df_results.head())\n",
    "        raise ValueError \n",
    "        \n",
    "    return df_results, evaluation\n"
   ]
  },
  {
   "cell_type": "code",
   "execution_count": 24,
   "id": "436cb4e8-fd63-4b83-bf5a-5639870bdc83",
   "metadata": {},
   "outputs": [],
   "source": [
    "# TESTING CODE TO MAKE SURE THE FUNCTIONS WORK\n",
    "sampled_sessions = np.random.choice(df['session'].unique(), size=2, replace=False)\n",
    "\n",
    "# Loop over these selected sessions and sample the required number of papers\n",
    "session_samples = []\n",
    "for session in sampled_sessions:\n",
    "    papers = df[df['session'] == session]\n",
    "    # If there are fewer papers than the required session_size, we take all available, repeating if necessary\n",
    "    sampled_papers = papers.sample(n=len(papers)) if len(papers) < 2 else papers.sample(n=2)\n",
    "    session_samples.append(sampled_papers)\n",
    "\n",
    "# Now we store the sampled data\n",
    "df_dataset = pd.concat(session_samples)\n",
    "\n",
    "test_results = get_llm_schedule(df_dataset)"
   ]
  },
  {
   "cell_type": "code",
   "execution_count": 25,
   "id": "668c46e3-4a0d-455c-a01b-225bc3cb1394",
   "metadata": {},
   "outputs": [
    {
     "data": {
      "text/html": [
       "<div>\n",
       "<style scoped>\n",
       "    .dataframe tbody tr th:only-of-type {\n",
       "        vertical-align: middle;\n",
       "    }\n",
       "\n",
       "    .dataframe tbody tr th {\n",
       "        vertical-align: top;\n",
       "    }\n",
       "\n",
       "    .dataframe thead th {\n",
       "        text-align: right;\n",
       "    }\n",
       "</style>\n",
       "<table border=\"1\" class=\"dataframe\">\n",
       "  <thead>\n",
       "    <tr style=\"text-align: right;\">\n",
       "      <th></th>\n",
       "      <th>session</th>\n",
       "      <th>talk_title</th>\n",
       "      <th>duration</th>\n",
       "    </tr>\n",
       "  </thead>\n",
       "  <tbody>\n",
       "    <tr>\n",
       "      <th>0</th>\n",
       "      <td>14</td>\n",
       "      <td>Using Bandit Algorithms for Selecting Feature ...</td>\n",
       "      <td>7</td>\n",
       "    </tr>\n",
       "    <tr>\n",
       "      <th>1</th>\n",
       "      <td>14</td>\n",
       "      <td>To Type or Not to Type? A Systematic Compariso...</td>\n",
       "      <td>7</td>\n",
       "    </tr>\n",
       "    <tr>\n",
       "      <th>2</th>\n",
       "      <td>20</td>\n",
       "      <td>Bias in MSR research</td>\n",
       "      <td>10</td>\n",
       "    </tr>\n",
       "    <tr>\n",
       "      <th>3</th>\n",
       "      <td>20</td>\n",
       "      <td>Mining Software Repositories in the age of AI</td>\n",
       "      <td>10</td>\n",
       "    </tr>\n",
       "  </tbody>\n",
       "</table>\n",
       "</div>"
      ],
      "text/plain": [
       "   session                                         talk_title  duration\n",
       "0       14  Using Bandit Algorithms for Selecting Feature ...         7\n",
       "1       14  To Type or Not to Type? A Systematic Compariso...         7\n",
       "2       20                               Bias in MSR research        10\n",
       "3       20      Mining Software Repositories in the age of AI        10"
      ]
     },
     "execution_count": 25,
     "metadata": {},
     "output_type": "execute_result"
    }
   ],
   "source": [
    "test_results[0].head()"
   ]
  },
  {
   "cell_type": "code",
   "execution_count": 26,
   "id": "4b61e4a1-17d1-459b-b907-bd2aaa54d1b1",
   "metadata": {},
   "outputs": [
    {
     "data": {
      "text/plain": [
       "{'constraint_num_papers_error': 0,\n",
       " 'constraint_num_sessions_error': 0,\n",
       " 'constraint_error_session_0_duration': duration    0\n",
       " Name: 0, dtype: int64,\n",
       " 'constraint_error_session_0_duration_reasonable': duration    True\n",
       " Name: 0, dtype: bool,\n",
       " 'constraint_error_session_1_duration': duration    0\n",
       " Name: 1, dtype: int64,\n",
       " 'constraint_error_session_1_duration_reasonable': duration    True\n",
       " Name: 1, dtype: bool}"
      ]
     },
     "execution_count": 26,
     "metadata": {},
     "output_type": "execute_result"
    }
   ],
   "source": [
    "test_results[1]"
   ]
  },
  {
   "cell_type": "code",
   "execution_count": 27,
   "id": "e1c49f76-ab74-4984-9277-8805f0697ee0",
   "metadata": {
    "tags": []
   },
   "outputs": [
    {
     "name": "stderr",
     "output_type": "stream",
     "text": [
      "Num Sessions Progress:   0%|          | 0/5 [00:00<?, ?it/s]\n",
      "Session Size Progress:   0%|          | 0/3 [00:00<?, ?it/s]\u001b[A\n",
      "Session Size Progress:  33%|███▎      | 1/3 [00:33<01:06, 33.37s/it]\u001b[A\n",
      "Session Size Progress:  67%|██████▋   | 2/3 [01:36<00:50, 50.93s/it]\u001b[A\n",
      "Session Size Progress: 100%|██████████| 3/3 [03:18<00:00, 74.27s/it]\u001b[A\n",
      "Num Sessions Progress:  20%|██        | 1/5 [03:18<13:14, 198.63s/it][A\n",
      "Session Size Progress:   0%|          | 0/3 [00:00<?, ?it/s]\u001b[A\n",
      "Session Size Progress:  33%|███▎      | 1/3 [00:35<01:11, 35.51s/it]\u001b[A\n",
      "Session Size Progress:  67%|██████▋   | 2/3 [02:06<01:08, 68.23s/it]\u001b[A\n",
      "Session Size Progress: 100%|██████████| 3/3 [03:49<00:00, 84.02s/it]\u001b[A\n",
      "Num Sessions Progress:  40%|████      | 2/5 [07:08<10:50, 216.76s/it][A\n",
      "Session Size Progress:   0%|          | 0/3 [00:00<?, ?it/s]\u001b[A\n",
      "Session Size Progress:  33%|███▎      | 1/3 [01:03<02:06, 63.29s/it]\u001b[A\n",
      "Session Size Progress:  67%|██████▋   | 2/3 [03:03<01:36, 96.62s/it]\u001b[A\n",
      "Session Size Progress: 100%|██████████| 3/3 [05:53<00:00, 130.02s/it]\u001b[A\n",
      "Num Sessions Progress:  60%|██████    | 3/5 [13:01<09:17, 278.97s/it]\u001b[A\n",
      "Session Size Progress:   0%|          | 0/3 [00:00<?, ?it/s]\u001b[A\n",
      "Session Size Progress:  33%|███▎      | 1/3 [01:48<03:36, 108.04s/it]\u001b[A\n",
      "Session Size Progress:  67%|██████▋   | 2/3 [06:44<03:38, 218.64s/it]\u001b[A\n",
      "Session Size Progress: 100%|██████████| 3/3 [13:01<00:00, 291.26s/it]\u001b[A\n",
      "Num Sessions Progress:  80%|████████  | 4/5 [26:02<07:57, 477.47s/it]\u001b[A\n",
      "Session Size Progress:   0%|          | 0/3 [00:00<?, ?it/s]\u001b[A\n",
      "Session Size Progress:  33%|███▎      | 1/3 [04:35<09:10, 275.08s/it]\u001b[A\n",
      "Session Size Progress:  67%|██████▋   | 2/3 [13:41<07:14, 434.73s/it]\u001b[A\n",
      "Session Size Progress: 100%|██████████| 3/3 [23:40<00:00, 509.88s/it]\u001b[A\n",
      "Num Sessions Progress: 100%|██████████| 5/5 [49:43<00:00, 596.75s/it]\u001b[A\n"
     ]
    }
   ],
   "source": [
    "all_results = {}\n",
    "for num_sessions in tqdm(NUM_SESSION_LIST, desc='Num Sessions Progress'):\n",
    "    for session_size in tqdm(SESSION_SIZE_LIST, desc='Session Size Progress', leave=False):\n",
    "        sampled_sessions = np.random.choice(df['session'].unique(), size=num_sessions, replace=False)\n",
    "\n",
    "        # Loop over these selected sessions and sample the required number of papers\n",
    "        session_samples = []\n",
    "        for session in sampled_sessions:\n",
    "            papers = df[df['session'] == session]\n",
    "            # If there are fewer papers than the required session_size, we take all available, repeating if necessary\n",
    "            sampled_papers = papers.sample(n=len(papers)) if len(papers) < session_size else papers.sample(n=session_size)\n",
    "            session_samples.append(sampled_papers)\n",
    "\n",
    "        # Now we store the sampled data\n",
    "        df_dataset = pd.concat(session_samples)\n",
    "\n",
    "        for iteration in range(N_ITERATIONS):\n",
    "            try:\n",
    "                all_results[(num_sessions, session_size, iteration)] = df_dataset, get_llm_schedule(df_dataset), 1\n",
    "            except ValueError: # try once more\n",
    "                try:\n",
    "                    all_results[(num_sessions, session_size, iteration)] = df_dataset, get_llm_schedule(df_dataset), 1\n",
    "                except ValueError: # Give up and report failure. \n",
    "                    all_results[(num_sessions, session_size,iteration)] = df_dataset, {}, 0\n",
    "                    print(f\"Give up this one, {(num_sessions, session_size, iteration)}\")\n",
    "            \n"
   ]
  },
  {
   "cell_type": "code",
   "execution_count": 43,
   "id": "1ac00de8-c13e-43b3-8766-86a2f635cb9c",
   "metadata": {},
   "outputs": [],
   "source": [
    "# all_results_backup = all_results.copy()"
   ]
  },
  {
   "cell_type": "code",
   "execution_count": 30,
   "id": "cd508fb2-da0f-4b48-9a02-440367271248",
   "metadata": {},
   "outputs": [
    {
     "data": {
      "text/html": [
       "<div>\n",
       "<style scoped>\n",
       "    .dataframe tbody tr th:only-of-type {\n",
       "        vertical-align: middle;\n",
       "    }\n",
       "\n",
       "    .dataframe tbody tr th {\n",
       "        vertical-align: top;\n",
       "    }\n",
       "\n",
       "    .dataframe thead th {\n",
       "        text-align: right;\n",
       "    }\n",
       "</style>\n",
       "<table border=\"1\" class=\"dataframe\">\n",
       "  <thead>\n",
       "    <tr style=\"text-align: right;\">\n",
       "      <th></th>\n",
       "      <th>num_sessions</th>\n",
       "      <th>session_size</th>\n",
       "      <th>iteration</th>\n",
       "      <th>constraint_errors</th>\n",
       "    </tr>\n",
       "  </thead>\n",
       "  <tbody>\n",
       "    <tr>\n",
       "      <th>0</th>\n",
       "      <td>2</td>\n",
       "      <td>2</td>\n",
       "      <td>0</td>\n",
       "      <td>{'constraint_error_session_0_duration': [-3], ...</td>\n",
       "    </tr>\n",
       "    <tr>\n",
       "      <th>1</th>\n",
       "      <td>2</td>\n",
       "      <td>2</td>\n",
       "      <td>1</td>\n",
       "      <td>{'constraint_error_session_0_duration': [-3], ...</td>\n",
       "    </tr>\n",
       "    <tr>\n",
       "      <th>2</th>\n",
       "      <td>2</td>\n",
       "      <td>2</td>\n",
       "      <td>2</td>\n",
       "      <td>{'constraint_error_session_0_duration': [-3], ...</td>\n",
       "    </tr>\n",
       "    <tr>\n",
       "      <th>3</th>\n",
       "      <td>2</td>\n",
       "      <td>2</td>\n",
       "      <td>3</td>\n",
       "      <td>{'constraint_error_session_0_duration': [-3], ...</td>\n",
       "    </tr>\n",
       "    <tr>\n",
       "      <th>4</th>\n",
       "      <td>2</td>\n",
       "      <td>2</td>\n",
       "      <td>4</td>\n",
       "      <td>{'constraint_error_session_0_duration': [-3], ...</td>\n",
       "    </tr>\n",
       "  </tbody>\n",
       "</table>\n",
       "</div>"
      ],
      "text/plain": [
       "   num_sessions  session_size  iteration  \\\n",
       "0             2             2          0   \n",
       "1             2             2          1   \n",
       "2             2             2          2   \n",
       "3             2             2          3   \n",
       "4             2             2          4   \n",
       "\n",
       "                                   constraint_errors  \n",
       "0  {'constraint_error_session_0_duration': [-3], ...  \n",
       "1  {'constraint_error_session_0_duration': [-3], ...  \n",
       "2  {'constraint_error_session_0_duration': [-3], ...  \n",
       "3  {'constraint_error_session_0_duration': [-3], ...  \n",
       "4  {'constraint_error_session_0_duration': [-3], ...  "
      ]
     },
     "execution_count": 30,
     "metadata": {},
     "output_type": "execute_result"
    }
   ],
   "source": [
    "def extract_data(all_results):\n",
    "    extracted_data = []\n",
    "    for key, (df_dataset, evaluation, success) in all_results.items():\n",
    "        if success:\n",
    "            num_sessions, session_size, iteration = key\n",
    "            # Extracting data specifically related to `constraint_error_session_...`\n",
    "            constraint_errors = {k: v for k, v in evaluation[1].items() if k.startswith('constraint_error_session_')}\n",
    "            entry = {\n",
    "                'num_sessions': num_sessions,\n",
    "                'session_size': session_size,\n",
    "                'iteration': iteration,\n",
    "                'constraint_errors': constraint_errors\n",
    "            }\n",
    "            extracted_data.append(entry)\n",
    "    return extracted_data\n",
    "\n",
    "# Assuming `all_results` is already populated, we call the function\n",
    "extracted_data = extract_data(all_results)\n",
    "df_extracted_data = pd.DataFrame(extracted_data)\n",
    "\n",
    "# Optionally save or work further with `df_extracted_data`\n",
    "df_extracted_data.head()"
   ]
  },
  {
   "cell_type": "code",
   "execution_count": 45,
   "id": "b330463e-c96b-4fbd-9889-2fb86eb745d3",
   "metadata": {
    "tags": []
   },
   "outputs": [
    {
     "data": {
      "text/plain": [
       "{'constraint_error_session_0_duration': duration   -3\n",
       " Name: 0, dtype: int64,\n",
       " 'constraint_error_session_0_duration_reasonable': duration    True\n",
       " Name: 0, dtype: bool,\n",
       " 'constraint_error_session_1_duration': duration    3\n",
       " Name: 1, dtype: int64,\n",
       " 'constraint_error_session_1_duration_reasonable': duration    False\n",
       " Name: 1, dtype: bool}"
      ]
     },
     "execution_count": 45,
     "metadata": {},
     "output_type": "execute_result"
    }
   ],
   "source": [
    "df_extracted_data[\"constraint_errors\"].iloc[0]"
   ]
  },
  {
   "cell_type": "code",
   "execution_count": 37,
   "id": "f6f8c5a0-d5dd-4601-a340-c749a88030b5",
   "metadata": {},
   "outputs": [],
   "source": [
    "def calculate_sum_absolute_error(df_extracted_data):\n",
    "    # Temporary container to accumulate data\n",
    "    results = []\n",
    "\n",
    "    # Iterate over rows of the dataframe\n",
    "    for index, row in df_extracted_data.iterrows():\n",
    "        # Sum and count for calculating mean\n",
    "        sum_errors = 0\n",
    "        count = 0\n",
    "\n",
    "        # Extract error entries\n",
    "        error_dict = row['constraint_errors']\n",
    "        for key, value in error_dict.items():\n",
    "            if 'duration' in key:\n",
    "                # Calculate absolute error and update sum and count\n",
    "                sum_errors += abs(value[0])  # Assuming the error value is encapsulated in a list\n",
    "                count += 1\n",
    "\n",
    "        if count > 0:\n",
    "            sum_error = sum_errors \n",
    "        else:\n",
    "            sum_error = None\n",
    "\n",
    "        results.append({\n",
    "            'num_sessions': row['num_sessions'],\n",
    "            'session_size': row['session_size'],\n",
    "            'iteration': row['iteration'],\n",
    "            'sum_absolute_error': sum_error\n",
    "        })\n",
    "\n",
    "    return pd.DataFrame(results)\n",
    "\n",
    "def calculate_percentage_of_unreasonable(df_extracted_data):\n",
    "    # Temporary container to accumulate data\n",
    "    results = []\n",
    "\n",
    "    # Iterate over rows of the dataframe\n",
    "    for index, row in df_extracted_data.iterrows():\n",
    "        # Count entries for calculating percentage\n",
    "        total = 0\n",
    "        not_reasonable_count = 0\n",
    "\n",
    "        # Extract error entries\n",
    "        error_dict = row['constraint_errors']\n",
    "        for key, value in error_dict.items():\n",
    "            if 'reasonable' in key:\n",
    "                # Check reasonable flag\n",
    "                is_reasonable = value[0]  # Assuming the value is encapsulated in a list\n",
    "                if not is_reasonable:\n",
    "                    not_reasonable_count += 1\n",
    "                total += 1\n",
    "\n",
    "        if total > 0:\n",
    "            percentage_unreasonable = (not_reasonable_count / total) * 100\n",
    "        else:\n",
    "            percentage_unreasonable = None\n",
    "\n",
    "        results.append({\n",
    "            'num_sessions': row['num_sessions'],\n",
    "            'session_size': row['session_size'],\n",
    "            'iteration': row['iteration'],\n",
    "            'percentage_unreasonable': percentage_unreasonable\n",
    "        })\n",
    "\n",
    "    return pd.DataFrame(results)"
   ]
  },
  {
   "cell_type": "code",
   "execution_count": 38,
   "id": "b7e3f6b8-b2ae-4aeb-8f52-d2385f5a27ed",
   "metadata": {
    "tags": []
   },
   "outputs": [
    {
     "name": "stderr",
     "output_type": "stream",
     "text": [
      "/var/tmp/ipykernel_3513670/3637206885.py:16: FutureWarning: Series.__getitem__ treating keys as positions is deprecated. In a future version, integer keys will always be treated as labels (consistent with DataFrame behavior). To access a value by position, use `ser.iloc[pos]`\n",
      "  sum_errors += abs(value[0])  # Assuming the error value is encapsulated in a list\n",
      "/var/tmp/ipykernel_3513670/3637206885.py:48: FutureWarning: Series.__getitem__ treating keys as positions is deprecated. In a future version, integer keys will always be treated as labels (consistent with DataFrame behavior). To access a value by position, use `ser.iloc[pos]`\n",
      "  is_reasonable = value[0]  # Assuming the value is encapsulated in a list\n"
     ]
    }
   ],
   "source": [
    "# Apply these functions to the extracted data\n",
    "df_sum_errors = calculate_sum_absolute_error(df_extracted_data)\n",
    "df_percentage_unreasonable = calculate_percentage_of_unreasonable(df_extracted_data)\n"
   ]
  },
  {
   "cell_type": "code",
   "execution_count": 41,
   "id": "15cc1da8-d064-428a-8cbc-4266062af9e2",
   "metadata": {
    "tags": []
   },
   "outputs": [
    {
     "data": {
      "text/plain": [
       "num_sessions  session_size\n",
       "2             2                 7.0\n",
       "              5                 4.0\n",
       "              10                4.0\n",
       "3             2                 4.8\n",
       "              5                 5.0\n",
       "              10               10.1\n",
       "5             2                28.4\n",
       "              5                25.0\n",
       "              10               34.4\n",
       "10            2                48.2\n",
       "              5                34.6\n",
       "              10               54.1\n",
       "20            2                45.6\n",
       "              5               114.0\n",
       "              10              115.1\n",
       "Name: sum_absolute_error, dtype: float64"
      ]
     },
     "execution_count": 41,
     "metadata": {},
     "output_type": "execute_result"
    }
   ],
   "source": [
    "df_sum_errors.groupby([\"num_sessions\",\"session_size\"])[\"sum_absolute_error\"].mean()"
   ]
  },
  {
   "cell_type": "code",
   "execution_count": 44,
   "id": "ee59e513-da3f-44a3-af62-02b1b4275947",
   "metadata": {},
   "outputs": [
    {
     "data": {
      "text/plain": [
       "num_sessions  session_size\n",
       "2             2               45.000000\n",
       "              5                0.000000\n",
       "              10               0.000000\n",
       "3             2               10.000000\n",
       "              5               16.666667\n",
       "              10               3.333333\n",
       "5             2               66.666667\n",
       "              5               26.000000\n",
       "              10              40.666667\n",
       "10            2               70.722222\n",
       "              5               12.000000\n",
       "              10               1.000000\n",
       "20            2               54.066176\n",
       "              5                8.026316\n",
       "              10               9.500000\n",
       "Name: percentage_unreasonable, dtype: float64"
      ]
     },
     "execution_count": 44,
     "metadata": {},
     "output_type": "execute_result"
    }
   ],
   "source": [
    "df_percentage_unreasonable.groupby([\"num_sessions\",\"session_size\"])[\"percentage_unreasonable\"].mean()"
   ]
  },
  {
   "cell_type": "markdown",
   "id": "ff7bdfab-a8d4-44f1-a3b5-aa492b0c051e",
   "metadata": {},
   "source": [
    "### Look at one example"
   ]
  },
  {
   "cell_type": "code",
   "execution_count": 47,
   "id": "d63fb14f-ef75-4325-abae-611f0fda0893",
   "metadata": {
    "tags": []
   },
   "outputs": [
    {
     "data": {
      "text/html": [
       "<div>\n",
       "<style scoped>\n",
       "    .dataframe tbody tr th:only-of-type {\n",
       "        vertical-align: middle;\n",
       "    }\n",
       "\n",
       "    .dataframe tbody tr th {\n",
       "        vertical-align: top;\n",
       "    }\n",
       "\n",
       "    .dataframe thead th {\n",
       "        text-align: right;\n",
       "    }\n",
       "</style>\n",
       "<table border=\"1\" class=\"dataframe\">\n",
       "  <thead>\n",
       "    <tr style=\"text-align: right;\">\n",
       "      <th></th>\n",
       "      <th>session</th>\n",
       "      <th>date</th>\n",
       "      <th>start_time</th>\n",
       "      <th>end_time</th>\n",
       "      <th>duration</th>\n",
       "      <th>talk_title</th>\n",
       "      <th>authors</th>\n",
       "    </tr>\n",
       "  </thead>\n",
       "  <tbody>\n",
       "    <tr>\n",
       "      <th>97</th>\n",
       "      <td>Vision &amp; Reflections Track: FutureTechnical Pa...</td>\n",
       "      <td>Thu 19 May</td>\n",
       "      <td>-36616970</td>\n",
       "      <td>-36616960</td>\n",
       "      <td>10</td>\n",
       "      <td>The Next Generation of Software Developers</td>\n",
       "      <td>[Denae Ford]</td>\n",
       "    </tr>\n",
       "    <tr>\n",
       "      <th>96</th>\n",
       "      <td>Vision &amp; Reflections Track: FutureTechnical Pa...</td>\n",
       "      <td>Thu 19 May</td>\n",
       "      <td>-36616980</td>\n",
       "      <td>-36616970</td>\n",
       "      <td>10</td>\n",
       "      <td>Bias in MSR research</td>\n",
       "      <td>[Alexander Serebrenik]</td>\n",
       "    </tr>\n",
       "    <tr>\n",
       "      <th>103</th>\n",
       "      <td>Session 12: Integration &amp; Large-Scale MiningTe...</td>\n",
       "      <td>Thu 19 May</td>\n",
       "      <td>-36616549</td>\n",
       "      <td>-36616542</td>\n",
       "      <td>7</td>\n",
       "      <td>Methods for Stabilizing Models across Large Sa...</td>\n",
       "      <td>[Suvodeep Majumder, Tianpei Xia, Rahul Krishna...</td>\n",
       "    </tr>\n",
       "    <tr>\n",
       "      <th>105</th>\n",
       "      <td>Session 12: Integration &amp; Large-Scale MiningTe...</td>\n",
       "      <td>Thu 19 May</td>\n",
       "      <td>-36616535</td>\n",
       "      <td>-36616528</td>\n",
       "      <td>7</td>\n",
       "      <td>FaST: A linear time stack trace alignment heur...</td>\n",
       "      <td>[Irving Muller Rodrigues, Daniel Aloise, Erald...</td>\n",
       "    </tr>\n",
       "  </tbody>\n",
       "</table>\n",
       "</div>"
      ],
      "text/plain": [
       "                                               session        date  \\\n",
       "97   Vision & Reflections Track: FutureTechnical Pa...  Thu 19 May   \n",
       "96   Vision & Reflections Track: FutureTechnical Pa...  Thu 19 May   \n",
       "103  Session 12: Integration & Large-Scale MiningTe...  Thu 19 May   \n",
       "105  Session 12: Integration & Large-Scale MiningTe...  Thu 19 May   \n",
       "\n",
       "     start_time  end_time  duration  \\\n",
       "97    -36616970 -36616960        10   \n",
       "96    -36616980 -36616970        10   \n",
       "103   -36616549 -36616542         7   \n",
       "105   -36616535 -36616528         7   \n",
       "\n",
       "                                            talk_title  \\\n",
       "97          The Next Generation of Software Developers   \n",
       "96                                Bias in MSR research   \n",
       "103  Methods for Stabilizing Models across Large Sa...   \n",
       "105  FaST: A linear time stack trace alignment heur...   \n",
       "\n",
       "                                               authors  \n",
       "97                                        [Denae Ford]  \n",
       "96                              [Alexander Serebrenik]  \n",
       "103  [Suvodeep Majumder, Tianpei Xia, Rahul Krishna...  \n",
       "105  [Irving Muller Rodrigues, Daniel Aloise, Erald...  "
      ]
     },
     "execution_count": 47,
     "metadata": {},
     "output_type": "execute_result"
    }
   ],
   "source": [
    "all_results[(2,2,0)][0] # true schedule"
   ]
  },
  {
   "cell_type": "code",
   "execution_count": 49,
   "id": "7a1574e7-9f46-4b8f-92c8-18189bd1d7f3",
   "metadata": {
    "tags": []
   },
   "outputs": [
    {
     "data": {
      "text/html": [
       "<div>\n",
       "<style scoped>\n",
       "    .dataframe tbody tr th:only-of-type {\n",
       "        vertical-align: middle;\n",
       "    }\n",
       "\n",
       "    .dataframe tbody tr th {\n",
       "        vertical-align: top;\n",
       "    }\n",
       "\n",
       "    .dataframe thead th {\n",
       "        text-align: right;\n",
       "    }\n",
       "</style>\n",
       "<table border=\"1\" class=\"dataframe\">\n",
       "  <thead>\n",
       "    <tr style=\"text-align: right;\">\n",
       "      <th></th>\n",
       "      <th>session</th>\n",
       "      <th>talk_title</th>\n",
       "      <th>duration</th>\n",
       "    </tr>\n",
       "  </thead>\n",
       "  <tbody>\n",
       "    <tr>\n",
       "      <th>0</th>\n",
       "      <td>14</td>\n",
       "      <td>The Next Generation of Software Developers</td>\n",
       "      <td>10</td>\n",
       "    </tr>\n",
       "    <tr>\n",
       "      <th>1</th>\n",
       "      <td>14</td>\n",
       "      <td>FaST: A linear time stack trace alignment heur...</td>\n",
       "      <td>7</td>\n",
       "    </tr>\n",
       "    <tr>\n",
       "      <th>2</th>\n",
       "      <td>20</td>\n",
       "      <td>Bias in MSR research</td>\n",
       "      <td>10</td>\n",
       "    </tr>\n",
       "    <tr>\n",
       "      <th>3</th>\n",
       "      <td>20</td>\n",
       "      <td>Methods for Stabilizing Models across Large Sa...</td>\n",
       "      <td>7</td>\n",
       "    </tr>\n",
       "  </tbody>\n",
       "</table>\n",
       "</div>"
      ],
      "text/plain": [
       "   session                                         talk_title  duration\n",
       "0       14         The Next Generation of Software Developers        10\n",
       "1       14  FaST: A linear time stack trace alignment heur...         7\n",
       "2       20                               Bias in MSR research        10\n",
       "3       20  Methods for Stabilizing Models across Large Sa...         7"
      ]
     },
     "execution_count": 49,
     "metadata": {},
     "output_type": "execute_result"
    }
   ],
   "source": [
    "all_results[(2,2,0)][1][0] # generated schedule"
   ]
  },
  {
   "cell_type": "code",
   "execution_count": null,
   "id": "ee08de3d-b69e-492b-bad0-e73c410c8fd2",
   "metadata": {},
   "outputs": [],
   "source": []
  },
  {
   "cell_type": "code",
   "execution_count": 60,
   "id": "0105f5cf-ec2a-4930-971e-b42c1560d236",
   "metadata": {
    "tags": []
   },
   "outputs": [
    {
     "data": {
      "text/plain": [
       "num_sessions  session_size\n",
       "2             2                3.50\n",
       "              5                2.00\n",
       "              10               2.00\n",
       "3             2                2.40\n",
       "              5                2.50\n",
       "              10               5.05\n",
       "5             2               14.20\n",
       "              5               12.50\n",
       "              10              17.20\n",
       "10            2               24.10\n",
       "              5               17.30\n",
       "              10              27.05\n",
       "20            2               22.80\n",
       "              5               57.00\n",
       "              10              57.55\n",
       "Name: sum_absolute_error, dtype: float64"
      ]
     },
     "execution_count": 60,
     "metadata": {},
     "output_type": "execute_result"
    }
   ],
   "source": [
    "(df_sum_errors.groupby([\"num_sessions\",\"session_size\"])[\"sum_absolute_error\"].mean()/2)"
   ]
  },
  {
   "cell_type": "code",
   "execution_count": 61,
   "id": "36599f14-9593-4742-ad26-59af9fcb5f05",
   "metadata": {
    "tags": []
   },
   "outputs": [
    {
     "data": {
      "text/plain": [
       "num_sessions  session_size\n",
       "2             2               45.000000\n",
       "              5                0.000000\n",
       "              10               0.000000\n",
       "3             2               10.000000\n",
       "              5               16.666667\n",
       "Name: percentage_unreasonable, dtype: float64"
      ]
     },
     "execution_count": 61,
     "metadata": {},
     "output_type": "execute_result"
    }
   ],
   "source": [
    "df_cell.head()"
   ]
  },
  {
   "cell_type": "code",
   "execution_count": 67,
   "id": "df60bf94-8a13-4b9f-9931-4181943cdf8a",
   "metadata": {},
   "outputs": [
    {
     "data": {
      "text/html": [
       "<div>\n",
       "<style scoped>\n",
       "    .dataframe tbody tr th:only-of-type {\n",
       "        vertical-align: middle;\n",
       "    }\n",
       "\n",
       "    .dataframe tbody tr th {\n",
       "        vertical-align: top;\n",
       "    }\n",
       "\n",
       "    .dataframe thead th {\n",
       "        text-align: right;\n",
       "    }\n",
       "</style>\n",
       "<table border=\"1\" class=\"dataframe\">\n",
       "  <thead>\n",
       "    <tr style=\"text-align: right;\">\n",
       "      <th></th>\n",
       "      <th>num_sessions</th>\n",
       "      <th>session_size</th>\n",
       "      <th>sum_absolute_error</th>\n",
       "      <th>percentage_unreasonable</th>\n",
       "    </tr>\n",
       "  </thead>\n",
       "  <tbody>\n",
       "    <tr>\n",
       "      <th>0</th>\n",
       "      <td>2</td>\n",
       "      <td>2</td>\n",
       "      <td>3.50</td>\n",
       "      <td>1.58</td>\n",
       "    </tr>\n",
       "    <tr>\n",
       "      <th>1</th>\n",
       "      <td>2</td>\n",
       "      <td>5</td>\n",
       "      <td>2.00</td>\n",
       "      <td>0.00</td>\n",
       "    </tr>\n",
       "    <tr>\n",
       "      <th>2</th>\n",
       "      <td>2</td>\n",
       "      <td>10</td>\n",
       "      <td>2.00</td>\n",
       "      <td>0.00</td>\n",
       "    </tr>\n",
       "    <tr>\n",
       "      <th>3</th>\n",
       "      <td>3</td>\n",
       "      <td>2</td>\n",
       "      <td>2.40</td>\n",
       "      <td>0.24</td>\n",
       "    </tr>\n",
       "    <tr>\n",
       "      <th>4</th>\n",
       "      <td>3</td>\n",
       "      <td>5</td>\n",
       "      <td>2.50</td>\n",
       "      <td>0.42</td>\n",
       "    </tr>\n",
       "    <tr>\n",
       "      <th>5</th>\n",
       "      <td>3</td>\n",
       "      <td>10</td>\n",
       "      <td>5.05</td>\n",
       "      <td>0.17</td>\n",
       "    </tr>\n",
       "    <tr>\n",
       "      <th>6</th>\n",
       "      <td>5</td>\n",
       "      <td>2</td>\n",
       "      <td>14.20</td>\n",
       "      <td>9.47</td>\n",
       "    </tr>\n",
       "    <tr>\n",
       "      <th>7</th>\n",
       "      <td>5</td>\n",
       "      <td>5</td>\n",
       "      <td>12.50</td>\n",
       "      <td>3.25</td>\n",
       "    </tr>\n",
       "    <tr>\n",
       "      <th>8</th>\n",
       "      <td>5</td>\n",
       "      <td>10</td>\n",
       "      <td>17.20</td>\n",
       "      <td>6.99</td>\n",
       "    </tr>\n",
       "    <tr>\n",
       "      <th>9</th>\n",
       "      <td>10</td>\n",
       "      <td>2</td>\n",
       "      <td>24.10</td>\n",
       "      <td>17.04</td>\n",
       "    </tr>\n",
       "    <tr>\n",
       "      <th>10</th>\n",
       "      <td>10</td>\n",
       "      <td>5</td>\n",
       "      <td>17.30</td>\n",
       "      <td>2.08</td>\n",
       "    </tr>\n",
       "    <tr>\n",
       "      <th>11</th>\n",
       "      <td>10</td>\n",
       "      <td>10</td>\n",
       "      <td>27.05</td>\n",
       "      <td>0.27</td>\n",
       "    </tr>\n",
       "    <tr>\n",
       "      <th>12</th>\n",
       "      <td>20</td>\n",
       "      <td>2</td>\n",
       "      <td>22.80</td>\n",
       "      <td>12.33</td>\n",
       "    </tr>\n",
       "    <tr>\n",
       "      <th>13</th>\n",
       "      <td>20</td>\n",
       "      <td>5</td>\n",
       "      <td>57.00</td>\n",
       "      <td>4.58</td>\n",
       "    </tr>\n",
       "    <tr>\n",
       "      <th>14</th>\n",
       "      <td>20</td>\n",
       "      <td>10</td>\n",
       "      <td>57.55</td>\n",
       "      <td>5.47</td>\n",
       "    </tr>\n",
       "  </tbody>\n",
       "</table>\n",
       "</div>"
      ],
      "text/plain": [
       "    num_sessions  session_size  sum_absolute_error  percentage_unreasonable\n",
       "0              2             2                3.50                     1.58\n",
       "1              2             5                2.00                     0.00\n",
       "2              2            10                2.00                     0.00\n",
       "3              3             2                2.40                     0.24\n",
       "4              3             5                2.50                     0.42\n",
       "5              3            10                5.05                     0.17\n",
       "6              5             2               14.20                     9.47\n",
       "7              5             5               12.50                     3.25\n",
       "8              5            10               17.20                     6.99\n",
       "9             10             2               24.10                    17.04\n",
       "10            10             5               17.30                     2.08\n",
       "11            10            10               27.05                     0.27\n",
       "12            20             2               22.80                    12.33\n",
       "13            20             5               57.00                     4.58\n",
       "14            20            10               57.55                     5.47"
      ]
     },
     "execution_count": 67,
     "metadata": {},
     "output_type": "execute_result"
    }
   ],
   "source": [
    "df_cell = df_percentage_unreasonable.groupby([\"num_sessions\",\"session_size\"])[\"percentage_unreasonable\"].mean() #.reset_index()\n",
    "\n",
    "# df_cell = df_cell.join(df_sum_errors.groupby([\"num_sessions\",\"session_size\"])[\"sum_absolute_error\"].mean()/2).reset_index()\n",
    "\n",
    "df_cell = pd.concat([df_sum_errors.groupby([\"num_sessions\",\"session_size\"])[\"sum_absolute_error\"].mean()/2, df_cell], axis=1)\n",
    "\n",
    "df_cell.iloc[:,-1] *= df_cell.iloc[:,0] / 100\n",
    "\n",
    "df_cell.iloc[:,-2:] = df_cell.iloc[:,-2:].round(2)\n",
    "\n",
    "df_cell.reset_index()"
   ]
  },
  {
   "cell_type": "code",
   "execution_count": null,
   "id": "d6462ef9-84c4-4997-80ff-1fc1520063df",
   "metadata": {},
   "outputs": [],
   "source": []
  }
 ],
 "metadata": {
  "environment": {
   "kernel": "python3",
   "name": ".m116",
   "type": "gcloud",
   "uri": "gcr.io/deeplearning-platform-release/:m116"
  },
  "kernelspec": {
   "display_name": "Python 3",
   "language": "python",
   "name": "python3"
  },
  "language_info": {
   "codemirror_mode": {
    "name": "ipython",
    "version": 3
   },
   "file_extension": ".py",
   "mimetype": "text/x-python",
   "name": "python",
   "nbconvert_exporter": "python",
   "pygments_lexer": "ipython3",
   "version": "3.10.13"
  }
 },
 "nbformat": 4,
 "nbformat_minor": 5
}
