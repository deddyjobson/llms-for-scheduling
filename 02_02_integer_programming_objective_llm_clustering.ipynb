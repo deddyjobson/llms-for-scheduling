{
 "cells": [
  {
   "cell_type": "code",
   "execution_count": 448,
   "id": "6a9c1442-6df1-4b07-b7c2-b8e984a1e4db",
   "metadata": {
    "tags": []
   },
   "outputs": [],
   "source": [
    "import datetime\n",
    "from icalendar import Calendar\n",
    "import pandas as pd"
   ]
  },
  {
   "cell_type": "markdown",
   "id": "f1ef014f-41ca-4b80-ad2d-4f0ceae651c3",
   "metadata": {},
   "source": [
    "## Datat preprocessing"
   ]
  },
  {
   "cell_type": "code",
   "execution_count": 449,
   "id": "431446a9-6f44-4480-a3f0-5b019b93467d",
   "metadata": {
    "tags": []
   },
   "outputs": [
    {
     "data": {
      "text/html": [
       "<div>\n",
       "<style scoped>\n",
       "    .dataframe tbody tr th:only-of-type {\n",
       "        vertical-align: middle;\n",
       "    }\n",
       "\n",
       "    .dataframe tbody tr th {\n",
       "        vertical-align: top;\n",
       "    }\n",
       "\n",
       "    .dataframe thead th {\n",
       "        text-align: right;\n",
       "    }\n",
       "</style>\n",
       "<table border=\"1\" class=\"dataframe\">\n",
       "  <thead>\n",
       "    <tr style=\"text-align: right;\">\n",
       "      <th></th>\n",
       "      <th>date</th>\n",
       "      <th>start time</th>\n",
       "      <th>duration_mins</th>\n",
       "      <th>title</th>\n",
       "      <th>authors</th>\n",
       "      <th>description</th>\n",
       "    </tr>\n",
       "  </thead>\n",
       "  <tbody>\n",
       "    <tr>\n",
       "      <th>0</th>\n",
       "      <td>2022-05-18</td>\n",
       "      <td>02:00</td>\n",
       "      <td>4.0</td>\n",
       "      <td>[MSR Technical Papers] An Empirical Evaluation...</td>\n",
       "      <td>[Nhan Nguyen, Sarah Nadi]</td>\n",
       "      <td>GitHub and OpenAI recently launched GitHub Cop...</td>\n",
       "    </tr>\n",
       "    <tr>\n",
       "      <th>1</th>\n",
       "      <td>2022-05-18</td>\n",
       "      <td>02:04</td>\n",
       "      <td>4.0</td>\n",
       "      <td>[MSR Technical Papers] Comments on Comments: W...</td>\n",
       "      <td>[Nikitha Rao, Jason Tsay, Martin Hirzel, Vince...</td>\n",
       "      <td>An important function of code review is to inc...</td>\n",
       "    </tr>\n",
       "    <tr>\n",
       "      <th>2</th>\n",
       "      <td>2022-05-18</td>\n",
       "      <td>02:08</td>\n",
       "      <td>7.0</td>\n",
       "      <td>[MSR Technical Papers] Does This Apply to Me? ...</td>\n",
       "      <td>[Akalanka Galappaththi, Sarah Nadi, Christoph ...</td>\n",
       "      <td>Stack Overflow has become an essential technic...</td>\n",
       "    </tr>\n",
       "    <tr>\n",
       "      <th>3</th>\n",
       "      <td>2022-05-18</td>\n",
       "      <td>02:15</td>\n",
       "      <td>7.0</td>\n",
       "      <td>[MSR Technical Papers] Towards Reliable Agile ...</td>\n",
       "      <td>[Jirat Pasuksmit, Patanamon Thongtanunam, Shan...</td>\n",
       "      <td>In agile iterative development, an agile team ...</td>\n",
       "    </tr>\n",
       "    <tr>\n",
       "      <th>4</th>\n",
       "      <td>2022-05-18</td>\n",
       "      <td>02:22</td>\n",
       "      <td>7.0</td>\n",
       "      <td>[MSR Technical Papers] BotHunter: An Approach ...</td>\n",
       "      <td>[Ahmad Abdellatif, Mairieli Wessel, Igor Stein...</td>\n",
       "      <td>Bots have become popular in software projects ...</td>\n",
       "    </tr>\n",
       "  </tbody>\n",
       "</table>\n",
       "</div>"
      ],
      "text/plain": [
       "         date start time  duration_mins  \\\n",
       "0  2022-05-18      02:00            4.0   \n",
       "1  2022-05-18      02:04            4.0   \n",
       "2  2022-05-18      02:08            7.0   \n",
       "3  2022-05-18      02:15            7.0   \n",
       "4  2022-05-18      02:22            7.0   \n",
       "\n",
       "                                               title  \\\n",
       "0  [MSR Technical Papers] An Empirical Evaluation...   \n",
       "1  [MSR Technical Papers] Comments on Comments: W...   \n",
       "2  [MSR Technical Papers] Does This Apply to Me? ...   \n",
       "3  [MSR Technical Papers] Towards Reliable Agile ...   \n",
       "4  [MSR Technical Papers] BotHunter: An Approach ...   \n",
       "\n",
       "                                             authors  \\\n",
       "0                          [Nhan Nguyen, Sarah Nadi]   \n",
       "1  [Nikitha Rao, Jason Tsay, Martin Hirzel, Vince...   \n",
       "2  [Akalanka Galappaththi, Sarah Nadi, Christoph ...   \n",
       "3  [Jirat Pasuksmit, Patanamon Thongtanunam, Shan...   \n",
       "4  [Ahmad Abdellatif, Mairieli Wessel, Igor Stein...   \n",
       "\n",
       "                                         description  \n",
       "0  GitHub and OpenAI recently launched GitHub Cop...  \n",
       "1  An important function of code review is to inc...  \n",
       "2  Stack Overflow has become an essential technic...  \n",
       "3  In agile iterative development, an agile team ...  \n",
       "4  Bots have become popular in software projects ...  "
      ]
     },
     "execution_count": 449,
     "metadata": {},
     "output_type": "execute_result"
    }
   ],
   "source": [
    "def ics_to_dataframe(file_path):\n",
    "    # Open and parse the .ics file\n",
    "    with open(file_path, 'rb') as f:\n",
    "        cal = Calendar.from_ical(f.read())\n",
    "\n",
    "    # Prepare a list to hold event data\n",
    "    events = []\n",
    "\n",
    "    for component in cal.walk():\n",
    "        if component.name == \"VEVENT\":\n",
    "            # Extract relevant data from each event\n",
    "            try:\n",
    "                title, authors = component.get('summary').split(\" - \", 1)  # Expecting exactly 2 items\n",
    "                authors = authors.split('\\,')\n",
    "            except ValueError:  # If not exactly 2 items, then it's a ValueError\n",
    "                title = component.get('summary')  # Take the whole summary as title\n",
    "                authors = None  # Default, no authors found\n",
    "                \n",
    "            start_dt = component.get('dtstart').dt\n",
    "            end_dt = component.get('dtend').dt\n",
    "            title = component.get('summary')\n",
    "            description = component.get('description')\n",
    "            \n",
    "            if isinstance(start_dt, datetime.datetime) and isinstance(end_dt, datetime.datetime):\n",
    "                # Calculate duration\n",
    "                duration = (end_dt - start_dt).total_seconds() / 60  # duration in minutes\n",
    "                # Formatting date and start time\n",
    "                date = start_dt.strftime('%Y-%m-%d')\n",
    "                start_time = start_dt.strftime('%H:%M')\n",
    "                \n",
    "\n",
    "                # Append event info to the list\n",
    "                events.append([date, start_time, duration, title, authors, description])\n",
    "\n",
    "    # Create a DataFrame\n",
    "    df = pd.DataFrame(events, columns=['date', 'start time', 'duration_mins', 'title', 'authors', 'description'])\n",
    "\n",
    "    return df\n",
    "\n",
    "file_path = \"data/event-calendar-2022.ics\"\n",
    "df = ics_to_dataframe(file_path)\n",
    "df.head()"
   ]
  },
  {
   "cell_type": "code",
   "execution_count": 450,
   "id": "0634b029-418c-440a-8202-5e2dfe29c53e",
   "metadata": {
    "tags": []
   },
   "outputs": [
    {
     "data": {
      "text/html": [
       "<div>\n",
       "<style scoped>\n",
       "    .dataframe tbody tr th:only-of-type {\n",
       "        vertical-align: middle;\n",
       "    }\n",
       "\n",
       "    .dataframe tbody tr th {\n",
       "        vertical-align: top;\n",
       "    }\n",
       "\n",
       "    .dataframe thead th {\n",
       "        text-align: right;\n",
       "    }\n",
       "</style>\n",
       "<table border=\"1\" class=\"dataframe\">\n",
       "  <thead>\n",
       "    <tr style=\"text-align: right;\">\n",
       "      <th></th>\n",
       "      <th>date</th>\n",
       "      <th>start time</th>\n",
       "      <th>duration_mins</th>\n",
       "      <th>title</th>\n",
       "      <th>authors</th>\n",
       "      <th>description</th>\n",
       "      <th>session_name</th>\n",
       "    </tr>\n",
       "  </thead>\n",
       "  <tbody>\n",
       "    <tr>\n",
       "      <th>0</th>\n",
       "      <td>2022-05-18</td>\n",
       "      <td>02:00</td>\n",
       "      <td>4.0</td>\n",
       "      <td>[MSR Technical Papers] An Empirical Evaluation...</td>\n",
       "      <td>[Nhan Nguyen, Sarah Nadi]</td>\n",
       "      <td>GitHub and OpenAI recently launched GitHub Cop...</td>\n",
       "      <td>Unknown Session</td>\n",
       "    </tr>\n",
       "    <tr>\n",
       "      <th>1</th>\n",
       "      <td>2022-05-18</td>\n",
       "      <td>02:04</td>\n",
       "      <td>4.0</td>\n",
       "      <td>[MSR Technical Papers] Comments on Comments: W...</td>\n",
       "      <td>[Nikitha Rao, Jason Tsay, Martin Hirzel, Vince...</td>\n",
       "      <td>An important function of code review is to inc...</td>\n",
       "      <td>Unknown Session</td>\n",
       "    </tr>\n",
       "    <tr>\n",
       "      <th>2</th>\n",
       "      <td>2022-05-18</td>\n",
       "      <td>02:08</td>\n",
       "      <td>7.0</td>\n",
       "      <td>[MSR Technical Papers] Does This Apply to Me? ...</td>\n",
       "      <td>[Akalanka Galappaththi, Sarah Nadi, Christoph ...</td>\n",
       "      <td>Stack Overflow has become an essential technic...</td>\n",
       "      <td>Unknown Session</td>\n",
       "    </tr>\n",
       "    <tr>\n",
       "      <th>3</th>\n",
       "      <td>2022-05-18</td>\n",
       "      <td>02:15</td>\n",
       "      <td>7.0</td>\n",
       "      <td>[MSR Technical Papers] Towards Reliable Agile ...</td>\n",
       "      <td>[Jirat Pasuksmit, Patanamon Thongtanunam, Shan...</td>\n",
       "      <td>In agile iterative development, an agile team ...</td>\n",
       "      <td>Unknown Session</td>\n",
       "    </tr>\n",
       "    <tr>\n",
       "      <th>4</th>\n",
       "      <td>2022-05-18</td>\n",
       "      <td>02:22</td>\n",
       "      <td>7.0</td>\n",
       "      <td>[MSR Technical Papers] BotHunter: An Approach ...</td>\n",
       "      <td>[Ahmad Abdellatif, Mairieli Wessel, Igor Stein...</td>\n",
       "      <td>Bots have become popular in software projects ...</td>\n",
       "      <td>Unknown Session</td>\n",
       "    </tr>\n",
       "  </tbody>\n",
       "</table>\n",
       "</div>"
      ],
      "text/plain": [
       "         date start time  duration_mins  \\\n",
       "0  2022-05-18      02:00            4.0   \n",
       "1  2022-05-18      02:04            4.0   \n",
       "2  2022-05-18      02:08            7.0   \n",
       "3  2022-05-18      02:15            7.0   \n",
       "4  2022-05-18      02:22            7.0   \n",
       "\n",
       "                                               title  \\\n",
       "0  [MSR Technical Papers] An Empirical Evaluation...   \n",
       "1  [MSR Technical Papers] Comments on Comments: W...   \n",
       "2  [MSR Technical Papers] Does This Apply to Me? ...   \n",
       "3  [MSR Technical Papers] Towards Reliable Agile ...   \n",
       "4  [MSR Technical Papers] BotHunter: An Approach ...   \n",
       "\n",
       "                                             authors  \\\n",
       "0                          [Nhan Nguyen, Sarah Nadi]   \n",
       "1  [Nikitha Rao, Jason Tsay, Martin Hirzel, Vince...   \n",
       "2  [Akalanka Galappaththi, Sarah Nadi, Christoph ...   \n",
       "3  [Jirat Pasuksmit, Patanamon Thongtanunam, Shan...   \n",
       "4  [Ahmad Abdellatif, Mairieli Wessel, Igor Stein...   \n",
       "\n",
       "                                         description     session_name  \n",
       "0  GitHub and OpenAI recently launched GitHub Cop...  Unknown Session  \n",
       "1  An important function of code review is to inc...  Unknown Session  \n",
       "2  Stack Overflow has become an essential technic...  Unknown Session  \n",
       "3  In agile iterative development, an agile team ...  Unknown Session  \n",
       "4  Bots have become popular in software projects ...  Unknown Session  "
      ]
     },
     "execution_count": 450,
     "metadata": {},
     "output_type": "execute_result"
    }
   ],
   "source": [
    "def parse_sessions(file_path):\n",
    "    with open(file_path, 'rb') as f:\n",
    "        cal = Calendar.from_ical(f.read())\n",
    "\n",
    "    sessions = {}\n",
    "    \n",
    "    for component in cal.walk('vevent'):\n",
    "        start_dt = component.get('dtstart').dt\n",
    "        end_dt = component.get('dtend').dt\n",
    "        summary = str(component.get('summary'))\n",
    "        session_name = summary.split(': ')[-1]  # Assuming session name is after last colon\n",
    "        \n",
    "        # Key by start date, end date, and location for simplicity; tweak as needed\n",
    "        key = (start_dt, end_dt)\n",
    "        sessions[key] = session_name\n",
    "    \n",
    "    return sessions\n",
    "\n",
    "# Function to find a session for a given event\n",
    "def find_session_for_event(sessions, event_start, event_end):\n",
    "    # Note: This simplistic approach assumes exact match of start/end times. \n",
    "    # Consider more complex logic if sessions/events don't align exactly.\n",
    "    key = (event_start, event_end)\n",
    "    return sessions.get(key, \"Unknown Session\")\n",
    "\n",
    "# Load sessions\n",
    "session_calendar_path = \"data/session-calendar-2022.ics\"\n",
    "sessions = parse_sessions(session_calendar_path)\n",
    "\n",
    "# Map events to sessions and add a new column\n",
    "df['session_name'] = df.apply(lambda row: find_session_for_event(sessions, \n",
    "                                             datetime.datetime.strptime(row['date'] + ' ' + row['start time'], '%Y-%m-%d %H:%M'),\n",
    "                                             datetime.datetime.strptime(row['date'] + ' ' + row['start time'], '%Y-%m-%d %H:%M') + datetime.timedelta(minutes=row['duration_mins'])),\n",
    "                                             axis=1)\n",
    "\n",
    "df.head()"
   ]
  },
  {
   "cell_type": "code",
   "execution_count": 451,
   "id": "a508789c-37ad-4ed2-9413-857aacbac34c",
   "metadata": {
    "tags": []
   },
   "outputs": [],
   "source": [
    "import pandas as pd\n",
    "import re\n",
    "from bs4 import BeautifulSoup\n",
    "\n",
    "# Without error capture to ensure the output (whether success or failure) is reported back.\n",
    "# Attempt to read tables from the HTML file using pandas\n",
    "file_path = \"data/Program - MSR 2022.html\""
   ]
  },
  {
   "cell_type": "code",
   "execution_count": 452,
   "id": "959ad08b-206e-474b-95aa-94e67dc91ba3",
   "metadata": {
    "tags": []
   },
   "outputs": [],
   "source": [
    "with open(file_path, 'r') as file:\n",
    "    html_content = file.read()"
   ]
  },
  {
   "cell_type": "code",
   "execution_count": 453,
   "id": "96dd737a-08c5-444d-aa93-ad9c5b6604f8",
   "metadata": {
    "tags": []
   },
   "outputs": [],
   "source": [
    "soup = BeautifulSoup(html_content, 'lxml')"
   ]
  },
  {
   "cell_type": "code",
   "execution_count": 454,
   "id": "a3f51055-fa00-4a1b-a13c-92e87a55d3b8",
   "metadata": {
    "tags": []
   },
   "outputs": [],
   "source": [
    "rows = soup.find_all('tr', class_='hidable')"
   ]
  },
  {
   "cell_type": "code",
   "execution_count": 455,
   "id": "29d3433b-7c5c-4c8f-abb1-56ba9a80df0e",
   "metadata": {
    "tags": []
   },
   "outputs": [],
   "source": [
    "date_pattern = re.compile(r\"\\b(?:Mon|Tue|Wed|Thu|Fri|Sat|Sun)\\s\\d{1,2}\\s(?:Jan|Feb|Mar|Apr|May|Jun|Jul|Aug|Sep|Oct|Nov|Dec)\")"
   ]
  },
  {
   "cell_type": "code",
   "execution_count": 456,
   "id": "833b9fc0-a20c-4bf9-9279-57da99008bee",
   "metadata": {
    "tags": []
   },
   "outputs": [
    {
     "data": {
      "text/html": [
       "<div>\n",
       "<style scoped>\n",
       "    .dataframe tbody tr th:only-of-type {\n",
       "        vertical-align: middle;\n",
       "    }\n",
       "\n",
       "    .dataframe tbody tr th {\n",
       "        vertical-align: top;\n",
       "    }\n",
       "\n",
       "    .dataframe thead th {\n",
       "        text-align: right;\n",
       "    }\n",
       "</style>\n",
       "<table border=\"1\" class=\"dataframe\">\n",
       "  <thead>\n",
       "    <tr style=\"text-align: right;\">\n",
       "      <th></th>\n",
       "      <th>Time</th>\n",
       "      <th>Duration</th>\n",
       "      <th>Talk Title</th>\n",
       "      <th>Link</th>\n",
       "      <th>Authors</th>\n",
       "      <th>Session</th>\n",
       "      <th>Date</th>\n",
       "    </tr>\n",
       "  </thead>\n",
       "  <tbody>\n",
       "    <tr>\n",
       "      <th>0</th>\n",
       "      <td>22:00</td>\n",
       "      <td>4m</td>\n",
       "      <td>An Empirical Evaluation of GitHub Copilot’s Co...</td>\n",
       "      <td>#</td>\n",
       "      <td>[Nhan Nguyen, Sarah Nadi]</td>\n",
       "      <td>Session 1Technical Papers/Registered Reportsat...</td>\n",
       "      <td>Tue 17 May</td>\n",
       "    </tr>\n",
       "    <tr>\n",
       "      <th>1</th>\n",
       "      <td>22:04</td>\n",
       "      <td>4m</td>\n",
       "      <td>Comments on Comments: Where Code Review and Do...</td>\n",
       "      <td>#</td>\n",
       "      <td>[Nikitha Rao, Jason Tsay, Martin Hirzel, Vince...</td>\n",
       "      <td>Session 1Technical Papers/Registered Reportsat...</td>\n",
       "      <td>Tue 17 May</td>\n",
       "    </tr>\n",
       "    <tr>\n",
       "      <th>2</th>\n",
       "      <td>22:08</td>\n",
       "      <td>7m</td>\n",
       "      <td>Does This Apply to Me? An Empirical Study of T...</td>\n",
       "      <td>#</td>\n",
       "      <td>[Akalanka Galappaththi, Sarah Nadi, Christoph ...</td>\n",
       "      <td>Session 1Technical Papers/Registered Reportsat...</td>\n",
       "      <td>Tue 17 May</td>\n",
       "    </tr>\n",
       "    <tr>\n",
       "      <th>3</th>\n",
       "      <td>22:15</td>\n",
       "      <td>7m</td>\n",
       "      <td>Towards Reliable Agile Iterative Planning via ...</td>\n",
       "      <td>#</td>\n",
       "      <td>[Jirat Pasuksmit, Patanamon Thongtanunam, Shan...</td>\n",
       "      <td>Session 1Technical Papers/Registered Reportsat...</td>\n",
       "      <td>Tue 17 May</td>\n",
       "    </tr>\n",
       "    <tr>\n",
       "      <th>4</th>\n",
       "      <td>22:22</td>\n",
       "      <td>7m</td>\n",
       "      <td>BotHunter: An Approach to Detect Software Bots...</td>\n",
       "      <td>#</td>\n",
       "      <td>[Ahmad Abdellatif, Mairieli Wessel, Igor Stein...</td>\n",
       "      <td>Session 1Technical Papers/Registered Reportsat...</td>\n",
       "      <td>Tue 17 May</td>\n",
       "    </tr>\n",
       "  </tbody>\n",
       "</table>\n",
       "</div>"
      ],
      "text/plain": [
       "    Time Duration                                         Talk Title Link  \\\n",
       "0  22:00       4m  An Empirical Evaluation of GitHub Copilot’s Co...    #   \n",
       "1  22:04       4m  Comments on Comments: Where Code Review and Do...    #   \n",
       "2  22:08       7m  Does This Apply to Me? An Empirical Study of T...    #   \n",
       "3  22:15       7m  Towards Reliable Agile Iterative Planning via ...    #   \n",
       "4  22:22       7m  BotHunter: An Approach to Detect Software Bots...    #   \n",
       "\n",
       "                                             Authors  \\\n",
       "0                          [Nhan Nguyen, Sarah Nadi]   \n",
       "1  [Nikitha Rao, Jason Tsay, Martin Hirzel, Vince...   \n",
       "2  [Akalanka Galappaththi, Sarah Nadi, Christoph ...   \n",
       "3  [Jirat Pasuksmit, Patanamon Thongtanunam, Shan...   \n",
       "4  [Ahmad Abdellatif, Mairieli Wessel, Igor Stein...   \n",
       "\n",
       "                                             Session        Date  \n",
       "0  Session 1Technical Papers/Registered Reportsat...  Tue 17 May  \n",
       "1  Session 1Technical Papers/Registered Reportsat...  Tue 17 May  \n",
       "2  Session 1Technical Papers/Registered Reportsat...  Tue 17 May  \n",
       "3  Session 1Technical Papers/Registered Reportsat...  Tue 17 May  \n",
       "4  Session 1Technical Papers/Registered Reportsat...  Tue 17 May  "
      ]
     },
     "execution_count": 456,
     "metadata": {},
     "output_type": "execute_result"
    }
   ],
   "source": [
    "extracted_rows = []\n",
    "\n",
    "# Loop through each row to extract required details\n",
    "for row in rows:\n",
    "    temp_row = []\n",
    "    \n",
    "    # Extract session details from parent div if not already extracted\n",
    "    session_div = row.find_previous('div', class_='session-info-in-table')\n",
    "    session = session_div.get_text(strip=True) if session_div else ''\n",
    "    \n",
    "    datetime_info = row.find('td', class_='text-right')\n",
    "    talk_info = row.find_all('td')[-1]\n",
    "    \n",
    "    if datetime_info and talk_info:\n",
    "        time = datetime_info.find('div', class_='start-time').get_text(strip=True) if datetime_info.find('div', class_='start-time') else ''\n",
    "        duration = datetime_info.find('strong').get_text(strip=True) if datetime_info.find('strong') else ''\n",
    "        \n",
    "        # Calculate end time based on start time and duration if needed\n",
    "        \n",
    "        temp_row.append(time)\n",
    "        # temp_row.append(end_time)  # Calculate and append end time if needed\n",
    "        temp_row.append(duration)\n",
    "        \n",
    "        talk_title = talk_info.find('strong')\n",
    "        if talk_title:\n",
    "            temp_row.append(talk_title.get_text(strip=True))\n",
    "            \n",
    "            link = talk_title.find('a', href=True)\n",
    "            temp_row.append(link['href'] if link else '')\n",
    "        else:\n",
    "            temp_row.extend(['', ''])\n",
    "            \n",
    "        # Extract authors\n",
    "        authors_div = talk_info.find('div', class_='performers')\n",
    "        authors = [author.get_text(strip=True) for author in authors_div.find_all('a')] if authors_div else []\n",
    "        temp_row.append(authors)\n",
    "        \n",
    "        # Append session information\n",
    "        temp_row.append(session)\n",
    "        \n",
    "        # Locate date information\n",
    "        # Tip: You may need to adjust how you locate the 'date information' based on your HTML structure\n",
    "        date_info = row.find_previous('div', class_='day-wrapper')\n",
    "        if date_info:\n",
    "            date_text = date_info.get_text(strip=True)\n",
    "            matched_date = date_pattern.search(date_text)\n",
    "            date = matched_date.group(0) if matched_date else \"Date Not Found\"\n",
    "        else:\n",
    "            date = None\n",
    "        temp_row.append(date)\n",
    "        \n",
    "        extracted_rows.append(temp_row)\n",
    "\n",
    "columns = ['Time', 'Duration', 'Talk Title', 'Link', 'Authors', 'Session', 'Date']\n",
    "df_1 = pd.DataFrame(extracted_rows, columns=columns)\n",
    "\n",
    "df_1.head()"
   ]
  },
  {
   "cell_type": "code",
   "execution_count": 457,
   "id": "a618a76e-b470-4902-ba88-7273944df256",
   "metadata": {
    "tags": []
   },
   "outputs": [
    {
     "data": {
      "text/plain": [
       "Index(['date', 'start time', 'duration_mins', 'title', 'authors',\n",
       "       'description', 'session_name'],\n",
       "      dtype='object')"
      ]
     },
     "execution_count": 457,
     "metadata": {},
     "output_type": "execute_result"
    }
   ],
   "source": [
    "df.columns"
   ]
  },
  {
   "cell_type": "code",
   "execution_count": 458,
   "id": "14015157-82fb-4716-9655-e93da9828b2d",
   "metadata": {
    "tags": []
   },
   "outputs": [],
   "source": [
    "df_merged = pd.concat([df_1, df[['description']]], axis=1)"
   ]
  },
  {
   "cell_type": "code",
   "execution_count": 459,
   "id": "f3c1f1a1-13f4-4e24-9357-8f0ed67d20d4",
   "metadata": {
    "tags": []
   },
   "outputs": [
    {
     "data": {
      "text/html": [
       "<div>\n",
       "<style scoped>\n",
       "    .dataframe tbody tr th:only-of-type {\n",
       "        vertical-align: middle;\n",
       "    }\n",
       "\n",
       "    .dataframe tbody tr th {\n",
       "        vertical-align: top;\n",
       "    }\n",
       "\n",
       "    .dataframe thead th {\n",
       "        text-align: right;\n",
       "    }\n",
       "</style>\n",
       "<table border=\"1\" class=\"dataframe\">\n",
       "  <thead>\n",
       "    <tr style=\"text-align: right;\">\n",
       "      <th></th>\n",
       "      <th>Time</th>\n",
       "      <th>Duration</th>\n",
       "      <th>Talk Title</th>\n",
       "      <th>Link</th>\n",
       "      <th>Authors</th>\n",
       "      <th>Session</th>\n",
       "      <th>Date</th>\n",
       "      <th>description</th>\n",
       "    </tr>\n",
       "  </thead>\n",
       "  <tbody>\n",
       "    <tr>\n",
       "      <th>0</th>\n",
       "      <td>22:00</td>\n",
       "      <td>4m</td>\n",
       "      <td>An Empirical Evaluation of GitHub Copilot’s Co...</td>\n",
       "      <td>#</td>\n",
       "      <td>[Nhan Nguyen, Sarah Nadi]</td>\n",
       "      <td>Session 1Technical Papers/Registered Reportsat...</td>\n",
       "      <td>Tue 17 May</td>\n",
       "      <td>GitHub and OpenAI recently launched GitHub Cop...</td>\n",
       "    </tr>\n",
       "    <tr>\n",
       "      <th>1</th>\n",
       "      <td>22:04</td>\n",
       "      <td>4m</td>\n",
       "      <td>Comments on Comments: Where Code Review and Do...</td>\n",
       "      <td>#</td>\n",
       "      <td>[Nikitha Rao, Jason Tsay, Martin Hirzel, Vince...</td>\n",
       "      <td>Session 1Technical Papers/Registered Reportsat...</td>\n",
       "      <td>Tue 17 May</td>\n",
       "      <td>An important function of code review is to inc...</td>\n",
       "    </tr>\n",
       "    <tr>\n",
       "      <th>2</th>\n",
       "      <td>22:08</td>\n",
       "      <td>7m</td>\n",
       "      <td>Does This Apply to Me? An Empirical Study of T...</td>\n",
       "      <td>#</td>\n",
       "      <td>[Akalanka Galappaththi, Sarah Nadi, Christoph ...</td>\n",
       "      <td>Session 1Technical Papers/Registered Reportsat...</td>\n",
       "      <td>Tue 17 May</td>\n",
       "      <td>Stack Overflow has become an essential technic...</td>\n",
       "    </tr>\n",
       "  </tbody>\n",
       "</table>\n",
       "</div>"
      ],
      "text/plain": [
       "    Time Duration                                         Talk Title Link  \\\n",
       "0  22:00       4m  An Empirical Evaluation of GitHub Copilot’s Co...    #   \n",
       "1  22:04       4m  Comments on Comments: Where Code Review and Do...    #   \n",
       "2  22:08       7m  Does This Apply to Me? An Empirical Study of T...    #   \n",
       "\n",
       "                                             Authors  \\\n",
       "0                          [Nhan Nguyen, Sarah Nadi]   \n",
       "1  [Nikitha Rao, Jason Tsay, Martin Hirzel, Vince...   \n",
       "2  [Akalanka Galappaththi, Sarah Nadi, Christoph ...   \n",
       "\n",
       "                                             Session        Date  \\\n",
       "0  Session 1Technical Papers/Registered Reportsat...  Tue 17 May   \n",
       "1  Session 1Technical Papers/Registered Reportsat...  Tue 17 May   \n",
       "2  Session 1Technical Papers/Registered Reportsat...  Tue 17 May   \n",
       "\n",
       "                                         description  \n",
       "0  GitHub and OpenAI recently launched GitHub Cop...  \n",
       "1  An important function of code review is to inc...  \n",
       "2  Stack Overflow has become an essential technic...  "
      ]
     },
     "execution_count": 459,
     "metadata": {},
     "output_type": "execute_result"
    }
   ],
   "source": [
    "df_merged.head(3)"
   ]
  },
  {
   "cell_type": "code",
   "execution_count": 810,
   "id": "2d7f0a11-3ba6-4035-9ba4-8b0f3723a9d8",
   "metadata": {
    "tags": []
   },
   "outputs": [
    {
     "data": {
      "text/plain": [
       "Index(['Time', 'Duration', 'Talk Title', 'Link', 'Authors', 'Session', 'Date',\n",
       "       'description', 'preprocessed_description'],\n",
       "      dtype='object')"
      ]
     },
     "execution_count": 810,
     "metadata": {},
     "output_type": "execute_result"
    }
   ],
   "source": [
    "df_merged.columns"
   ]
  },
  {
   "cell_type": "code",
   "execution_count": 811,
   "id": "eb8cad69-418f-4047-8c61-1c056f5e573a",
   "metadata": {
    "tags": []
   },
   "outputs": [],
   "source": [
    "df_input = df_merged[['Time', 'Duration', 'Talk Title', 'Link', 'Authors', 'Session', 'Date',\n",
    "       'description']]\n",
    "df_input = df_input[(df_input['Talk Title']!=\"Discussions and Q&A\")&(df_input.description!=\"\")].reset_index(drop=True)\n",
    "df_input = df_input.reset_index()\n",
    "df_input = df_input.rename(columns={\n",
    "    'Talk Title': 'title',\n",
    "    'description': 'abstract',\n",
    "    'index': 'paper_number'})\n",
    "df_input_no_duplication = df_input[~df_input.Session.str.startswith(\"Blended\")]"
   ]
  },
  {
   "cell_type": "code",
   "execution_count": 812,
   "id": "6b68d6b3-f146-4cd3-9597-c5b22ee8d279",
   "metadata": {
    "tags": []
   },
   "outputs": [
    {
     "data": {
      "text/html": [
       "<div>\n",
       "<style scoped>\n",
       "    .dataframe tbody tr th:only-of-type {\n",
       "        vertical-align: middle;\n",
       "    }\n",
       "\n",
       "    .dataframe tbody tr th {\n",
       "        vertical-align: top;\n",
       "    }\n",
       "\n",
       "    .dataframe thead th {\n",
       "        text-align: right;\n",
       "    }\n",
       "</style>\n",
       "<table border=\"1\" class=\"dataframe\">\n",
       "  <thead>\n",
       "    <tr style=\"text-align: right;\">\n",
       "      <th></th>\n",
       "      <th>paper_number</th>\n",
       "      <th>Time</th>\n",
       "      <th>Duration</th>\n",
       "      <th>title</th>\n",
       "      <th>Link</th>\n",
       "      <th>Authors</th>\n",
       "      <th>Session</th>\n",
       "      <th>Date</th>\n",
       "      <th>abstract</th>\n",
       "    </tr>\n",
       "  </thead>\n",
       "  <tbody>\n",
       "    <tr>\n",
       "      <th>0</th>\n",
       "      <td>0</td>\n",
       "      <td>22:00</td>\n",
       "      <td>4m</td>\n",
       "      <td>An Empirical Evaluation of GitHub Copilot’s Co...</td>\n",
       "      <td>#</td>\n",
       "      <td>[Nhan Nguyen, Sarah Nadi]</td>\n",
       "      <td>Session 1Technical Papers/Registered Reportsat...</td>\n",
       "      <td>Tue 17 May</td>\n",
       "      <td>GitHub and OpenAI recently launched GitHub Cop...</td>\n",
       "    </tr>\n",
       "    <tr>\n",
       "      <th>1</th>\n",
       "      <td>1</td>\n",
       "      <td>22:04</td>\n",
       "      <td>4m</td>\n",
       "      <td>Comments on Comments: Where Code Review and Do...</td>\n",
       "      <td>#</td>\n",
       "      <td>[Nikitha Rao, Jason Tsay, Martin Hirzel, Vince...</td>\n",
       "      <td>Session 1Technical Papers/Registered Reportsat...</td>\n",
       "      <td>Tue 17 May</td>\n",
       "      <td>An important function of code review is to inc...</td>\n",
       "    </tr>\n",
       "    <tr>\n",
       "      <th>2</th>\n",
       "      <td>2</td>\n",
       "      <td>22:08</td>\n",
       "      <td>7m</td>\n",
       "      <td>Does This Apply to Me? An Empirical Study of T...</td>\n",
       "      <td>#</td>\n",
       "      <td>[Akalanka Galappaththi, Sarah Nadi, Christoph ...</td>\n",
       "      <td>Session 1Technical Papers/Registered Reportsat...</td>\n",
       "      <td>Tue 17 May</td>\n",
       "      <td>Stack Overflow has become an essential technic...</td>\n",
       "    </tr>\n",
       "  </tbody>\n",
       "</table>\n",
       "</div>"
      ],
      "text/plain": [
       "   paper_number   Time Duration  \\\n",
       "0             0  22:00       4m   \n",
       "1             1  22:04       4m   \n",
       "2             2  22:08       7m   \n",
       "\n",
       "                                               title Link  \\\n",
       "0  An Empirical Evaluation of GitHub Copilot’s Co...    #   \n",
       "1  Comments on Comments: Where Code Review and Do...    #   \n",
       "2  Does This Apply to Me? An Empirical Study of T...    #   \n",
       "\n",
       "                                             Authors  \\\n",
       "0                          [Nhan Nguyen, Sarah Nadi]   \n",
       "1  [Nikitha Rao, Jason Tsay, Martin Hirzel, Vince...   \n",
       "2  [Akalanka Galappaththi, Sarah Nadi, Christoph ...   \n",
       "\n",
       "                                             Session        Date  \\\n",
       "0  Session 1Technical Papers/Registered Reportsat...  Tue 17 May   \n",
       "1  Session 1Technical Papers/Registered Reportsat...  Tue 17 May   \n",
       "2  Session 1Technical Papers/Registered Reportsat...  Tue 17 May   \n",
       "\n",
       "                                            abstract  \n",
       "0  GitHub and OpenAI recently launched GitHub Cop...  \n",
       "1  An important function of code review is to inc...  \n",
       "2  Stack Overflow has become an essential technic...  "
      ]
     },
     "execution_count": 812,
     "metadata": {},
     "output_type": "execute_result"
    }
   ],
   "source": [
    "df_input_no_duplication.head(3)"
   ]
  },
  {
   "cell_type": "markdown",
   "id": "e30d9c5f-6d18-48e5-8799-912b977bad0f",
   "metadata": {},
   "source": [
    "## LLM generate clustering result"
   ]
  },
  {
   "cell_type": "code",
   "execution_count": 836,
   "id": "0e9a5aeb-fefe-46fd-a3c7-944c706f9bae",
   "metadata": {
    "tags": []
   },
   "outputs": [],
   "source": [
    "df_llm_cluster_input = df_input_no_duplication.copy()"
   ]
  },
  {
   "cell_type": "code",
   "execution_count": 837,
   "id": "fc393ae0-a3bf-4580-8310-6f8e59cb350e",
   "metadata": {
    "tags": []
   },
   "outputs": [
    {
     "name": "stdout",
     "output_type": "stream",
     "text": [
      "\n",
      "Please give the clustering result of those papers given the title.\n",
      "the clustering is based on if they are from the same topic. \n",
      "There are 117 papers in total. I'd like to cluster these papers into 5 common topics (you can use number to represent differnt topics). \n",
      "Output constraint will be:\n",
      "1. The output should contain the clustering label for each paper in the form of the csv representation of a data frame. \n",
      "2. Index are the \"title\" and the value will be the clustering label (from 0 to 4).\n",
      "3. This csv representation should be in three quotes (```) on both sides so that I can easily extract it from your result and make a data frame.\n",
      "4. Please add \"\" for the title in the output\n",
      "Input includes one column: title.\n",
      "title\n",
      "                                                                                       An Empirical Evaluation of GitHub Copilot’s Code Suggestions\n",
      "                                                                                     Comments on Comments: Where Code Review and Documentation Meet\n",
      "                                                                   Does This Apply to Me? An Empirical Study of Technical Context in Stack Overflow\n",
      "                                                       Towards Reliable Agile Iterative Planning via Predicting Documentation Changes of Work Items\n",
      "                                                                                           BotHunter: An Approach to Detect Software Bots in GitHub\n",
      "                                                                                Recommending Code Improvements Based on Stack Overflow Answer Edits\n",
      "                                                                                  An Alternative Issue Tracking Dataset of Public Jira Repositories\n",
      "                                                               Smelly Variables in Ansible Infrastructure Code: Detection, Prevalence, and Lifetime\n",
      "                                                       Beyond Duplicates: Towards Understanding and Predicting Link Types in Issue Tracking Systems\n",
      "                                                                                                                   Real-World Clone-Detection in Go\n",
      "                                                                                  Towards Using Gameplay Videos for Detecting Issues in Video Games\n",
      "                                                                                                         Is Surprisal in Issue Trackers Actionable?\n",
      "                                                                                                  Geographic Diversity in Public Code Contributions\n",
      "                                                       Operationalizing Threats to MSR Studies by Simulation-Based TestingDistinguished Paper Award\n",
      "                                                                                                   The General Index of Software Engineering Papers\n",
      "                                                                     Challenges and Future Research Direction for Microtask Programming in Industry\n",
      "                                                                   Starting the InnerSource Journey: Key Goals and Metrics to Measure Collaboration\n",
      "                                                                                     Investigating the Impact of Forgetting in Software Development\n",
      "                                                                               An Exploratory Study on Refactoring Documentation in Issues Handling\n",
      "                                                              Between JIRA and GitHub: ASFBot and its Influence on Human Comments in Issue Trackers\n",
      "                                                      Is Refactoring Always a Good Egg? Exploring the Interconnection Between Bugs and Refactorings\n",
      "                                                                                        On the Co-Occurrence of Refactoring of Test and Source Code\n",
      "Refactoring Debt: Myth or Reality? An Exploratory Study on the Relationship Between Technical Debt and RefactoringBest Mining Challenge Paper Award\n",
      "                                            Studying the Impact of Continuous Delivery Adoption on Bug-Fixing Time in Apache’s Open-Source Projects\n",
      "                                                                    Which bugs are missed in code reviews: An empirical study on SmartSHARK dataset\n",
      "                                             Dazzle: Using Optimized Generative Adversarial Networks to Address Security Data Class Imbalance Issue\n",
      "                                To What Extent do Deep Learning-based Code Recommenders Generate Predictions by Cloning Code from the Training Set?\n",
      "                                                       How to Improve Deep Learning for Software Analytics (a case study with code smell detection)\n",
      "                                                                                                 Using Active Learning to Find Hi\n"
     ]
    }
   ],
   "source": [
    "# Convert df_input to a string representation\n",
    "SAMPLE_SIZE = len(df_llm_cluster_input)\n",
    "df_input_str = df_llm_cluster_input[['title']].iloc[0: SAMPLE_SIZE].to_string(index=False).strip()\n",
    "df_input_example_str = df_output_example.to_string(index=False).strip()\n",
    "\n",
    "\n",
    "# Construct the prompt\n",
    "prompt = f\"\"\"\n",
    "Please give the clustering result of those papers given the title.\n",
    "the clustering is based on if they are from the same topic. \n",
    "There are {SAMPLE_SIZE} papers in total. I'd like to cluster these papers into 5 common topics (you can use number to represent differnt topics). \n",
    "Output constraint will be:\n",
    "1. The output should contain the clustering label for each paper in the form of the csv representation of a data frame. \n",
    "2. Index are the \"title\" and the value will be the clustering label (from 0 to 4).\n",
    "3. This csv representation should be in three quotes (```) on both sides so that I can easily extract it from your result and make a data frame.\n",
    "4. Please add \"\" for the title in the output\n",
    "Input includes one column: title.\n",
    "{df_input_str}\n",
    "\n",
    "\"\"\"\n",
    "\n",
    "# Print the prompt to verify\n",
    "print(prompt[:1000])"
   ]
  },
  {
   "cell_type": "code",
   "execution_count": 838,
   "id": "06a5c04f-ae7a-4671-9909-5672e6eaf55b",
   "metadata": {
    "tags": []
   },
   "outputs": [
    {
     "data": {
      "text/plain": [
       "18044"
      ]
     },
     "execution_count": 838,
     "metadata": {},
     "output_type": "execute_result"
    }
   ],
   "source": [
    "len(prompt)"
   ]
  },
  {
   "cell_type": "code",
   "execution_count": 839,
   "id": "b4b98404-a4b7-43b6-bdca-91e76ddb5362",
   "metadata": {
    "tags": []
   },
   "outputs": [],
   "source": [
    "import pyperclip\n",
    "with open(\"prompt.txt\", \"w\") as f:\n",
    "    f.write(prompt)\n",
    "    f.close()"
   ]
  },
  {
   "cell_type": "code",
   "execution_count": 840,
   "id": "7cdfba40-b6da-46fe-a71e-d0ce7ec9d476",
   "metadata": {
    "tags": []
   },
   "outputs": [
    {
     "name": "stdout",
     "output_type": "stream",
     "text": [
      "18044\n"
     ]
    }
   ],
   "source": [
    "print(len(prompt))"
   ]
  },
  {
   "cell_type": "code",
   "execution_count": 1,
   "id": "d90d7122-7faf-48eb-b001-02184a5ca66b",
   "metadata": {
    "tags": []
   },
   "outputs": [],
   "source": [
    "import openai\n",
    "from io import StringIO\n",
    "\n",
    "with open(\"../api_key\", 'r') as f:\n",
    "    api_key = f.read().strip()\n",
    "\n",
    "client = openai.OpenAI(api_key = api_key)"
   ]
  },
  {
   "cell_type": "code",
   "execution_count": 1211,
   "id": "86496e35-d20e-4864-8b56-3465b40322e3",
   "metadata": {
    "tags": []
   },
   "outputs": [
    {
     "name": "stdout",
     "output_type": "stream",
     "text": [
      "Got the df!\n",
      "Number of elements assigned to each cluster: [24 13 20 46 14]\n",
      "Number of elements assigned to each cluster: [24 13 20 46 14]\n",
      "completeness score: 0.3936026962224098\n",
      "homogeneity score: 0.20177177366231341\n",
      "Got the df!\n",
      "Number of elements assigned to each cluster: [15 14 29 42 17]\n",
      "Number of elements assigned to each cluster: [15 14 29 42 17]\n",
      "completeness score: 0.40805638762343416\n",
      "homogeneity score: 0.21185399253629883\n",
      "Got the df!\n",
      "Number of elements assigned to each cluster: [32 14 29 10 32]\n",
      "Number of elements assigned to each cluster: [32 14 29 10 32]\n",
      "completeness score: 0.40592373706860296\n",
      "homogeneity score: 0.2118607093410775\n",
      "Got the df!\n",
      "Number of elements assigned to each cluster: [31 14 27 16 29]\n",
      "Number of elements assigned to each cluster: [31 14 27 16 29]\n",
      "completeness score: 0.37824579799056307\n",
      "homogeneity score: 0.20300204083406098\n",
      "Got the df!\n",
      "Number of elements assigned to each cluster: [19 19 22 27 30]\n",
      "Number of elements assigned to each cluster: [19 19 22 27 30]\n",
      "completeness score: 0.4936476397153556\n",
      "homogeneity score: 0.2699903612450044\n"
     ]
    }
   ],
   "source": [
    "score_result = []\n",
    "cluster_results = []\n",
    "for i in range(5):\n",
    "    response = client.chat.completions.create(\n",
    "        model= \"gpt-4-0125-preview\", #\"gpt-3.5-turbo-0125\",  # You can switch this to \"gpt-4-turbo-preview\", \"gpt-3.5-turbo-0125\"\n",
    "        messages=[\n",
    "            {\n",
    "                \"role\": \"user\",\n",
    "                \"content\": prompt\n",
    "            },\n",
    "        ],\n",
    "        temperature=0.5,\n",
    "        # max_tokens=256,\n",
    "        top_p=1,\n",
    "        frequency_penalty=0,\n",
    "        presence_penalty=0\n",
    "    )\n",
    "    ans_string = response.choices[0].message.content\n",
    "    \n",
    "    match = re.search(\"```(.*?)```\", ans_string, re.DOTALL)\n",
    "    if match:\n",
    "        csv_string = match.group(1)  # Extract the actual CSV data\n",
    "        # print(\"Extracted CSV:\\n\", csv_string)\n",
    "\n",
    "        # Convert the CSV string to a DataFrame\n",
    "        # StringIO is used to convert the string to a file-like object\n",
    "        df_llm_clustering_results = pd.read_csv(StringIO(csv_string))\n",
    "\n",
    "        # Display the DataFrame\n",
    "        print(\"Got the df!\")\n",
    "    else:\n",
    "        print(\"No CSV data found in the string.\")\n",
    "    cluster_results.append(df_llm_clustering_results)\n",
    "    cluster_ids, cluster_sizes = np.unique(df_llm_clustering_results.cluster, return_counts=True) \n",
    "    df_llm_cluster_res = pd.merge(df_llm_cluster_input, df_llm_clustering_results, on='title', how='left')\n",
    "    print(f\"Number of elements assigned to each cluster: {cluster_sizes}\")\n",
    "    completeness_score = metrics.completeness_score(df_llm_cluster_res['Session'], df_llm_cluster_res['cluster'])\n",
    "    homegeneity_score = metrics.homogeneity_score(df_llm_cluster_res['Session'],df_llm_clustering_results['cluster'])\n",
    "    score_result.append({\n",
    "        'iteration': i,\n",
    "        'completeness_score': completeness_score,\n",
    "        'homegeneity_score': homegeneity_score\n",
    "    print(f\"completeness score: {completeness_score}\")\n",
    "    print(f\"homogeneity score: {homegeneity_score}\") "
   ]
  },
  {
   "cell_type": "code",
   "execution_count": 1213,
   "id": "9f485a7d-f6fe-4e82-adbe-868d2113d941",
   "metadata": {
    "tags": []
   },
   "outputs": [],
   "source": [
    "# pd.merge(df_tfidf_input, df_llm_clustering_results, on='title', how='left')"
   ]
  },
  {
   "cell_type": "code",
   "execution_count": 1216,
   "id": "3ad5a506-d071-4ada-b92c-e27c346e1e9e",
   "metadata": {
    "tags": []
   },
   "outputs": [
    {
     "data": {
      "text/plain": [
       "iteration             2.000000\n",
       "completeness_score    0.415895\n",
       "homegeneity_score     0.219696\n",
       "dtype: float64"
      ]
     },
     "execution_count": 1216,
     "metadata": {},
     "output_type": "execute_result"
    }
   ],
   "source": [
    "pd.DataFrame(score_result).mean()"
   ]
  },
  {
   "cell_type": "code",
   "execution_count": 846,
   "id": "9013cc69-c0bb-4a20-882d-6ee2fbc9442a",
   "metadata": {
    "tags": []
   },
   "outputs": [
    {
     "name": "stdout",
     "output_type": "stream",
     "text": [
      "Got the df!\n"
     ]
    }
   ],
   "source": [
    "from io import StringIO\n",
    "match = re.search(\"```(.*?)```\", ans_string, re.DOTALL)\n",
    "if match:\n",
    "    csv_string = match.group(1)  # Extract the actual CSV data\n",
    "    # print(\"Extracted CSV:\\n\", csv_string)\n",
    "\n",
    "    # Convert the CSV string to a DataFrame\n",
    "    # StringIO is used to convert the string to a file-like object\n",
    "    df_llm_clustering_results = pd.read_csv(StringIO(csv_string))\n",
    "\n",
    "    # Display the DataFrame\n",
    "    print(\"Got the df!\")\n",
    "else:\n",
    "    print(\"No CSV data found in the string.\")\n",
    "    "
   ]
  },
  {
   "cell_type": "code",
   "execution_count": 847,
   "id": "2e73abe4-ad96-4a83-b72c-2f278088a08a",
   "metadata": {
    "tags": []
   },
   "outputs": [
    {
     "data": {
      "text/plain": [
       "(117, 2)"
      ]
     },
     "execution_count": 847,
     "metadata": {},
     "output_type": "execute_result"
    }
   ],
   "source": [
    "df_llm_clustering_results.shape"
   ]
  },
  {
   "cell_type": "code",
   "execution_count": 848,
   "id": "07ddcf3c-3a20-4e98-849b-e47d801ee754",
   "metadata": {
    "tags": []
   },
   "outputs": [
    {
     "data": {
      "text/html": [
       "<div>\n",
       "<style scoped>\n",
       "    .dataframe tbody tr th:only-of-type {\n",
       "        vertical-align: middle;\n",
       "    }\n",
       "\n",
       "    .dataframe tbody tr th {\n",
       "        vertical-align: top;\n",
       "    }\n",
       "\n",
       "    .dataframe thead th {\n",
       "        text-align: right;\n",
       "    }\n",
       "</style>\n",
       "<table border=\"1\" class=\"dataframe\">\n",
       "  <thead>\n",
       "    <tr style=\"text-align: right;\">\n",
       "      <th></th>\n",
       "      <th>title</th>\n",
       "      <th>cluster</th>\n",
       "    </tr>\n",
       "  </thead>\n",
       "  <tbody>\n",
       "    <tr>\n",
       "      <th>0</th>\n",
       "      <td>An Empirical Evaluation of GitHub Copilot’s Co...</td>\n",
       "      <td>0</td>\n",
       "    </tr>\n",
       "    <tr>\n",
       "      <th>1</th>\n",
       "      <td>Comments on Comments: Where Code Review and Do...</td>\n",
       "      <td>1</td>\n",
       "    </tr>\n",
       "    <tr>\n",
       "      <th>2</th>\n",
       "      <td>Does This Apply to Me? An Empirical Study of T...</td>\n",
       "      <td>2</td>\n",
       "    </tr>\n",
       "    <tr>\n",
       "      <th>3</th>\n",
       "      <td>Towards Reliable Agile Iterative Planning via ...</td>\n",
       "      <td>1</td>\n",
       "    </tr>\n",
       "    <tr>\n",
       "      <th>4</th>\n",
       "      <td>BotHunter: An Approach to Detect Software Bots...</td>\n",
       "      <td>3</td>\n",
       "    </tr>\n",
       "  </tbody>\n",
       "</table>\n",
       "</div>"
      ],
      "text/plain": [
       "                                               title  cluster\n",
       "0  An Empirical Evaluation of GitHub Copilot’s Co...        0\n",
       "1  Comments on Comments: Where Code Review and Do...        1\n",
       "2  Does This Apply to Me? An Empirical Study of T...        2\n",
       "3  Towards Reliable Agile Iterative Planning via ...        1\n",
       "4  BotHunter: An Approach to Detect Software Bots...        3"
      ]
     },
     "execution_count": 848,
     "metadata": {},
     "output_type": "execute_result"
    }
   ],
   "source": [
    "df_llm_clustering_results.head(5)"
   ]
  },
  {
   "cell_type": "code",
   "execution_count": 751,
   "id": "205a43c0-bd8b-404a-9dc7-87655ed5dcfe",
   "metadata": {
    "tags": []
   },
   "outputs": [],
   "source": [
    "# df_clustering_results = df_clustering_results.drop('title').rename(columns={'csv': 'clustering_label'})"
   ]
  },
  {
   "cell_type": "code",
   "execution_count": 758,
   "id": "1e4f7ea7-56dc-4d32-a415-7d0b5bcd303a",
   "metadata": {
    "tags": []
   },
   "outputs": [],
   "source": [
    "# df_clustering_results = df_clustering_results.reset_index().rename(columns={'index': 'title'})"
   ]
  },
  {
   "cell_type": "code",
   "execution_count": null,
   "id": "e74db34d-97d2-439e-87df-6f24e8e82c61",
   "metadata": {
    "tags": []
   },
   "outputs": [],
   "source": [
    "df_clustering_results.title.value_counts()"
   ]
  },
  {
   "cell_type": "code",
   "execution_count": 761,
   "id": "523e7a0c-1283-4eac-b87e-19d57e651258",
   "metadata": {
    "tags": []
   },
   "outputs": [],
   "source": [
    "# df_clustering_results[df_clustering_results.title=='Finding the Fun in Fundraising: Public Issues and Pull Requests in VC-backed Open-Core Companies']"
   ]
  },
  {
   "cell_type": "code",
   "execution_count": 1217,
   "id": "95d0c774-b5f6-4374-88e5-745933226454",
   "metadata": {
    "tags": []
   },
   "outputs": [
    {
     "name": "stdout",
     "output_type": "stream",
     "text": [
      "Number of elements assigned to each cluster: [19 19 22 27 30]\n"
     ]
    }
   ],
   "source": [
    "cluster_ids, cluster_sizes = np.unique(df_llm_clustering_results.cluster, return_counts=True)\n",
    "print(f\"Number of elements assigned to each cluster: {cluster_sizes}\")"
   ]
  },
  {
   "cell_type": "code",
   "execution_count": 1265,
   "id": "72fa8f5c-7db7-4793-91ff-7fa06098d484",
   "metadata": {
    "tags": []
   },
   "outputs": [
    {
     "data": {
      "text/plain": [
       "0.4936476397153556"
      ]
     },
     "execution_count": 1265,
     "metadata": {},
     "output_type": "execute_result"
    }
   ],
   "source": [
    "metrics.completeness_score(df_llm_cluster_input['Session'], df_llm_clustering_results['cluster'])"
   ]
  },
  {
   "cell_type": "code",
   "execution_count": 1266,
   "id": "db3eebe8-2374-4f37-9dcf-e5f2a15d860f",
   "metadata": {
    "tags": []
   },
   "outputs": [],
   "source": [
    "df_llm_cluster_output = pd.merge(df_llm_cluster_input, df_llm_clustering_results, on='title', how='left')"
   ]
  },
  {
   "cell_type": "code",
   "execution_count": 1267,
   "id": "80bcab22-dd0e-4e23-adb9-30ab55dc9f86",
   "metadata": {
    "tags": []
   },
   "outputs": [
    {
     "data": {
      "text/plain": [
       "0"
      ]
     },
     "execution_count": 1267,
     "metadata": {},
     "output_type": "execute_result"
    }
   ],
   "source": [
    "df_llm_cluster_output.cluster.isna().sum()"
   ]
  },
  {
   "cell_type": "code",
   "execution_count": null,
   "id": "b3481ece-4463-4fb5-9572-39b5f2d98a53",
   "metadata": {
    "tags": []
   },
   "outputs": [],
   "source": []
  },
  {
   "cell_type": "code",
   "execution_count": 1221,
   "id": "ea3ac950-d2dc-4325-8ce6-d556c336d5a7",
   "metadata": {
    "tags": []
   },
   "outputs": [
    {
     "data": {
      "text/html": [
       "<div>\n",
       "<style scoped>\n",
       "    .dataframe tbody tr th:only-of-type {\n",
       "        vertical-align: middle;\n",
       "    }\n",
       "\n",
       "    .dataframe tbody tr th {\n",
       "        vertical-align: top;\n",
       "    }\n",
       "\n",
       "    .dataframe thead th {\n",
       "        text-align: right;\n",
       "    }\n",
       "</style>\n",
       "<table border=\"1\" class=\"dataframe\">\n",
       "  <thead>\n",
       "    <tr style=\"text-align: right;\">\n",
       "      <th></th>\n",
       "      <th>session</th>\n",
       "      <th>date</th>\n",
       "      <th>start_time</th>\n",
       "      <th>end_time</th>\n",
       "      <th>duration</th>\n",
       "      <th>title</th>\n",
       "      <th>authors</th>\n",
       "      <th>cluster</th>\n",
       "    </tr>\n",
       "  </thead>\n",
       "  <tbody>\n",
       "    <tr>\n",
       "      <th>0</th>\n",
       "      <td>Session 1Technical Papers/Registered Reportsat...</td>\n",
       "      <td>Tue 17 May</td>\n",
       "      <td>2022-05-17 22:00:00</td>\n",
       "      <td>2022-05-17 22:04:00</td>\n",
       "      <td>4</td>\n",
       "      <td>An Empirical Evaluation of GitHub Copilot’s Co...</td>\n",
       "      <td>[Nhan Nguyen, Sarah Nadi]</td>\n",
       "      <td>2</td>\n",
       "    </tr>\n",
       "    <tr>\n",
       "      <th>1</th>\n",
       "      <td>Session 1Technical Papers/Registered Reportsat...</td>\n",
       "      <td>Tue 17 May</td>\n",
       "      <td>2022-05-17 22:04:00</td>\n",
       "      <td>2022-05-17 22:08:00</td>\n",
       "      <td>4</td>\n",
       "      <td>Comments on Comments: Where Code Review and Do...</td>\n",
       "      <td>[Nikitha Rao, Jason Tsay, Martin Hirzel, Vince...</td>\n",
       "      <td>3</td>\n",
       "    </tr>\n",
       "    <tr>\n",
       "      <th>2</th>\n",
       "      <td>Session 1Technical Papers/Registered Reportsat...</td>\n",
       "      <td>Tue 17 May</td>\n",
       "      <td>2022-05-17 22:08:00</td>\n",
       "      <td>2022-05-17 22:15:00</td>\n",
       "      <td>7</td>\n",
       "      <td>Does This Apply to Me? An Empirical Study of T...</td>\n",
       "      <td>[Akalanka Galappaththi, Sarah Nadi, Christoph ...</td>\n",
       "      <td>0</td>\n",
       "    </tr>\n",
       "    <tr>\n",
       "      <th>3</th>\n",
       "      <td>Session 1Technical Papers/Registered Reportsat...</td>\n",
       "      <td>Tue 17 May</td>\n",
       "      <td>2022-05-17 22:15:00</td>\n",
       "      <td>2022-05-17 22:22:00</td>\n",
       "      <td>7</td>\n",
       "      <td>Towards Reliable Agile Iterative Planning via ...</td>\n",
       "      <td>[Jirat Pasuksmit, Patanamon Thongtanunam, Shan...</td>\n",
       "      <td>3</td>\n",
       "    </tr>\n",
       "    <tr>\n",
       "      <th>4</th>\n",
       "      <td>Session 1Technical Papers/Registered Reportsat...</td>\n",
       "      <td>Tue 17 May</td>\n",
       "      <td>2022-05-17 22:22:00</td>\n",
       "      <td>2022-05-17 22:29:00</td>\n",
       "      <td>7</td>\n",
       "      <td>BotHunter: An Approach to Detect Software Bots...</td>\n",
       "      <td>[Ahmad Abdellatif, Mairieli Wessel, Igor Stein...</td>\n",
       "      <td>4</td>\n",
       "    </tr>\n",
       "  </tbody>\n",
       "</table>\n",
       "</div>"
      ],
      "text/plain": [
       "                                             session        date  \\\n",
       "0  Session 1Technical Papers/Registered Reportsat...  Tue 17 May   \n",
       "1  Session 1Technical Papers/Registered Reportsat...  Tue 17 May   \n",
       "2  Session 1Technical Papers/Registered Reportsat...  Tue 17 May   \n",
       "3  Session 1Technical Papers/Registered Reportsat...  Tue 17 May   \n",
       "4  Session 1Technical Papers/Registered Reportsat...  Tue 17 May   \n",
       "\n",
       "           start_time            end_time  duration  \\\n",
       "0 2022-05-17 22:00:00 2022-05-17 22:04:00         4   \n",
       "1 2022-05-17 22:04:00 2022-05-17 22:08:00         4   \n",
       "2 2022-05-17 22:08:00 2022-05-17 22:15:00         7   \n",
       "3 2022-05-17 22:15:00 2022-05-17 22:22:00         7   \n",
       "4 2022-05-17 22:22:00 2022-05-17 22:29:00         7   \n",
       "\n",
       "                                               title  \\\n",
       "0  An Empirical Evaluation of GitHub Copilot’s Co...   \n",
       "1  Comments on Comments: Where Code Review and Do...   \n",
       "2  Does This Apply to Me? An Empirical Study of T...   \n",
       "3  Towards Reliable Agile Iterative Planning via ...   \n",
       "4  BotHunter: An Approach to Detect Software Bots...   \n",
       "\n",
       "                                             authors  cluster  \n",
       "0                          [Nhan Nguyen, Sarah Nadi]        2  \n",
       "1  [Nikitha Rao, Jason Tsay, Martin Hirzel, Vince...        3  \n",
       "2  [Akalanka Galappaththi, Sarah Nadi, Christoph ...        0  \n",
       "3  [Jirat Pasuksmit, Patanamon Thongtanunam, Shan...        3  \n",
       "4  [Ahmad Abdellatif, Mairieli Wessel, Igor Stein...        4  "
      ]
     },
     "execution_count": 1221,
     "metadata": {},
     "output_type": "execute_result"
    }
   ],
   "source": [
    "df = df_llm_cluster_output.copy()\n",
    "\n",
    "df.columns = [col.lower().replace(' ', '_') for col in df.columns]\n",
    "df = df[['date'] + [col for col in df.columns if col != 'date']]\n",
    "df['start_time'] = pd.to_datetime(\"2022 \" + df['date'] + ' ' + df['time'], format='%Y %a %d %b %H:%M')\n",
    "df['duration'] = df['duration'].str.extract('(\\d+)').astype(int)  # Extract duration in minutes\n",
    "df['end_time'] = df['start_time'] + pd.to_timedelta(df['duration'], unit='m')\n",
    "\n",
    "# Delete the Link column\n",
    "df = df.drop(['link', 'time'], axis=1)\n",
    "\n",
    "# Move Authors column to the last position\n",
    "df = df[[col for col in df.columns if col != 'authors'] + ['authors']]\n",
    "\n",
    "df = df[['session', 'date', 'start_time', 'end_time', 'duration', 'title', 'authors', 'cluster']]\n",
    "\n",
    "# Display the final data frame\n",
    "df.head()"
   ]
  },
  {
   "cell_type": "code",
   "execution_count": 1222,
   "id": "608dcdee-b797-491a-bc5c-7b0cf8ffc3bf",
   "metadata": {
    "tags": []
   },
   "outputs": [
    {
     "data": {
      "text/plain": [
       "date\n",
       "Wed 18 May    47\n",
       "Thu 19 May    38\n",
       "Fri 20 May    26\n",
       "Tue 17 May     6\n",
       "Name: count, dtype: int64"
      ]
     },
     "execution_count": 1222,
     "metadata": {},
     "output_type": "execute_result"
    }
   ],
   "source": [
    "df.date.value_counts()"
   ]
  },
  {
   "cell_type": "code",
   "execution_count": 1223,
   "id": "ac02be14-45eb-4931-af5e-bd9359e8b6bb",
   "metadata": {
    "tags": []
   },
   "outputs": [],
   "source": [
    "# df = df[df.date == 'Fri 20 May']"
   ]
  },
  {
   "cell_type": "code",
   "execution_count": 1224,
   "id": "87444cec-afcb-45ce-b696-6ff783982fbb",
   "metadata": {
    "tags": []
   },
   "outputs": [
    {
     "data": {
      "text/html": [
       "<div>\n",
       "<style scoped>\n",
       "    .dataframe tbody tr th:only-of-type {\n",
       "        vertical-align: middle;\n",
       "    }\n",
       "\n",
       "    .dataframe tbody tr th {\n",
       "        vertical-align: top;\n",
       "    }\n",
       "\n",
       "    .dataframe thead th {\n",
       "        text-align: right;\n",
       "    }\n",
       "</style>\n",
       "<table border=\"1\" class=\"dataframe\">\n",
       "  <thead>\n",
       "    <tr style=\"text-align: right;\">\n",
       "      <th></th>\n",
       "      <th>session</th>\n",
       "      <th>date</th>\n",
       "      <th>start_time</th>\n",
       "      <th>end_time</th>\n",
       "      <th>duration</th>\n",
       "      <th>title</th>\n",
       "      <th>authors</th>\n",
       "      <th>cluster</th>\n",
       "    </tr>\n",
       "  </thead>\n",
       "  <tbody>\n",
       "    <tr>\n",
       "      <th>0</th>\n",
       "      <td>Session 1Technical Papers/Registered Reportsat...</td>\n",
       "      <td>Tue 17 May</td>\n",
       "      <td>2022-05-17 22:00:00</td>\n",
       "      <td>2022-05-17 22:04:00</td>\n",
       "      <td>4</td>\n",
       "      <td>An Empirical Evaluation of GitHub Copilot’s Co...</td>\n",
       "      <td>[Nhan Nguyen, Sarah Nadi]</td>\n",
       "      <td>2</td>\n",
       "    </tr>\n",
       "    <tr>\n",
       "      <th>1</th>\n",
       "      <td>Session 1Technical Papers/Registered Reportsat...</td>\n",
       "      <td>Tue 17 May</td>\n",
       "      <td>2022-05-17 22:04:00</td>\n",
       "      <td>2022-05-17 22:08:00</td>\n",
       "      <td>4</td>\n",
       "      <td>Comments on Comments: Where Code Review and Do...</td>\n",
       "      <td>[Nikitha Rao, Jason Tsay, Martin Hirzel, Vince...</td>\n",
       "      <td>3</td>\n",
       "    </tr>\n",
       "    <tr>\n",
       "      <th>2</th>\n",
       "      <td>Session 1Technical Papers/Registered Reportsat...</td>\n",
       "      <td>Tue 17 May</td>\n",
       "      <td>2022-05-17 22:08:00</td>\n",
       "      <td>2022-05-17 22:15:00</td>\n",
       "      <td>7</td>\n",
       "      <td>Does This Apply to Me? An Empirical Study of T...</td>\n",
       "      <td>[Akalanka Galappaththi, Sarah Nadi, Christoph ...</td>\n",
       "      <td>0</td>\n",
       "    </tr>\n",
       "    <tr>\n",
       "      <th>3</th>\n",
       "      <td>Session 1Technical Papers/Registered Reportsat...</td>\n",
       "      <td>Tue 17 May</td>\n",
       "      <td>2022-05-17 22:15:00</td>\n",
       "      <td>2022-05-17 22:22:00</td>\n",
       "      <td>7</td>\n",
       "      <td>Towards Reliable Agile Iterative Planning via ...</td>\n",
       "      <td>[Jirat Pasuksmit, Patanamon Thongtanunam, Shan...</td>\n",
       "      <td>3</td>\n",
       "    </tr>\n",
       "    <tr>\n",
       "      <th>4</th>\n",
       "      <td>Session 1Technical Papers/Registered Reportsat...</td>\n",
       "      <td>Tue 17 May</td>\n",
       "      <td>2022-05-17 22:22:00</td>\n",
       "      <td>2022-05-17 22:29:00</td>\n",
       "      <td>7</td>\n",
       "      <td>BotHunter: An Approach to Detect Software Bots...</td>\n",
       "      <td>[Ahmad Abdellatif, Mairieli Wessel, Igor Stein...</td>\n",
       "      <td>4</td>\n",
       "    </tr>\n",
       "    <tr>\n",
       "      <th>...</th>\n",
       "      <td>...</td>\n",
       "      <td>...</td>\n",
       "      <td>...</td>\n",
       "      <td>...</td>\n",
       "      <td>...</td>\n",
       "      <td>...</td>\n",
       "      <td>...</td>\n",
       "      <td>...</td>\n",
       "    </tr>\n",
       "    <tr>\n",
       "      <th>112</th>\n",
       "      <td>Session 16: Non-functional Properties (Availab...</td>\n",
       "      <td>Fri 20 May</td>\n",
       "      <td>2022-05-20 14:07:00</td>\n",
       "      <td>2022-05-20 14:11:00</td>\n",
       "      <td>4</td>\n",
       "      <td>A Large-scale Dataset of (Open Source) License...</td>\n",
       "      <td>[Stefano Zacchiroli]</td>\n",
       "      <td>4</td>\n",
       "    </tr>\n",
       "    <tr>\n",
       "      <th>113</th>\n",
       "      <td>Session 16: Non-functional Properties (Availab...</td>\n",
       "      <td>Fri 20 May</td>\n",
       "      <td>2022-05-20 14:11:00</td>\n",
       "      <td>2022-05-20 14:18:00</td>\n",
       "      <td>7</td>\n",
       "      <td>SECOM: Towards a convention for security commi...</td>\n",
       "      <td>[Sofia Reis, Rui Abreu, Hakan Erdogmus, Corina...</td>\n",
       "      <td>4</td>\n",
       "    </tr>\n",
       "    <tr>\n",
       "      <th>114</th>\n",
       "      <td>Session 16: Non-functional Properties (Availab...</td>\n",
       "      <td>Fri 20 May</td>\n",
       "      <td>2022-05-20 14:18:00</td>\n",
       "      <td>2022-05-20 14:25:00</td>\n",
       "      <td>7</td>\n",
       "      <td>Varangian: A Git Bot for Augmented Static Anal...</td>\n",
       "      <td>[Saurabh Pujar, Yunhui Zheng, Luca Buratti, Bu...</td>\n",
       "      <td>4</td>\n",
       "    </tr>\n",
       "    <tr>\n",
       "      <th>115</th>\n",
       "      <td>Session 16: Non-functional Properties (Availab...</td>\n",
       "      <td>Fri 20 May</td>\n",
       "      <td>2022-05-20 14:32:00</td>\n",
       "      <td>2022-05-20 14:36:00</td>\n",
       "      <td>4</td>\n",
       "      <td>Is GitHub's Copilot as Bad As Humans at Introd...</td>\n",
       "      <td>[Owura Asare, Mei Nagappan, N. Asokan]</td>\n",
       "      <td>2</td>\n",
       "    </tr>\n",
       "    <tr>\n",
       "      <th>116</th>\n",
       "      <td>Session 16: Non-functional Properties (Availab...</td>\n",
       "      <td>Fri 20 May</td>\n",
       "      <td>2022-05-20 14:36:00</td>\n",
       "      <td>2022-05-20 14:43:00</td>\n",
       "      <td>7</td>\n",
       "      <td>Finding the Fun in Fundraising: Public Issues ...</td>\n",
       "      <td>[Kevin Xu]</td>\n",
       "      <td>4</td>\n",
       "    </tr>\n",
       "  </tbody>\n",
       "</table>\n",
       "<p>117 rows × 8 columns</p>\n",
       "</div>"
      ],
      "text/plain": [
       "                                               session        date  \\\n",
       "0    Session 1Technical Papers/Registered Reportsat...  Tue 17 May   \n",
       "1    Session 1Technical Papers/Registered Reportsat...  Tue 17 May   \n",
       "2    Session 1Technical Papers/Registered Reportsat...  Tue 17 May   \n",
       "3    Session 1Technical Papers/Registered Reportsat...  Tue 17 May   \n",
       "4    Session 1Technical Papers/Registered Reportsat...  Tue 17 May   \n",
       "..                                                 ...         ...   \n",
       "112  Session 16: Non-functional Properties (Availab...  Fri 20 May   \n",
       "113  Session 16: Non-functional Properties (Availab...  Fri 20 May   \n",
       "114  Session 16: Non-functional Properties (Availab...  Fri 20 May   \n",
       "115  Session 16: Non-functional Properties (Availab...  Fri 20 May   \n",
       "116  Session 16: Non-functional Properties (Availab...  Fri 20 May   \n",
       "\n",
       "             start_time            end_time  duration  \\\n",
       "0   2022-05-17 22:00:00 2022-05-17 22:04:00         4   \n",
       "1   2022-05-17 22:04:00 2022-05-17 22:08:00         4   \n",
       "2   2022-05-17 22:08:00 2022-05-17 22:15:00         7   \n",
       "3   2022-05-17 22:15:00 2022-05-17 22:22:00         7   \n",
       "4   2022-05-17 22:22:00 2022-05-17 22:29:00         7   \n",
       "..                  ...                 ...       ...   \n",
       "112 2022-05-20 14:07:00 2022-05-20 14:11:00         4   \n",
       "113 2022-05-20 14:11:00 2022-05-20 14:18:00         7   \n",
       "114 2022-05-20 14:18:00 2022-05-20 14:25:00         7   \n",
       "115 2022-05-20 14:32:00 2022-05-20 14:36:00         4   \n",
       "116 2022-05-20 14:36:00 2022-05-20 14:43:00         7   \n",
       "\n",
       "                                                 title  \\\n",
       "0    An Empirical Evaluation of GitHub Copilot’s Co...   \n",
       "1    Comments on Comments: Where Code Review and Do...   \n",
       "2    Does This Apply to Me? An Empirical Study of T...   \n",
       "3    Towards Reliable Agile Iterative Planning via ...   \n",
       "4    BotHunter: An Approach to Detect Software Bots...   \n",
       "..                                                 ...   \n",
       "112  A Large-scale Dataset of (Open Source) License...   \n",
       "113  SECOM: Towards a convention for security commi...   \n",
       "114  Varangian: A Git Bot for Augmented Static Anal...   \n",
       "115  Is GitHub's Copilot as Bad As Humans at Introd...   \n",
       "116  Finding the Fun in Fundraising: Public Issues ...   \n",
       "\n",
       "                                               authors  cluster  \n",
       "0                            [Nhan Nguyen, Sarah Nadi]        2  \n",
       "1    [Nikitha Rao, Jason Tsay, Martin Hirzel, Vince...        3  \n",
       "2    [Akalanka Galappaththi, Sarah Nadi, Christoph ...        0  \n",
       "3    [Jirat Pasuksmit, Patanamon Thongtanunam, Shan...        3  \n",
       "4    [Ahmad Abdellatif, Mairieli Wessel, Igor Stein...        4  \n",
       "..                                                 ...      ...  \n",
       "112                               [Stefano Zacchiroli]        4  \n",
       "113  [Sofia Reis, Rui Abreu, Hakan Erdogmus, Corina...        4  \n",
       "114  [Saurabh Pujar, Yunhui Zheng, Luca Buratti, Bu...        4  \n",
       "115             [Owura Asare, Mei Nagappan, N. Asokan]        2  \n",
       "116                                         [Kevin Xu]        4  \n",
       "\n",
       "[117 rows x 8 columns]"
      ]
     },
     "execution_count": 1224,
     "metadata": {},
     "output_type": "execute_result"
    }
   ],
   "source": [
    "df"
   ]
  },
  {
   "cell_type": "code",
   "execution_count": 1225,
   "id": "6217841a-4d63-40e2-b04d-4d589f88b527",
   "metadata": {
    "tags": []
   },
   "outputs": [
    {
     "data": {
      "text/html": [
       "<div>\n",
       "<style scoped>\n",
       "    .dataframe tbody tr th:only-of-type {\n",
       "        vertical-align: middle;\n",
       "    }\n",
       "\n",
       "    .dataframe tbody tr th {\n",
       "        vertical-align: top;\n",
       "    }\n",
       "\n",
       "    .dataframe thead th {\n",
       "        text-align: right;\n",
       "    }\n",
       "</style>\n",
       "<table border=\"1\" class=\"dataframe\">\n",
       "  <thead>\n",
       "    <tr style=\"text-align: right;\">\n",
       "      <th></th>\n",
       "      <th>session</th>\n",
       "      <th>date</th>\n",
       "      <th>start_time</th>\n",
       "      <th>end_time</th>\n",
       "      <th>duration</th>\n",
       "      <th>title</th>\n",
       "      <th>authors</th>\n",
       "      <th>cluster</th>\n",
       "    </tr>\n",
       "  </thead>\n",
       "  <tbody>\n",
       "    <tr>\n",
       "      <th>0</th>\n",
       "      <td>Session 1Technical Papers/Registered Reportsat...</td>\n",
       "      <td>Tue 17 May</td>\n",
       "      <td>27547080</td>\n",
       "      <td>27547084</td>\n",
       "      <td>4</td>\n",
       "      <td>An Empirical Evaluation of GitHub Copilot’s Co...</td>\n",
       "      <td>[Nhan Nguyen, Sarah Nadi]</td>\n",
       "      <td>2</td>\n",
       "    </tr>\n",
       "    <tr>\n",
       "      <th>1</th>\n",
       "      <td>Session 1Technical Papers/Registered Reportsat...</td>\n",
       "      <td>Tue 17 May</td>\n",
       "      <td>27547084</td>\n",
       "      <td>27547088</td>\n",
       "      <td>4</td>\n",
       "      <td>Comments on Comments: Where Code Review and Do...</td>\n",
       "      <td>[Nikitha Rao, Jason Tsay, Martin Hirzel, Vince...</td>\n",
       "      <td>3</td>\n",
       "    </tr>\n",
       "    <tr>\n",
       "      <th>2</th>\n",
       "      <td>Session 1Technical Papers/Registered Reportsat...</td>\n",
       "      <td>Tue 17 May</td>\n",
       "      <td>27547088</td>\n",
       "      <td>27547095</td>\n",
       "      <td>7</td>\n",
       "      <td>Does This Apply to Me? An Empirical Study of T...</td>\n",
       "      <td>[Akalanka Galappaththi, Sarah Nadi, Christoph ...</td>\n",
       "      <td>0</td>\n",
       "    </tr>\n",
       "    <tr>\n",
       "      <th>3</th>\n",
       "      <td>Session 1Technical Papers/Registered Reportsat...</td>\n",
       "      <td>Tue 17 May</td>\n",
       "      <td>27547095</td>\n",
       "      <td>27547102</td>\n",
       "      <td>7</td>\n",
       "      <td>Towards Reliable Agile Iterative Planning via ...</td>\n",
       "      <td>[Jirat Pasuksmit, Patanamon Thongtanunam, Shan...</td>\n",
       "      <td>3</td>\n",
       "    </tr>\n",
       "    <tr>\n",
       "      <th>4</th>\n",
       "      <td>Session 1Technical Papers/Registered Reportsat...</td>\n",
       "      <td>Tue 17 May</td>\n",
       "      <td>27547102</td>\n",
       "      <td>27547109</td>\n",
       "      <td>7</td>\n",
       "      <td>BotHunter: An Approach to Detect Software Bots...</td>\n",
       "      <td>[Ahmad Abdellatif, Mairieli Wessel, Igor Stein...</td>\n",
       "      <td>4</td>\n",
       "    </tr>\n",
       "  </tbody>\n",
       "</table>\n",
       "</div>"
      ],
      "text/plain": [
       "                                             session        date  start_time  \\\n",
       "0  Session 1Technical Papers/Registered Reportsat...  Tue 17 May    27547080   \n",
       "1  Session 1Technical Papers/Registered Reportsat...  Tue 17 May    27547084   \n",
       "2  Session 1Technical Papers/Registered Reportsat...  Tue 17 May    27547088   \n",
       "3  Session 1Technical Papers/Registered Reportsat...  Tue 17 May    27547095   \n",
       "4  Session 1Technical Papers/Registered Reportsat...  Tue 17 May    27547102   \n",
       "\n",
       "   end_time  duration                                              title  \\\n",
       "0  27547084         4  An Empirical Evaluation of GitHub Copilot’s Co...   \n",
       "1  27547088         4  Comments on Comments: Where Code Review and Do...   \n",
       "2  27547095         7  Does This Apply to Me? An Empirical Study of T...   \n",
       "3  27547102         7  Towards Reliable Agile Iterative Planning via ...   \n",
       "4  27547109         7  BotHunter: An Approach to Detect Software Bots...   \n",
       "\n",
       "                                             authors  cluster  \n",
       "0                          [Nhan Nguyen, Sarah Nadi]        2  \n",
       "1  [Nikitha Rao, Jason Tsay, Martin Hirzel, Vince...        3  \n",
       "2  [Akalanka Galappaththi, Sarah Nadi, Christoph ...        0  \n",
       "3  [Jirat Pasuksmit, Patanamon Thongtanunam, Shan...        3  \n",
       "4  [Ahmad Abdellatif, Mairieli Wessel, Igor Stein...        4  "
      ]
     },
     "execution_count": 1225,
     "metadata": {},
     "output_type": "execute_result"
    }
   ],
   "source": [
    "df['start_time'] = pd.to_datetime(df['start_time']).astype(int) // 10**9 // 60\n",
    "df['end_time'] = pd.to_datetime(df['end_time']).astype(int) // 10**9 // 60\n",
    "\n",
    "df.head()"
   ]
  },
  {
   "cell_type": "code",
   "execution_count": 1226,
   "id": "142cd710-2c3b-4c7d-917e-2af0dd66ac32",
   "metadata": {
    "tags": []
   },
   "outputs": [
    {
     "data": {
      "text/plain": [
       "session       object\n",
       "date          object\n",
       "start_time     int64\n",
       "end_time       int64\n",
       "duration       int64\n",
       "title         object\n",
       "authors       object\n",
       "cluster        int64\n",
       "dtype: object"
      ]
     },
     "execution_count": 1226,
     "metadata": {},
     "output_type": "execute_result"
    }
   ],
   "source": [
    "df.dtypes"
   ]
  },
  {
   "cell_type": "code",
   "execution_count": 1227,
   "id": "2cc945bd-60ef-48dd-983c-c487f194d737",
   "metadata": {
    "tags": []
   },
   "outputs": [
    {
     "name": "stdout",
     "output_type": "stream",
     "text": [
      "19\n"
     ]
    },
    {
     "data": {
      "text/plain": [
       "array(['Session 1Technical Papers/Registered ReportsatMSR Main room - even hoursChair(s):Hongyu ZhangUniversity of Newcastle,Masud RahmanDalhousie University',\n",
       "       'Session 2: Maintenance (Issues & Smells)Technical Papers/Registered Reports/Data and Tool Showcase Track/Industry TrackatMSR Main room - odd hoursChair(s):Alessio FerrariCNR-ISTI',\n",
       "       'Session 3: Introspection, Vision, and Human AspectsTechnical Papers/Data and Tool Showcase Track/Industry Track/Registered ReportsatMSR Main room - odd hoursChair(s):Alexander SerebrenikEindhoven University of Technology,Sebastian BaltesSAP SE & University of Adelaide'],\n",
       "      dtype=object)"
      ]
     },
     "execution_count": 1227,
     "metadata": {},
     "output_type": "execute_result"
    }
   ],
   "source": [
    "print(df[\"session\"].nunique())\n",
    "df[\"session\"].unique()[:3]"
   ]
  },
  {
   "cell_type": "code",
   "execution_count": 1228,
   "id": "f042e0b1-bee7-4e56-bb6a-641fbb84b0aa",
   "metadata": {
    "tags": []
   },
   "outputs": [],
   "source": [
    "# df[df[\"session\"]=='Session 1Technical Papers/Registered ReportsatMSR Main room - even hoursChair(s):Hongyu ZhangUniversity of Newcastle,Masud RahmanDalhousie University']"
   ]
  },
  {
   "cell_type": "code",
   "execution_count": 1229,
   "id": "e83cae9a-e13b-409e-9f00-d4949998db75",
   "metadata": {
    "tags": []
   },
   "outputs": [
    {
     "data": {
      "text/html": [
       "<div>\n",
       "<style scoped>\n",
       "    .dataframe tbody tr th:only-of-type {\n",
       "        vertical-align: middle;\n",
       "    }\n",
       "\n",
       "    .dataframe tbody tr th {\n",
       "        vertical-align: top;\n",
       "    }\n",
       "\n",
       "    .dataframe thead th {\n",
       "        text-align: right;\n",
       "    }\n",
       "</style>\n",
       "<table border=\"1\" class=\"dataframe\">\n",
       "  <thead>\n",
       "    <tr style=\"text-align: right;\">\n",
       "      <th></th>\n",
       "      <th>date</th>\n",
       "      <th>total_duration</th>\n",
       "    </tr>\n",
       "  </thead>\n",
       "  <tbody>\n",
       "    <tr>\n",
       "      <th>0</th>\n",
       "      <td>Fri 20 May</td>\n",
       "      <td>140</td>\n",
       "    </tr>\n",
       "    <tr>\n",
       "      <th>1</th>\n",
       "      <td>Thu 19 May</td>\n",
       "      <td>212</td>\n",
       "    </tr>\n",
       "    <tr>\n",
       "      <th>2</th>\n",
       "      <td>Tue 17 May</td>\n",
       "      <td>36</td>\n",
       "    </tr>\n",
       "    <tr>\n",
       "      <th>3</th>\n",
       "      <td>Wed 18 May</td>\n",
       "      <td>252</td>\n",
       "    </tr>\n",
       "  </tbody>\n",
       "</table>\n",
       "</div>"
      ],
      "text/plain": [
       "         date  total_duration\n",
       "0  Fri 20 May             140\n",
       "1  Thu 19 May             212\n",
       "2  Tue 17 May              36\n",
       "3  Wed 18 May             252"
      ]
     },
     "execution_count": 1229,
     "metadata": {},
     "output_type": "execute_result"
    }
   ],
   "source": [
    "def merge_intervals(intervals):\n",
    "    if not intervals:\n",
    "        return 0\n",
    "    \n",
    "    # Sort intervals by the start time\n",
    "    intervals.sort(key=lambda x: x[0])\n",
    "    \n",
    "    merged = [intervals[0]]\n",
    "    for current_start, current_end in intervals[1:]:\n",
    "        last_end = merged[-1][1]\n",
    "        \n",
    "        if current_start <= last_end:\n",
    "            # There's an overlap, extend the previous interval\n",
    "            merged[-1] = (merged[-1][0], max(last_end, current_end))\n",
    "        else:\n",
    "            # No overlap, add this interval as is\n",
    "            merged.append((current_start, current_end))\n",
    "    \n",
    "    # Compute total duration in minutes (or another unit as desired)\n",
    "    total_duration_minutes = sum((end - start) for start, end in merged)   # convert seconds to minutes\n",
    "    return total_duration_minutes\n",
    "\n",
    "total_durations = []\n",
    "\n",
    "for date, group in df.groupby('date'):\n",
    "    intervals = list(zip(group['start_time'], group['end_time']))\n",
    "    total_duration = merge_intervals(intervals)\n",
    "    total_durations.append({'date': date, 'total_duration': total_duration})\n",
    "\n",
    "# Converting the result into a DataFrame\n",
    "total_duration_df = pd.DataFrame(total_durations)\n",
    "\n",
    "total_duration_df"
   ]
  },
  {
   "cell_type": "code",
   "execution_count": 1230,
   "id": "b6d109ce-d4ce-4899-819f-87680a9c6ef9",
   "metadata": {
    "tags": []
   },
   "outputs": [
    {
     "data": {
      "text/html": [
       "<div>\n",
       "<style scoped>\n",
       "    .dataframe tbody tr th:only-of-type {\n",
       "        vertical-align: middle;\n",
       "    }\n",
       "\n",
       "    .dataframe tbody tr th {\n",
       "        vertical-align: top;\n",
       "    }\n",
       "\n",
       "    .dataframe thead th {\n",
       "        text-align: right;\n",
       "    }\n",
       "</style>\n",
       "<table border=\"1\" class=\"dataframe\">\n",
       "  <thead>\n",
       "    <tr style=\"text-align: right;\">\n",
       "      <th></th>\n",
       "      <th>date</th>\n",
       "      <th>duration</th>\n",
       "    </tr>\n",
       "  </thead>\n",
       "  <tbody>\n",
       "    <tr>\n",
       "      <th>0</th>\n",
       "      <td>Fri 20 May</td>\n",
       "      <td>140</td>\n",
       "    </tr>\n",
       "    <tr>\n",
       "      <th>1</th>\n",
       "      <td>Thu 19 May</td>\n",
       "      <td>212</td>\n",
       "    </tr>\n",
       "    <tr>\n",
       "      <th>2</th>\n",
       "      <td>Tue 17 May</td>\n",
       "      <td>36</td>\n",
       "    </tr>\n",
       "    <tr>\n",
       "      <th>3</th>\n",
       "      <td>Wed 18 May</td>\n",
       "      <td>288</td>\n",
       "    </tr>\n",
       "  </tbody>\n",
       "</table>\n",
       "</div>"
      ],
      "text/plain": [
       "         date  duration\n",
       "0  Fri 20 May       140\n",
       "1  Thu 19 May       212\n",
       "2  Tue 17 May        36\n",
       "3  Wed 18 May       288"
      ]
     },
     "execution_count": 1230,
     "metadata": {},
     "output_type": "execute_result"
    }
   ],
   "source": [
    "dates = df.groupby(\"date\")[\"duration\"].sum().reset_index()\n",
    "\n",
    "dates\n"
   ]
  },
  {
   "cell_type": "code",
   "execution_count": 1231,
   "id": "55d6b4cf-af6f-46b9-8d6c-8a1f8b4ea460",
   "metadata": {
    "tags": []
   },
   "outputs": [
    {
     "data": {
      "text/html": [
       "<div>\n",
       "<style scoped>\n",
       "    .dataframe tbody tr th:only-of-type {\n",
       "        vertical-align: middle;\n",
       "    }\n",
       "\n",
       "    .dataframe tbody tr th {\n",
       "        vertical-align: top;\n",
       "    }\n",
       "\n",
       "    .dataframe thead th {\n",
       "        text-align: right;\n",
       "    }\n",
       "</style>\n",
       "<table border=\"1\" class=\"dataframe\">\n",
       "  <thead>\n",
       "    <tr style=\"text-align: right;\">\n",
       "      <th></th>\n",
       "      <th>session</th>\n",
       "      <th>date</th>\n",
       "      <th>start_time</th>\n",
       "      <th>end_time</th>\n",
       "      <th>duration</th>\n",
       "      <th>title</th>\n",
       "      <th>authors</th>\n",
       "      <th>cluster</th>\n",
       "    </tr>\n",
       "  </thead>\n",
       "  <tbody>\n",
       "    <tr>\n",
       "      <th>0</th>\n",
       "      <td>Session 1Technical Papers/Registered Reportsat...</td>\n",
       "      <td>Tue 17 May</td>\n",
       "      <td>27547080</td>\n",
       "      <td>27547084</td>\n",
       "      <td>4</td>\n",
       "      <td>An Empirical Evaluation of GitHub Copilot’s Co...</td>\n",
       "      <td>[Nhan Nguyen, Sarah Nadi]</td>\n",
       "      <td>2</td>\n",
       "    </tr>\n",
       "    <tr>\n",
       "      <th>1</th>\n",
       "      <td>Session 1Technical Papers/Registered Reportsat...</td>\n",
       "      <td>Tue 17 May</td>\n",
       "      <td>27547084</td>\n",
       "      <td>27547088</td>\n",
       "      <td>4</td>\n",
       "      <td>Comments on Comments: Where Code Review and Do...</td>\n",
       "      <td>[Nikitha Rao, Jason Tsay, Martin Hirzel, Vince...</td>\n",
       "      <td>3</td>\n",
       "    </tr>\n",
       "    <tr>\n",
       "      <th>2</th>\n",
       "      <td>Session 1Technical Papers/Registered Reportsat...</td>\n",
       "      <td>Tue 17 May</td>\n",
       "      <td>27547088</td>\n",
       "      <td>27547095</td>\n",
       "      <td>7</td>\n",
       "      <td>Does This Apply to Me? An Empirical Study of T...</td>\n",
       "      <td>[Akalanka Galappaththi, Sarah Nadi, Christoph ...</td>\n",
       "      <td>0</td>\n",
       "    </tr>\n",
       "    <tr>\n",
       "      <th>3</th>\n",
       "      <td>Session 1Technical Papers/Registered Reportsat...</td>\n",
       "      <td>Tue 17 May</td>\n",
       "      <td>27547095</td>\n",
       "      <td>27547102</td>\n",
       "      <td>7</td>\n",
       "      <td>Towards Reliable Agile Iterative Planning via ...</td>\n",
       "      <td>[Jirat Pasuksmit, Patanamon Thongtanunam, Shan...</td>\n",
       "      <td>3</td>\n",
       "    </tr>\n",
       "    <tr>\n",
       "      <th>4</th>\n",
       "      <td>Session 1Technical Papers/Registered Reportsat...</td>\n",
       "      <td>Tue 17 May</td>\n",
       "      <td>27547102</td>\n",
       "      <td>27547109</td>\n",
       "      <td>7</td>\n",
       "      <td>BotHunter: An Approach to Detect Software Bots...</td>\n",
       "      <td>[Ahmad Abdellatif, Mairieli Wessel, Igor Stein...</td>\n",
       "      <td>4</td>\n",
       "    </tr>\n",
       "  </tbody>\n",
       "</table>\n",
       "</div>"
      ],
      "text/plain": [
       "                                             session        date  start_time  \\\n",
       "0  Session 1Technical Papers/Registered Reportsat...  Tue 17 May    27547080   \n",
       "1  Session 1Technical Papers/Registered Reportsat...  Tue 17 May    27547084   \n",
       "2  Session 1Technical Papers/Registered Reportsat...  Tue 17 May    27547088   \n",
       "3  Session 1Technical Papers/Registered Reportsat...  Tue 17 May    27547095   \n",
       "4  Session 1Technical Papers/Registered Reportsat...  Tue 17 May    27547102   \n",
       "\n",
       "   end_time  duration                                              title  \\\n",
       "0  27547084         4  An Empirical Evaluation of GitHub Copilot’s Co...   \n",
       "1  27547088         4  Comments on Comments: Where Code Review and Do...   \n",
       "2  27547095         7  Does This Apply to Me? An Empirical Study of T...   \n",
       "3  27547102         7  Towards Reliable Agile Iterative Planning via ...   \n",
       "4  27547109         7  BotHunter: An Approach to Detect Software Bots...   \n",
       "\n",
       "                                             authors  cluster  \n",
       "0                          [Nhan Nguyen, Sarah Nadi]        2  \n",
       "1  [Nikitha Rao, Jason Tsay, Martin Hirzel, Vince...        3  \n",
       "2  [Akalanka Galappaththi, Sarah Nadi, Christoph ...        0  \n",
       "3  [Jirat Pasuksmit, Patanamon Thongtanunam, Shan...        3  \n",
       "4  [Ahmad Abdellatif, Mairieli Wessel, Igor Stein...        4  "
      ]
     },
     "execution_count": 1231,
     "metadata": {},
     "output_type": "execute_result"
    }
   ],
   "source": [
    "df.head(5)"
   ]
  },
  {
   "cell_type": "code",
   "execution_count": 1232,
   "id": "928d79e2-8ee0-44e7-83e8-6db5b673a6eb",
   "metadata": {
    "tags": []
   },
   "outputs": [
    {
     "data": {
      "text/plain": [
       "cluster\n",
       "4    30\n",
       "3    27\n",
       "2    22\n",
       "0    19\n",
       "1    19\n",
       "Name: count, dtype: int64"
      ]
     },
     "execution_count": 1232,
     "metadata": {},
     "output_type": "execute_result"
    }
   ],
   "source": [
    "df.cluster.value_counts()"
   ]
  },
  {
   "cell_type": "code",
   "execution_count": 1233,
   "id": "f67c97de-940e-4a13-ae7a-d8350d9a57b6",
   "metadata": {
    "tags": []
   },
   "outputs": [
    {
     "data": {
      "text/plain": [
       "2"
      ]
     },
     "execution_count": 1233,
     "metadata": {},
     "output_type": "execute_result"
    }
   ],
   "source": [
    "df.iloc[0]['cluster']"
   ]
  },
  {
   "cell_type": "code",
   "execution_count": 1234,
   "id": "f0f6a987-1baa-4268-bf24-d807a8662a90",
   "metadata": {
    "tags": []
   },
   "outputs": [],
   "source": [
    "# common_cluster_matrix = pd.DataFrame(np.zeros((len(df), len(df)), dtype=int), index=df['title'], columns=df['title'])\n",
    "common_cluster_pairs = {}\n",
    "\n",
    "# Populate the matrix\n",
    "for i in range(len(df)):\n",
    "    for j in range(len(df)):\n",
    "        # Intersect authors lists, if not empty set cell to 1\n",
    "        if i!=j and df.iloc[i]['cluster'] == df.iloc[j]['cluster']:\n",
    "            common_cluster_pairs[(i,j)] = 1\n",
    "\n",
    "# common_cluster_pairs"
   ]
  },
  {
   "cell_type": "code",
   "execution_count": 1235,
   "id": "ddf35db5-56ee-44b7-8e10-c4d8825dd0e5",
   "metadata": {
    "tags": []
   },
   "outputs": [],
   "source": [
    "common_author_matrix = pd.DataFrame(np.zeros((len(df), len(df)), dtype=int), index=df['title'], columns=df['title'])\n",
    "\n",
    "# Populate the matrix\n",
    "for i in range(len(df)):\n",
    "    for j in range(len(df)):\n",
    "        # Intersect authors lists, if not empty set cell to 1\n",
    "        if set(df.iloc[i]['authors']) & set(df.iloc[j]['authors']):\n",
    "            common_author_matrix.iloc[i, j] = 1\n",
    "\n",
    "# common_author_matrix.head()"
   ]
  },
  {
   "cell_type": "code",
   "execution_count": 1236,
   "id": "138661e2-6731-43f4-aebf-9604090009a0",
   "metadata": {
    "tags": []
   },
   "outputs": [
    {
     "data": {
      "text/html": [
       "<div>\n",
       "<style scoped>\n",
       "    .dataframe tbody tr th:only-of-type {\n",
       "        vertical-align: middle;\n",
       "    }\n",
       "\n",
       "    .dataframe tbody tr th {\n",
       "        vertical-align: top;\n",
       "    }\n",
       "\n",
       "    .dataframe thead th {\n",
       "        text-align: right;\n",
       "    }\n",
       "</style>\n",
       "<table border=\"1\" class=\"dataframe\">\n",
       "  <thead>\n",
       "    <tr style=\"text-align: right;\">\n",
       "      <th></th>\n",
       "      <th>title</th>\n",
       "      <th>authors</th>\n",
       "      <th>duration</th>\n",
       "    </tr>\n",
       "  </thead>\n",
       "  <tbody>\n",
       "    <tr>\n",
       "      <th>0</th>\n",
       "      <td>An Empirical Evaluation of GitHub Copilot’s Co...</td>\n",
       "      <td>[Nhan Nguyen, Sarah Nadi]</td>\n",
       "      <td>4</td>\n",
       "    </tr>\n",
       "    <tr>\n",
       "      <th>1</th>\n",
       "      <td>Comments on Comments: Where Code Review and Do...</td>\n",
       "      <td>[Nikitha Rao, Jason Tsay, Martin Hirzel, Vince...</td>\n",
       "      <td>4</td>\n",
       "    </tr>\n",
       "    <tr>\n",
       "      <th>2</th>\n",
       "      <td>Does This Apply to Me? An Empirical Study of T...</td>\n",
       "      <td>[Akalanka Galappaththi, Sarah Nadi, Christoph ...</td>\n",
       "      <td>7</td>\n",
       "    </tr>\n",
       "    <tr>\n",
       "      <th>3</th>\n",
       "      <td>Towards Reliable Agile Iterative Planning via ...</td>\n",
       "      <td>[Jirat Pasuksmit, Patanamon Thongtanunam, Shan...</td>\n",
       "      <td>7</td>\n",
       "    </tr>\n",
       "    <tr>\n",
       "      <th>4</th>\n",
       "      <td>BotHunter: An Approach to Detect Software Bots...</td>\n",
       "      <td>[Ahmad Abdellatif, Mairieli Wessel, Igor Stein...</td>\n",
       "      <td>7</td>\n",
       "    </tr>\n",
       "  </tbody>\n",
       "</table>\n",
       "</div>"
      ],
      "text/plain": [
       "                                               title  \\\n",
       "0  An Empirical Evaluation of GitHub Copilot’s Co...   \n",
       "1  Comments on Comments: Where Code Review and Do...   \n",
       "2  Does This Apply to Me? An Empirical Study of T...   \n",
       "3  Towards Reliable Agile Iterative Planning via ...   \n",
       "4  BotHunter: An Approach to Detect Software Bots...   \n",
       "\n",
       "                                             authors  duration  \n",
       "0                          [Nhan Nguyen, Sarah Nadi]         4  \n",
       "1  [Nikitha Rao, Jason Tsay, Martin Hirzel, Vince...         4  \n",
       "2  [Akalanka Galappaththi, Sarah Nadi, Christoph ...         7  \n",
       "3  [Jirat Pasuksmit, Patanamon Thongtanunam, Shan...         7  \n",
       "4  [Ahmad Abdellatif, Mairieli Wessel, Igor Stein...         7  "
      ]
     },
     "execution_count": 1236,
     "metadata": {},
     "output_type": "execute_result"
    }
   ],
   "source": [
    "papers = df[[\"title\",\"authors\",\"duration\"]].reset_index(drop=True)\n",
    "papers.head()"
   ]
  },
  {
   "cell_type": "code",
   "execution_count": 1237,
   "id": "82b70281-d7bd-4e08-8864-4e42e517e510",
   "metadata": {
    "tags": []
   },
   "outputs": [
    {
     "data": {
      "text/html": [
       "<div>\n",
       "<style scoped>\n",
       "    .dataframe tbody tr th:only-of-type {\n",
       "        vertical-align: middle;\n",
       "    }\n",
       "\n",
       "    .dataframe tbody tr th {\n",
       "        vertical-align: top;\n",
       "    }\n",
       "\n",
       "    .dataframe thead th {\n",
       "        text-align: right;\n",
       "    }\n",
       "</style>\n",
       "<table border=\"1\" class=\"dataframe\">\n",
       "  <thead>\n",
       "    <tr style=\"text-align: right;\">\n",
       "      <th></th>\n",
       "      <th>session</th>\n",
       "      <th>date</th>\n",
       "      <th>start_time</th>\n",
       "      <th>end_time</th>\n",
       "      <th>duration</th>\n",
       "      <th>title</th>\n",
       "      <th>authors</th>\n",
       "      <th>cluster</th>\n",
       "    </tr>\n",
       "  </thead>\n",
       "  <tbody>\n",
       "    <tr>\n",
       "      <th>0</th>\n",
       "      <td>Session 1Technical Papers/Registered Reportsat...</td>\n",
       "      <td>Tue 17 May</td>\n",
       "      <td>27547080</td>\n",
       "      <td>27547084</td>\n",
       "      <td>4</td>\n",
       "      <td>An Empirical Evaluation of GitHub Copilot’s Co...</td>\n",
       "      <td>[Nhan Nguyen, Sarah Nadi]</td>\n",
       "      <td>2</td>\n",
       "    </tr>\n",
       "    <tr>\n",
       "      <th>1</th>\n",
       "      <td>Session 1Technical Papers/Registered Reportsat...</td>\n",
       "      <td>Tue 17 May</td>\n",
       "      <td>27547084</td>\n",
       "      <td>27547088</td>\n",
       "      <td>4</td>\n",
       "      <td>Comments on Comments: Where Code Review and Do...</td>\n",
       "      <td>[Nikitha Rao, Jason Tsay, Martin Hirzel, Vince...</td>\n",
       "      <td>3</td>\n",
       "    </tr>\n",
       "    <tr>\n",
       "      <th>2</th>\n",
       "      <td>Session 1Technical Papers/Registered Reportsat...</td>\n",
       "      <td>Tue 17 May</td>\n",
       "      <td>27547088</td>\n",
       "      <td>27547095</td>\n",
       "      <td>7</td>\n",
       "      <td>Does This Apply to Me? An Empirical Study of T...</td>\n",
       "      <td>[Akalanka Galappaththi, Sarah Nadi, Christoph ...</td>\n",
       "      <td>0</td>\n",
       "    </tr>\n",
       "    <tr>\n",
       "      <th>3</th>\n",
       "      <td>Session 1Technical Papers/Registered Reportsat...</td>\n",
       "      <td>Tue 17 May</td>\n",
       "      <td>27547095</td>\n",
       "      <td>27547102</td>\n",
       "      <td>7</td>\n",
       "      <td>Towards Reliable Agile Iterative Planning via ...</td>\n",
       "      <td>[Jirat Pasuksmit, Patanamon Thongtanunam, Shan...</td>\n",
       "      <td>3</td>\n",
       "    </tr>\n",
       "    <tr>\n",
       "      <th>4</th>\n",
       "      <td>Session 1Technical Papers/Registered Reportsat...</td>\n",
       "      <td>Tue 17 May</td>\n",
       "      <td>27547102</td>\n",
       "      <td>27547109</td>\n",
       "      <td>7</td>\n",
       "      <td>BotHunter: An Approach to Detect Software Bots...</td>\n",
       "      <td>[Ahmad Abdellatif, Mairieli Wessel, Igor Stein...</td>\n",
       "      <td>4</td>\n",
       "    </tr>\n",
       "  </tbody>\n",
       "</table>\n",
       "</div>"
      ],
      "text/plain": [
       "                                             session        date  start_time  \\\n",
       "0  Session 1Technical Papers/Registered Reportsat...  Tue 17 May    27547080   \n",
       "1  Session 1Technical Papers/Registered Reportsat...  Tue 17 May    27547084   \n",
       "2  Session 1Technical Papers/Registered Reportsat...  Tue 17 May    27547088   \n",
       "3  Session 1Technical Papers/Registered Reportsat...  Tue 17 May    27547095   \n",
       "4  Session 1Technical Papers/Registered Reportsat...  Tue 17 May    27547102   \n",
       "\n",
       "   end_time  duration                                              title  \\\n",
       "0  27547084         4  An Empirical Evaluation of GitHub Copilot’s Co...   \n",
       "1  27547088         4  Comments on Comments: Where Code Review and Do...   \n",
       "2  27547095         7  Does This Apply to Me? An Empirical Study of T...   \n",
       "3  27547102         7  Towards Reliable Agile Iterative Planning via ...   \n",
       "4  27547109         7  BotHunter: An Approach to Detect Software Bots...   \n",
       "\n",
       "                                             authors  cluster  \n",
       "0                          [Nhan Nguyen, Sarah Nadi]        2  \n",
       "1  [Nikitha Rao, Jason Tsay, Martin Hirzel, Vince...        3  \n",
       "2  [Akalanka Galappaththi, Sarah Nadi, Christoph ...        0  \n",
       "3  [Jirat Pasuksmit, Patanamon Thongtanunam, Shan...        3  \n",
       "4  [Ahmad Abdellatif, Mairieli Wessel, Igor Stein...        4  "
      ]
     },
     "execution_count": 1237,
     "metadata": {},
     "output_type": "execute_result"
    }
   ],
   "source": [
    "df.head()"
   ]
  },
  {
   "cell_type": "code",
   "execution_count": 1238,
   "id": "1194ed89-d8f9-48fc-87b3-5cb62860edfa",
   "metadata": {
    "tags": []
   },
   "outputs": [
    {
     "data": {
      "text/plain": [
       "session\n",
       "HackathonHackathon/Technical PapersatMSR Main room - odd hoursChair(s):Gregorio RoblesUniversidad Rey Juan Carlos,Jesus M. Gonzalez-BarahonaUniversidad Rey Juan Carlos,Maëlick ClaesUniversity of Oulu    30\n",
       "Mining ChallengeMining Challenge/Technical PapersatMSR Main room - even hoursChair(s):Steffen HerboldTU Clausthal                                                                                          28\n",
       "Session 10: SecurityTechnical Papers/Data and Tool Showcase Track/Registered ReportsatMSR Main room - odd hoursChair(s):Triet Le Huynh MinhThe University of Adelaide                                      34\n",
       "Session 11: Machine Learning & Information RetrievalTechnical PapersatMSR Main room - odd hoursChair(s):Phuong T. NguyenUniversity of L’Aquila                                                             39\n",
       "Session 12: Integration & Large-Scale MiningTechnical Papers/Data and Tool Showcase TrackatMSR Main room - even hoursChair(s):Jin L.C. GuoMcGill University,Amjed TahirMassey University                   36\n",
       "Name: duration, dtype: int64"
      ]
     },
     "execution_count": 1238,
     "metadata": {},
     "output_type": "execute_result"
    }
   ],
   "source": [
    "sessions = df.groupby(\"session\")[\"duration\"].sum()\n",
    "\n",
    "sessions.head()\n"
   ]
  },
  {
   "cell_type": "code",
   "execution_count": 1239,
   "id": "8f9f37e5-1377-4a24-aeec-f0fbe35c9325",
   "metadata": {
    "tags": []
   },
   "outputs": [
    {
     "data": {
      "text/plain": [
       "array([30, 28, 34, 39, 36, 36, 36, 38, 36, 36, 33, 33, 36, 34, 37, 37, 37,\n",
       "       30, 50])"
      ]
     },
     "execution_count": 1239,
     "metadata": {},
     "output_type": "execute_result"
    }
   ],
   "source": [
    "df.groupby(\"session\")[\"duration\"].sum().values"
   ]
  },
  {
   "cell_type": "code",
   "execution_count": 1240,
   "id": "64da635a-9834-4f24-8689-32a13e970160",
   "metadata": {
    "tags": []
   },
   "outputs": [
    {
     "data": {
      "text/plain": [
       "array([6, 7, 7, 6, 6, 6, 6, 8, 6, 6, 6, 6, 6, 7, 7, 7, 7, 6, 1])"
      ]
     },
     "execution_count": 1240,
     "metadata": {},
     "output_type": "execute_result"
    }
   ],
   "source": [
    "df.groupby(\"session\").size().values"
   ]
  },
  {
   "cell_type": "code",
   "execution_count": 1241,
   "id": "5d8e5e0a-03ee-4200-b65b-e9667dab0d1d",
   "metadata": {
    "tags": []
   },
   "outputs": [],
   "source": [
    "# df.session.value_counts()"
   ]
  },
  {
   "cell_type": "code",
   "execution_count": 1242,
   "id": "d5c46f44-11da-47c9-963f-d39d38995e8a",
   "metadata": {
    "tags": []
   },
   "outputs": [
    {
     "data": {
      "text/html": [
       "<div>\n",
       "<style scoped>\n",
       "    .dataframe tbody tr th:only-of-type {\n",
       "        vertical-align: middle;\n",
       "    }\n",
       "\n",
       "    .dataframe tbody tr th {\n",
       "        vertical-align: top;\n",
       "    }\n",
       "\n",
       "    .dataframe thead th {\n",
       "        text-align: right;\n",
       "    }\n",
       "</style>\n",
       "<table border=\"1\" class=\"dataframe\">\n",
       "  <thead>\n",
       "    <tr style=\"text-align: right;\">\n",
       "      <th></th>\n",
       "      <th>session</th>\n",
       "      <th>date</th>\n",
       "      <th>start_time</th>\n",
       "      <th>end_time</th>\n",
       "      <th>duration</th>\n",
       "      <th>title</th>\n",
       "      <th>authors</th>\n",
       "      <th>cluster</th>\n",
       "    </tr>\n",
       "  </thead>\n",
       "  <tbody>\n",
       "    <tr>\n",
       "      <th>31</th>\n",
       "      <td>Tutorial: Empirical Standards for Repository M...</td>\n",
       "      <td>Wed 18 May</td>\n",
       "      <td>27547980</td>\n",
       "      <td>27548030</td>\n",
       "      <td>50</td>\n",
       "      <td>Empirical Standards for Repository Mining</td>\n",
       "      <td>[Paul Ralph, Tushar Sharma, Preetha Chatterjee]</td>\n",
       "      <td>3</td>\n",
       "    </tr>\n",
       "  </tbody>\n",
       "</table>\n",
       "</div>"
      ],
      "text/plain": [
       "                                              session        date  start_time  \\\n",
       "31  Tutorial: Empirical Standards for Repository M...  Wed 18 May    27547980   \n",
       "\n",
       "    end_time  duration                                      title  \\\n",
       "31  27548030        50  Empirical Standards for Repository Mining   \n",
       "\n",
       "                                            authors  cluster  \n",
       "31  [Paul Ralph, Tushar Sharma, Preetha Chatterjee]        3  "
      ]
     },
     "execution_count": 1242,
     "metadata": {},
     "output_type": "execute_result"
    }
   ],
   "source": [
    "df[df.session=='Tutorial: Empirical Standards for Repository MiningTutorialsatMSR Tutorials room']"
   ]
  },
  {
   "cell_type": "code",
   "execution_count": 1243,
   "id": "171a83ea-beee-49c2-ae17-04ae018a55f2",
   "metadata": {
    "tags": []
   },
   "outputs": [],
   "source": [
    "# Assumption of variables for illustration\n",
    "num_sessions = len(sessions)  # Number of sessions as defined by PC chairs\n",
    "session_lengths = sessions.values  # Length of each session in minutes\n",
    "# num_tracks = 1 # FOR NOW, ASSUME WE ONLY HAVE A SINGLE TRACK"
   ]
  },
  {
   "cell_type": "code",
   "execution_count": 1244,
   "id": "4b2ab463-554a-4794-92a9-8a3e3a89ed56",
   "metadata": {
    "tags": []
   },
   "outputs": [
    {
     "data": {
      "text/plain": [
       "117"
      ]
     },
     "execution_count": 1244,
     "metadata": {},
     "output_type": "execute_result"
    }
   ],
   "source": [
    "len(papers)"
   ]
  },
  {
   "cell_type": "code",
   "execution_count": 1245,
   "id": "16df75f8-8fca-41bf-b92d-0b9fce8c0497",
   "metadata": {
    "tags": []
   },
   "outputs": [],
   "source": [
    "# Initiate the problem\n",
    "\n",
    "\n",
    "from pulp import *\n",
    "import numpy as np\n",
    "\n",
    "\n",
    "prob = LpProblem(\"Conference_Schedule_Optimization\", LpMaximize)\n",
    "\n",
    "# Decision variables\n",
    "x = LpVariable.dicts(\"schedule\", \n",
    "                            ((i, j) \n",
    "                             for i in range(len(papers)) # paper number\n",
    "                             for j in range(num_sessions) # session number\n",
    "                            ) \n",
    "                            ,cat='Binary' # to make it efficient\n",
    "                       )\n",
    "z = LpVariable.dicts('product', ((i,j,m,n)\n",
    "                                  for i in range(len(papers))\n",
    "                                  for j in range(len(papers))\n",
    "                                  for m in range(num_sessions)\n",
    "                                  for n in range(num_sessions)\n",
    "                                 \n",
    "                                )\n",
    "                                 , 0, 1, cat='Continuous')\n",
    "\n",
    "obj = lpSum(common_cluster_pairs[pair] * z[(pair[0], pair[1],j, j)]\n",
    "             for pair in common_cluster_pairs\n",
    "             for j in range(num_sessions)\n",
    "             )\n",
    "\n",
    "prob += obj\n",
    "\n",
    "\n",
    "for pair in common_cluster_pairs:\n",
    "    for j in range(num_sessions):\n",
    "        prob += z[(pair[0], pair[1], j, j)] >= x[(pair[0],j)] + x[(pair[1],j)] - 1\n",
    "        prob += z[(pair[0], pair[1], j, j)] <= x[(pair[0],j)]\n",
    "        prob += z[(pair[0], pair[1], j, j)] <=  x[(pair[1],j)]\n",
    "\n",
    "# start_times = LpVariable.dicts(\"start_times\", \n",
    "#                             (i \n",
    "#                              for i in range(len(papers)) # paper number\n",
    "#                             ) # start time\n",
    "#                             ,cat='Continuous'\n",
    "#                        )\n",
    "# end_times = LpVariable.dicts(\"end_times\", \n",
    "#                             (i \n",
    "#                              for i in range(len(papers)) # paper number\n",
    "#                             ) # end time\n",
    "#                             ,cat='Continuous'\n",
    "#                        )\n",
    "\n",
    "# Objective function: For the basic structure, we make it a dummy one as our main focus is on satisfying constraints\n",
    "# prob += 0, \"ArbitraryObjective\"\n"
   ]
  },
  {
   "cell_type": "code",
   "execution_count": 1246,
   "id": "50ae4084-2c0e-4294-b204-39bfc6525526",
   "metadata": {
    "tags": []
   },
   "outputs": [
    {
     "data": {
      "text/plain": [
       "117"
      ]
     },
     "execution_count": 1246,
     "metadata": {},
     "output_type": "execute_result"
    }
   ],
   "source": [
    "len(papers)"
   ]
  },
  {
   "cell_type": "code",
   "execution_count": 1247,
   "id": "d5563490-99ae-47b0-bc60-3ecac52e80de",
   "metadata": {
    "tags": []
   },
   "outputs": [],
   "source": [
    "# give some flexibility by adding a few mins as a buffer since we removed all QA sessions\n",
    "session_lengths_extended = [i + 10 for i in session_lengths]"
   ]
  },
  {
   "cell_type": "code",
   "execution_count": 1248,
   "id": "41199e73-91f6-4d67-abea-f9a5bde4df5e",
   "metadata": {
    "tags": []
   },
   "outputs": [
    {
     "data": {
      "text/plain": [
       "[40, 38, 44, 49, 46, 46, 46, 48, 46, 46, 43, 43, 46, 44, 47, 47, 47, 40, 60]"
      ]
     },
     "execution_count": 1248,
     "metadata": {},
     "output_type": "execute_result"
    }
   ],
   "source": [
    "session_lengths_extended"
   ]
  },
  {
   "cell_type": "code",
   "execution_count": 1249,
   "id": "8e2fa6fa-b911-42d8-8757-c490ca0d1fce",
   "metadata": {
    "tags": []
   },
   "outputs": [],
   "source": [
    "for i in range(len(papers)):\n",
    "    for j in range(num_sessions):\n",
    "            prob += x[(i, j)] >= 0\n",
    "            prob += x[(i, j)] <= 1\n",
    "\n",
    "\n",
    "# Ensure each paper is scheduled exactly once\n",
    "for i in range(len(papers)):\n",
    "    prob += lpSum(x[(i, j)] for j in range(num_sessions)) == 1, f\"One_placement_paper_{i}\"\n",
    "\n",
    "# Do not exceed session length\n",
    "for j in range(num_sessions):\n",
    "    prob += lpSum(x[(i, j)] * papers.loc[i][\"duration\"] for i in range(len(papers))) <= session_lengths_extended[j], f\"Session_length_limit_{j}\"\n"
   ]
  },
  {
   "cell_type": "code",
   "execution_count": 1250,
   "id": "ee85e306-859c-4d97-ad63-72b80d7cc7e9",
   "metadata": {
    "tags": []
   },
   "outputs": [
    {
     "data": {
      "text/plain": [
       "['PULP_CBC_CMD']"
      ]
     },
     "execution_count": 1250,
     "metadata": {},
     "output_type": "execute_result"
    }
   ],
   "source": [
    "listSolvers(onlyAvailable=True)"
   ]
  },
  {
   "cell_type": "code",
   "execution_count": 1251,
   "id": "f9dd9cc3-e923-494e-8362-cc44f952d84e",
   "metadata": {
    "tags": []
   },
   "outputs": [
    {
     "name": "stdout",
     "output_type": "stream",
     "text": [
      "Welcome to the CBC MILP Solver \n",
      "Version: 2.10.3 \n",
      "Build Date: Dec 15 2019 \n",
      "\n",
      "command line - /opt/conda/lib/python3.10/site-packages/pulp/solverdir/cbc/linux/64/cbc /var/tmp/537b156849274e5e8d4c4037102dd7a9-pulp.mps -max -sec 2000 -timeMode elapsed -branch -printingOptions all -solution /var/tmp/537b156849274e5e8d4c4037102dd7a9-pulp.sol (default strategy 1)\n",
      "At line 2 NAME          MODEL\n",
      "At line 3 ROWS\n",
      "At line 159513 COLUMNS\n",
      "At line 585988 RHS\n",
      "At line 745497 BOUNDS\n",
      "At line 799363 ENDATA\n",
      "Problem MODEL has 159508 rows, 53865 columns and 370386 elements\n",
      "Coin0008I MODEL read with 0 errors\n",
      "seconds was changed from 1e+100 to 2000\n",
      "Option for timeMode changed from cpu to elapsed\n",
      "Continuous objective value is 2718 - 65.34 seconds\n",
      "Cgl0003I 1794 fixed, 0 tightened bounds, 4587 strengthened rows, 7346 substitutions\n",
      "Cgl0003I 0 fixed, 0 tightened bounds, 14072 strengthened rows, 2087 substitutions\n",
      "Cgl0003I 0 fixed, 0 tightened bounds, 5791 strengthened rows, 3302 substitutions\n",
      "Cgl0003I 0 fixed, 0 tightened bounds, 7061 strengthened rows, 3498 substitutions\n",
      "Cgl0003I 0 fixed, 0 tightened bounds, 6764 strengthened rows, 1738 substitutions\n",
      "Cgl0003I 0 fixed, 0 tightened bounds, 6997 strengthened rows, 1062 substitutions\n",
      "Cgl0003I 0 fixed, 0 tightened bounds, 8443 strengthened rows, 952 substitutions\n",
      "Cgl0003I 0 fixed, 0 tightened bounds, 8921 strengthened rows, 762 substitutions\n",
      "Cgl0003I 0 fixed, 0 tightened bounds, 9173 strengthened rows, 2784 substitutions\n",
      "Cgl0003I 0 fixed, 0 tightened bounds, 9623 strengthened rows, 3406 substitutions\n",
      "Cgl0004I processed model has 118844 rows, 40342 columns (40342 integer (40342 of which binary)) and 352248 elements\n",
      "Cutoff increment increased from 1e-05 to 0.9999\n",
      "Cbc0038I Initial state - 453 integers unsatisfied sum - 115.374\n",
      "Cbc0038I Pass   1: (244.91 seconds) suminf.    2.07143 (7) obj. -284.143 iterations 38070\n",
      "Cbc0038I Pass   2: (245.06 seconds) suminf.    1.57143 (7) obj. -282.214 iterations 440\n",
      "Cbc0038I Pass   3: (245.23 seconds) suminf.    1.25714 (5) obj. -265.714 iterations 511\n",
      "Cbc0038I Pass   4: (245.39 seconds) suminf.    0.97143 (6) obj. -267.2 iterations 417\n",
      "Cbc0038I Pass   5: (245.50 seconds) suminf.    1.08571 (5) obj. -266.914 iterations 300\n",
      "Cbc0038I Pass   6: (245.61 seconds) suminf.    0.97143 (6) obj. -267.486 iterations 293\n",
      "Cbc0038I Pass   7: (245.70 seconds) suminf.    0.40000 (2) obj. -269.2 iterations 156\n",
      "Cbc0038I Pass   8: (245.79 seconds) suminf.    0.20000 (1) obj. -268 iterations 65\n",
      "Cbc0038I Pass   9: (245.87 seconds) suminf.    0.40000 (1) obj. -268 iterations 180\n",
      "Cbc0038I Pass  10: (247.37 seconds) suminf.    3.04286 (10) obj. -138.386 iterations 5822\n",
      "Cbc0038I Pass  11: (247.66 seconds) suminf.    2.14286 (8) obj. -141.429 iterations 1191\n",
      "Cbc0038I Pass  12: (247.75 seconds) suminf.    0.00000 (0) obj. -140 iterations 156\n",
      "Cbc0038I Solution found of -140\n",
      "Cbc0038I Before mini branch and bound, 1554 integers at bound fixed and 27352 continuous\n",
      "Cbc0038I Full problem 118844 rows 40342 columns, reduced to 33659 rows 11428 columns\n",
      "Cbc0038I Mini branch and bound did not improve solution (271.84 seconds)\n",
      "Cbc0038I Round again with cutoff of -393.5\n",
      "Cbc0038I Pass  13: (296.24 seconds) suminf.    9.61205 (44) obj. -393.5 iterations 3270\n",
      "Cbc0038I Pass  14: (314.83 seconds) suminf.    3.81992 (33) obj. -393.5 iterations 15527\n",
      "Cbc0038I Pass  15: (321.82 seconds) suminf.    2.84861 (15) obj. -393.5 iterations 7971\n",
      "Cbc0038I Pass  16: (330.22 seconds) suminf.    1.07509 (105) obj. -393.5 iterations 6304\n",
      "Cbc0038I Pass  17: (342.20 seconds) suminf.    2.12863 (16) obj. -393.5 iterations 10015\n",
      "Cbc0038I Pass  18: (347.94 seconds) suminf.    0.21649 (48) obj. -393.5 iterations 4359\n",
      "Cbc0038I Pass  19: (353.10 seconds) suminf.    1.64286 (6) obj. -401.071 iterations 10090\n",
      "Cbc0038I Pass  20: (353.65 seconds) suminf.    0.57143 (2) obj. -398 iterations 741\n",
      "Cbc0038I Pass  21: (353.74 seconds) suminf.    0.85714 (2) obj. -398 iterations 35\n",
      "Cbc0038I Pass  22: (372.11 seconds) suminf.   29.36135 (138) obj. -393.5 iterations 21740\n",
      "Cbc0038I Pass  23: (387.50 seconds) suminf.    7.58929 (31) obj. -393.5 iterations 15732\n",
      "Cbc0038I Pass  24: (395.91 seconds) suminf.    5.57143 (36) obj. -393.5 iterations 9711\n",
      "Cbc0038I Pass  25: (401.90 seconds) suminf.    5.00000 (35) obj. -393.5 iterations 5969\n",
      "Cbc0038I Pass  26: (408.25 seconds) suminf.    2.36788 (10) obj. -393.5 iterations 6887\n",
      "Cbc0038I Pass  27: (417.17 seconds) suminf.    0.69079 (3) obj. -393.5 iterations 6971\n",
      "Cbc0038I Pass  28: (421.69 seconds) suminf.    1.25714 (3) obj. -398.514 iterations 9515\n",
      "Cbc0038I Pass  29: (431.30 seconds) suminf.    0.22308 (77) obj. -393.5 iterations 12701\n",
      "Cbc0038I Pass  30: (442.03 seconds) suminf.   15.92707 (46) obj. -393.5 iterations 13180\n",
      "Cbc0038I Pass  31: (447.04 seconds) suminf.   10.91615 (31) obj. -393.5 iterations 5624\n",
      "Cbc0038I Pass  32: (456.97 seconds) suminf.    5.67859 (16) obj. -393.5 iterations 10044\n",
      "Cbc0038I Pass  33: (458.38 seconds) suminf.    4.54755 (17) obj. -393.5 iterations 1501\n",
      "Cbc0038I Pass  34: (459.91 seconds) suminf.    3.55325 (13) obj. -393.5 iterations 1912\n",
      "Cbc0038I Pass  35: (467.60 seconds) suminf.    1.96187 (6) obj. -393.5 iterations 6609\n",
      "Cbc0038I Pass  36: (469.25 seconds) suminf.    1.07143 (4) obj. -393.5 iterations 2464\n",
      "Cbc0038I Pass  37: (471.78 seconds) suminf.    0.99564 (23) obj. -393.5 iterations 2639\n",
      "Cbc0038I Pass  38: (476.45 seconds) suminf.    0.28571 (1) obj. -394 iterations 8940\n",
      "Cbc0038I Pass  39: (480.43 seconds) suminf.    0.34823 (2) obj. -393.5 iterations 7949\n",
      "Cbc0038I Pass  40: (492.78 seconds) suminf.   46.02608 (118) obj. -393.5 iterations 12625\n",
      "Cbc0038I Pass  41: (507.29 seconds) suminf.    7.05930 (42) obj. -393.5 iterations 14093\n",
      "Cbc0038I Pass  42: (510.02 seconds) suminf.    2.71429 (24) obj. -393.5 iterations 3037\n",
      "Cbc0038I No solution found this major pass\n",
      "Cbc0038I Before mini branch and bound, 1345 integers at bound fixed and 25112 continuous\n",
      "Cbc0038I Full problem 118844 rows 40342 columns, reduced to 41166 rows 13708 columns - 14 fixed gives 32846, 11054 - still too large\n",
      "Cbc0038I Full problem 118844 rows 40342 columns, reduced to 32103 rows 10715 columns - too large\n",
      "Cbc0038I Mini branch and bound did not improve solution (549.47 seconds)\n",
      "Cbc0038I After 549.48 seconds - Feasibility pump exiting with objective of -140 - took 363.21 seconds\n",
      "Cbc0012I Integer solution of -140 found by feasibility pump after 0 iterations and 0 nodes (549.49 seconds)\n",
      "Cbc0031I 6 added rows had average density of 1502.5\n",
      "Cbc0013I At root node, 6 cuts changed objective from -2666 to -2666 in 3 passes\n",
      "Cbc0014I Cut generator 0 (Probing) - 0 row cuts average 0.0 elements, 0 column cuts (0 active)  in 3.034 seconds - new frequency is -100\n",
      "Cbc0014I Cut generator 1 (Gomory) - 12 row cuts average 1894.6 elements, 0 column cuts (0 active)  in 10.921 seconds - new frequency is -100\n",
      "Cbc0014I Cut generator 2 (Knapsack) - 0 row cuts average 0.0 elements, 0 column cuts (0 active)  in 0.094 seconds - new frequency is -100\n",
      "Cbc0014I Cut generator 3 (Clique) - 0 row cuts average 0.0 elements, 0 column cuts (0 active)  in 0.003 seconds - new frequency is -100\n",
      "Cbc0014I Cut generator 4 (MixedIntegerRounding2) - 0 row cuts average 0.0 elements, 0 column cuts (0 active)  in 0.118 seconds - new frequency is -100\n",
      "Cbc0014I Cut generator 5 (FlowCover) - 0 row cuts average 0.0 elements, 0 column cuts (0 active)  in 0.017 seconds - new frequency is -100\n",
      "Cbc0014I Cut generator 6 (TwoMirCuts) - 1 row cuts average 116.0 elements, 0 column cuts (0 active)  in 29.155 seconds - new frequency is -100\n",
      "Cbc0010I After 0 nodes, 1 on tree, -140 best solution, best possible -2666 (806.26 seconds)\n",
      "Cbc0020I Exiting on maximum time\n",
      "Cbc0005I Partial search - best objective -140 (best possible -2666), took 204137 iterations and 74 nodes (1886.23 seconds)\n",
      "Cbc0032I Strong branching done 1632 times (88691 iterations), fathomed 0 nodes and fixed 0 variables\n",
      "Cbc0035I Maximum depth 33, 0 variables fixed on reduced cost\n",
      "Cuts at root node changed objective from -2666 to -2666\n",
      "Probing was tried 3 times and created 0 cuts of which 0 were active after adding rounds of cuts (3.034 seconds)\n",
      "Gomory was tried 3 times and created 12 cuts of which 0 were active after adding rounds of cuts (10.921 seconds)\n",
      "Knapsack was tried 3 times and created 0 cuts of which 0 were active after adding rounds of cuts (0.094 seconds)\n",
      "Clique was tried 3 times and created 0 cuts of which 0 were active after adding rounds of cuts (0.003 seconds)\n",
      "MixedIntegerRounding2 was tried 3 times and created 0 cuts of which 0 were active after adding rounds of cuts (0.118 seconds)\n",
      "FlowCover was tried 3 times and created 0 cuts of which 0 were active after adding rounds of cuts (0.017 seconds)\n",
      "TwoMirCuts was tried 3 times and created 1 cuts of which 0 were active after adding rounds of cuts (29.155 seconds)\n",
      "ZeroHalf was tried 1 times and created 0 cuts of which 0 were active after adding rounds of cuts (19.475 seconds)\n",
      "\n",
      "Result - Stopped on time limit\n",
      "\n",
      "Objective value:                140.00000000\n",
      "Upper bound:                    2666.000\n",
      "Gap:                            -0.95\n",
      "Enumerated nodes:               74\n",
      "Total iterations:               204137\n",
      "Time (CPU seconds):             1899.86\n",
      "Time (Wallclock seconds):       1901.54\n",
      "\n",
      "Option for printingOptions changed from normal to all\n",
      "Total time (CPU seconds):       1900.18   (Wallclock seconds):       1901.89\n",
      "\n"
     ]
    },
    {
     "data": {
      "text/plain": [
       "1"
      ]
     },
     "execution_count": 1251,
     "metadata": {},
     "output_type": "execute_result"
    }
   ],
   "source": [
    "# Choose the solver and set the time limit\n",
    "# solver = GLPK(msg=False, timeLimit=600)  # Set the time limit to 600 seconds\n",
    "prob.solve(PULP_CBC_CMD(timeLimit=2000))"
   ]
  },
  {
   "cell_type": "code",
   "execution_count": 1252,
   "id": "6cb51b6a-bde6-4afd-929c-dbd3861ae7c8",
   "metadata": {
    "tags": []
   },
   "outputs": [
    {
     "data": {
      "text/html": [
       "<div>\n",
       "<style scoped>\n",
       "    .dataframe tbody tr th:only-of-type {\n",
       "        vertical-align: middle;\n",
       "    }\n",
       "\n",
       "    .dataframe tbody tr th {\n",
       "        vertical-align: top;\n",
       "    }\n",
       "\n",
       "    .dataframe thead th {\n",
       "        text-align: right;\n",
       "    }\n",
       "</style>\n",
       "<table border=\"1\" class=\"dataframe\">\n",
       "  <thead>\n",
       "    <tr style=\"text-align: right;\">\n",
       "      <th></th>\n",
       "      <th>optimized_session</th>\n",
       "      <th>title</th>\n",
       "      <th>duration</th>\n",
       "      <th>validity</th>\n",
       "    </tr>\n",
       "  </thead>\n",
       "  <tbody>\n",
       "    <tr>\n",
       "      <th>0</th>\n",
       "      <td>1</td>\n",
       "      <td>Does This Apply to Me? An Empirical Study of T...</td>\n",
       "      <td>7</td>\n",
       "      <td>1</td>\n",
       "    </tr>\n",
       "    <tr>\n",
       "      <th>1</th>\n",
       "      <td>1</td>\n",
       "      <td>Is Surprisal in Issue Trackers Actionable?</td>\n",
       "      <td>4</td>\n",
       "      <td>1</td>\n",
       "    </tr>\n",
       "    <tr>\n",
       "      <th>2</th>\n",
       "      <td>1</td>\n",
       "      <td>Exploring Apache Incubator Project Trajectorie...</td>\n",
       "      <td>4</td>\n",
       "      <td>1</td>\n",
       "    </tr>\n",
       "    <tr>\n",
       "      <th>3</th>\n",
       "      <td>1</td>\n",
       "      <td>A Culture of Productivity: Maximizing Producti...</td>\n",
       "      <td>7</td>\n",
       "      <td>1</td>\n",
       "    </tr>\n",
       "    <tr>\n",
       "      <th>4</th>\n",
       "      <td>1</td>\n",
       "      <td>DaSEA – A Dataset for Software Ecosystem Analysis</td>\n",
       "      <td>4</td>\n",
       "      <td>1</td>\n",
       "    </tr>\n",
       "  </tbody>\n",
       "</table>\n",
       "</div>"
      ],
      "text/plain": [
       "   optimized_session                                              title  \\\n",
       "0                  1  Does This Apply to Me? An Empirical Study of T...   \n",
       "1                  1         Is Surprisal in Issue Trackers Actionable?   \n",
       "2                  1  Exploring Apache Incubator Project Trajectorie...   \n",
       "3                  1  A Culture of Productivity: Maximizing Producti...   \n",
       "4                  1  DaSEA – A Dataset for Software Ecosystem Analysis   \n",
       "\n",
       "   duration  validity  \n",
       "0         7         1  \n",
       "1         4         1  \n",
       "2         4         1  \n",
       "3         7         1  \n",
       "4         4         1  "
      ]
     },
     "execution_count": 1252,
     "metadata": {},
     "output_type": "execute_result"
    }
   ],
   "source": [
    "# Initialize an empty list to hold the results\n",
    "results = []\n",
    "\n",
    "# Iterate over each session and track\n",
    "for j in range(num_sessions):\n",
    "    session_number = j + 1\n",
    "    # Iterate over each paper\n",
    "    for i in range(len(papers)):\n",
    "        if x[(i, j)].varValue is not None and  x[(i, j)].varValue== 1:\n",
    "            # Prepare a dict with the required information\n",
    "            paper_info = {\n",
    "                'optimized_session': session_number,\n",
    "                'title': papers.loc[i]['title'],\n",
    "                'duration': papers.loc[i]['duration'],\n",
    "                'validity': 1\n",
    "            }\n",
    "            # Append to the results list\n",
    "            results.append(paper_info)\n",
    "        elif x[(i, j)].varValue is not None and  x[(i, j)].varValue > 0:\n",
    "            # Prepare a dict with the required information\n",
    "            paper_info = {\n",
    "                'optimized_session': session_number,\n",
    "                'title': papers.loc[i]['title'],\n",
    "                'duration': papers.loc[i]['duration'],\n",
    "                'validity': 0\n",
    "            }\n",
    "            # Append to the results list\n",
    "            results.append(paper_info)\n",
    "\n",
    "# Convert the list of dictionaries into a DataFrame\n",
    "df_results = pd.DataFrame(results)\n",
    "\n",
    "# If you need to see the first few rows of the DataFrame to ensure it's correct\n",
    "df_results.head()\n"
   ]
  },
  {
   "cell_type": "code",
   "execution_count": 1253,
   "id": "6fc7e112-c4c5-420f-9cfc-755178f07c86",
   "metadata": {
    "tags": []
   },
   "outputs": [
    {
     "data": {
      "text/plain": [
       "1.0"
      ]
     },
     "execution_count": 1253,
     "metadata": {},
     "output_type": "execute_result"
    }
   ],
   "source": [
    "df_results[\"validity\"].mean()"
   ]
  },
  {
   "cell_type": "code",
   "execution_count": 1254,
   "id": "036c6209-93cb-49b1-a290-c1789ca0649b",
   "metadata": {
    "tags": []
   },
   "outputs": [],
   "source": [
    "df_merged_result = pd.merge(df[['title', 'session', 'cluster']], df_results[['title', 'optimized_session']], on='title', how='left')"
   ]
  },
  {
   "cell_type": "code",
   "execution_count": 1255,
   "id": "392ca209-c66a-45d5-a44d-0a4e2d5dcd48",
   "metadata": {
    "tags": []
   },
   "outputs": [
    {
     "data": {
      "text/html": [
       "<div>\n",
       "<style scoped>\n",
       "    .dataframe tbody tr th:only-of-type {\n",
       "        vertical-align: middle;\n",
       "    }\n",
       "\n",
       "    .dataframe tbody tr th {\n",
       "        vertical-align: top;\n",
       "    }\n",
       "\n",
       "    .dataframe thead th {\n",
       "        text-align: right;\n",
       "    }\n",
       "</style>\n",
       "<table border=\"1\" class=\"dataframe\">\n",
       "  <thead>\n",
       "    <tr style=\"text-align: right;\">\n",
       "      <th></th>\n",
       "      <th>title</th>\n",
       "      <th>session</th>\n",
       "      <th>cluster</th>\n",
       "      <th>optimized_session</th>\n",
       "    </tr>\n",
       "  </thead>\n",
       "  <tbody>\n",
       "    <tr>\n",
       "      <th>0</th>\n",
       "      <td>An Empirical Evaluation of GitHub Copilot’s Co...</td>\n",
       "      <td>Session 1Technical Papers/Registered Reportsat...</td>\n",
       "      <td>2</td>\n",
       "      <td>13</td>\n",
       "    </tr>\n",
       "    <tr>\n",
       "      <th>1</th>\n",
       "      <td>Comments on Comments: Where Code Review and Do...</td>\n",
       "      <td>Session 1Technical Papers/Registered Reportsat...</td>\n",
       "      <td>3</td>\n",
       "      <td>18</td>\n",
       "    </tr>\n",
       "    <tr>\n",
       "      <th>2</th>\n",
       "      <td>Does This Apply to Me? An Empirical Study of T...</td>\n",
       "      <td>Session 1Technical Papers/Registered Reportsat...</td>\n",
       "      <td>0</td>\n",
       "      <td>1</td>\n",
       "    </tr>\n",
       "    <tr>\n",
       "      <th>3</th>\n",
       "      <td>Towards Reliable Agile Iterative Planning via ...</td>\n",
       "      <td>Session 1Technical Papers/Registered Reportsat...</td>\n",
       "      <td>3</td>\n",
       "      <td>4</td>\n",
       "    </tr>\n",
       "    <tr>\n",
       "      <th>4</th>\n",
       "      <td>BotHunter: An Approach to Detect Software Bots...</td>\n",
       "      <td>Session 1Technical Papers/Registered Reportsat...</td>\n",
       "      <td>4</td>\n",
       "      <td>6</td>\n",
       "    </tr>\n",
       "    <tr>\n",
       "      <th>...</th>\n",
       "      <td>...</td>\n",
       "      <td>...</td>\n",
       "      <td>...</td>\n",
       "      <td>...</td>\n",
       "    </tr>\n",
       "    <tr>\n",
       "      <th>112</th>\n",
       "      <td>A Large-scale Dataset of (Open Source) License...</td>\n",
       "      <td>Session 16: Non-functional Properties (Availab...</td>\n",
       "      <td>4</td>\n",
       "      <td>3</td>\n",
       "    </tr>\n",
       "    <tr>\n",
       "      <th>113</th>\n",
       "      <td>SECOM: Towards a convention for security commi...</td>\n",
       "      <td>Session 16: Non-functional Properties (Availab...</td>\n",
       "      <td>4</td>\n",
       "      <td>14</td>\n",
       "    </tr>\n",
       "    <tr>\n",
       "      <th>114</th>\n",
       "      <td>Varangian: A Git Bot for Augmented Static Anal...</td>\n",
       "      <td>Session 16: Non-functional Properties (Availab...</td>\n",
       "      <td>4</td>\n",
       "      <td>8</td>\n",
       "    </tr>\n",
       "    <tr>\n",
       "      <th>115</th>\n",
       "      <td>Is GitHub's Copilot as Bad As Humans at Introd...</td>\n",
       "      <td>Session 16: Non-functional Properties (Availab...</td>\n",
       "      <td>2</td>\n",
       "      <td>12</td>\n",
       "    </tr>\n",
       "    <tr>\n",
       "      <th>116</th>\n",
       "      <td>Finding the Fun in Fundraising: Public Issues ...</td>\n",
       "      <td>Session 16: Non-functional Properties (Availab...</td>\n",
       "      <td>4</td>\n",
       "      <td>2</td>\n",
       "    </tr>\n",
       "  </tbody>\n",
       "</table>\n",
       "<p>117 rows × 4 columns</p>\n",
       "</div>"
      ],
      "text/plain": [
       "                                                 title  \\\n",
       "0    An Empirical Evaluation of GitHub Copilot’s Co...   \n",
       "1    Comments on Comments: Where Code Review and Do...   \n",
       "2    Does This Apply to Me? An Empirical Study of T...   \n",
       "3    Towards Reliable Agile Iterative Planning via ...   \n",
       "4    BotHunter: An Approach to Detect Software Bots...   \n",
       "..                                                 ...   \n",
       "112  A Large-scale Dataset of (Open Source) License...   \n",
       "113  SECOM: Towards a convention for security commi...   \n",
       "114  Varangian: A Git Bot for Augmented Static Anal...   \n",
       "115  Is GitHub's Copilot as Bad As Humans at Introd...   \n",
       "116  Finding the Fun in Fundraising: Public Issues ...   \n",
       "\n",
       "                                               session  cluster  \\\n",
       "0    Session 1Technical Papers/Registered Reportsat...        2   \n",
       "1    Session 1Technical Papers/Registered Reportsat...        3   \n",
       "2    Session 1Technical Papers/Registered Reportsat...        0   \n",
       "3    Session 1Technical Papers/Registered Reportsat...        3   \n",
       "4    Session 1Technical Papers/Registered Reportsat...        4   \n",
       "..                                                 ...      ...   \n",
       "112  Session 16: Non-functional Properties (Availab...        4   \n",
       "113  Session 16: Non-functional Properties (Availab...        4   \n",
       "114  Session 16: Non-functional Properties (Availab...        4   \n",
       "115  Session 16: Non-functional Properties (Availab...        2   \n",
       "116  Session 16: Non-functional Properties (Availab...        4   \n",
       "\n",
       "     optimized_session  \n",
       "0                   13  \n",
       "1                   18  \n",
       "2                    1  \n",
       "3                    4  \n",
       "4                    6  \n",
       "..                 ...  \n",
       "112                  3  \n",
       "113                 14  \n",
       "114                  8  \n",
       "115                 12  \n",
       "116                  2  \n",
       "\n",
       "[117 rows x 4 columns]"
      ]
     },
     "execution_count": 1255,
     "metadata": {},
     "output_type": "execute_result"
    }
   ],
   "source": [
    "df_merged_result"
   ]
  },
  {
   "cell_type": "code",
   "execution_count": 1256,
   "id": "1b9d75b3-85c7-4950-9eed-d38afaf83ecb",
   "metadata": {
    "tags": []
   },
   "outputs": [
    {
     "data": {
      "text/html": [
       "<div>\n",
       "<style scoped>\n",
       "    .dataframe tbody tr th:only-of-type {\n",
       "        vertical-align: middle;\n",
       "    }\n",
       "\n",
       "    .dataframe tbody tr th {\n",
       "        vertical-align: top;\n",
       "    }\n",
       "\n",
       "    .dataframe thead th {\n",
       "        text-align: right;\n",
       "    }\n",
       "</style>\n",
       "<table border=\"1\" class=\"dataframe\">\n",
       "  <thead>\n",
       "    <tr style=\"text-align: right;\">\n",
       "      <th></th>\n",
       "      <th>title</th>\n",
       "      <th>session</th>\n",
       "      <th>cluster</th>\n",
       "      <th>optimized_session</th>\n",
       "    </tr>\n",
       "  </thead>\n",
       "  <tbody>\n",
       "    <tr>\n",
       "      <th>58</th>\n",
       "      <td>DaSEA – A Dataset for Software Ecosystem Analysis</td>\n",
       "      <td>Session 8: Large-Scale Mining &amp; Software Ecosy...</td>\n",
       "      <td>3</td>\n",
       "      <td>1</td>\n",
       "    </tr>\n",
       "    <tr>\n",
       "      <th>79</th>\n",
       "      <td>Is Open Source Eating the World’s Software? Me...</td>\n",
       "      <td>Session 12: Integration &amp; Large-Scale MiningTe...</td>\n",
       "      <td>3</td>\n",
       "      <td>1</td>\n",
       "    </tr>\n",
       "    <tr>\n",
       "      <th>2</th>\n",
       "      <td>Does This Apply to Me? An Empirical Study of T...</td>\n",
       "      <td>Session 1Technical Papers/Registered Reportsat...</td>\n",
       "      <td>0</td>\n",
       "      <td>1</td>\n",
       "    </tr>\n",
       "    <tr>\n",
       "      <th>65</th>\n",
       "      <td>Toward Granular Automatic Unit Test Case Gener...</td>\n",
       "      <td>Session 9: Scaling &amp; CloudIndustry Track/Regis...</td>\n",
       "      <td>2</td>\n",
       "      <td>1</td>\n",
       "    </tr>\n",
       "    <tr>\n",
       "      <th>60</th>\n",
       "      <td>SniP: An Efficient Stack Tracing Framework for...</td>\n",
       "      <td>Session 9: Scaling &amp; CloudIndustry Track/Regis...</td>\n",
       "      <td>2</td>\n",
       "      <td>1</td>\n",
       "    </tr>\n",
       "    <tr>\n",
       "      <th>...</th>\n",
       "      <td>...</td>\n",
       "      <td>...</td>\n",
       "      <td>...</td>\n",
       "      <td>...</td>\n",
       "    </tr>\n",
       "    <tr>\n",
       "      <th>94</th>\n",
       "      <td>Using Bandit Algorithms for Selecting Feature ...</td>\n",
       "      <td>Session 14: Software QualityTechnical Papers/I...</td>\n",
       "      <td>0</td>\n",
       "      <td>18</td>\n",
       "    </tr>\n",
       "    <tr>\n",
       "      <th>53</th>\n",
       "      <td>An Empirical Study on the Survival Rate of Git...</td>\n",
       "      <td>Session 8: Large-Scale Mining &amp; Software Ecosy...</td>\n",
       "      <td>4</td>\n",
       "      <td>18</td>\n",
       "    </tr>\n",
       "    <tr>\n",
       "      <th>44</th>\n",
       "      <td>npm-filter: Automating the mining of dynamic i...</td>\n",
       "      <td>Session 6: Maintenance &amp; TestingData and Tool ...</td>\n",
       "      <td>1</td>\n",
       "      <td>19</td>\n",
       "    </tr>\n",
       "    <tr>\n",
       "      <th>90</th>\n",
       "      <td>Evaluating few shot and Contrastive learning M...</td>\n",
       "      <td>Session 13: Security &amp; QualityTechnical Papers...</td>\n",
       "      <td>2</td>\n",
       "      <td>19</td>\n",
       "    </tr>\n",
       "    <tr>\n",
       "      <th>31</th>\n",
       "      <td>Empirical Standards for Repository Mining</td>\n",
       "      <td>Tutorial: Empirical Standards for Repository M...</td>\n",
       "      <td>3</td>\n",
       "      <td>19</td>\n",
       "    </tr>\n",
       "  </tbody>\n",
       "</table>\n",
       "<p>117 rows × 4 columns</p>\n",
       "</div>"
      ],
      "text/plain": [
       "                                                title  \\\n",
       "58  DaSEA – A Dataset for Software Ecosystem Analysis   \n",
       "79  Is Open Source Eating the World’s Software? Me...   \n",
       "2   Does This Apply to Me? An Empirical Study of T...   \n",
       "65  Toward Granular Automatic Unit Test Case Gener...   \n",
       "60  SniP: An Efficient Stack Tracing Framework for...   \n",
       "..                                                ...   \n",
       "94  Using Bandit Algorithms for Selecting Feature ...   \n",
       "53  An Empirical Study on the Survival Rate of Git...   \n",
       "44  npm-filter: Automating the mining of dynamic i...   \n",
       "90  Evaluating few shot and Contrastive learning M...   \n",
       "31          Empirical Standards for Repository Mining   \n",
       "\n",
       "                                              session  cluster  \\\n",
       "58  Session 8: Large-Scale Mining & Software Ecosy...        3   \n",
       "79  Session 12: Integration & Large-Scale MiningTe...        3   \n",
       "2   Session 1Technical Papers/Registered Reportsat...        0   \n",
       "65  Session 9: Scaling & CloudIndustry Track/Regis...        2   \n",
       "60  Session 9: Scaling & CloudIndustry Track/Regis...        2   \n",
       "..                                                ...      ...   \n",
       "94  Session 14: Software QualityTechnical Papers/I...        0   \n",
       "53  Session 8: Large-Scale Mining & Software Ecosy...        4   \n",
       "44  Session 6: Maintenance & TestingData and Tool ...        1   \n",
       "90  Session 13: Security & QualityTechnical Papers...        2   \n",
       "31  Tutorial: Empirical Standards for Repository M...        3   \n",
       "\n",
       "    optimized_session  \n",
       "58                  1  \n",
       "79                  1  \n",
       "2                   1  \n",
       "65                  1  \n",
       "60                  1  \n",
       "..                ...  \n",
       "94                 18  \n",
       "53                 18  \n",
       "44                 19  \n",
       "90                 19  \n",
       "31                 19  \n",
       "\n",
       "[117 rows x 4 columns]"
      ]
     },
     "execution_count": 1256,
     "metadata": {},
     "output_type": "execute_result"
    }
   ],
   "source": [
    "df_merged_result.sort_values('optimized_session')"
   ]
  },
  {
   "cell_type": "code",
   "execution_count": 1257,
   "id": "ac1f4c16-c021-4f11-90eb-c3bad3578cec",
   "metadata": {
    "tags": []
   },
   "outputs": [
    {
     "data": {
      "text/plain": [
       "optimized_session\n",
       "1     38\n",
       "2     32\n",
       "3     40\n",
       "4     47\n",
       "5     40\n",
       "6     33\n",
       "7     33\n",
       "8     30\n",
       "9     21\n",
       "10    29\n",
       "11    24\n",
       "12    38\n",
       "13    28\n",
       "14    37\n",
       "15    42\n",
       "16    44\n",
       "17    33\n",
       "18    29\n",
       "19    58\n",
       "dtype: int64"
      ]
     },
     "execution_count": 1257,
     "metadata": {},
     "output_type": "execute_result"
    }
   ],
   "source": [
    "new_session_lengths = (df_results.groupby(\"optimized_session\")[\"duration\"].sum() + pd.Series(index=range(1,1+num_sessions), data = 0)).fillna(0)\n",
    "new_session_lengths"
   ]
  },
  {
   "cell_type": "code",
   "execution_count": 1258,
   "id": "c50a55c8-c5cd-453b-bfcf-238cec6a96a5",
   "metadata": {
    "tags": []
   },
   "outputs": [
    {
     "data": {
      "text/plain": [
       "[28, 30, 30, 33, 33, 34, 34, 36, 36, 36, 36, 36, 36, 37, 37, 37, 38, 39, 50]"
      ]
     },
     "execution_count": 1258,
     "metadata": {},
     "output_type": "execute_result"
    }
   ],
   "source": [
    "sorted(df.groupby(\"session\")[\"duration\"].sum().values)"
   ]
  },
  {
   "cell_type": "code",
   "execution_count": 1262,
   "id": "5c3a890c-9d50-46a4-b3e8-1e81a51e9aba",
   "metadata": {
    "tags": []
   },
   "outputs": [
    {
     "name": "stdout",
     "output_type": "stream",
     "text": [
      "completeness score: 0.41009481310511414\n",
      "homogeneity score: 0.40999795364801067\n"
     ]
    }
   ],
   "source": [
    "completeness_score = metrics.completeness_score(df_merged_result['session'], df_merged_result['optimized_session'])\n",
    "homegeneity_score = metrics.homogeneity_score(df_merged_result['session'], df_merged_result['optimized_session'])\n",
    "print(f\"completeness score: {completeness_score}\")\n",
    "print(f\"homogeneity score: {homegeneity_score}\")  "
   ]
  },
  {
   "cell_type": "code",
   "execution_count": 1263,
   "id": "b09cb204-3bf3-439c-bb6b-9ee924d8609b",
   "metadata": {
    "tags": []
   },
   "outputs": [
    {
     "data": {
      "text/plain": [
       "0.4936476397153556"
      ]
     },
     "execution_count": 1263,
     "metadata": {},
     "output_type": "execute_result"
    }
   ],
   "source": [
    "metrics.completeness_score(df_merged_result['session'], df_merged_result['cluster'])"
   ]
  },
  {
   "cell_type": "code",
   "execution_count": 1264,
   "id": "1a414eef-2dab-42df-a2ee-6e5ae2643d7a",
   "metadata": {
    "tags": []
   },
   "outputs": [
    {
     "data": {
      "text/plain": [
       "0.2699903612450044"
      ]
     },
     "execution_count": 1264,
     "metadata": {},
     "output_type": "execute_result"
    }
   ],
   "source": [
    "metrics.homogeneity_score(df_merged_result['session'], df_merged_result['cluster'])"
   ]
  },
  {
   "cell_type": "code",
   "execution_count": null,
   "id": "6fda5ead-9f09-45c8-a122-90a2e2e3bc53",
   "metadata": {},
   "outputs": [],
   "source": []
  },
  {
   "cell_type": "code",
   "execution_count": null,
   "id": "e52c946c-8f66-46c2-a3cd-3c1ec090c8f7",
   "metadata": {},
   "outputs": [],
   "source": []
  },
  {
   "cell_type": "code",
   "execution_count": null,
   "id": "e55e7d4b-2f6e-490b-8d50-5ca493f766fe",
   "metadata": {},
   "outputs": [],
   "source": []
  },
  {
   "cell_type": "code",
   "execution_count": null,
   "id": "9c772391-dd36-4320-9620-29f70648436b",
   "metadata": {},
   "outputs": [],
   "source": []
  },
  {
   "cell_type": "code",
   "execution_count": null,
   "id": "badb3e5c-9002-4e0c-86cc-c7611571cd29",
   "metadata": {},
   "outputs": [],
   "source": []
  },
  {
   "cell_type": "code",
   "execution_count": null,
   "id": "7bef7c09-aacd-46aa-8529-a345b863e11f",
   "metadata": {},
   "outputs": [],
   "source": []
  },
  {
   "cell_type": "code",
   "execution_count": null,
   "id": "4ced3407-2628-4f36-bcb7-e26e2866a361",
   "metadata": {},
   "outputs": [],
   "source": []
  }
 ],
 "metadata": {
  "environment": {
   "kernel": "conda-root-py",
   "name": "workbench-notebooks.m119",
   "type": "gcloud",
   "uri": "us-docker.pkg.dev/deeplearning-platform-release/gcr.io/workbench-notebooks:m119"
  },
  "kernelspec": {
   "display_name": "Python 3 (ipykernel) (Local)",
   "language": "python",
   "name": "conda-root-py"
  },
  "language_info": {
   "codemirror_mode": {
    "name": "ipython",
    "version": 3
   },
   "file_extension": ".py",
   "mimetype": "text/x-python",
   "name": "python",
   "nbconvert_exporter": "python",
   "pygments_lexer": "ipython3",
   "version": "3.10.14"
  }
 },
 "nbformat": 4,
 "nbformat_minor": 5
}
