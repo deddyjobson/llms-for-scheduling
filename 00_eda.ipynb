{
 "cells": [
  {
   "cell_type": "code",
   "execution_count": 1,
   "id": "5f1c7ebb-2229-4c01-866f-d118967680c2",
   "metadata": {
    "tags": []
   },
   "outputs": [],
   "source": [
    "import pandas as pd\n",
    "import re\n",
    "from bs4 import BeautifulSoup\n",
    "\n",
    "# Without error capture to ensure the output (whether success or failure) is reported back.\n",
    "# Attempt to read tables from the HTML file using pandas\n",
    "file_path = \"data/Program - MSR 2022.html\""
   ]
  },
  {
   "cell_type": "code",
   "execution_count": 2,
   "id": "12541858-24bc-4f76-b116-ad9f40cc98cf",
   "metadata": {
    "tags": []
   },
   "outputs": [],
   "source": [
    "with open(file_path, 'r') as file:\n",
    "    html_content = file.read()"
   ]
  },
  {
   "cell_type": "code",
   "execution_count": 3,
   "id": "3320d105-9782-4253-baba-3c70a948c8c2",
   "metadata": {
    "tags": []
   },
   "outputs": [],
   "source": [
    "soup = BeautifulSoup(html_content, 'lxml')"
   ]
  },
  {
   "cell_type": "code",
   "execution_count": 4,
   "id": "326b1a65-9233-4e11-b07d-7e8d956c7bb8",
   "metadata": {
    "tags": []
   },
   "outputs": [],
   "source": [
    "rows = soup.find_all('tr', class_='hidable')"
   ]
  },
  {
   "cell_type": "code",
   "execution_count": 5,
   "id": "cf114e01-0846-40e7-aebe-1e52de2e5c34",
   "metadata": {
    "tags": []
   },
   "outputs": [],
   "source": [
    "# Regex to match date pattern (e.g., \"Tue 16 May\")\n",
    "date_pattern = re.compile(r\"\\b(?:Mon|Tue|Wed|Thu|Fri|Sat|Sun)\\s\\d{1,2}\\s(?:Jan|Feb|Mar|Apr|May|Jun|Jul|Aug|Sep|Oct|Nov|Dec)\")"
   ]
  },
  {
   "cell_type": "code",
   "execution_count": 6,
   "id": "c1f56910-958e-4ddd-9d1f-67c8247b226b",
   "metadata": {
    "tags": []
   },
   "outputs": [
    {
     "data": {
      "text/html": [
       "<div>\n",
       "<style scoped>\n",
       "    .dataframe tbody tr th:only-of-type {\n",
       "        vertical-align: middle;\n",
       "    }\n",
       "\n",
       "    .dataframe tbody tr th {\n",
       "        vertical-align: top;\n",
       "    }\n",
       "\n",
       "    .dataframe thead th {\n",
       "        text-align: right;\n",
       "    }\n",
       "</style>\n",
       "<table border=\"1\" class=\"dataframe\">\n",
       "  <thead>\n",
       "    <tr style=\"text-align: right;\">\n",
       "      <th></th>\n",
       "      <th>Time</th>\n",
       "      <th>Duration</th>\n",
       "      <th>Talk Title</th>\n",
       "      <th>Link</th>\n",
       "      <th>Authors</th>\n",
       "      <th>Session</th>\n",
       "      <th>Date</th>\n",
       "    </tr>\n",
       "  </thead>\n",
       "  <tbody>\n",
       "    <tr>\n",
       "      <th>0</th>\n",
       "      <td>22:00</td>\n",
       "      <td>4m</td>\n",
       "      <td>An Empirical Evaluation of GitHub Copilot’s Co...</td>\n",
       "      <td>#</td>\n",
       "      <td>[Nhan Nguyen, Sarah Nadi]</td>\n",
       "      <td>Session 1Technical Papers/Registered Reportsat...</td>\n",
       "      <td>Tue 17 May</td>\n",
       "    </tr>\n",
       "    <tr>\n",
       "      <th>1</th>\n",
       "      <td>22:04</td>\n",
       "      <td>4m</td>\n",
       "      <td>Comments on Comments: Where Code Review and Do...</td>\n",
       "      <td>#</td>\n",
       "      <td>[Nikitha Rao, Jason Tsay, Martin Hirzel, Vince...</td>\n",
       "      <td>Session 1Technical Papers/Registered Reportsat...</td>\n",
       "      <td>Tue 17 May</td>\n",
       "    </tr>\n",
       "    <tr>\n",
       "      <th>2</th>\n",
       "      <td>22:08</td>\n",
       "      <td>7m</td>\n",
       "      <td>Does This Apply to Me? An Empirical Study of T...</td>\n",
       "      <td>#</td>\n",
       "      <td>[Akalanka Galappaththi, Sarah Nadi, Christoph ...</td>\n",
       "      <td>Session 1Technical Papers/Registered Reportsat...</td>\n",
       "      <td>Tue 17 May</td>\n",
       "    </tr>\n",
       "    <tr>\n",
       "      <th>3</th>\n",
       "      <td>22:15</td>\n",
       "      <td>7m</td>\n",
       "      <td>Towards Reliable Agile Iterative Planning via ...</td>\n",
       "      <td>#</td>\n",
       "      <td>[Jirat Pasuksmit, Patanamon Thongtanunam, Shan...</td>\n",
       "      <td>Session 1Technical Papers/Registered Reportsat...</td>\n",
       "      <td>Tue 17 May</td>\n",
       "    </tr>\n",
       "    <tr>\n",
       "      <th>4</th>\n",
       "      <td>22:22</td>\n",
       "      <td>7m</td>\n",
       "      <td>BotHunter: An Approach to Detect Software Bots...</td>\n",
       "      <td>#</td>\n",
       "      <td>[Ahmad Abdellatif, Mairieli Wessel, Igor Stein...</td>\n",
       "      <td>Session 1Technical Papers/Registered Reportsat...</td>\n",
       "      <td>Tue 17 May</td>\n",
       "    </tr>\n",
       "  </tbody>\n",
       "</table>\n",
       "</div>"
      ],
      "text/plain": [
       "    Time Duration                                         Talk Title Link  \\\n",
       "0  22:00       4m  An Empirical Evaluation of GitHub Copilot’s Co...    #   \n",
       "1  22:04       4m  Comments on Comments: Where Code Review and Do...    #   \n",
       "2  22:08       7m  Does This Apply to Me? An Empirical Study of T...    #   \n",
       "3  22:15       7m  Towards Reliable Agile Iterative Planning via ...    #   \n",
       "4  22:22       7m  BotHunter: An Approach to Detect Software Bots...    #   \n",
       "\n",
       "                                             Authors  \\\n",
       "0                          [Nhan Nguyen, Sarah Nadi]   \n",
       "1  [Nikitha Rao, Jason Tsay, Martin Hirzel, Vince...   \n",
       "2  [Akalanka Galappaththi, Sarah Nadi, Christoph ...   \n",
       "3  [Jirat Pasuksmit, Patanamon Thongtanunam, Shan...   \n",
       "4  [Ahmad Abdellatif, Mairieli Wessel, Igor Stein...   \n",
       "\n",
       "                                             Session        Date  \n",
       "0  Session 1Technical Papers/Registered Reportsat...  Tue 17 May  \n",
       "1  Session 1Technical Papers/Registered Reportsat...  Tue 17 May  \n",
       "2  Session 1Technical Papers/Registered Reportsat...  Tue 17 May  \n",
       "3  Session 1Technical Papers/Registered Reportsat...  Tue 17 May  \n",
       "4  Session 1Technical Papers/Registered Reportsat...  Tue 17 May  "
      ]
     },
     "execution_count": 6,
     "metadata": {},
     "output_type": "execute_result"
    }
   ],
   "source": [
    "extracted_rows = []\n",
    "\n",
    "# Loop through each row to extract required details\n",
    "for row in rows:\n",
    "    temp_row = []\n",
    "    \n",
    "    # Extract session details from parent div if not already extracted\n",
    "    session_div = row.find_previous('div', class_='session-info-in-table')\n",
    "    session = session_div.get_text(strip=True) if session_div else ''\n",
    "    \n",
    "    datetime_info = row.find('td', class_='text-right')\n",
    "    talk_info = row.find_all('td')[-1]\n",
    "    \n",
    "    if datetime_info and talk_info:\n",
    "        time = datetime_info.find('div', class_='start-time').get_text(strip=True) if datetime_info.find('div', class_='start-time') else ''\n",
    "        duration = datetime_info.find('strong').get_text(strip=True) if datetime_info.find('strong') else ''\n",
    "        \n",
    "        # Calculate end time based on start time and duration if needed\n",
    "        \n",
    "        temp_row.append(time)\n",
    "        # temp_row.append(end_time)  # Calculate and append end time if needed\n",
    "        temp_row.append(duration)\n",
    "        \n",
    "        talk_title = talk_info.find('strong')\n",
    "        if talk_title:\n",
    "            temp_row.append(talk_title.get_text(strip=True))\n",
    "            \n",
    "            link = talk_title.find('a', href=True)\n",
    "            temp_row.append(link['href'] if link else '')\n",
    "        else:\n",
    "            temp_row.extend(['', ''])\n",
    "            \n",
    "        # Extract authors\n",
    "        authors_div = talk_info.find('div', class_='performers')\n",
    "        authors = [author.get_text(strip=True) for author in authors_div.find_all('a')] if authors_div else []\n",
    "        temp_row.append(authors)\n",
    "        \n",
    "        # Append session information\n",
    "        temp_row.append(session)\n",
    "        \n",
    "        # Locate date information\n",
    "        # Tip: You may need to adjust how you locate the 'date information' based on your HTML structure\n",
    "        date_info = row.find_previous('div', class_='day-wrapper')\n",
    "        if date_info:\n",
    "            date_text = date_info.get_text(strip=True)\n",
    "            matched_date = date_pattern.search(date_text)\n",
    "            date = matched_date.group(0) if matched_date else \"Date Not Found\"\n",
    "        else:\n",
    "            date = None\n",
    "        temp_row.append(date)\n",
    "        \n",
    "        extracted_rows.append(temp_row)\n",
    "\n",
    "columns = ['Time', 'Duration', 'Talk Title', 'Link', 'Authors', 'Session', 'Date']\n",
    "df = pd.DataFrame(extracted_rows, columns=columns)\n",
    "\n",
    "df.head()"
   ]
  },
  {
   "cell_type": "code",
   "execution_count": 7,
   "id": "0cbbcd35-7fe8-4c81-a61f-83b25fe0bef5",
   "metadata": {
    "tags": []
   },
   "outputs": [
    {
     "data": {
      "text/html": [
       "<div>\n",
       "<style scoped>\n",
       "    .dataframe tbody tr th:only-of-type {\n",
       "        vertical-align: middle;\n",
       "    }\n",
       "\n",
       "    .dataframe tbody tr th {\n",
       "        vertical-align: top;\n",
       "    }\n",
       "\n",
       "    .dataframe thead th {\n",
       "        text-align: right;\n",
       "    }\n",
       "</style>\n",
       "<table border=\"1\" class=\"dataframe\">\n",
       "  <thead>\n",
       "    <tr style=\"text-align: right;\">\n",
       "      <th></th>\n",
       "      <th>session</th>\n",
       "      <th>date</th>\n",
       "      <th>start_time</th>\n",
       "      <th>end_time</th>\n",
       "      <th>duration</th>\n",
       "      <th>talk_title</th>\n",
       "      <th>authors</th>\n",
       "    </tr>\n",
       "  </thead>\n",
       "  <tbody>\n",
       "    <tr>\n",
       "      <th>0</th>\n",
       "      <td>Session 1Technical Papers/Registered Reportsat...</td>\n",
       "      <td>Tue 17 May</td>\n",
       "      <td>1900-05-17 22:00:00</td>\n",
       "      <td>1900-05-17 22:04:00</td>\n",
       "      <td>4</td>\n",
       "      <td>An Empirical Evaluation of GitHub Copilot’s Co...</td>\n",
       "      <td>[Nhan Nguyen, Sarah Nadi]</td>\n",
       "    </tr>\n",
       "    <tr>\n",
       "      <th>1</th>\n",
       "      <td>Session 1Technical Papers/Registered Reportsat...</td>\n",
       "      <td>Tue 17 May</td>\n",
       "      <td>1900-05-17 22:04:00</td>\n",
       "      <td>1900-05-17 22:08:00</td>\n",
       "      <td>4</td>\n",
       "      <td>Comments on Comments: Where Code Review and Do...</td>\n",
       "      <td>[Nikitha Rao, Jason Tsay, Martin Hirzel, Vince...</td>\n",
       "    </tr>\n",
       "    <tr>\n",
       "      <th>2</th>\n",
       "      <td>Session 1Technical Papers/Registered Reportsat...</td>\n",
       "      <td>Tue 17 May</td>\n",
       "      <td>1900-05-17 22:08:00</td>\n",
       "      <td>1900-05-17 22:15:00</td>\n",
       "      <td>7</td>\n",
       "      <td>Does This Apply to Me? An Empirical Study of T...</td>\n",
       "      <td>[Akalanka Galappaththi, Sarah Nadi, Christoph ...</td>\n",
       "    </tr>\n",
       "    <tr>\n",
       "      <th>3</th>\n",
       "      <td>Session 1Technical Papers/Registered Reportsat...</td>\n",
       "      <td>Tue 17 May</td>\n",
       "      <td>1900-05-17 22:15:00</td>\n",
       "      <td>1900-05-17 22:22:00</td>\n",
       "      <td>7</td>\n",
       "      <td>Towards Reliable Agile Iterative Planning via ...</td>\n",
       "      <td>[Jirat Pasuksmit, Patanamon Thongtanunam, Shan...</td>\n",
       "    </tr>\n",
       "    <tr>\n",
       "      <th>4</th>\n",
       "      <td>Session 1Technical Papers/Registered Reportsat...</td>\n",
       "      <td>Tue 17 May</td>\n",
       "      <td>1900-05-17 22:22:00</td>\n",
       "      <td>1900-05-17 22:29:00</td>\n",
       "      <td>7</td>\n",
       "      <td>BotHunter: An Approach to Detect Software Bots...</td>\n",
       "      <td>[Ahmad Abdellatif, Mairieli Wessel, Igor Stein...</td>\n",
       "    </tr>\n",
       "  </tbody>\n",
       "</table>\n",
       "</div>"
      ],
      "text/plain": [
       "                                             session        date  \\\n",
       "0  Session 1Technical Papers/Registered Reportsat...  Tue 17 May   \n",
       "1  Session 1Technical Papers/Registered Reportsat...  Tue 17 May   \n",
       "2  Session 1Technical Papers/Registered Reportsat...  Tue 17 May   \n",
       "3  Session 1Technical Papers/Registered Reportsat...  Tue 17 May   \n",
       "4  Session 1Technical Papers/Registered Reportsat...  Tue 17 May   \n",
       "\n",
       "           start_time            end_time  duration  \\\n",
       "0 1900-05-17 22:00:00 1900-05-17 22:04:00         4   \n",
       "1 1900-05-17 22:04:00 1900-05-17 22:08:00         4   \n",
       "2 1900-05-17 22:08:00 1900-05-17 22:15:00         7   \n",
       "3 1900-05-17 22:15:00 1900-05-17 22:22:00         7   \n",
       "4 1900-05-17 22:22:00 1900-05-17 22:29:00         7   \n",
       "\n",
       "                                          talk_title  \\\n",
       "0  An Empirical Evaluation of GitHub Copilot’s Co...   \n",
       "1  Comments on Comments: Where Code Review and Do...   \n",
       "2  Does This Apply to Me? An Empirical Study of T...   \n",
       "3  Towards Reliable Agile Iterative Planning via ...   \n",
       "4  BotHunter: An Approach to Detect Software Bots...   \n",
       "\n",
       "                                             authors  \n",
       "0                          [Nhan Nguyen, Sarah Nadi]  \n",
       "1  [Nikitha Rao, Jason Tsay, Martin Hirzel, Vince...  \n",
       "2  [Akalanka Galappaththi, Sarah Nadi, Christoph ...  \n",
       "3  [Jirat Pasuksmit, Patanamon Thongtanunam, Shan...  \n",
       "4  [Ahmad Abdellatif, Mairieli Wessel, Igor Stein...  "
      ]
     },
     "execution_count": 7,
     "metadata": {},
     "output_type": "execute_result"
    }
   ],
   "source": [
    "# Convert all column names to lowercase and replace spaces with hyphens\n",
    "df.columns = [col.lower().replace(' ', '_') for col in df.columns]\n",
    "\n",
    "# Put date first\n",
    "df = df[['date'] + [col for col in df.columns if col != 'date']]\n",
    "\n",
    "# Convert Time to start_time as datetime and calculate end_time\n",
    "df['start_time'] = pd.to_datetime(df['date'] + ' ' + df['time'], format='%a %d %b %H:%M')\n",
    "df['duration'] = df['duration'].str.extract('(\\d+)').astype(int)  # Extract duration in minutes\n",
    "df['end_time'] = df['start_time'] + pd.to_timedelta(df['duration'], unit='m')\n",
    "\n",
    "# Delete the Link column\n",
    "df = df.drop(['link', 'time'], axis=1)\n",
    "\n",
    "# Move Authors column to the last position\n",
    "df = df[[col for col in df.columns if col != 'authors'] + ['authors']]\n",
    "\n",
    "df = df[['session', 'date', 'start_time', 'end_time', 'duration', 'talk_title','authors']]\n",
    "\n",
    "# Display the final data frame\n",
    "df.head()"
   ]
  },
  {
   "cell_type": "code",
   "execution_count": 8,
   "id": "e0bc286c-d50c-4eb6-94b4-43708b997b85",
   "metadata": {
    "tags": []
   },
   "outputs": [
    {
     "data": {
      "text/plain": [
       "session               object\n",
       "date                  object\n",
       "start_time    datetime64[ns]\n",
       "end_time      datetime64[ns]\n",
       "duration               int64\n",
       "talk_title            object\n",
       "authors               object\n",
       "dtype: object"
      ]
     },
     "execution_count": 8,
     "metadata": {},
     "output_type": "execute_result"
    }
   ],
   "source": [
    "df.dtypes"
   ]
  },
  {
   "cell_type": "code",
   "execution_count": 9,
   "id": "8943c607-299d-43f0-b5a6-0bfe9f46cea4",
   "metadata": {
    "tags": []
   },
   "outputs": [
    {
     "data": {
      "text/plain": [
       "187"
      ]
     },
     "execution_count": 9,
     "metadata": {},
     "output_type": "execute_result"
    }
   ],
   "source": [
    "len(df)"
   ]
  },
  {
   "cell_type": "code",
   "execution_count": 10,
   "id": "f8834a87-7e2f-4cf5-a6aa-570c57c17e84",
   "metadata": {
    "tags": []
   },
   "outputs": [
    {
     "data": {
      "text/plain": [
       "array(['Session 1Technical Papers/Registered ReportsatMSR Main room - even hoursChair(s):Hongyu ZhangUniversity of Newcastle,Masud RahmanDalhousie University',\n",
       "       'Session 2: Maintenance (Issues & Smells)Technical Papers/Registered Reports/Data and Tool Showcase Track/Industry TrackatMSR Main room - odd hoursChair(s):Alessio FerrariCNR-ISTI',\n",
       "       'Session 3: Introspection, Vision, and Human AspectsTechnical Papers/Data and Tool Showcase Track/Industry Track/Registered ReportsatMSR Main room - odd hoursChair(s):Alexander SerebrenikEindhoven University of Technology,Sebastian BaltesSAP SE & University of Adelaide'],\n",
       "      dtype=object)"
      ]
     },
     "execution_count": 10,
     "metadata": {},
     "output_type": "execute_result"
    }
   ],
   "source": [
    "df[\"session\"].unique()[:3]"
   ]
  },
  {
   "cell_type": "code",
   "execution_count": 11,
   "id": "43e1f9e0-df03-4d1f-824a-4f99ed08be64",
   "metadata": {
    "tags": []
   },
   "outputs": [
    {
     "data": {
      "text/html": [
       "<div>\n",
       "<style scoped>\n",
       "    .dataframe tbody tr th:only-of-type {\n",
       "        vertical-align: middle;\n",
       "    }\n",
       "\n",
       "    .dataframe tbody tr th {\n",
       "        vertical-align: top;\n",
       "    }\n",
       "\n",
       "    .dataframe thead th {\n",
       "        text-align: right;\n",
       "    }\n",
       "</style>\n",
       "<table border=\"1\" class=\"dataframe\">\n",
       "  <thead>\n",
       "    <tr style=\"text-align: right;\">\n",
       "      <th></th>\n",
       "      <th>session</th>\n",
       "      <th>date</th>\n",
       "      <th>start_time</th>\n",
       "      <th>end_time</th>\n",
       "      <th>duration</th>\n",
       "      <th>talk_title</th>\n",
       "      <th>authors</th>\n",
       "    </tr>\n",
       "  </thead>\n",
       "  <tbody>\n",
       "    <tr>\n",
       "      <th>0</th>\n",
       "      <td>Session 1Technical Papers/Registered Reportsat...</td>\n",
       "      <td>Tue 17 May</td>\n",
       "      <td>1900-05-17 22:00:00</td>\n",
       "      <td>1900-05-17 22:04:00</td>\n",
       "      <td>4</td>\n",
       "      <td>An Empirical Evaluation of GitHub Copilot’s Co...</td>\n",
       "      <td>[Nhan Nguyen, Sarah Nadi]</td>\n",
       "    </tr>\n",
       "    <tr>\n",
       "      <th>1</th>\n",
       "      <td>Session 1Technical Papers/Registered Reportsat...</td>\n",
       "      <td>Tue 17 May</td>\n",
       "      <td>1900-05-17 22:04:00</td>\n",
       "      <td>1900-05-17 22:08:00</td>\n",
       "      <td>4</td>\n",
       "      <td>Comments on Comments: Where Code Review and Do...</td>\n",
       "      <td>[Nikitha Rao, Jason Tsay, Martin Hirzel, Vince...</td>\n",
       "    </tr>\n",
       "    <tr>\n",
       "      <th>2</th>\n",
       "      <td>Session 1Technical Papers/Registered Reportsat...</td>\n",
       "      <td>Tue 17 May</td>\n",
       "      <td>1900-05-17 22:08:00</td>\n",
       "      <td>1900-05-17 22:15:00</td>\n",
       "      <td>7</td>\n",
       "      <td>Does This Apply to Me? An Empirical Study of T...</td>\n",
       "      <td>[Akalanka Galappaththi, Sarah Nadi, Christoph ...</td>\n",
       "    </tr>\n",
       "    <tr>\n",
       "      <th>3</th>\n",
       "      <td>Session 1Technical Papers/Registered Reportsat...</td>\n",
       "      <td>Tue 17 May</td>\n",
       "      <td>1900-05-17 22:15:00</td>\n",
       "      <td>1900-05-17 22:22:00</td>\n",
       "      <td>7</td>\n",
       "      <td>Towards Reliable Agile Iterative Planning via ...</td>\n",
       "      <td>[Jirat Pasuksmit, Patanamon Thongtanunam, Shan...</td>\n",
       "    </tr>\n",
       "    <tr>\n",
       "      <th>4</th>\n",
       "      <td>Session 1Technical Papers/Registered Reportsat...</td>\n",
       "      <td>Tue 17 May</td>\n",
       "      <td>1900-05-17 22:22:00</td>\n",
       "      <td>1900-05-17 22:29:00</td>\n",
       "      <td>7</td>\n",
       "      <td>BotHunter: An Approach to Detect Software Bots...</td>\n",
       "      <td>[Ahmad Abdellatif, Mairieli Wessel, Igor Stein...</td>\n",
       "    </tr>\n",
       "    <tr>\n",
       "      <th>5</th>\n",
       "      <td>Session 1Technical Papers/Registered Reportsat...</td>\n",
       "      <td>Tue 17 May</td>\n",
       "      <td>1900-05-17 22:29:00</td>\n",
       "      <td>1900-05-17 22:36:00</td>\n",
       "      <td>7</td>\n",
       "      <td>Recommending Code Improvements Based on Stack ...</td>\n",
       "      <td>[Chaiyong Ragkhitwetsagul, Matheus Paixao]</td>\n",
       "    </tr>\n",
       "    <tr>\n",
       "      <th>6</th>\n",
       "      <td>Session 1Technical Papers/Registered Reportsat...</td>\n",
       "      <td>Tue 17 May</td>\n",
       "      <td>1900-05-17 22:36:00</td>\n",
       "      <td>1900-05-17 22:50:00</td>\n",
       "      <td>14</td>\n",
       "      <td>Discussions and Q&amp;A</td>\n",
       "      <td>[]</td>\n",
       "    </tr>\n",
       "  </tbody>\n",
       "</table>\n",
       "</div>"
      ],
      "text/plain": [
       "                                             session        date  \\\n",
       "0  Session 1Technical Papers/Registered Reportsat...  Tue 17 May   \n",
       "1  Session 1Technical Papers/Registered Reportsat...  Tue 17 May   \n",
       "2  Session 1Technical Papers/Registered Reportsat...  Tue 17 May   \n",
       "3  Session 1Technical Papers/Registered Reportsat...  Tue 17 May   \n",
       "4  Session 1Technical Papers/Registered Reportsat...  Tue 17 May   \n",
       "5  Session 1Technical Papers/Registered Reportsat...  Tue 17 May   \n",
       "6  Session 1Technical Papers/Registered Reportsat...  Tue 17 May   \n",
       "\n",
       "           start_time            end_time  duration  \\\n",
       "0 1900-05-17 22:00:00 1900-05-17 22:04:00         4   \n",
       "1 1900-05-17 22:04:00 1900-05-17 22:08:00         4   \n",
       "2 1900-05-17 22:08:00 1900-05-17 22:15:00         7   \n",
       "3 1900-05-17 22:15:00 1900-05-17 22:22:00         7   \n",
       "4 1900-05-17 22:22:00 1900-05-17 22:29:00         7   \n",
       "5 1900-05-17 22:29:00 1900-05-17 22:36:00         7   \n",
       "6 1900-05-17 22:36:00 1900-05-17 22:50:00        14   \n",
       "\n",
       "                                          talk_title  \\\n",
       "0  An Empirical Evaluation of GitHub Copilot’s Co...   \n",
       "1  Comments on Comments: Where Code Review and Do...   \n",
       "2  Does This Apply to Me? An Empirical Study of T...   \n",
       "3  Towards Reliable Agile Iterative Planning via ...   \n",
       "4  BotHunter: An Approach to Detect Software Bots...   \n",
       "5  Recommending Code Improvements Based on Stack ...   \n",
       "6                                Discussions and Q&A   \n",
       "\n",
       "                                             authors  \n",
       "0                          [Nhan Nguyen, Sarah Nadi]  \n",
       "1  [Nikitha Rao, Jason Tsay, Martin Hirzel, Vince...  \n",
       "2  [Akalanka Galappaththi, Sarah Nadi, Christoph ...  \n",
       "3  [Jirat Pasuksmit, Patanamon Thongtanunam, Shan...  \n",
       "4  [Ahmad Abdellatif, Mairieli Wessel, Igor Stein...  \n",
       "5         [Chaiyong Ragkhitwetsagul, Matheus Paixao]  \n",
       "6                                                 []  "
      ]
     },
     "execution_count": 11,
     "metadata": {},
     "output_type": "execute_result"
    }
   ],
   "source": [
    "df[df[\"session\"]=='Session 1Technical Papers/Registered ReportsatMSR Main room - even hoursChair(s):Hongyu ZhangUniversity of Newcastle,Masud RahmanDalhousie University']"
   ]
  },
  {
   "cell_type": "code",
   "execution_count": null,
   "id": "3effa325-22c3-4da6-9b3a-7e4b00e6b06c",
   "metadata": {},
   "outputs": [],
   "source": []
  },
  {
   "cell_type": "code",
   "execution_count": null,
   "id": "724232f2-1208-45a0-a110-4b8ef231e3b8",
   "metadata": {},
   "outputs": [],
   "source": []
  },
  {
   "cell_type": "code",
   "execution_count": null,
   "id": "4ef7523f-4cea-4c89-8126-e4379c9976d7",
   "metadata": {},
   "outputs": [],
   "source": []
  },
  {
   "cell_type": "code",
   "execution_count": null,
   "id": "b3d3b1d7-6168-47ef-9114-e94cda9e13e7",
   "metadata": {},
   "outputs": [],
   "source": []
  },
  {
   "cell_type": "code",
   "execution_count": null,
   "id": "b84c229c-0682-492d-9436-c2ca8d84c29a",
   "metadata": {},
   "outputs": [],
   "source": []
  },
  {
   "cell_type": "code",
   "execution_count": null,
   "id": "d6436dd8-a62c-47bf-8917-f3ddd2b91598",
   "metadata": {},
   "outputs": [],
   "source": []
  },
  {
   "cell_type": "code",
   "execution_count": null,
   "id": "5f2b9fcb-8bb6-4fa9-badd-59952e1384ce",
   "metadata": {},
   "outputs": [],
   "source": []
  },
  {
   "cell_type": "code",
   "execution_count": null,
   "id": "95e5d286-a500-42d9-9bcc-ea1eb06307db",
   "metadata": {},
   "outputs": [],
   "source": []
  }
 ],
 "metadata": {
  "environment": {
   "kernel": "python3",
   "name": ".m116",
   "type": "gcloud",
   "uri": "gcr.io/deeplearning-platform-release/:m116"
  },
  "kernelspec": {
   "display_name": "Python 3",
   "language": "python",
   "name": "python3"
  },
  "language_info": {
   "codemirror_mode": {
    "name": "ipython",
    "version": 3
   },
   "file_extension": ".py",
   "mimetype": "text/x-python",
   "name": "python",
   "nbconvert_exporter": "python",
   "pygments_lexer": "ipython3",
   "version": "3.10.13"
  }
 },
 "nbformat": 4,
 "nbformat_minor": 5
}
