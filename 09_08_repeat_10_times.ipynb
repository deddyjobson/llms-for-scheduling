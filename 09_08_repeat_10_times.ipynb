{
 "cells": [
  {
   "cell_type": "code",
   "execution_count": 1,
   "id": "f52b3bca-8da1-4f3a-bf58-9633cf4d371d",
   "metadata": {
    "tags": []
   },
   "outputs": [],
   "source": [
    "import numpy as np\n",
    "from io import StringIO"
   ]
  },
  {
   "cell_type": "code",
   "execution_count": 2,
   "id": "f2fd0ef6-a7a3-4593-abf4-83147c572e11",
   "metadata": {},
   "outputs": [],
   "source": [
    "import openai\n",
    "\n",
    "with open(\"secret/secret_key_file.txt\", 'r') as file:\n",
    "    api_key = file.read().strip()\n",
    "\n",
    "client = openai.OpenAI(api_key = api_key)"
   ]
  },
  {
   "cell_type": "code",
   "execution_count": 3,
   "id": "5f1c7ebb-2229-4c01-866f-d118967680c2",
   "metadata": {
    "tags": []
   },
   "outputs": [],
   "source": [
    "import matplotlib.pyplot as plt\n",
    "import pandas as pd\n",
    "import re\n",
    "from bs4 import BeautifulSoup\n",
    "\n",
    "# Without error capture to ensure the output (whether success or failure) is reported back.\n",
    "# Attempt to read tables from the HTML file using pandas\n",
    "file_path = \"data/Program - MSR 2022.html\""
   ]
  },
  {
   "cell_type": "code",
   "execution_count": 4,
   "id": "12541858-24bc-4f76-b116-ad9f40cc98cf",
   "metadata": {
    "tags": []
   },
   "outputs": [],
   "source": [
    "with open(file_path, 'r') as file:\n",
    "    html_content = file.read()"
   ]
  },
  {
   "cell_type": "code",
   "execution_count": 5,
   "id": "3320d105-9782-4253-baba-3c70a948c8c2",
   "metadata": {
    "tags": []
   },
   "outputs": [],
   "source": [
    "soup = BeautifulSoup(html_content, 'lxml')"
   ]
  },
  {
   "cell_type": "code",
   "execution_count": 6,
   "id": "326b1a65-9233-4e11-b07d-7e8d956c7bb8",
   "metadata": {
    "tags": []
   },
   "outputs": [],
   "source": [
    "rows = soup.find_all('tr', class_='hidable')"
   ]
  },
  {
   "cell_type": "code",
   "execution_count": 7,
   "id": "cf114e01-0846-40e7-aebe-1e52de2e5c34",
   "metadata": {
    "tags": []
   },
   "outputs": [],
   "source": [
    "# Regex to match date pattern (e.g., \"Tue 16 May\")\n",
    "date_pattern = re.compile(r\"\\b(?:Mon|Tue|Wed|Thu|Fri|Sat|Sun)\\s\\d{1,2}\\s(?:Jan|Feb|Mar|Apr|May|Jun|Jul|Aug|Sep|Oct|Nov|Dec)\")"
   ]
  },
  {
   "cell_type": "code",
   "execution_count": 8,
   "id": "c1f56910-958e-4ddd-9d1f-67c8247b226b",
   "metadata": {
    "tags": []
   },
   "outputs": [
    {
     "data": {
      "text/html": [
       "<div>\n",
       "<style scoped>\n",
       "    .dataframe tbody tr th:only-of-type {\n",
       "        vertical-align: middle;\n",
       "    }\n",
       "\n",
       "    .dataframe tbody tr th {\n",
       "        vertical-align: top;\n",
       "    }\n",
       "\n",
       "    .dataframe thead th {\n",
       "        text-align: right;\n",
       "    }\n",
       "</style>\n",
       "<table border=\"1\" class=\"dataframe\">\n",
       "  <thead>\n",
       "    <tr style=\"text-align: right;\">\n",
       "      <th></th>\n",
       "      <th>Time</th>\n",
       "      <th>Duration</th>\n",
       "      <th>Talk Title</th>\n",
       "      <th>Link</th>\n",
       "      <th>Authors</th>\n",
       "      <th>Session</th>\n",
       "      <th>Date</th>\n",
       "    </tr>\n",
       "  </thead>\n",
       "  <tbody>\n",
       "    <tr>\n",
       "      <th>0</th>\n",
       "      <td>22:00</td>\n",
       "      <td>4m</td>\n",
       "      <td>An Empirical Evaluation of GitHub Copilot’s Co...</td>\n",
       "      <td>#</td>\n",
       "      <td>[Nhan Nguyen, Sarah Nadi]</td>\n",
       "      <td>Session 1Technical Papers/Registered Reportsat...</td>\n",
       "      <td>Tue 17 May</td>\n",
       "    </tr>\n",
       "    <tr>\n",
       "      <th>1</th>\n",
       "      <td>22:04</td>\n",
       "      <td>4m</td>\n",
       "      <td>Comments on Comments: Where Code Review and Do...</td>\n",
       "      <td>#</td>\n",
       "      <td>[Nikitha Rao, Jason Tsay, Martin Hirzel, Vince...</td>\n",
       "      <td>Session 1Technical Papers/Registered Reportsat...</td>\n",
       "      <td>Tue 17 May</td>\n",
       "    </tr>\n",
       "    <tr>\n",
       "      <th>2</th>\n",
       "      <td>22:08</td>\n",
       "      <td>7m</td>\n",
       "      <td>Does This Apply to Me? An Empirical Study of T...</td>\n",
       "      <td>#</td>\n",
       "      <td>[Akalanka Galappaththi, Sarah Nadi, Christoph ...</td>\n",
       "      <td>Session 1Technical Papers/Registered Reportsat...</td>\n",
       "      <td>Tue 17 May</td>\n",
       "    </tr>\n",
       "    <tr>\n",
       "      <th>3</th>\n",
       "      <td>22:15</td>\n",
       "      <td>7m</td>\n",
       "      <td>Towards Reliable Agile Iterative Planning via ...</td>\n",
       "      <td>#</td>\n",
       "      <td>[Jirat Pasuksmit, Patanamon Thongtanunam, Shan...</td>\n",
       "      <td>Session 1Technical Papers/Registered Reportsat...</td>\n",
       "      <td>Tue 17 May</td>\n",
       "    </tr>\n",
       "    <tr>\n",
       "      <th>4</th>\n",
       "      <td>22:22</td>\n",
       "      <td>7m</td>\n",
       "      <td>BotHunter: An Approach to Detect Software Bots...</td>\n",
       "      <td>#</td>\n",
       "      <td>[Ahmad Abdellatif, Mairieli Wessel, Igor Stein...</td>\n",
       "      <td>Session 1Technical Papers/Registered Reportsat...</td>\n",
       "      <td>Tue 17 May</td>\n",
       "    </tr>\n",
       "  </tbody>\n",
       "</table>\n",
       "</div>"
      ],
      "text/plain": [
       "    Time Duration                                         Talk Title Link  \\\n",
       "0  22:00       4m  An Empirical Evaluation of GitHub Copilot’s Co...    #   \n",
       "1  22:04       4m  Comments on Comments: Where Code Review and Do...    #   \n",
       "2  22:08       7m  Does This Apply to Me? An Empirical Study of T...    #   \n",
       "3  22:15       7m  Towards Reliable Agile Iterative Planning via ...    #   \n",
       "4  22:22       7m  BotHunter: An Approach to Detect Software Bots...    #   \n",
       "\n",
       "                                             Authors  \\\n",
       "0                          [Nhan Nguyen, Sarah Nadi]   \n",
       "1  [Nikitha Rao, Jason Tsay, Martin Hirzel, Vince...   \n",
       "2  [Akalanka Galappaththi, Sarah Nadi, Christoph ...   \n",
       "3  [Jirat Pasuksmit, Patanamon Thongtanunam, Shan...   \n",
       "4  [Ahmad Abdellatif, Mairieli Wessel, Igor Stein...   \n",
       "\n",
       "                                             Session        Date  \n",
       "0  Session 1Technical Papers/Registered Reportsat...  Tue 17 May  \n",
       "1  Session 1Technical Papers/Registered Reportsat...  Tue 17 May  \n",
       "2  Session 1Technical Papers/Registered Reportsat...  Tue 17 May  \n",
       "3  Session 1Technical Papers/Registered Reportsat...  Tue 17 May  \n",
       "4  Session 1Technical Papers/Registered Reportsat...  Tue 17 May  "
      ]
     },
     "execution_count": 8,
     "metadata": {},
     "output_type": "execute_result"
    }
   ],
   "source": [
    "extracted_rows = []\n",
    "\n",
    "# Loop through each row to extract required details\n",
    "for row in rows:\n",
    "    temp_row = []\n",
    "    \n",
    "    # Extract session details from parent div if not already extracted\n",
    "    session_div = row.find_previous('div', class_='session-info-in-table')\n",
    "    session = session_div.get_text(strip=True) if session_div else ''\n",
    "    \n",
    "    datetime_info = row.find('td', class_='text-right')\n",
    "    talk_info = row.find_all('td')[-1]\n",
    "    \n",
    "    if datetime_info and talk_info:\n",
    "        time = datetime_info.find('div', class_='start-time').get_text(strip=True) if datetime_info.find('div', class_='start-time') else ''\n",
    "        duration = datetime_info.find('strong').get_text(strip=True) if datetime_info.find('strong') else ''\n",
    "        \n",
    "        # Calculate end time based on start time and duration if needed\n",
    "        \n",
    "        temp_row.append(time)\n",
    "        # temp_row.append(end_time)  # Calculate and append end time if needed\n",
    "        temp_row.append(duration)\n",
    "        \n",
    "        talk_title = talk_info.find('strong')\n",
    "        if talk_title:\n",
    "            temp_row.append(talk_title.get_text(strip=True))\n",
    "            \n",
    "            link = talk_title.find('a', href=True)\n",
    "            temp_row.append(link['href'] if link else '')\n",
    "        else:\n",
    "            temp_row.extend(['', ''])\n",
    "            \n",
    "        # Extract authors\n",
    "        authors_div = talk_info.find('div', class_='performers')\n",
    "        authors = [author.get_text(strip=True) for author in authors_div.find_all('a')] if authors_div else []\n",
    "        temp_row.append(authors)\n",
    "        \n",
    "        # Append session information\n",
    "        temp_row.append(session)\n",
    "        \n",
    "        # Locate date information\n",
    "        # Tip: You may need to adjust how you locate the 'date information' based on your HTML structure\n",
    "        date_info = row.find_previous('div', class_='day-wrapper')\n",
    "        if date_info:\n",
    "            date_text = date_info.get_text(strip=True)\n",
    "            matched_date = date_pattern.search(date_text)\n",
    "            date = matched_date.group(0) if matched_date else \"Date Not Found\"\n",
    "        else:\n",
    "            date = None\n",
    "        temp_row.append(date)\n",
    "        \n",
    "        extracted_rows.append(temp_row)\n",
    "\n",
    "columns = ['Time', 'Duration', 'Talk Title', 'Link', 'Authors', 'Session', 'Date']\n",
    "df = pd.DataFrame(extracted_rows, columns=columns)\n",
    "\n",
    "df.head()"
   ]
  },
  {
   "cell_type": "code",
   "execution_count": 9,
   "id": "0cbbcd35-7fe8-4c81-a61f-83b25fe0bef5",
   "metadata": {
    "tags": []
   },
   "outputs": [
    {
     "data": {
      "text/html": [
       "<div>\n",
       "<style scoped>\n",
       "    .dataframe tbody tr th:only-of-type {\n",
       "        vertical-align: middle;\n",
       "    }\n",
       "\n",
       "    .dataframe tbody tr th {\n",
       "        vertical-align: top;\n",
       "    }\n",
       "\n",
       "    .dataframe thead th {\n",
       "        text-align: right;\n",
       "    }\n",
       "</style>\n",
       "<table border=\"1\" class=\"dataframe\">\n",
       "  <thead>\n",
       "    <tr style=\"text-align: right;\">\n",
       "      <th></th>\n",
       "      <th>session</th>\n",
       "      <th>date</th>\n",
       "      <th>start_time</th>\n",
       "      <th>end_time</th>\n",
       "      <th>duration</th>\n",
       "      <th>talk_title</th>\n",
       "      <th>authors</th>\n",
       "    </tr>\n",
       "  </thead>\n",
       "  <tbody>\n",
       "    <tr>\n",
       "      <th>0</th>\n",
       "      <td>Session 1Technical Papers/Registered Reportsat...</td>\n",
       "      <td>Tue 17 May</td>\n",
       "      <td>1900-05-17 22:00:00</td>\n",
       "      <td>1900-05-17 22:04:00</td>\n",
       "      <td>4</td>\n",
       "      <td>An Empirical Evaluation of GitHub Copilot’s Co...</td>\n",
       "      <td>[Nhan Nguyen, Sarah Nadi]</td>\n",
       "    </tr>\n",
       "    <tr>\n",
       "      <th>1</th>\n",
       "      <td>Session 1Technical Papers/Registered Reportsat...</td>\n",
       "      <td>Tue 17 May</td>\n",
       "      <td>1900-05-17 22:04:00</td>\n",
       "      <td>1900-05-17 22:08:00</td>\n",
       "      <td>4</td>\n",
       "      <td>Comments on Comments: Where Code Review and Do...</td>\n",
       "      <td>[Nikitha Rao, Jason Tsay, Martin Hirzel, Vince...</td>\n",
       "    </tr>\n",
       "    <tr>\n",
       "      <th>2</th>\n",
       "      <td>Session 1Technical Papers/Registered Reportsat...</td>\n",
       "      <td>Tue 17 May</td>\n",
       "      <td>1900-05-17 22:08:00</td>\n",
       "      <td>1900-05-17 22:15:00</td>\n",
       "      <td>7</td>\n",
       "      <td>Does This Apply to Me? An Empirical Study of T...</td>\n",
       "      <td>[Akalanka Galappaththi, Sarah Nadi, Christoph ...</td>\n",
       "    </tr>\n",
       "    <tr>\n",
       "      <th>3</th>\n",
       "      <td>Session 1Technical Papers/Registered Reportsat...</td>\n",
       "      <td>Tue 17 May</td>\n",
       "      <td>1900-05-17 22:15:00</td>\n",
       "      <td>1900-05-17 22:22:00</td>\n",
       "      <td>7</td>\n",
       "      <td>Towards Reliable Agile Iterative Planning via ...</td>\n",
       "      <td>[Jirat Pasuksmit, Patanamon Thongtanunam, Shan...</td>\n",
       "    </tr>\n",
       "    <tr>\n",
       "      <th>4</th>\n",
       "      <td>Session 1Technical Papers/Registered Reportsat...</td>\n",
       "      <td>Tue 17 May</td>\n",
       "      <td>1900-05-17 22:22:00</td>\n",
       "      <td>1900-05-17 22:29:00</td>\n",
       "      <td>7</td>\n",
       "      <td>BotHunter: An Approach to Detect Software Bots...</td>\n",
       "      <td>[Ahmad Abdellatif, Mairieli Wessel, Igor Stein...</td>\n",
       "    </tr>\n",
       "  </tbody>\n",
       "</table>\n",
       "</div>"
      ],
      "text/plain": [
       "                                             session        date  \\\n",
       "0  Session 1Technical Papers/Registered Reportsat...  Tue 17 May   \n",
       "1  Session 1Technical Papers/Registered Reportsat...  Tue 17 May   \n",
       "2  Session 1Technical Papers/Registered Reportsat...  Tue 17 May   \n",
       "3  Session 1Technical Papers/Registered Reportsat...  Tue 17 May   \n",
       "4  Session 1Technical Papers/Registered Reportsat...  Tue 17 May   \n",
       "\n",
       "           start_time            end_time  duration  \\\n",
       "0 1900-05-17 22:00:00 1900-05-17 22:04:00         4   \n",
       "1 1900-05-17 22:04:00 1900-05-17 22:08:00         4   \n",
       "2 1900-05-17 22:08:00 1900-05-17 22:15:00         7   \n",
       "3 1900-05-17 22:15:00 1900-05-17 22:22:00         7   \n",
       "4 1900-05-17 22:22:00 1900-05-17 22:29:00         7   \n",
       "\n",
       "                                          talk_title  \\\n",
       "0  An Empirical Evaluation of GitHub Copilot’s Co...   \n",
       "1  Comments on Comments: Where Code Review and Do...   \n",
       "2  Does This Apply to Me? An Empirical Study of T...   \n",
       "3  Towards Reliable Agile Iterative Planning via ...   \n",
       "4  BotHunter: An Approach to Detect Software Bots...   \n",
       "\n",
       "                                             authors  \n",
       "0                          [Nhan Nguyen, Sarah Nadi]  \n",
       "1  [Nikitha Rao, Jason Tsay, Martin Hirzel, Vince...  \n",
       "2  [Akalanka Galappaththi, Sarah Nadi, Christoph ...  \n",
       "3  [Jirat Pasuksmit, Patanamon Thongtanunam, Shan...  \n",
       "4  [Ahmad Abdellatif, Mairieli Wessel, Igor Stein...  "
      ]
     },
     "execution_count": 9,
     "metadata": {},
     "output_type": "execute_result"
    }
   ],
   "source": [
    "# Convert all column names to lowercase and replace spaces with hyphens\n",
    "df.columns = [col.lower().replace(' ', '_') for col in df.columns]\n",
    "\n",
    "# Put date first\n",
    "df = df[['date'] + [col for col in df.columns if col != 'date']]\n",
    "\n",
    "# Convert Time to start_time as datetime and calculate end_time\n",
    "df['start_time'] = pd.to_datetime(df['date'] + ' ' + df['time'], format='%a %d %b %H:%M')\n",
    "df['duration'] = df['duration'].str.extract('(\\d+)').astype(int)  # Extract duration in minutes\n",
    "df['end_time'] = df['start_time'] + pd.to_timedelta(df['duration'], unit='m')\n",
    "\n",
    "# Delete the Link column\n",
    "df = df.drop(['link', 'time'], axis=1)\n",
    "\n",
    "# Move Authors column to the last position\n",
    "df = df[[col for col in df.columns if col != 'authors'] + ['authors']]\n",
    "\n",
    "df = df[['session', 'date', 'start_time', 'end_time', 'duration', 'talk_title','authors']]\n",
    "\n",
    "# Display the final data frame\n",
    "df.head()"
   ]
  },
  {
   "cell_type": "code",
   "execution_count": 10,
   "id": "d27a617a-ec1a-4177-9e80-4c7d1667de41",
   "metadata": {},
   "outputs": [
    {
     "data": {
      "text/html": [
       "<div>\n",
       "<style scoped>\n",
       "    .dataframe tbody tr th:only-of-type {\n",
       "        vertical-align: middle;\n",
       "    }\n",
       "\n",
       "    .dataframe tbody tr th {\n",
       "        vertical-align: top;\n",
       "    }\n",
       "\n",
       "    .dataframe thead th {\n",
       "        text-align: right;\n",
       "    }\n",
       "</style>\n",
       "<table border=\"1\" class=\"dataframe\">\n",
       "  <thead>\n",
       "    <tr style=\"text-align: right;\">\n",
       "      <th></th>\n",
       "      <th>session</th>\n",
       "      <th>date</th>\n",
       "      <th>start_time</th>\n",
       "      <th>end_time</th>\n",
       "      <th>duration</th>\n",
       "      <th>talk_title</th>\n",
       "      <th>authors</th>\n",
       "    </tr>\n",
       "  </thead>\n",
       "  <tbody>\n",
       "    <tr>\n",
       "      <th>0</th>\n",
       "      <td>Session 1Technical Papers/Registered Reportsat...</td>\n",
       "      <td>Tue 17 May</td>\n",
       "      <td>-36619320</td>\n",
       "      <td>-36619316</td>\n",
       "      <td>4</td>\n",
       "      <td>An Empirical Evaluation of GitHub Copilot’s Co...</td>\n",
       "      <td>[Nhan Nguyen, Sarah Nadi]</td>\n",
       "    </tr>\n",
       "    <tr>\n",
       "      <th>1</th>\n",
       "      <td>Session 1Technical Papers/Registered Reportsat...</td>\n",
       "      <td>Tue 17 May</td>\n",
       "      <td>-36619316</td>\n",
       "      <td>-36619312</td>\n",
       "      <td>4</td>\n",
       "      <td>Comments on Comments: Where Code Review and Do...</td>\n",
       "      <td>[Nikitha Rao, Jason Tsay, Martin Hirzel, Vince...</td>\n",
       "    </tr>\n",
       "    <tr>\n",
       "      <th>2</th>\n",
       "      <td>Session 1Technical Papers/Registered Reportsat...</td>\n",
       "      <td>Tue 17 May</td>\n",
       "      <td>-36619312</td>\n",
       "      <td>-36619305</td>\n",
       "      <td>7</td>\n",
       "      <td>Does This Apply to Me? An Empirical Study of T...</td>\n",
       "      <td>[Akalanka Galappaththi, Sarah Nadi, Christoph ...</td>\n",
       "    </tr>\n",
       "    <tr>\n",
       "      <th>3</th>\n",
       "      <td>Session 1Technical Papers/Registered Reportsat...</td>\n",
       "      <td>Tue 17 May</td>\n",
       "      <td>-36619305</td>\n",
       "      <td>-36619298</td>\n",
       "      <td>7</td>\n",
       "      <td>Towards Reliable Agile Iterative Planning via ...</td>\n",
       "      <td>[Jirat Pasuksmit, Patanamon Thongtanunam, Shan...</td>\n",
       "    </tr>\n",
       "    <tr>\n",
       "      <th>4</th>\n",
       "      <td>Session 1Technical Papers/Registered Reportsat...</td>\n",
       "      <td>Tue 17 May</td>\n",
       "      <td>-36619298</td>\n",
       "      <td>-36619291</td>\n",
       "      <td>7</td>\n",
       "      <td>BotHunter: An Approach to Detect Software Bots...</td>\n",
       "      <td>[Ahmad Abdellatif, Mairieli Wessel, Igor Stein...</td>\n",
       "    </tr>\n",
       "  </tbody>\n",
       "</table>\n",
       "</div>"
      ],
      "text/plain": [
       "                                             session        date  start_time  \\\n",
       "0  Session 1Technical Papers/Registered Reportsat...  Tue 17 May   -36619320   \n",
       "1  Session 1Technical Papers/Registered Reportsat...  Tue 17 May   -36619316   \n",
       "2  Session 1Technical Papers/Registered Reportsat...  Tue 17 May   -36619312   \n",
       "3  Session 1Technical Papers/Registered Reportsat...  Tue 17 May   -36619305   \n",
       "4  Session 1Technical Papers/Registered Reportsat...  Tue 17 May   -36619298   \n",
       "\n",
       "   end_time  duration                                         talk_title  \\\n",
       "0 -36619316         4  An Empirical Evaluation of GitHub Copilot’s Co...   \n",
       "1 -36619312         4  Comments on Comments: Where Code Review and Do...   \n",
       "2 -36619305         7  Does This Apply to Me? An Empirical Study of T...   \n",
       "3 -36619298         7  Towards Reliable Agile Iterative Planning via ...   \n",
       "4 -36619291         7  BotHunter: An Approach to Detect Software Bots...   \n",
       "\n",
       "                                             authors  \n",
       "0                          [Nhan Nguyen, Sarah Nadi]  \n",
       "1  [Nikitha Rao, Jason Tsay, Martin Hirzel, Vince...  \n",
       "2  [Akalanka Galappaththi, Sarah Nadi, Christoph ...  \n",
       "3  [Jirat Pasuksmit, Patanamon Thongtanunam, Shan...  \n",
       "4  [Ahmad Abdellatif, Mairieli Wessel, Igor Stein...  "
      ]
     },
     "execution_count": 10,
     "metadata": {},
     "output_type": "execute_result"
    }
   ],
   "source": [
    "df['start_time'] = pd.to_datetime(df['start_time']).astype(int) // 10**9 // 60\n",
    "df['end_time'] = pd.to_datetime(df['end_time']).astype(int) // 10**9 // 60\n",
    "\n",
    "df.head()"
   ]
  },
  {
   "cell_type": "code",
   "execution_count": 11,
   "id": "ce7fa989-65a3-44d2-9354-f5b7da361991",
   "metadata": {
    "tags": []
   },
   "outputs": [
    {
     "data": {
      "text/plain": [
       "(187, 7)"
      ]
     },
     "execution_count": 11,
     "metadata": {},
     "output_type": "execute_result"
    }
   ],
   "source": [
    "df.shape"
   ]
  },
  {
   "cell_type": "code",
   "execution_count": 12,
   "id": "937f76b1-f8d1-4fb4-bc76-6812ef57f298",
   "metadata": {},
   "outputs": [],
   "source": [
    "sessions = df.groupby(\"session\").size()\n",
    "valid_sessions = sessions[sessions>3].index\n",
    "df = df[df.session.isin(valid_sessions)]"
   ]
  },
  {
   "cell_type": "code",
   "execution_count": 13,
   "id": "338e357c-cd3a-4241-8635-c594425e280a",
   "metadata": {
    "tags": []
   },
   "outputs": [],
   "source": [
    "delete_talk_title = \"Discussions and Q&A\"\n",
    "df = df[df.talk_title!=delete_talk_title]"
   ]
  },
  {
   "cell_type": "code",
   "execution_count": 14,
   "id": "3fe5da9c-8e5f-4d12-bf0a-c3133cf13158",
   "metadata": {
    "tags": []
   },
   "outputs": [],
   "source": [
    "df = df[~df.session.str.startswith(\"Blended\")]"
   ]
  },
  {
   "cell_type": "code",
   "execution_count": 15,
   "id": "d21121ba-2349-494f-bddf-18d93d325335",
   "metadata": {
    "tags": []
   },
   "outputs": [
    {
     "data": {
      "text/plain": [
       "(125, 7)"
      ]
     },
     "execution_count": 15,
     "metadata": {},
     "output_type": "execute_result"
    }
   ],
   "source": [
    "df.shape"
   ]
  },
  {
   "cell_type": "code",
   "execution_count": 16,
   "id": "e0bc286c-d50c-4eb6-94b4-43708b997b85",
   "metadata": {
    "tags": []
   },
   "outputs": [
    {
     "data": {
      "text/plain": [
       "session       object\n",
       "date          object\n",
       "start_time     int64\n",
       "end_time       int64\n",
       "duration       int64\n",
       "talk_title    object\n",
       "authors       object\n",
       "dtype: object"
      ]
     },
     "execution_count": 16,
     "metadata": {},
     "output_type": "execute_result"
    }
   ],
   "source": [
    "df.dtypes"
   ]
  },
  {
   "cell_type": "code",
   "execution_count": 17,
   "id": "4e5a9caa-71d0-49aa-ac7c-347d1d5077d4",
   "metadata": {
    "tags": []
   },
   "outputs": [
    {
     "data": {
      "text/html": [
       "<div>\n",
       "<style scoped>\n",
       "    .dataframe tbody tr th:only-of-type {\n",
       "        vertical-align: middle;\n",
       "    }\n",
       "\n",
       "    .dataframe tbody tr th {\n",
       "        vertical-align: top;\n",
       "    }\n",
       "\n",
       "    .dataframe thead th {\n",
       "        text-align: right;\n",
       "    }\n",
       "</style>\n",
       "<table border=\"1\" class=\"dataframe\">\n",
       "  <thead>\n",
       "    <tr style=\"text-align: right;\">\n",
       "      <th></th>\n",
       "      <th>date</th>\n",
       "      <th>total_duration</th>\n",
       "    </tr>\n",
       "  </thead>\n",
       "  <tbody>\n",
       "    <tr>\n",
       "      <th>0</th>\n",
       "      <td>Fri 20 May</td>\n",
       "      <td>147</td>\n",
       "    </tr>\n",
       "    <tr>\n",
       "      <th>1</th>\n",
       "      <td>Thu 19 May</td>\n",
       "      <td>314</td>\n",
       "    </tr>\n",
       "    <tr>\n",
       "      <th>2</th>\n",
       "      <td>Tue 17 May</td>\n",
       "      <td>36</td>\n",
       "    </tr>\n",
       "    <tr>\n",
       "      <th>3</th>\n",
       "      <td>Wed 18 May</td>\n",
       "      <td>238</td>\n",
       "    </tr>\n",
       "  </tbody>\n",
       "</table>\n",
       "</div>"
      ],
      "text/plain": [
       "         date  total_duration\n",
       "0  Fri 20 May             147\n",
       "1  Thu 19 May             314\n",
       "2  Tue 17 May              36\n",
       "3  Wed 18 May             238"
      ]
     },
     "execution_count": 17,
     "metadata": {},
     "output_type": "execute_result"
    }
   ],
   "source": [
    "def merge_intervals(intervals):\n",
    "    if not intervals:\n",
    "        return 0\n",
    "    \n",
    "    # Sort intervals by the start time\n",
    "    intervals.sort(key=lambda x: x[0])\n",
    "    \n",
    "    merged = [intervals[0]]\n",
    "    for current_start, current_end in intervals[1:]:\n",
    "        last_end = merged[-1][1]\n",
    "        \n",
    "        if current_start <= last_end:\n",
    "            # There's an overlap, extend the previous interval\n",
    "            merged[-1] = (merged[-1][0], max(last_end, current_end))\n",
    "        else:\n",
    "            # No overlap, add this interval as is\n",
    "            merged.append((current_start, current_end))\n",
    "    \n",
    "    # Compute total duration in minutes (or another unit as desired)\n",
    "    total_duration_minutes = sum((end - start) for start, end in merged)   # convert seconds to minutes\n",
    "    return total_duration_minutes\n",
    "\n",
    "total_durations = []\n",
    "\n",
    "for date, group in df.groupby('date'):\n",
    "    intervals = list(zip(group['start_time'], group['end_time']))\n",
    "    total_duration = merge_intervals(intervals)\n",
    "    total_durations.append({'date': date, 'total_duration': total_duration})\n",
    "\n",
    "# Converting the result into a DataFrame\n",
    "total_duration_df = pd.DataFrame(total_durations)\n",
    "\n",
    "total_duration_df"
   ]
  },
  {
   "cell_type": "code",
   "execution_count": 18,
   "id": "8ea0bf22-5d87-4f8c-bf6a-6301eb5da164",
   "metadata": {
    "tags": []
   },
   "outputs": [
    {
     "data": {
      "text/html": [
       "<div>\n",
       "<style scoped>\n",
       "    .dataframe tbody tr th:only-of-type {\n",
       "        vertical-align: middle;\n",
       "    }\n",
       "\n",
       "    .dataframe tbody tr th {\n",
       "        vertical-align: top;\n",
       "    }\n",
       "\n",
       "    .dataframe thead th {\n",
       "        text-align: right;\n",
       "    }\n",
       "</style>\n",
       "<table border=\"1\" class=\"dataframe\">\n",
       "  <thead>\n",
       "    <tr style=\"text-align: right;\">\n",
       "      <th></th>\n",
       "      <th>date</th>\n",
       "      <th>duration</th>\n",
       "    </tr>\n",
       "  </thead>\n",
       "  <tbody>\n",
       "    <tr>\n",
       "      <th>0</th>\n",
       "      <td>Fri 20 May</td>\n",
       "      <td>147</td>\n",
       "    </tr>\n",
       "    <tr>\n",
       "      <th>1</th>\n",
       "      <td>Thu 19 May</td>\n",
       "      <td>314</td>\n",
       "    </tr>\n",
       "    <tr>\n",
       "      <th>2</th>\n",
       "      <td>Tue 17 May</td>\n",
       "      <td>36</td>\n",
       "    </tr>\n",
       "    <tr>\n",
       "      <th>3</th>\n",
       "      <td>Wed 18 May</td>\n",
       "      <td>238</td>\n",
       "    </tr>\n",
       "  </tbody>\n",
       "</table>\n",
       "</div>"
      ],
      "text/plain": [
       "         date  duration\n",
       "0  Fri 20 May       147\n",
       "1  Thu 19 May       314\n",
       "2  Tue 17 May        36\n",
       "3  Wed 18 May       238"
      ]
     },
     "execution_count": 18,
     "metadata": {},
     "output_type": "execute_result"
    }
   ],
   "source": [
    "dates = df.groupby(\"date\")[\"duration\"].sum().reset_index()\n",
    "\n",
    "\n",
    "dates"
   ]
  },
  {
   "cell_type": "markdown",
   "id": "1b506b7e-c251-4d69-a4ae-efa64d2eb59a",
   "metadata": {},
   "source": [
    "## Get Schedule through GPT\n"
   ]
  },
  {
   "cell_type": "code",
   "execution_count": 19,
   "id": "6fd44b47-dad4-441b-b1f2-c693ed2a96c2",
   "metadata": {},
   "outputs": [],
   "source": [
    "NUM_SESSION_LIST = [2,3,5,10,len(df.session.unique())] # number of sessions we will consider\n",
    "SESSION_SIZE_LIST = [2, 5, 10] # number of papers in each session. 10 = \"All papers\".  "
   ]
  },
  {
   "cell_type": "code",
   "execution_count": 20,
   "id": "2545a34d-9d55-47d3-8a9e-0d99765f8b54",
   "metadata": {},
   "outputs": [],
   "source": [
    "N_ITERATIONS = 10 # we want to get confidence intervals"
   ]
  },
  {
   "cell_type": "code",
   "execution_count": 21,
   "id": "66f27966-a5f1-4e84-8ad6-0bf79a88bac9",
   "metadata": {},
   "outputs": [
    {
     "name": "stdout",
     "output_type": "stream",
     "text": [
      "\n",
      "Program creation is the process of taking all the accepted papers to a conference and allocating a presentation slot for each paper with parallel sessions. \n",
      "The PC chairs of a conference typically do this manually. \n",
      "Assign sessions to the following papers based on the following constraints:\n",
      "1. The total length of all paper presentations within a session should be less than or equal to the length of the session they are in. \n",
      "2. No new sessions should be added. \n",
      "3. The \"Discussions and Q&A\" event\n"
     ]
    }
   ],
   "source": [
    "prompt_template = \"\"\"\n",
    "Program creation is the process of taking all the accepted papers to a conference and allocating a presentation slot for each paper with parallel sessions. \n",
    "The PC chairs of a conference typically do this manually. \n",
    "Assign sessions to the following papers based on the following constraints:\n",
    "1. The total length of all paper presentations within a session should be less than or equal to the length of the session they are in. \n",
    "2. No new sessions should be added. \n",
    "3. The \"Discussions and Q&A\" event should only be at the end of a session if present. \n",
    "4. All papers must be assigned to some session. \n",
    "\n",
    "The output should contain the schedule in the form of the csv representation of a data frame. This csv representation should be in three quotes (```) on both sides so that I can easily extract it from your result and make a data frame. \n",
    "Example output format(use as many rows as the actual number of papers):\n",
    "\n",
    "```\n",
    "session@talk_title@duration\n",
    "231@An Empirical Study on Maintainable Method Size in Java@7\n",
    "223@Improve Quality of Cloud Serverless Architectures through Software Repository Mining@7\n",
    "15@Extracting corrective actions from code repositories@7\n",
    "15@How to Improve Deep Learning for Software Analytics (a case study with code smell detection)@7\n",
    "11@ReCover: a Curated Dataset for Regression Testing Research@4\n",
    "```\n",
    "\n",
    "The list of paper and session titles are below: \n",
    "\n",
    "Session Lengths:\n",
    "{sessions_df_string}\n",
    "\n",
    "Paper durations:\n",
    "{papers_df_string}\n",
    "\n",
    "\n",
    "Make sure, above all else, that your response is formatted as requested, with the proper headers.\n",
    "\n",
    "\"\"\"\n",
    "\n",
    "# Print the start_prompt to verify\n",
    "print(prompt_template[:500])"
   ]
  },
  {
   "cell_type": "code",
   "execution_count": 22,
   "id": "d9f9efaf-1500-4f9c-9429-524c6b094788",
   "metadata": {},
   "outputs": [],
   "source": [
    "def evaluate_schedule(df_human, df_llm):\n",
    "    sessions_human = df_human.groupby(\"session\")[\"duration\"].sum().sort_values(ascending=False)\n",
    "    sessions_llm = df_llm.groupby(\"session\")[\"duration\"].sum().sort_values(ascending=False)\n",
    "    \n",
    "    result = {}\n",
    "    \n",
    "    result[\"constraint_num_papers_error\"] = len(df_llm) - len(df_human) \n",
    "    result[\"constraint_num_sessions_error\"] = len(sessions_llm) - len(sessions_human)\n",
    "    \n",
    "    # Iterate and compare values\n",
    "    for idx, session_duration_llm in sessions_llm.items():\n",
    "        if idx-1 < len(sessions_human):\n",
    "            session_duration_human = sessions_human.iloc[idx-1]\n",
    "            result[f\"constraint_error_session_{idx}_duration\"] = session_duration_llm - session_duration_human \n",
    "            result[f\"constraint_error_session_{idx}_duration_reasonable\"] = session_duration_llm / session_duration_human - 1 <= 0.1\n",
    "        else:\n",
    "            result[f\"constraint_error_session_{idx}_duration\"] = np.inf\n",
    "            result[f\"constraint_error_session_{idx}_duration_reasonable\"] = False\n",
    "\n",
    "    \n",
    "    return result\n"
   ]
  },
  {
   "cell_type": "code",
   "execution_count": 23,
   "id": "4fc15005-cc68-473f-b21e-e8e848d8c32b",
   "metadata": {},
   "outputs": [],
   "source": [
    "def get_llm_schedule(df):\n",
    "    sessions = df.groupby(\"session\")[\"duration\"].sum()\n",
    "    sessions_sorted = sessions.sort_values(ascending=False)\n",
    "\n",
    "    prompt = prompt_template.format(\n",
    "        sessions_df_string = sessions.to_string(index=False)\n",
    "        ,papers_df_string = df[[\"talk_title\",\"duration\"]].to_string(index=False)\n",
    "    )\n",
    "\n",
    "    response = client.chat.completions.create(\n",
    "    model= \"gpt-4-0125-preview\", #\"gpt-3.5-turbo-0125\",  # You can switch this to \"gpt-4-turbo-preview\", \"gpt-3.5-turbo-0125\"\n",
    "        messages=[\n",
    "            {\n",
    "                \"role\": \"user\",\n",
    "                \"content\": prompt\n",
    "            },\n",
    "        ],\n",
    "        temperature=0.8,\n",
    "        # max_tokens=256,\n",
    "        top_p=1,\n",
    "        frequency_penalty=0,\n",
    "        presence_penalty=0\n",
    "    )\n",
    "    ans_string = response.choices[0].message.content\n",
    "    \n",
    "    match = re.search(\"```\\n(.*?)\\n```\", ans_string, re.DOTALL)\n",
    "    if match:\n",
    "        csv_string = match.group(1)  # Extract the actual CSV data\n",
    "        # print(\"Extracted CSV:\\n\", csv_string)\n",
    "\n",
    "        # Convert the CSV string to a DataFrame\n",
    "        # StringIO is used to convert the string to a file-like object\n",
    "        df_results = pd.read_csv(StringIO(csv_string), sep=\"@\")\n",
    "        \n",
    "\n",
    "        # print(\"Got the df!\")\n",
    "    else:\n",
    "        print(\"No CSV data found in the string. Abort!\")\n",
    "        print(ans_string[:200])\n",
    "        raise ValueError\n",
    "        \n",
    "    # print(df_results.head())\n",
    "    try:\n",
    "        evaluation = evaluate_schedule(df, df_results)\n",
    "    except:\n",
    "        print(df_results.head())\n",
    "        raise ValueError \n",
    "        \n",
    "    return df_results, evaluate_schedule(df, df_results)\n"
   ]
  },
  {
   "cell_type": "code",
   "execution_count": 24,
   "id": "e1c49f76-ab74-4984-9277-8805f0697ee0",
   "metadata": {
    "tags": []
   },
   "outputs": [],
   "source": [
    "all_results = {}\n",
    "for num_sessions in NUM_SESSION_LIST:\n",
    "    for session_size in SESSION_SIZE_LIST:\n",
    "        sampled_sessions = np.random.choice(df['session'].unique(), size=num_sessions, replace=False)\n",
    "\n",
    "        # Loop over these selected sessions and sample the required number of papers\n",
    "        session_samples = []\n",
    "        for session in sampled_sessions:\n",
    "            papers = df[df['session'] == session]\n",
    "            # If there are fewer papers than the required session_size, we take all available, repeating if necessary\n",
    "            sampled_papers = papers.sample(n=len(papers)) if len(papers) < session_size else papers.sample(n=session_size)\n",
    "            session_samples.append(sampled_papers)\n",
    "\n",
    "        # Now we store the sampled data\n",
    "        df_dataset = pd.concat(session_samples)\n",
    "\n",
    "        for iteration in range(N_ITERATIONS):\n",
    "            try:\n",
    "                all_results[(num_sessions, session_size, iteration)] = df_dataset, get_llm_schedule(df_dataset), 1\n",
    "            except ValueError: # try once more\n",
    "                try:\n",
    "                    all_results[(num_sessions, session_size, iteration)] = df_dataset, get_llm_schedule(df_dataset), 1\n",
    "                except ValueError: # Give up and report failure. \n",
    "                    all_results[(num_sessions, session_size,iteration)] = {}, 0\n",
    "                    print(f\"Give up this one, {(num_sessions, session_size, iteration)}\")\n",
    "            \n"
   ]
  },
  {
   "cell_type": "code",
   "execution_count": 26,
   "id": "1ac00de8-c13e-43b3-8766-86a2f635cb9c",
   "metadata": {
    "tags": []
   },
   "outputs": [],
   "source": [
    "from sklearn.metrics import homogeneity_score, completeness_score"
   ]
  },
  {
   "cell_type": "code",
   "execution_count": 35,
   "id": "3d2b5aa8-829c-478f-8ef8-dfc4a28e0016",
   "metadata": {
    "tags": []
   },
   "outputs": [
    {
     "data": {
      "text/html": [
       "<div>\n",
       "<style scoped>\n",
       "    .dataframe tbody tr th:only-of-type {\n",
       "        vertical-align: middle;\n",
       "    }\n",
       "\n",
       "    .dataframe tbody tr th {\n",
       "        vertical-align: top;\n",
       "    }\n",
       "\n",
       "    .dataframe thead th {\n",
       "        text-align: right;\n",
       "    }\n",
       "</style>\n",
       "<table border=\"1\" class=\"dataframe\">\n",
       "  <thead>\n",
       "    <tr style=\"text-align: right;\">\n",
       "      <th></th>\n",
       "      <th>session</th>\n",
       "      <th>date</th>\n",
       "      <th>start_time</th>\n",
       "      <th>end_time</th>\n",
       "      <th>duration</th>\n",
       "      <th>talk_title</th>\n",
       "      <th>authors</th>\n",
       "    </tr>\n",
       "  </thead>\n",
       "  <tbody>\n",
       "    <tr>\n",
       "      <th>93</th>\n",
       "      <td>Vision &amp; Reflections Track: PastTechnical Pape...</td>\n",
       "      <td>Thu 19 May</td>\n",
       "      <td>-36617030</td>\n",
       "      <td>-36617020</td>\n",
       "      <td>10</td>\n",
       "      <td>Engineering the MSR Field and the Joy of Research</td>\n",
       "      <td>[Ahmed E. Hassan]</td>\n",
       "    </tr>\n",
       "    <tr>\n",
       "      <th>95</th>\n",
       "      <td>Vision &amp; Reflections Track: PastTechnical Pape...</td>\n",
       "      <td>Thu 19 May</td>\n",
       "      <td>-36617010</td>\n",
       "      <td>-36616989</td>\n",
       "      <td>21</td>\n",
       "      <td>Discussion</td>\n",
       "      <td>[]</td>\n",
       "    </tr>\n",
       "    <tr>\n",
       "      <th>21</th>\n",
       "      <td>Mining ChallengeMining Challenge/Technical Pap...</td>\n",
       "      <td>Wed 18 May</td>\n",
       "      <td>-36618480</td>\n",
       "      <td>-36618476</td>\n",
       "      <td>4</td>\n",
       "      <td>An Exploratory Study on Refactoring Documentat...</td>\n",
       "      <td>[Eman Abdullah AlOmar, Anthony Peruma, Mohamed...</td>\n",
       "    </tr>\n",
       "    <tr>\n",
       "      <th>22</th>\n",
       "      <td>Mining ChallengeMining Challenge/Technical Pap...</td>\n",
       "      <td>Wed 18 May</td>\n",
       "      <td>-36618476</td>\n",
       "      <td>-36618472</td>\n",
       "      <td>4</td>\n",
       "      <td>Between JIRA and GitHub: ASFBot and its Influe...</td>\n",
       "      <td>[Ambarish Moharil, Dmitrii Orlov, Samar Jameel...</td>\n",
       "    </tr>\n",
       "  </tbody>\n",
       "</table>\n",
       "</div>"
      ],
      "text/plain": [
       "                                              session        date  start_time  \\\n",
       "93  Vision & Reflections Track: PastTechnical Pape...  Thu 19 May   -36617030   \n",
       "95  Vision & Reflections Track: PastTechnical Pape...  Thu 19 May   -36617010   \n",
       "21  Mining ChallengeMining Challenge/Technical Pap...  Wed 18 May   -36618480   \n",
       "22  Mining ChallengeMining Challenge/Technical Pap...  Wed 18 May   -36618476   \n",
       "\n",
       "    end_time  duration                                         talk_title  \\\n",
       "93 -36617020        10  Engineering the MSR Field and the Joy of Research   \n",
       "95 -36616989        21                                         Discussion   \n",
       "21 -36618476         4  An Exploratory Study on Refactoring Documentat...   \n",
       "22 -36618472         4  Between JIRA and GitHub: ASFBot and its Influe...   \n",
       "\n",
       "                                              authors  \n",
       "93                                  [Ahmed E. Hassan]  \n",
       "95                                                 []  \n",
       "21  [Eman Abdullah AlOmar, Anthony Peruma, Mohamed...  \n",
       "22  [Ambarish Moharil, Dmitrii Orlov, Samar Jameel...  "
      ]
     },
     "execution_count": 35,
     "metadata": {},
     "output_type": "execute_result"
    }
   ],
   "source": [
    "all_results[2,2,0][0]"
   ]
  },
  {
   "cell_type": "code",
   "execution_count": 43,
   "id": "a463e6fe-d672-43e7-be44-300234aa934e",
   "metadata": {
    "tags": []
   },
   "outputs": [
    {
     "data": {
      "text/html": [
       "<div>\n",
       "<style scoped>\n",
       "    .dataframe tbody tr th:only-of-type {\n",
       "        vertical-align: middle;\n",
       "    }\n",
       "\n",
       "    .dataframe tbody tr th {\n",
       "        vertical-align: top;\n",
       "    }\n",
       "\n",
       "    .dataframe thead th {\n",
       "        text-align: right;\n",
       "    }\n",
       "</style>\n",
       "<table border=\"1\" class=\"dataframe\">\n",
       "  <thead>\n",
       "    <tr style=\"text-align: right;\">\n",
       "      <th></th>\n",
       "      <th>session</th>\n",
       "      <th>date</th>\n",
       "      <th>start_time</th>\n",
       "      <th>end_time</th>\n",
       "      <th>duration</th>\n",
       "      <th>talk_title</th>\n",
       "      <th>authors</th>\n",
       "    </tr>\n",
       "  </thead>\n",
       "  <tbody>\n",
       "    <tr>\n",
       "      <th>119</th>\n",
       "      <td>Session 14: Software QualityTechnical Papers/I...</td>\n",
       "      <td>Fri 20 May</td>\n",
       "      <td>-36616062</td>\n",
       "      <td>-36616055</td>\n",
       "      <td>7</td>\n",
       "      <td>Using Bandit Algorithms for Selecting Feature ...</td>\n",
       "      <td>[Masateru Tsunoda, Akito Monden, Koji Toda, Am...</td>\n",
       "    </tr>\n",
       "    <tr>\n",
       "      <th>117</th>\n",
       "      <td>Session 14: Software QualityTechnical Papers/I...</td>\n",
       "      <td>Fri 20 May</td>\n",
       "      <td>-36616076</td>\n",
       "      <td>-36616069</td>\n",
       "      <td>7</td>\n",
       "      <td>Problems and Solutions in Applying Continuous ...</td>\n",
       "      <td>[Fiorella Zampetti, Vittoria Nardone, Massimil...</td>\n",
       "    </tr>\n",
       "    <tr>\n",
       "      <th>121</th>\n",
       "      <td>Session 14: Software QualityTechnical Papers/I...</td>\n",
       "      <td>Fri 20 May</td>\n",
       "      <td>-36616051</td>\n",
       "      <td>-36616044</td>\n",
       "      <td>7</td>\n",
       "      <td>Extracting corrective actions from code reposi...</td>\n",
       "      <td>[Yegor Bugayenko, Kirill Daniakin, Mirko Farin...</td>\n",
       "    </tr>\n",
       "    <tr>\n",
       "      <th>116</th>\n",
       "      <td>Session 14: Software QualityTechnical Papers/I...</td>\n",
       "      <td>Fri 20 May</td>\n",
       "      <td>-36616080</td>\n",
       "      <td>-36616076</td>\n",
       "      <td>4</td>\n",
       "      <td>Evaluating the effectiveness of local explanat...</td>\n",
       "      <td>[Yuxiang Gao, Yi Zhu, Qiao YU]</td>\n",
       "    </tr>\n",
       "    <tr>\n",
       "      <th>118</th>\n",
       "      <td>Session 14: Software QualityTechnical Papers/I...</td>\n",
       "      <td>Fri 20 May</td>\n",
       "      <td>-36616069</td>\n",
       "      <td>-36616062</td>\n",
       "      <td>7</td>\n",
       "      <td>To Type or Not to Type? A Systematic Compariso...</td>\n",
       "      <td>[Justus Bogner, Manuel Merkel]</td>\n",
       "    </tr>\n",
       "  </tbody>\n",
       "</table>\n",
       "</div>"
      ],
      "text/plain": [
       "                                               session        date  \\\n",
       "119  Session 14: Software QualityTechnical Papers/I...  Fri 20 May   \n",
       "117  Session 14: Software QualityTechnical Papers/I...  Fri 20 May   \n",
       "121  Session 14: Software QualityTechnical Papers/I...  Fri 20 May   \n",
       "116  Session 14: Software QualityTechnical Papers/I...  Fri 20 May   \n",
       "118  Session 14: Software QualityTechnical Papers/I...  Fri 20 May   \n",
       "\n",
       "     start_time  end_time  duration  \\\n",
       "119   -36616062 -36616055         7   \n",
       "117   -36616076 -36616069         7   \n",
       "121   -36616051 -36616044         7   \n",
       "116   -36616080 -36616076         4   \n",
       "118   -36616069 -36616062         7   \n",
       "\n",
       "                                            talk_title  \\\n",
       "119  Using Bandit Algorithms for Selecting Feature ...   \n",
       "117  Problems and Solutions in Applying Continuous ...   \n",
       "121  Extracting corrective actions from code reposi...   \n",
       "116  Evaluating the effectiveness of local explanat...   \n",
       "118  To Type or Not to Type? A Systematic Compariso...   \n",
       "\n",
       "                                               authors  \n",
       "119  [Masateru Tsunoda, Akito Monden, Koji Toda, Am...  \n",
       "117  [Fiorella Zampetti, Vittoria Nardone, Massimil...  \n",
       "121  [Yegor Bugayenko, Kirill Daniakin, Mirko Farin...  \n",
       "116                     [Yuxiang Gao, Yi Zhu, Qiao YU]  \n",
       "118                     [Justus Bogner, Manuel Merkel]  "
      ]
     },
     "execution_count": 43,
     "metadata": {},
     "output_type": "execute_result"
    }
   ],
   "source": [
    "df_ground_truth.head()"
   ]
  },
  {
   "cell_type": "code",
   "execution_count": 81,
   "id": "c2e1058d-a7b7-47b7-b9e9-7b66a9633f2e",
   "metadata": {
    "tags": []
   },
   "outputs": [
    {
     "data": {
      "text/html": [
       "<div>\n",
       "<style scoped>\n",
       "    .dataframe tbody tr th:only-of-type {\n",
       "        vertical-align: middle;\n",
       "    }\n",
       "\n",
       "    .dataframe tbody tr th {\n",
       "        vertical-align: top;\n",
       "    }\n",
       "\n",
       "    .dataframe thead th {\n",
       "        text-align: right;\n",
       "    }\n",
       "</style>\n",
       "<table border=\"1\" class=\"dataframe\">\n",
       "  <thead>\n",
       "    <tr style=\"text-align: right;\">\n",
       "      <th></th>\n",
       "    </tr>\n",
       "  </thead>\n",
       "  <tbody>\n",
       "  </tbody>\n",
       "</table>\n",
       "</div>"
      ],
      "text/plain": [
       "Empty DataFrame\n",
       "Columns: []\n",
       "Index: []"
      ]
     },
     "execution_count": 81,
     "metadata": {},
     "output_type": "execute_result"
    }
   ],
   "source": [
    "import pandas as pd\n",
    "from sklearn.metrics import homogeneity_score, completeness_score\n",
    "import random\n",
    "import string\n",
    "\n",
    "scores = []\n",
    "\n",
    "def generate_random_string(length=8):\n",
    "    \"\"\"Generates a random string of fixed length\"\"\"\n",
    "    letters = string.ascii_letters \n",
    "    random_string = ''.join(random.choice(letters) for i in range(length))\n",
    "    return random_string\n",
    "\n",
    "def fill_nan_with_random_string(df, length=8):\n",
    "    \"\"\"Fills NaN values in the DataFrame with a random alphanumeric string\"\"\"\n",
    "    return df.apply(lambda x: generate_random_string(length) if pd.isna(x) else x)\n",
    "\n",
    "\n",
    "for key, value in all_results.items():\n",
    "    if value[1] != 0:  # check if the result from get_llm_schedule and not a failure\n",
    "        df_ground_truth, df_predicted, evaluation = value\n",
    "        df_predicted = df_predicted[0]\n",
    "        \n",
    "        df_merged = df_predicted.merge(df_ground_truth, how='outer', on=\"talk_title\")\n",
    "        df_merged[\"random_string_array_x\"] = pd.util.testing.rands_array(10, len(df_merged))\n",
    "        df_merged[\"random_string_array_y\"] = pd.util.testing.rands_array(11, len(df_merged))\n",
    "        \n",
    "\n",
    "        df_merged[\"session_x\"] = df[\"session_x\"].fillna(df[\"random_string_array_x\"])\n",
    "        df_merged[\"session_y\"] = df[\"session_y\"].fillna(df[\"random_string_array_y\"])\n",
    "\n",
    "        gt_sessions = df_merged['session_x'].astype(str)\n",
    "        pred_sessions = df_merged['session_y'].astype(str)\n",
    "\n",
    "        homogeneity = homogeneity_score(gt_sessions, pred_sessions)\n",
    "        completeness = completeness_score(gt_sessions, pred_sessions)\n",
    "\n",
    "        scores.append({\"params\": key,\n",
    "                       \"homogeneity\": homogeneity,\n",
    "                       \"completeness\": completeness})\n",
    "    else:\n",
    "        scores.append({\"params\": key,\n",
    "                       \"homogeneity\": None,\n",
    "                       \"completeness\": None})\n",
    "\n",
    "# Now, let's use our function\n",
    "score_df = pd.DataFrame(scores)\n",
    "score_df.head()"
   ]
  },
  {
   "cell_type": "code",
   "execution_count": 75,
   "id": "fa83b12f-48cd-4654-a1de-db0cdeee3918",
   "metadata": {
    "tags": []
   },
   "outputs": [
    {
     "data": {
      "text/plain": [
       "[]"
      ]
     },
     "execution_count": 75,
     "metadata": {},
     "output_type": "execute_result"
    }
   ],
   "source": [
    "scores"
   ]
  },
  {
   "cell_type": "code",
   "execution_count": 52,
   "id": "d5bdcc0f-f16f-438d-a197-e9dcc61c2d08",
   "metadata": {
    "tags": []
   },
   "outputs": [],
   "source": [
    "# Setting 'params' column as the index\n",
    "score_df.set_index('params', inplace=True)\n",
    "\n",
    "# Define a function to extract the last element of each tuple index\n",
    "get_last_element = lambda x: x[:2]\n",
    "\n",
    "# Grouping by the last element of the tuple index\n",
    "grouped = score_df.groupby(get_last_element)  \n",
    "\n",
    "# Compute mean and standard deviation for each group\n",
    "mean_df = grouped.mean()\n",
    "std_dev_df = grouped.std()\n"
   ]
  },
  {
   "cell_type": "code",
   "execution_count": 53,
   "id": "dac00257-3390-4cc8-8879-039c73ef5195",
   "metadata": {
    "tags": []
   },
   "outputs": [
    {
     "name": "stdout",
     "output_type": "stream",
     "text": [
      "Group Means:\n"
     ]
    },
    {
     "data": {
      "text/html": [
       "<div>\n",
       "<style scoped>\n",
       "    .dataframe tbody tr th:only-of-type {\n",
       "        vertical-align: middle;\n",
       "    }\n",
       "\n",
       "    .dataframe tbody tr th {\n",
       "        vertical-align: top;\n",
       "    }\n",
       "\n",
       "    .dataframe thead th {\n",
       "        text-align: right;\n",
       "    }\n",
       "</style>\n",
       "<table border=\"1\" class=\"dataframe\">\n",
       "  <thead>\n",
       "    <tr style=\"text-align: right;\">\n",
       "      <th></th>\n",
       "      <th>homogeneity</th>\n",
       "      <th>completeness</th>\n",
       "    </tr>\n",
       "  </thead>\n",
       "  <tbody>\n",
       "    <tr>\n",
       "      <th>(2, 2)</th>\n",
       "      <td>1.000000</td>\n",
       "      <td>1.000000</td>\n",
       "    </tr>\n",
       "    <tr>\n",
       "      <th>(2, 5)</th>\n",
       "      <td>0.125647</td>\n",
       "      <td>0.124902</td>\n",
       "    </tr>\n",
       "    <tr>\n",
       "      <th>(2, 10)</th>\n",
       "      <td>0.703427</td>\n",
       "      <td>0.003222</td>\n",
       "    </tr>\n",
       "    <tr>\n",
       "      <th>(3, 2)</th>\n",
       "      <td>0.507046</td>\n",
       "      <td>0.287590</td>\n",
       "    </tr>\n",
       "    <tr>\n",
       "      <th>(3, 5)</th>\n",
       "      <td>0.395894</td>\n",
       "      <td>0.383582</td>\n",
       "    </tr>\n",
       "    <tr>\n",
       "      <th>(3, 10)</th>\n",
       "      <td>0.612743</td>\n",
       "      <td>0.607722</td>\n",
       "    </tr>\n",
       "    <tr>\n",
       "      <th>(5, 2)</th>\n",
       "      <td>0.834035</td>\n",
       "      <td>0.476410</td>\n",
       "    </tr>\n",
       "    <tr>\n",
       "      <th>(5, 5)</th>\n",
       "      <td>0.634905</td>\n",
       "      <td>0.614951</td>\n",
       "    </tr>\n",
       "    <tr>\n",
       "      <th>(5, 10)</th>\n",
       "      <td>0.565188</td>\n",
       "      <td>0.557542</td>\n",
       "    </tr>\n",
       "    <tr>\n",
       "      <th>(10, 2)</th>\n",
       "      <td>0.776508</td>\n",
       "      <td>0.715613</td>\n",
       "    </tr>\n",
       "    <tr>\n",
       "      <th>(10, 5)</th>\n",
       "      <td>0.696770</td>\n",
       "      <td>0.698455</td>\n",
       "    </tr>\n",
       "    <tr>\n",
       "      <th>(10, 10)</th>\n",
       "      <td>0.784278</td>\n",
       "      <td>0.775360</td>\n",
       "    </tr>\n",
       "    <tr>\n",
       "      <th>(20, 2)</th>\n",
       "      <td>0.803661</td>\n",
       "      <td>0.782935</td>\n",
       "    </tr>\n",
       "    <tr>\n",
       "      <th>(20, 5)</th>\n",
       "      <td>0.694226</td>\n",
       "      <td>0.563158</td>\n",
       "    </tr>\n",
       "    <tr>\n",
       "      <th>(20, 10)</th>\n",
       "      <td>0.742774</td>\n",
       "      <td>0.585594</td>\n",
       "    </tr>\n",
       "  </tbody>\n",
       "</table>\n",
       "</div>"
      ],
      "text/plain": [
       "          homogeneity  completeness\n",
       "(2, 2)       1.000000      1.000000\n",
       "(2, 5)       0.125647      0.124902\n",
       "(2, 10)      0.703427      0.003222\n",
       "(3, 2)       0.507046      0.287590\n",
       "(3, 5)       0.395894      0.383582\n",
       "(3, 10)      0.612743      0.607722\n",
       "(5, 2)       0.834035      0.476410\n",
       "(5, 5)       0.634905      0.614951\n",
       "(5, 10)      0.565188      0.557542\n",
       "(10, 2)      0.776508      0.715613\n",
       "(10, 5)      0.696770      0.698455\n",
       "(10, 10)     0.784278      0.775360\n",
       "(20, 2)      0.803661      0.782935\n",
       "(20, 5)      0.694226      0.563158\n",
       "(20, 10)     0.742774      0.585594"
      ]
     },
     "execution_count": 53,
     "metadata": {},
     "output_type": "execute_result"
    }
   ],
   "source": [
    "print(\"Group Means:\")\n",
    "mean_df"
   ]
  },
  {
   "cell_type": "code",
   "execution_count": 54,
   "id": "34db7fc2-3e7c-4ad4-9498-e22d29ea72ec",
   "metadata": {
    "tags": []
   },
   "outputs": [
    {
     "name": "stdout",
     "output_type": "stream",
     "text": [
      "\n",
      "Group Standard Deviations:\n"
     ]
    },
    {
     "data": {
      "text/html": [
       "<div>\n",
       "<style scoped>\n",
       "    .dataframe tbody tr th:only-of-type {\n",
       "        vertical-align: middle;\n",
       "    }\n",
       "\n",
       "    .dataframe tbody tr th {\n",
       "        vertical-align: top;\n",
       "    }\n",
       "\n",
       "    .dataframe thead th {\n",
       "        text-align: right;\n",
       "    }\n",
       "</style>\n",
       "<table border=\"1\" class=\"dataframe\">\n",
       "  <thead>\n",
       "    <tr style=\"text-align: right;\">\n",
       "      <th></th>\n",
       "      <th>homogeneity</th>\n",
       "      <th>completeness</th>\n",
       "    </tr>\n",
       "  </thead>\n",
       "  <tbody>\n",
       "    <tr>\n",
       "      <th>(2, 2)</th>\n",
       "      <td>0.000000</td>\n",
       "      <td>0.000000</td>\n",
       "    </tr>\n",
       "    <tr>\n",
       "      <th>(2, 5)</th>\n",
       "      <td>0.311808</td>\n",
       "      <td>0.311805</td>\n",
       "    </tr>\n",
       "    <tr>\n",
       "      <th>(2, 10)</th>\n",
       "      <td>0.477551</td>\n",
       "      <td>0.006793</td>\n",
       "    </tr>\n",
       "    <tr>\n",
       "      <th>(3, 2)</th>\n",
       "      <td>0.244367</td>\n",
       "      <td>0.156358</td>\n",
       "    </tr>\n",
       "    <tr>\n",
       "      <th>(3, 5)</th>\n",
       "      <td>0.053435</td>\n",
       "      <td>0.051837</td>\n",
       "    </tr>\n",
       "    <tr>\n",
       "      <th>(3, 10)</th>\n",
       "      <td>0.212654</td>\n",
       "      <td>0.205687</td>\n",
       "    </tr>\n",
       "    <tr>\n",
       "      <th>(5, 2)</th>\n",
       "      <td>0.038026</td>\n",
       "      <td>0.062425</td>\n",
       "    </tr>\n",
       "    <tr>\n",
       "      <th>(5, 5)</th>\n",
       "      <td>0.205610</td>\n",
       "      <td>0.199105</td>\n",
       "    </tr>\n",
       "    <tr>\n",
       "      <th>(5, 10)</th>\n",
       "      <td>0.230398</td>\n",
       "      <td>0.229832</td>\n",
       "    </tr>\n",
       "    <tr>\n",
       "      <th>(10, 2)</th>\n",
       "      <td>0.077955</td>\n",
       "      <td>0.130139</td>\n",
       "    </tr>\n",
       "    <tr>\n",
       "      <th>(10, 5)</th>\n",
       "      <td>0.056192</td>\n",
       "      <td>0.066777</td>\n",
       "    </tr>\n",
       "    <tr>\n",
       "      <th>(10, 10)</th>\n",
       "      <td>0.033413</td>\n",
       "      <td>0.044400</td>\n",
       "    </tr>\n",
       "    <tr>\n",
       "      <th>(20, 2)</th>\n",
       "      <td>0.024668</td>\n",
       "      <td>0.027896</td>\n",
       "    </tr>\n",
       "    <tr>\n",
       "      <th>(20, 5)</th>\n",
       "      <td>0.095307</td>\n",
       "      <td>0.201047</td>\n",
       "    </tr>\n",
       "    <tr>\n",
       "      <th>(20, 10)</th>\n",
       "      <td>0.064486</td>\n",
       "      <td>0.209801</td>\n",
       "    </tr>\n",
       "  </tbody>\n",
       "</table>\n",
       "</div>"
      ],
      "text/plain": [
       "          homogeneity  completeness\n",
       "(2, 2)       0.000000      0.000000\n",
       "(2, 5)       0.311808      0.311805\n",
       "(2, 10)      0.477551      0.006793\n",
       "(3, 2)       0.244367      0.156358\n",
       "(3, 5)       0.053435      0.051837\n",
       "(3, 10)      0.212654      0.205687\n",
       "(5, 2)       0.038026      0.062425\n",
       "(5, 5)       0.205610      0.199105\n",
       "(5, 10)      0.230398      0.229832\n",
       "(10, 2)      0.077955      0.130139\n",
       "(10, 5)      0.056192      0.066777\n",
       "(10, 10)     0.033413      0.044400\n",
       "(20, 2)      0.024668      0.027896\n",
       "(20, 5)      0.095307      0.201047\n",
       "(20, 10)     0.064486      0.209801"
      ]
     },
     "execution_count": 54,
     "metadata": {},
     "output_type": "execute_result"
    }
   ],
   "source": [
    "print(\"\\nGroup Standard Deviations:\")\n",
    "std_dev_df"
   ]
  },
  {
   "cell_type": "markdown",
   "id": "210daa66-5e75-4597-ac27-24cd89064d34",
   "metadata": {},
   "source": [
    "## Plotting the homogeneity and Completeness Scores"
   ]
  },
  {
   "cell_type": "code",
   "execution_count": 57,
   "id": "0d2c687f-8124-4eb9-90b8-1f3e0ef4b766",
   "metadata": {
    "tags": []
   },
   "outputs": [],
   "source": [
    "import seaborn as sns"
   ]
  },
  {
   "cell_type": "code",
   "execution_count": 55,
   "id": "169d260e-d1e4-47d4-a8e4-5efb350fb1cc",
   "metadata": {
    "tags": []
   },
   "outputs": [
    {
     "data": {
      "text/html": [
       "<div>\n",
       "<style scoped>\n",
       "    .dataframe tbody tr th:only-of-type {\n",
       "        vertical-align: middle;\n",
       "    }\n",
       "\n",
       "    .dataframe tbody tr th {\n",
       "        vertical-align: top;\n",
       "    }\n",
       "\n",
       "    .dataframe thead th {\n",
       "        text-align: right;\n",
       "    }\n",
       "</style>\n",
       "<table border=\"1\" class=\"dataframe\">\n",
       "  <thead>\n",
       "    <tr style=\"text-align: right;\">\n",
       "      <th></th>\n",
       "      <th>homogeneity</th>\n",
       "      <th>completeness</th>\n",
       "      <th>num_sessions</th>\n",
       "      <th>session_size</th>\n",
       "      <th>iteration</th>\n",
       "    </tr>\n",
       "  </thead>\n",
       "  <tbody>\n",
       "    <tr>\n",
       "      <th>0</th>\n",
       "      <td>1.0</td>\n",
       "      <td>1.0</td>\n",
       "      <td>2</td>\n",
       "      <td>2</td>\n",
       "      <td>0</td>\n",
       "    </tr>\n",
       "    <tr>\n",
       "      <th>1</th>\n",
       "      <td>1.0</td>\n",
       "      <td>1.0</td>\n",
       "      <td>2</td>\n",
       "      <td>2</td>\n",
       "      <td>1</td>\n",
       "    </tr>\n",
       "    <tr>\n",
       "      <th>2</th>\n",
       "      <td>1.0</td>\n",
       "      <td>1.0</td>\n",
       "      <td>2</td>\n",
       "      <td>2</td>\n",
       "      <td>2</td>\n",
       "    </tr>\n",
       "    <tr>\n",
       "      <th>3</th>\n",
       "      <td>1.0</td>\n",
       "      <td>1.0</td>\n",
       "      <td>2</td>\n",
       "      <td>2</td>\n",
       "      <td>3</td>\n",
       "    </tr>\n",
       "    <tr>\n",
       "      <th>4</th>\n",
       "      <td>1.0</td>\n",
       "      <td>1.0</td>\n",
       "      <td>2</td>\n",
       "      <td>2</td>\n",
       "      <td>4</td>\n",
       "    </tr>\n",
       "  </tbody>\n",
       "</table>\n",
       "</div>"
      ],
      "text/plain": [
       "   homogeneity  completeness  num_sessions  session_size  iteration\n",
       "0          1.0           1.0             2             2          0\n",
       "1          1.0           1.0             2             2          1\n",
       "2          1.0           1.0             2             2          2\n",
       "3          1.0           1.0             2             2          3\n",
       "4          1.0           1.0             2             2          4"
      ]
     },
     "execution_count": 55,
     "metadata": {},
     "output_type": "execute_result"
    }
   ],
   "source": [
    "# Unpacking the tuple-index (which we assume is a multi-index right now)\n",
    "score_df.reset_index(inplace=True)\n",
    "score_df[['num_sessions', 'session_size', 'iteration']] = pd.DataFrame(score_df['params'].tolist(), index=score_df.index)\n",
    "\n",
    "# Drop the 'params' as it now redundant\n",
    "score_df.drop(columns=\"params\", inplace=True)\n",
    "score_df.head()"
   ]
  },
  {
   "cell_type": "code",
   "execution_count": 60,
   "id": "44de627e-06de-4ce5-9c5b-dfbda40bef39",
   "metadata": {
    "tags": []
   },
   "outputs": [
    {
     "data": {
      "image/png": "[encoded data removed]",
      "text/plain": [
       "<Figure size 1600x1200 with 1 Axes>"
      ]
     },
     "metadata": {},
     "output_type": "display_data"
    }
   ],
   "source": [
    "# Homogeneity scores by number of sessions\n",
    "plt.figure(dpi=250)\n",
    "plt.subplot(1, 2, 1)\n",
    "sns.boxplot(data=score_df, x='num_sessions', y='homogeneity')\n",
    "plt.title('Homogeneity Scores by Number of Sessions')\n",
    "plt.xlabel('Number of Sessions')\n",
    "plt.ylabel('Homogeneity Score')\n",
    "plt.savefig(\"images/homogeneity_vs_numsessions.png\")\n",
    "plt.show()"
   ]
  },
  {
   "cell_type": "code",
   "execution_count": 61,
   "id": "ab022a1f-f525-45c4-ac7d-1467955e471f",
   "metadata": {
    "tags": []
   },
   "outputs": [
    {
     "data": {
      "image/png": "[encoded data removed]",
      "text/plain": [
       "<Figure size 1600x1200 with 1 Axes>"
      ]
     },
     "metadata": {},
     "output_type": "display_data"
    }
   ],
   "source": [
    "# Homogeneity scores by number of sessions\n",
    "plt.figure(dpi=250)\n",
    "sns.boxplot(data=score_df, x='num_sessions', y='completeness')\n",
    "plt.title('Completeness Scores by Number of Sessions')\n",
    "plt.xlabel('Number of Sessions')\n",
    "plt.ylabel('Completeness Score')\n",
    "plt.savefig(\"images/completeness_vs_numsessions.png\")\n",
    "plt.show()"
   ]
  },
  {
   "cell_type": "code",
   "execution_count": null,
   "id": "ec2d2497-b9bb-42ec-8b18-a42807eb4487",
   "metadata": {},
   "outputs": [],
   "source": [
    "# Homogeneity scores by number of sessions\n",
    "plt.figure(dpi=250)\n",
    "sns.boxplot(data=score_df, x='num_sessions', y='completeness')\n",
    "plt.title('Completeness Scores by Number of Sessions')\n",
    "plt.xlabel('Number of Sessions')\n",
    "plt.ylabel('Completeness Score')\n",
    "plt.savefig(\"images/completeness_vs_numsessions.png\")\n",
    "plt.show()"
   ]
  },
  {
   "cell_type": "code",
   "execution_count": 64,
   "id": "14911904-3b11-4837-90c8-7fe84cc8c6af",
   "metadata": {
    "tags": []
   },
   "outputs": [
    {
     "data": {
      "image/png": "[encoded data removed]",
      "text/plain": [
       "<Figure size 1400x700 with 2 Axes>"
      ]
     },
     "metadata": {},
     "output_type": "display_data"
    },
    {
     "data": {
      "image/png": "[encoded data removed]",
      "text/plain": [
       "<Figure size 1400x700 with 2 Axes>"
      ]
     },
     "metadata": {},
     "output_type": "display_data"
    }
   ],
   "source": [
    "plt.figure(figsize=(14, 7))\n",
    "\n",
    "# Homogeneity scores by number of sessions\n",
    "plt.subplot(1, 2, 1)\n",
    "sns.boxplot(data=score_df, x='num_sessions', y='homogeneity')\n",
    "plt.title('Homogeneity Scores by Number of Sessions')\n",
    "plt.xlabel('Number of Sessions')\n",
    "plt.ylabel('Homogeneity Score')\n",
    "\n",
    "# Completeness scores by number of sessions\n",
    "plt.subplot(1, 2, 2)\n",
    "sns.boxplot(data=score_df, x='num_sessions', y='completeness')\n",
    "plt.title('Completeness Scores by Number of Sessions')\n",
    "plt.xlabel('Number of Sessions')\n",
    "plt.ylabel('Completeness Score')\n",
    "plt.savefig(\"images/homogeneity.png\")\n",
    "\n",
    "plt.tight_layout()\n",
    "plt.show()\n",
    "\n",
    "# Similarly for session size, plotting\n",
    "plt.figure(figsize=(14, 7))\n",
    "\n",
    "# Homogeneity scores by session size\n",
    "plt.subplot(1, 2, 1)\n",
    "sns.boxplot(data=score_df, x='session_size', y='homogeneity')\n",
    "plt.title('Homogeneity Scores by Session Size')\n",
    "plt.xlabel('Session Size')\n",
    "plt.ylabel('Homogeneity Score')\n",
    "\n",
    "# Completeness scores by session size\n",
    "plt.subplot(1, 2, 2)\n",
    "sns.boxplot(data=score_df, x='session_size', y='completeness')\n",
    "plt.title('Completeness Scores by Session Size')\n",
    "plt.xlabel('Session Size')\n",
    "plt.ylabel('Completeness Score')\n",
    "\n",
    "plt.savefig(\"images/completeness.png\")\n",
    "\n",
    "plt.tight_layout()\n",
    "plt.show()"
   ]
  },
  {
   "cell_type": "code",
   "execution_count": null,
   "id": "fdf88aee-9ba2-4283-acc3-dabdb8205620",
   "metadata": {},
   "outputs": [],
   "source": []
  },
  {
   "cell_type": "code",
   "execution_count": null,
   "id": "ac38a053-876b-4e5e-a577-d3c9d319302f",
   "metadata": {},
   "outputs": [],
   "source": []
  },
  {
   "cell_type": "code",
   "execution_count": null,
   "id": "9850ee7e-bfde-45f6-ada7-fea171b8f605",
   "metadata": {},
   "outputs": [],
   "source": []
  },
  {
   "cell_type": "code",
   "execution_count": null,
   "id": "6da48943-d096-40cd-8570-e06c3e80deb5",
   "metadata": {},
   "outputs": [],
   "source": []
  },
  {
   "cell_type": "code",
   "execution_count": null,
   "id": "c713b2d6-a383-4ce1-ab97-3d0403f873bf",
   "metadata": {},
   "outputs": [],
   "source": []
  },
  {
   "cell_type": "code",
   "execution_count": null,
   "id": "acf055f0-83c2-41fb-ae24-df071d1df16b",
   "metadata": {},
   "outputs": [],
   "source": []
  },
  {
   "cell_type": "code",
   "execution_count": null,
   "id": "0b462cf1-e40a-4fda-a044-bdf1f932c860",
   "metadata": {},
   "outputs": [],
   "source": []
  },
  {
   "cell_type": "code",
   "execution_count": null,
   "id": "b546cdee-4105-488e-bb4d-0d8a51bcf449",
   "metadata": {},
   "outputs": [],
   "source": []
  },
  {
   "cell_type": "code",
   "execution_count": null,
   "id": "62be2363-b873-400e-9596-3cff7e322f1d",
   "metadata": {},
   "outputs": [],
   "source": []
  },
  {
   "cell_type": "code",
   "execution_count": null,
   "id": "4c5f360b-34eb-4c4f-a776-d9b773da8631",
   "metadata": {},
   "outputs": [],
   "source": []
  },
  {
   "cell_type": "code",
   "execution_count": null,
   "id": "c20b1832-fe6d-4b8a-aa08-363756223117",
   "metadata": {},
   "outputs": [],
   "source": []
  },
  {
   "cell_type": "code",
   "execution_count": null,
   "id": "ee08de3d-b69e-492b-bad0-e73c410c8fd2",
   "metadata": {},
   "outputs": [],
   "source": []
  }
 ],
 "metadata": {
  "environment": {
   "kernel": "python3",
   "name": ".m116",
   "type": "gcloud",
   "uri": "gcr.io/deeplearning-platform-release/:m116"
  },
  "kernelspec": {
   "display_name": "Python 3",
   "language": "python",
   "name": "python3"
  },
  "language_info": {
   "codemirror_mode": {
    "name": "ipython",
    "version": 3
   },
   "file_extension": ".py",
   "mimetype": "text/x-python",
   "name": "python",
   "nbconvert_exporter": "python",
   "pygments_lexer": "ipython3",
   "version": "3.10.13"
  }
 },
 "nbformat": 4,
 "nbformat_minor": 5
}
