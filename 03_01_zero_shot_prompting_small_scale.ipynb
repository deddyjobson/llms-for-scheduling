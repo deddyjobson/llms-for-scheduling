{
 "cells": [
  {
   "cell_type": "code",
   "execution_count": 1,
   "id": "f52b3bca-8da1-4f3a-bf58-9633cf4d371d",
   "metadata": {
    "tags": []
   },
   "outputs": [],
   "source": [
    "import numpy as np\n",
    "from io import StringIO"
   ]
  },
  {
   "cell_type": "code",
   "execution_count": 2,
   "id": "f2fd0ef6-a7a3-4593-abf4-83147c572e11",
   "metadata": {},
   "outputs": [],
   "source": [
    "import openai\n",
    "\n",
    "with open(\"secret/secret_key_file.txt\", 'r') as file:\n",
    "    api_key = file.read().strip()\n",
    "\n",
    "client = openai.OpenAI(api_key = api_key)"
   ]
  },
  {
   "cell_type": "code",
   "execution_count": 3,
   "id": "5f1c7ebb-2229-4c01-866f-d118967680c2",
   "metadata": {
    "tags": []
   },
   "outputs": [],
   "source": [
    "import pandas as pd\n",
    "import re\n",
    "from bs4 import BeautifulSoup\n",
    "\n",
    "# Without error capture to ensure the output (whether success or failure) is reported back.\n",
    "# Attempt to read tables from the HTML file using pandas\n",
    "file_path = \"data/Program - MSR 2022.html\""
   ]
  },
  {
   "cell_type": "code",
   "execution_count": 4,
   "id": "12541858-24bc-4f76-b116-ad9f40cc98cf",
   "metadata": {
    "tags": []
   },
   "outputs": [],
   "source": [
    "with open(file_path, 'r') as file:\n",
    "    html_content = file.read()"
   ]
  },
  {
   "cell_type": "code",
   "execution_count": 5,
   "id": "3320d105-9782-4253-baba-3c70a948c8c2",
   "metadata": {
    "tags": []
   },
   "outputs": [],
   "source": [
    "soup = BeautifulSoup(html_content, 'lxml')"
   ]
  },
  {
   "cell_type": "code",
   "execution_count": 6,
   "id": "326b1a65-9233-4e11-b07d-7e8d956c7bb8",
   "metadata": {
    "tags": []
   },
   "outputs": [],
   "source": [
    "rows = soup.find_all('tr', class_='hidable')"
   ]
  },
  {
   "cell_type": "code",
   "execution_count": 7,
   "id": "cf114e01-0846-40e7-aebe-1e52de2e5c34",
   "metadata": {
    "tags": []
   },
   "outputs": [],
   "source": [
    "# Regex to match date pattern (e.g., \"Tue 16 May\")\n",
    "date_pattern = re.compile(r\"\\b(?:Mon|Tue|Wed|Thu|Fri|Sat|Sun)\\s\\d{1,2}\\s(?:Jan|Feb|Mar|Apr|May|Jun|Jul|Aug|Sep|Oct|Nov|Dec)\")"
   ]
  },
  {
   "cell_type": "code",
   "execution_count": 8,
   "id": "c1f56910-958e-4ddd-9d1f-67c8247b226b",
   "metadata": {
    "tags": []
   },
   "outputs": [
    {
     "data": {
      "text/html": [
       "<div>\n",
       "<style scoped>\n",
       "    .dataframe tbody tr th:only-of-type {\n",
       "        vertical-align: middle;\n",
       "    }\n",
       "\n",
       "    .dataframe tbody tr th {\n",
       "        vertical-align: top;\n",
       "    }\n",
       "\n",
       "    .dataframe thead th {\n",
       "        text-align: right;\n",
       "    }\n",
       "</style>\n",
       "<table border=\"1\" class=\"dataframe\">\n",
       "  <thead>\n",
       "    <tr style=\"text-align: right;\">\n",
       "      <th></th>\n",
       "      <th>Time</th>\n",
       "      <th>Duration</th>\n",
       "      <th>Talk Title</th>\n",
       "      <th>Link</th>\n",
       "      <th>Authors</th>\n",
       "      <th>Session</th>\n",
       "      <th>Date</th>\n",
       "    </tr>\n",
       "  </thead>\n",
       "  <tbody>\n",
       "    <tr>\n",
       "      <th>0</th>\n",
       "      <td>22:00</td>\n",
       "      <td>4m</td>\n",
       "      <td>An Empirical Evaluation of GitHub Copilot’s Co...</td>\n",
       "      <td>#</td>\n",
       "      <td>[Nhan Nguyen, Sarah Nadi]</td>\n",
       "      <td>Session 1Technical Papers/Registered Reportsat...</td>\n",
       "      <td>Tue 17 May</td>\n",
       "    </tr>\n",
       "    <tr>\n",
       "      <th>1</th>\n",
       "      <td>22:04</td>\n",
       "      <td>4m</td>\n",
       "      <td>Comments on Comments: Where Code Review and Do...</td>\n",
       "      <td>#</td>\n",
       "      <td>[Nikitha Rao, Jason Tsay, Martin Hirzel, Vince...</td>\n",
       "      <td>Session 1Technical Papers/Registered Reportsat...</td>\n",
       "      <td>Tue 17 May</td>\n",
       "    </tr>\n",
       "    <tr>\n",
       "      <th>2</th>\n",
       "      <td>22:08</td>\n",
       "      <td>7m</td>\n",
       "      <td>Does This Apply to Me? An Empirical Study of T...</td>\n",
       "      <td>#</td>\n",
       "      <td>[Akalanka Galappaththi, Sarah Nadi, Christoph ...</td>\n",
       "      <td>Session 1Technical Papers/Registered Reportsat...</td>\n",
       "      <td>Tue 17 May</td>\n",
       "    </tr>\n",
       "    <tr>\n",
       "      <th>3</th>\n",
       "      <td>22:15</td>\n",
       "      <td>7m</td>\n",
       "      <td>Towards Reliable Agile Iterative Planning via ...</td>\n",
       "      <td>#</td>\n",
       "      <td>[Jirat Pasuksmit, Patanamon Thongtanunam, Shan...</td>\n",
       "      <td>Session 1Technical Papers/Registered Reportsat...</td>\n",
       "      <td>Tue 17 May</td>\n",
       "    </tr>\n",
       "    <tr>\n",
       "      <th>4</th>\n",
       "      <td>22:22</td>\n",
       "      <td>7m</td>\n",
       "      <td>BotHunter: An Approach to Detect Software Bots...</td>\n",
       "      <td>#</td>\n",
       "      <td>[Ahmad Abdellatif, Mairieli Wessel, Igor Stein...</td>\n",
       "      <td>Session 1Technical Papers/Registered Reportsat...</td>\n",
       "      <td>Tue 17 May</td>\n",
       "    </tr>\n",
       "  </tbody>\n",
       "</table>\n",
       "</div>"
      ],
      "text/plain": [
       "    Time Duration                                         Talk Title Link  \\\n",
       "0  22:00       4m  An Empirical Evaluation of GitHub Copilot’s Co...    #   \n",
       "1  22:04       4m  Comments on Comments: Where Code Review and Do...    #   \n",
       "2  22:08       7m  Does This Apply to Me? An Empirical Study of T...    #   \n",
       "3  22:15       7m  Towards Reliable Agile Iterative Planning via ...    #   \n",
       "4  22:22       7m  BotHunter: An Approach to Detect Software Bots...    #   \n",
       "\n",
       "                                             Authors  \\\n",
       "0                          [Nhan Nguyen, Sarah Nadi]   \n",
       "1  [Nikitha Rao, Jason Tsay, Martin Hirzel, Vince...   \n",
       "2  [Akalanka Galappaththi, Sarah Nadi, Christoph ...   \n",
       "3  [Jirat Pasuksmit, Patanamon Thongtanunam, Shan...   \n",
       "4  [Ahmad Abdellatif, Mairieli Wessel, Igor Stein...   \n",
       "\n",
       "                                             Session        Date  \n",
       "0  Session 1Technical Papers/Registered Reportsat...  Tue 17 May  \n",
       "1  Session 1Technical Papers/Registered Reportsat...  Tue 17 May  \n",
       "2  Session 1Technical Papers/Registered Reportsat...  Tue 17 May  \n",
       "3  Session 1Technical Papers/Registered Reportsat...  Tue 17 May  \n",
       "4  Session 1Technical Papers/Registered Reportsat...  Tue 17 May  "
      ]
     },
     "execution_count": 8,
     "metadata": {},
     "output_type": "execute_result"
    }
   ],
   "source": [
    "extracted_rows = []\n",
    "\n",
    "# Loop through each row to extract required details\n",
    "for row in rows:\n",
    "    temp_row = []\n",
    "    \n",
    "    # Extract session details from parent div if not already extracted\n",
    "    session_div = row.find_previous('div', class_='session-info-in-table')\n",
    "    session = session_div.get_text(strip=True) if session_div else ''\n",
    "    \n",
    "    datetime_info = row.find('td', class_='text-right')\n",
    "    talk_info = row.find_all('td')[-1]\n",
    "    \n",
    "    if datetime_info and talk_info:\n",
    "        time = datetime_info.find('div', class_='start-time').get_text(strip=True) if datetime_info.find('div', class_='start-time') else ''\n",
    "        duration = datetime_info.find('strong').get_text(strip=True) if datetime_info.find('strong') else ''\n",
    "        \n",
    "        # Calculate end time based on start time and duration if needed\n",
    "        \n",
    "        temp_row.append(time)\n",
    "        # temp_row.append(end_time)  # Calculate and append end time if needed\n",
    "        temp_row.append(duration)\n",
    "        \n",
    "        talk_title = talk_info.find('strong')\n",
    "        if talk_title:\n",
    "            temp_row.append(talk_title.get_text(strip=True))\n",
    "            \n",
    "            link = talk_title.find('a', href=True)\n",
    "            temp_row.append(link['href'] if link else '')\n",
    "        else:\n",
    "            temp_row.extend(['', ''])\n",
    "            \n",
    "        # Extract authors\n",
    "        authors_div = talk_info.find('div', class_='performers')\n",
    "        authors = [author.get_text(strip=True) for author in authors_div.find_all('a')] if authors_div else []\n",
    "        temp_row.append(authors)\n",
    "        \n",
    "        # Append session information\n",
    "        temp_row.append(session)\n",
    "        \n",
    "        # Locate date information\n",
    "        # Tip: You may need to adjust how you locate the 'date information' based on your HTML structure\n",
    "        date_info = row.find_previous('div', class_='day-wrapper')\n",
    "        if date_info:\n",
    "            date_text = date_info.get_text(strip=True)\n",
    "            matched_date = date_pattern.search(date_text)\n",
    "            date = matched_date.group(0) if matched_date else \"Date Not Found\"\n",
    "        else:\n",
    "            date = None\n",
    "        temp_row.append(date)\n",
    "        \n",
    "        extracted_rows.append(temp_row)\n",
    "\n",
    "columns = ['Time', 'Duration', 'Talk Title', 'Link', 'Authors', 'Session', 'Date']\n",
    "df = pd.DataFrame(extracted_rows, columns=columns)\n",
    "\n",
    "df.head()"
   ]
  },
  {
   "cell_type": "code",
   "execution_count": null,
   "id": "937f76b1-f8d1-4fb4-bc76-6812ef57f298",
   "metadata": {},
   "outputs": [],
   "source": []
  },
  {
   "cell_type": "code",
   "execution_count": 9,
   "id": "08ed0286-ca3c-4360-a0c3-9692dee355ba",
   "metadata": {
    "tags": []
   },
   "outputs": [],
   "source": [
    "df = df.sample(n=10)"
   ]
  },
  {
   "cell_type": "code",
   "execution_count": null,
   "id": "b0ac8167-7747-4268-a480-366dee6781c2",
   "metadata": {},
   "outputs": [],
   "source": []
  },
  {
   "cell_type": "code",
   "execution_count": 10,
   "id": "0cbbcd35-7fe8-4c81-a61f-83b25fe0bef5",
   "metadata": {
    "tags": []
   },
   "outputs": [
    {
     "data": {
      "text/html": [
       "<div>\n",
       "<style scoped>\n",
       "    .dataframe tbody tr th:only-of-type {\n",
       "        vertical-align: middle;\n",
       "    }\n",
       "\n",
       "    .dataframe tbody tr th {\n",
       "        vertical-align: top;\n",
       "    }\n",
       "\n",
       "    .dataframe thead th {\n",
       "        text-align: right;\n",
       "    }\n",
       "</style>\n",
       "<table border=\"1\" class=\"dataframe\">\n",
       "  <thead>\n",
       "    <tr style=\"text-align: right;\">\n",
       "      <th></th>\n",
       "      <th>session</th>\n",
       "      <th>date</th>\n",
       "      <th>start_time</th>\n",
       "      <th>end_time</th>\n",
       "      <th>duration</th>\n",
       "      <th>talk_title</th>\n",
       "      <th>authors</th>\n",
       "    </tr>\n",
       "  </thead>\n",
       "  <tbody>\n",
       "    <tr>\n",
       "      <th>85</th>\n",
       "      <td>Session 11: Machine Learning &amp; Information Ret...</td>\n",
       "      <td>Thu 19 May</td>\n",
       "      <td>1900-05-19 11:00:00</td>\n",
       "      <td>1900-05-19 11:04:00</td>\n",
       "      <td>4</td>\n",
       "      <td>On the Naturalness of Fuzzer Generated Code</td>\n",
       "      <td>[Rajeswari Hita Kambhamettu, John Billos, Caro...</td>\n",
       "    </tr>\n",
       "    <tr>\n",
       "      <th>59</th>\n",
       "      <td>Session 7: Developer Wellbeing &amp; Project Commu...</td>\n",
       "      <td>Wed 18 May</td>\n",
       "      <td>1900-05-18 21:26:00</td>\n",
       "      <td>1900-05-18 21:30:00</td>\n",
       "      <td>4</td>\n",
       "      <td>Exploring Apache Incubator Project Trajectorie...</td>\n",
       "      <td>[Anirudh Ramchandran, Likang Yin, Vladimir Fil...</td>\n",
       "    </tr>\n",
       "    <tr>\n",
       "      <th>179</th>\n",
       "      <td>Blended Technical Session 4 (Introspection, Vi...</td>\n",
       "      <td>Tue 24 May</td>\n",
       "      <td>1900-05-24 11:54:00</td>\n",
       "      <td>1900-05-24 12:15:00</td>\n",
       "      <td>21</td>\n",
       "      <td>Discussions and Q&amp;A</td>\n",
       "      <td>[]</td>\n",
       "    </tr>\n",
       "    <tr>\n",
       "      <th>178</th>\n",
       "      <td>Blended Technical Session 4 (Introspection, Vi...</td>\n",
       "      <td>Tue 24 May</td>\n",
       "      <td>1900-05-24 11:46:00</td>\n",
       "      <td>1900-05-24 11:54:00</td>\n",
       "      <td>8</td>\n",
       "      <td>Investigating the Impact of Forgetting in Soft...</td>\n",
       "      <td>[Utku Unal, Eray Tüzün, Tamer Gezici, Ausaf Ah...</td>\n",
       "    </tr>\n",
       "    <tr>\n",
       "      <th>122</th>\n",
       "      <td>Session 14: Software QualityTechnical Papers/I...</td>\n",
       "      <td>Fri 20 May</td>\n",
       "      <td>1900-05-20 04:36:00</td>\n",
       "      <td>1900-05-20 04:50:00</td>\n",
       "      <td>14</td>\n",
       "      <td>Discussions and Q&amp;A</td>\n",
       "      <td>[]</td>\n",
       "    </tr>\n",
       "  </tbody>\n",
       "</table>\n",
       "</div>"
      ],
      "text/plain": [
       "                                               session        date  \\\n",
       "85   Session 11: Machine Learning & Information Ret...  Thu 19 May   \n",
       "59   Session 7: Developer Wellbeing & Project Commu...  Wed 18 May   \n",
       "179  Blended Technical Session 4 (Introspection, Vi...  Tue 24 May   \n",
       "178  Blended Technical Session 4 (Introspection, Vi...  Tue 24 May   \n",
       "122  Session 14: Software QualityTechnical Papers/I...  Fri 20 May   \n",
       "\n",
       "             start_time            end_time  duration  \\\n",
       "85  1900-05-19 11:00:00 1900-05-19 11:04:00         4   \n",
       "59  1900-05-18 21:26:00 1900-05-18 21:30:00         4   \n",
       "179 1900-05-24 11:54:00 1900-05-24 12:15:00        21   \n",
       "178 1900-05-24 11:46:00 1900-05-24 11:54:00         8   \n",
       "122 1900-05-20 04:36:00 1900-05-20 04:50:00        14   \n",
       "\n",
       "                                            talk_title  \\\n",
       "85         On the Naturalness of Fuzzer Generated Code   \n",
       "59   Exploring Apache Incubator Project Trajectorie...   \n",
       "179                                Discussions and Q&A   \n",
       "178  Investigating the Impact of Forgetting in Soft...   \n",
       "122                                Discussions and Q&A   \n",
       "\n",
       "                                               authors  \n",
       "85   [Rajeswari Hita Kambhamettu, John Billos, Caro...  \n",
       "59   [Anirudh Ramchandran, Likang Yin, Vladimir Fil...  \n",
       "179                                                 []  \n",
       "178  [Utku Unal, Eray Tüzün, Tamer Gezici, Ausaf Ah...  \n",
       "122                                                 []  "
      ]
     },
     "execution_count": 10,
     "metadata": {},
     "output_type": "execute_result"
    }
   ],
   "source": [
    "# Convert all column names to lowercase and replace spaces with hyphens\n",
    "df.columns = [col.lower().replace(' ', '_') for col in df.columns]\n",
    "\n",
    "# Put date first\n",
    "df = df[['date'] + [col for col in df.columns if col != 'date']]\n",
    "\n",
    "# Convert Time to start_time as datetime and calculate end_time\n",
    "df['start_time'] = pd.to_datetime(df['date'] + ' ' + df['time'], format='%a %d %b %H:%M')\n",
    "df['duration'] = df['duration'].str.extract('(\\d+)').astype(int)  # Extract duration in minutes\n",
    "df['end_time'] = df['start_time'] + pd.to_timedelta(df['duration'], unit='m')\n",
    "\n",
    "# Delete the Link column\n",
    "df = df.drop(['link', 'time'], axis=1)\n",
    "\n",
    "# Move Authors column to the last position\n",
    "df = df[[col for col in df.columns if col != 'authors'] + ['authors']]\n",
    "\n",
    "df = df[['session', 'date', 'start_time', 'end_time', 'duration', 'talk_title','authors']]\n",
    "\n",
    "# Display the final data frame\n",
    "df.head()"
   ]
  },
  {
   "cell_type": "code",
   "execution_count": 11,
   "id": "d27a617a-ec1a-4177-9e80-4c7d1667de41",
   "metadata": {},
   "outputs": [
    {
     "data": {
      "text/html": [
       "<div>\n",
       "<style scoped>\n",
       "    .dataframe tbody tr th:only-of-type {\n",
       "        vertical-align: middle;\n",
       "    }\n",
       "\n",
       "    .dataframe tbody tr th {\n",
       "        vertical-align: top;\n",
       "    }\n",
       "\n",
       "    .dataframe thead th {\n",
       "        text-align: right;\n",
       "    }\n",
       "</style>\n",
       "<table border=\"1\" class=\"dataframe\">\n",
       "  <thead>\n",
       "    <tr style=\"text-align: right;\">\n",
       "      <th></th>\n",
       "      <th>session</th>\n",
       "      <th>date</th>\n",
       "      <th>start_time</th>\n",
       "      <th>end_time</th>\n",
       "      <th>duration</th>\n",
       "      <th>talk_title</th>\n",
       "      <th>authors</th>\n",
       "    </tr>\n",
       "  </thead>\n",
       "  <tbody>\n",
       "    <tr>\n",
       "      <th>85</th>\n",
       "      <td>Session 11: Machine Learning &amp; Information Ret...</td>\n",
       "      <td>Thu 19 May</td>\n",
       "      <td>-36617100</td>\n",
       "      <td>-36617096</td>\n",
       "      <td>4</td>\n",
       "      <td>On the Naturalness of Fuzzer Generated Code</td>\n",
       "      <td>[Rajeswari Hita Kambhamettu, John Billos, Caro...</td>\n",
       "    </tr>\n",
       "    <tr>\n",
       "      <th>59</th>\n",
       "      <td>Session 7: Developer Wellbeing &amp; Project Commu...</td>\n",
       "      <td>Wed 18 May</td>\n",
       "      <td>-36617914</td>\n",
       "      <td>-36617910</td>\n",
       "      <td>4</td>\n",
       "      <td>Exploring Apache Incubator Project Trajectorie...</td>\n",
       "      <td>[Anirudh Ramchandran, Likang Yin, Vladimir Fil...</td>\n",
       "    </tr>\n",
       "    <tr>\n",
       "      <th>179</th>\n",
       "      <td>Blended Technical Session 4 (Introspection, Vi...</td>\n",
       "      <td>Tue 24 May</td>\n",
       "      <td>-36609846</td>\n",
       "      <td>-36609825</td>\n",
       "      <td>21</td>\n",
       "      <td>Discussions and Q&amp;A</td>\n",
       "      <td>[]</td>\n",
       "    </tr>\n",
       "    <tr>\n",
       "      <th>178</th>\n",
       "      <td>Blended Technical Session 4 (Introspection, Vi...</td>\n",
       "      <td>Tue 24 May</td>\n",
       "      <td>-36609854</td>\n",
       "      <td>-36609846</td>\n",
       "      <td>8</td>\n",
       "      <td>Investigating the Impact of Forgetting in Soft...</td>\n",
       "      <td>[Utku Unal, Eray Tüzün, Tamer Gezici, Ausaf Ah...</td>\n",
       "    </tr>\n",
       "    <tr>\n",
       "      <th>122</th>\n",
       "      <td>Session 14: Software QualityTechnical Papers/I...</td>\n",
       "      <td>Fri 20 May</td>\n",
       "      <td>-36616044</td>\n",
       "      <td>-36616030</td>\n",
       "      <td>14</td>\n",
       "      <td>Discussions and Q&amp;A</td>\n",
       "      <td>[]</td>\n",
       "    </tr>\n",
       "  </tbody>\n",
       "</table>\n",
       "</div>"
      ],
      "text/plain": [
       "                                               session        date  \\\n",
       "85   Session 11: Machine Learning & Information Ret...  Thu 19 May   \n",
       "59   Session 7: Developer Wellbeing & Project Commu...  Wed 18 May   \n",
       "179  Blended Technical Session 4 (Introspection, Vi...  Tue 24 May   \n",
       "178  Blended Technical Session 4 (Introspection, Vi...  Tue 24 May   \n",
       "122  Session 14: Software QualityTechnical Papers/I...  Fri 20 May   \n",
       "\n",
       "     start_time  end_time  duration  \\\n",
       "85    -36617100 -36617096         4   \n",
       "59    -36617914 -36617910         4   \n",
       "179   -36609846 -36609825        21   \n",
       "178   -36609854 -36609846         8   \n",
       "122   -36616044 -36616030        14   \n",
       "\n",
       "                                            talk_title  \\\n",
       "85         On the Naturalness of Fuzzer Generated Code   \n",
       "59   Exploring Apache Incubator Project Trajectorie...   \n",
       "179                                Discussions and Q&A   \n",
       "178  Investigating the Impact of Forgetting in Soft...   \n",
       "122                                Discussions and Q&A   \n",
       "\n",
       "                                               authors  \n",
       "85   [Rajeswari Hita Kambhamettu, John Billos, Caro...  \n",
       "59   [Anirudh Ramchandran, Likang Yin, Vladimir Fil...  \n",
       "179                                                 []  \n",
       "178  [Utku Unal, Eray Tüzün, Tamer Gezici, Ausaf Ah...  \n",
       "122                                                 []  "
      ]
     },
     "execution_count": 11,
     "metadata": {},
     "output_type": "execute_result"
    }
   ],
   "source": [
    "df['start_time'] = pd.to_datetime(df['start_time']).astype(int) // 10**9 // 60\n",
    "df['end_time'] = pd.to_datetime(df['end_time']).astype(int) // 10**9 // 60\n",
    "\n",
    "df.head()"
   ]
  },
  {
   "cell_type": "code",
   "execution_count": 12,
   "id": "e0bc286c-d50c-4eb6-94b4-43708b997b85",
   "metadata": {
    "tags": []
   },
   "outputs": [
    {
     "data": {
      "text/plain": [
       "session       object\n",
       "date          object\n",
       "start_time     int64\n",
       "end_time       int64\n",
       "duration       int64\n",
       "talk_title    object\n",
       "authors       object\n",
       "dtype: object"
      ]
     },
     "execution_count": 12,
     "metadata": {},
     "output_type": "execute_result"
    }
   ],
   "source": [
    "df.dtypes"
   ]
  },
  {
   "cell_type": "code",
   "execution_count": 13,
   "id": "8943c607-299d-43f0-b5a6-0bfe9f46cea4",
   "metadata": {
    "tags": []
   },
   "outputs": [
    {
     "data": {
      "text/plain": [
       "10"
      ]
     },
     "execution_count": 13,
     "metadata": {},
     "output_type": "execute_result"
    }
   ],
   "source": [
    "len(df)"
   ]
  },
  {
   "cell_type": "code",
   "execution_count": 14,
   "id": "f8834a87-7e2f-4cf5-a6aa-570c57c17e84",
   "metadata": {
    "tags": []
   },
   "outputs": [
    {
     "data": {
      "text/plain": [
       "array(['Session 11: Machine Learning & Information RetrievalTechnical PapersatMSR Main room - odd hoursChair(s):Phuong T. NguyenUniversity of L’Aquila',\n",
       "       \"Session 7: Developer Wellbeing & Project CommunicationTechnical Papers/Data and Tool Showcase Track/Industry TrackatMSR Main room - odd hoursChair(s):Bram AdamsQueen's University, Kingston, Ontario\",\n",
       "       'Blended Technical Session 4 (Introspection, Vision, and Human Aspects)Technical Papers/Registered Reports/Data and Tool Showcase TrackatRoom 315+316Chair(s):Ayushi RastogiUniversity of Groningen, The Netherlands'],\n",
       "      dtype=object)"
      ]
     },
     "execution_count": 14,
     "metadata": {},
     "output_type": "execute_result"
    }
   ],
   "source": [
    "df[\"session\"].unique()[:3]"
   ]
  },
  {
   "cell_type": "code",
   "execution_count": 15,
   "id": "43e1f9e0-df03-4d1f-824a-4f99ed08be64",
   "metadata": {
    "tags": []
   },
   "outputs": [
    {
     "data": {
      "text/html": [
       "<div>\n",
       "<style scoped>\n",
       "    .dataframe tbody tr th:only-of-type {\n",
       "        vertical-align: middle;\n",
       "    }\n",
       "\n",
       "    .dataframe tbody tr th {\n",
       "        vertical-align: top;\n",
       "    }\n",
       "\n",
       "    .dataframe thead th {\n",
       "        text-align: right;\n",
       "    }\n",
       "</style>\n",
       "<table border=\"1\" class=\"dataframe\">\n",
       "  <thead>\n",
       "    <tr style=\"text-align: right;\">\n",
       "      <th></th>\n",
       "      <th>session</th>\n",
       "      <th>date</th>\n",
       "      <th>start_time</th>\n",
       "      <th>end_time</th>\n",
       "      <th>duration</th>\n",
       "      <th>talk_title</th>\n",
       "      <th>authors</th>\n",
       "    </tr>\n",
       "  </thead>\n",
       "  <tbody>\n",
       "  </tbody>\n",
       "</table>\n",
       "</div>"
      ],
      "text/plain": [
       "Empty DataFrame\n",
       "Columns: [session, date, start_time, end_time, duration, talk_title, authors]\n",
       "Index: []"
      ]
     },
     "execution_count": 15,
     "metadata": {},
     "output_type": "execute_result"
    }
   ],
   "source": [
    "df[df[\"session\"]=='Session 1Technical Papers/Registered ReportsatMSR Main room - even hoursChair(s):Hongyu ZhangUniversity of Newcastle,Masud RahmanDalhousie University']"
   ]
  },
  {
   "cell_type": "code",
   "execution_count": 16,
   "id": "4e5a9caa-71d0-49aa-ac7c-347d1d5077d4",
   "metadata": {
    "tags": []
   },
   "outputs": [
    {
     "data": {
      "text/html": [
       "<div>\n",
       "<style scoped>\n",
       "    .dataframe tbody tr th:only-of-type {\n",
       "        vertical-align: middle;\n",
       "    }\n",
       "\n",
       "    .dataframe tbody tr th {\n",
       "        vertical-align: top;\n",
       "    }\n",
       "\n",
       "    .dataframe thead th {\n",
       "        text-align: right;\n",
       "    }\n",
       "</style>\n",
       "<table border=\"1\" class=\"dataframe\">\n",
       "  <thead>\n",
       "    <tr style=\"text-align: right;\">\n",
       "      <th></th>\n",
       "      <th>date</th>\n",
       "      <th>total_duration</th>\n",
       "    </tr>\n",
       "  </thead>\n",
       "  <tbody>\n",
       "    <tr>\n",
       "      <th>0</th>\n",
       "      <td>Fri 20 May</td>\n",
       "      <td>21</td>\n",
       "    </tr>\n",
       "    <tr>\n",
       "      <th>1</th>\n",
       "      <td>Thu 19 May</td>\n",
       "      <td>22</td>\n",
       "    </tr>\n",
       "    <tr>\n",
       "      <th>2</th>\n",
       "      <td>Tue 24 May</td>\n",
       "      <td>44</td>\n",
       "    </tr>\n",
       "    <tr>\n",
       "      <th>3</th>\n",
       "      <td>Wed 18 May</td>\n",
       "      <td>4</td>\n",
       "    </tr>\n",
       "  </tbody>\n",
       "</table>\n",
       "</div>"
      ],
      "text/plain": [
       "         date  total_duration\n",
       "0  Fri 20 May              21\n",
       "1  Thu 19 May              22\n",
       "2  Tue 24 May              44\n",
       "3  Wed 18 May               4"
      ]
     },
     "execution_count": 16,
     "metadata": {},
     "output_type": "execute_result"
    }
   ],
   "source": [
    "def merge_intervals(intervals):\n",
    "    if not intervals:\n",
    "        return 0\n",
    "    \n",
    "    # Sort intervals by the start time\n",
    "    intervals.sort(key=lambda x: x[0])\n",
    "    \n",
    "    merged = [intervals[0]]\n",
    "    for current_start, current_end in intervals[1:]:\n",
    "        last_end = merged[-1][1]\n",
    "        \n",
    "        if current_start <= last_end:\n",
    "            # There's an overlap, extend the previous interval\n",
    "            merged[-1] = (merged[-1][0], max(last_end, current_end))\n",
    "        else:\n",
    "            # No overlap, add this interval as is\n",
    "            merged.append((current_start, current_end))\n",
    "    \n",
    "    # Compute total duration in minutes (or another unit as desired)\n",
    "    total_duration_minutes = sum((end - start) for start, end in merged)   # convert seconds to minutes\n",
    "    return total_duration_minutes\n",
    "\n",
    "total_durations = []\n",
    "\n",
    "for date, group in df.groupby('date'):\n",
    "    intervals = list(zip(group['start_time'], group['end_time']))\n",
    "    total_duration = merge_intervals(intervals)\n",
    "    total_durations.append({'date': date, 'total_duration': total_duration})\n",
    "\n",
    "# Converting the result into a DataFrame\n",
    "total_duration_df = pd.DataFrame(total_durations)\n",
    "\n",
    "total_duration_df"
   ]
  },
  {
   "cell_type": "code",
   "execution_count": 17,
   "id": "8ea0bf22-5d87-4f8c-bf6a-6301eb5da164",
   "metadata": {
    "tags": []
   },
   "outputs": [
    {
     "data": {
      "text/html": [
       "<div>\n",
       "<style scoped>\n",
       "    .dataframe tbody tr th:only-of-type {\n",
       "        vertical-align: middle;\n",
       "    }\n",
       "\n",
       "    .dataframe tbody tr th {\n",
       "        vertical-align: top;\n",
       "    }\n",
       "\n",
       "    .dataframe thead th {\n",
       "        text-align: right;\n",
       "    }\n",
       "</style>\n",
       "<table border=\"1\" class=\"dataframe\">\n",
       "  <thead>\n",
       "    <tr style=\"text-align: right;\">\n",
       "      <th></th>\n",
       "      <th>date</th>\n",
       "      <th>duration</th>\n",
       "    </tr>\n",
       "  </thead>\n",
       "  <tbody>\n",
       "    <tr>\n",
       "      <th>0</th>\n",
       "      <td>Fri 20 May</td>\n",
       "      <td>21</td>\n",
       "    </tr>\n",
       "    <tr>\n",
       "      <th>1</th>\n",
       "      <td>Thu 19 May</td>\n",
       "      <td>22</td>\n",
       "    </tr>\n",
       "    <tr>\n",
       "      <th>2</th>\n",
       "      <td>Tue 24 May</td>\n",
       "      <td>44</td>\n",
       "    </tr>\n",
       "    <tr>\n",
       "      <th>3</th>\n",
       "      <td>Wed 18 May</td>\n",
       "      <td>4</td>\n",
       "    </tr>\n",
       "  </tbody>\n",
       "</table>\n",
       "</div>"
      ],
      "text/plain": [
       "         date  duration\n",
       "0  Fri 20 May        21\n",
       "1  Thu 19 May        22\n",
       "2  Tue 24 May        44\n",
       "3  Wed 18 May         4"
      ]
     },
     "execution_count": 17,
     "metadata": {},
     "output_type": "execute_result"
    }
   ],
   "source": [
    "dates = df.groupby(\"date\")[\"duration\"].sum().reset_index()\n",
    "\n",
    "\n",
    "dates"
   ]
  },
  {
   "cell_type": "markdown",
   "id": "4c726191-a9a6-447f-8e1c-250418fb8ae7",
   "metadata": {},
   "source": [
    "## Perform linear programming"
   ]
  },
  {
   "cell_type": "code",
   "execution_count": 18,
   "id": "545e8160-e4a5-4cd0-a5c3-fca764b205af",
   "metadata": {},
   "outputs": [
    {
     "data": {
      "text/html": [
       "<div>\n",
       "<style scoped>\n",
       "    .dataframe tbody tr th:only-of-type {\n",
       "        vertical-align: middle;\n",
       "    }\n",
       "\n",
       "    .dataframe tbody tr th {\n",
       "        vertical-align: top;\n",
       "    }\n",
       "\n",
       "    .dataframe thead th {\n",
       "        text-align: right;\n",
       "    }\n",
       "</style>\n",
       "<table border=\"1\" class=\"dataframe\">\n",
       "  <thead>\n",
       "    <tr style=\"text-align: right;\">\n",
       "      <th></th>\n",
       "      <th>talk_title</th>\n",
       "      <th>duration</th>\n",
       "    </tr>\n",
       "  </thead>\n",
       "  <tbody>\n",
       "    <tr>\n",
       "      <th>85</th>\n",
       "      <td>On the Naturalness of Fuzzer Generated Code</td>\n",
       "      <td>4</td>\n",
       "    </tr>\n",
       "    <tr>\n",
       "      <th>59</th>\n",
       "      <td>Exploring Apache Incubator Project Trajectorie...</td>\n",
       "      <td>4</td>\n",
       "    </tr>\n",
       "    <tr>\n",
       "      <th>179</th>\n",
       "      <td>Discussions and Q&amp;A</td>\n",
       "      <td>21</td>\n",
       "    </tr>\n",
       "    <tr>\n",
       "      <th>178</th>\n",
       "      <td>Investigating the Impact of Forgetting in Soft...</td>\n",
       "      <td>8</td>\n",
       "    </tr>\n",
       "    <tr>\n",
       "      <th>122</th>\n",
       "      <td>Discussions and Q&amp;A</td>\n",
       "      <td>14</td>\n",
       "    </tr>\n",
       "  </tbody>\n",
       "</table>\n",
       "</div>"
      ],
      "text/plain": [
       "                                            talk_title  duration\n",
       "85         On the Naturalness of Fuzzer Generated Code         4\n",
       "59   Exploring Apache Incubator Project Trajectorie...         4\n",
       "179                                Discussions and Q&A        21\n",
       "178  Investigating the Impact of Forgetting in Soft...         8\n",
       "122                                Discussions and Q&A        14"
      ]
     },
     "execution_count": 18,
     "metadata": {},
     "output_type": "execute_result"
    }
   ],
   "source": [
    "df_input = df[['talk_title', 'duration']].copy()\n",
    "\n",
    "# Display the head of df_input to verify\n",
    "df_input.head()"
   ]
  },
  {
   "cell_type": "code",
   "execution_count": 19,
   "id": "772e4fe4-1064-496a-93cc-27cb113624a9",
   "metadata": {
    "tags": []
   },
   "outputs": [
    {
     "data": {
      "text/plain": [
       "session\n",
       "Blended Technical Session 4 (Introspection, Vision, and Human Aspects)Technical Papers/Registered Reports/Data and Tool Showcase TrackatRoom 315+316Chair(s):Ayushi RastogiUniversity of Groningen, The Netherlands                                        44\n",
       "Session 11: Machine Learning & Information RetrievalTechnical PapersatMSR Main room - odd hoursChair(s):Phuong T. NguyenUniversity of L’Aquila                                                                                                              4\n",
       "Session 14: Software QualityTechnical Papers/Industry Track/Data and Tool Showcase TrackatMSR Main room - even hoursChair(s):Kla TantithamthavornMonash University,Simone ScalabrinoUniversity of Molise                                                   14\n",
       "Session 15: Collaboration & Open SourceRegistered Reports/Data and Tool Showcase Track/Technical Papers/Industry TrackatMSR Main room - odd hoursChair(s):Massimiliano Di PentaUniversity of Sannio, Italy,Fiorella ZampettiUniversity of Sannio, Italy     7\n",
       "Session 7: Developer Wellbeing & Project CommunicationTechnical Papers/Data and Tool Showcase Track/Industry TrackatMSR Main room - odd hoursChair(s):Bram AdamsQueen's University, Kingston, Ontario                                                       4\n",
       "Name: duration, dtype: int64"
      ]
     },
     "execution_count": 19,
     "metadata": {},
     "output_type": "execute_result"
    }
   ],
   "source": [
    "sessions = df.groupby(\"session\")[\"duration\"].sum()\n",
    "\n",
    "sessions.head()"
   ]
  },
  {
   "cell_type": "code",
   "execution_count": 20,
   "id": "094c70bf-f5fa-465c-b29e-c4c0ee762ad9",
   "metadata": {},
   "outputs": [
    {
     "name": "stdout",
     "output_type": "stream",
     "text": [
      "\n",
      "Program creation is the process of taking all the accepted papers to a conference and allocating a presentation slot for each paper with parallel sessions. \n",
      "The PC chairs of a conference typically do this manually. \n",
      "Assign sessions to the following papers based on the following constraints:\n",
      "1. The total length of all paper presentations within a session should be smaller than the length of the session they are in. \n",
      "2. No new sessions should be added. '\n",
      "3. The output should contain the schedule \n"
     ]
    }
   ],
   "source": [
    "# Convert df_input to a string representation\n",
    "df_input_str = df_input.to_string(index=False)\n",
    "\n",
    "# Construct the prompt\n",
    "prompt = f\"\"\"\n",
    "Program creation is the process of taking all the accepted papers to a conference and allocating a presentation slot for each paper with parallel sessions. \n",
    "The PC chairs of a conference typically do this manually. \n",
    "Assign sessions to the following papers based on the following constraints:\n",
    "1. The total length of all paper presentations within a session should be smaller than the length of the session they are in. \n",
    "2. No new sessions should be added. '\n",
    "3. The output should contain the schedule in the form of the csv representation of a data frame. This csv representation should be in three quotes (```) on both sides so that I can easily extract it from your result and make a data frame. \n",
    "\n",
    "\n",
    "The list of paper and session titles are below: \n",
    "\n",
    "Paper durations:\n",
    "{df_input_str}\n",
    "\n",
    "Session Lengths:\n",
    "{sessions.to_string(index=False)}\n",
    "\n",
    "\n",
    "\n",
    "Make sure all the papers are included in the schedule. \n",
    "\n",
    "\"\"\"\n",
    "\n",
    "# Print the prompt to verify\n",
    "print(prompt[:500])"
   ]
  },
  {
   "cell_type": "code",
   "execution_count": 21,
   "id": "a6b62db0-4aa9-4d66-a86b-a6a85442f3d6",
   "metadata": {
    "tags": []
   },
   "outputs": [
    {
     "data": {
      "text/plain": [
       "2051"
      ]
     },
     "execution_count": 21,
     "metadata": {},
     "output_type": "execute_result"
    }
   ],
   "source": [
    "len(prompt)"
   ]
  },
  {
   "cell_type": "code",
   "execution_count": 22,
   "id": "09f4fdf3-80d5-41b5-8190-ea9ad84587fd",
   "metadata": {
    "tags": []
   },
   "outputs": [],
   "source": [
    "response = client.chat.completions.create(\n",
    "    model= \"gpt-4-0125-preview\", #\"gpt-3.5-turbo-0125\",  # You can switch this to \"gpt-4-turbo-preview\", \"gpt-3.5-turbo-0125\"\n",
    "    messages=[\n",
    "        {\n",
    "            \"role\": \"user\",\n",
    "            \"content\": prompt\n",
    "        },\n",
    "    ],\n",
    "    temperature=0.8,\n",
    "    max_tokens=256,\n",
    "    top_p=1,\n",
    "    frequency_penalty=0,\n",
    "    presence_penalty=0\n",
    ")\n",
    "ans_string = response.choices[0].message.content"
   ]
  },
  {
   "cell_type": "code",
   "execution_count": 23,
   "id": "661e0ef0-ed67-43c5-a778-7c8e391bff1a",
   "metadata": {
    "tags": []
   },
   "outputs": [
    {
     "data": {
      "text/plain": [
       "647"
      ]
     },
     "execution_count": 23,
     "metadata": {},
     "output_type": "execute_result"
    }
   ],
   "source": [
    "len(ans_string)"
   ]
  },
  {
   "cell_type": "code",
   "execution_count": 24,
   "id": "ce169c0c-482b-4a40-9ea0-e9816c1c163c",
   "metadata": {
    "tags": []
   },
   "outputs": [
    {
     "name": "stdout",
     "output_type": "stream",
     "text": [
      "```\n",
      "session,talk_title,duration\n",
      "44,On the Naturalness of Fuzzer Generated Code,4\n",
      "44,Exploring Apache Incubator Project Trajectories with APEX,4\n",
      "44,Investigating the Impact of Forgetting in Software Development,8\n",
      "44,Toward Granular Automatic Unit Test Case Generation,4\n",
      "44,Tooling for Time- and Space-efficient git Repository Mining,4\n",
      "14,Discussions and Q&A,14\n",
      "7,Code Review Practices for Refactoring Changes: An Empirical Study on OpenStack,7\n",
      "10,Back to the future: Empirical Revolution(s) in Software Engineering,10\n",
      "4,Discussions and Q&A,21\n",
      "8,Challenges in Migrating Imperative Deep Learning Programs to Graph Execution: An Empirical Study,15\n",
      "```\n"
     ]
    }
   ],
   "source": [
    "print(ans_string)"
   ]
  },
  {
   "cell_type": "code",
   "execution_count": 25,
   "id": "6b3beb99-e4a4-49eb-966d-294140356d05",
   "metadata": {
    "tags": []
   },
   "outputs": [
    {
     "name": "stdout",
     "output_type": "stream",
     "text": [
      "Extracted CSV:\n",
      " \n",
      "session,talk_title,duration\n",
      "44,On the Naturalness of Fuzzer Generated Code,4\n",
      "44,Exploring Apache Incubator Project Trajectories with APEX,4\n",
      "44,Investigating the Impact of Forgetting in Software Development,8\n",
      "44,Toward Granular Automatic Unit Test Case Generation,4\n",
      "44,Tooling for Time- and Space-efficient git Repository Mining,4\n",
      "14,Discussions and Q&A,14\n",
      "7,Code Review Practices for Refactoring Changes: An Empirical Study on OpenStack,7\n",
      "10,Back to the future: Empirical Revolution(s) in Software Engineering,10\n",
      "4,Discussions and Q&A,21\n",
      "8,Challenges in Migrating Imperative Deep Learning Programs to Graph Execution: An Empirical Study,15\n",
      "\n",
      "Got the df!\n"
     ]
    },
    {
     "data": {
      "text/html": [
       "<div>\n",
       "<style scoped>\n",
       "    .dataframe tbody tr th:only-of-type {\n",
       "        vertical-align: middle;\n",
       "    }\n",
       "\n",
       "    .dataframe tbody tr th {\n",
       "        vertical-align: top;\n",
       "    }\n",
       "\n",
       "    .dataframe thead th {\n",
       "        text-align: right;\n",
       "    }\n",
       "</style>\n",
       "<table border=\"1\" class=\"dataframe\">\n",
       "  <thead>\n",
       "    <tr style=\"text-align: right;\">\n",
       "      <th></th>\n",
       "      <th>session</th>\n",
       "      <th>talk_title</th>\n",
       "      <th>duration</th>\n",
       "    </tr>\n",
       "  </thead>\n",
       "  <tbody>\n",
       "    <tr>\n",
       "      <th>0</th>\n",
       "      <td>44</td>\n",
       "      <td>On the Naturalness of Fuzzer Generated Code</td>\n",
       "      <td>4</td>\n",
       "    </tr>\n",
       "    <tr>\n",
       "      <th>1</th>\n",
       "      <td>44</td>\n",
       "      <td>Exploring Apache Incubator Project Trajectorie...</td>\n",
       "      <td>4</td>\n",
       "    </tr>\n",
       "    <tr>\n",
       "      <th>2</th>\n",
       "      <td>44</td>\n",
       "      <td>Investigating the Impact of Forgetting in Soft...</td>\n",
       "      <td>8</td>\n",
       "    </tr>\n",
       "    <tr>\n",
       "      <th>3</th>\n",
       "      <td>44</td>\n",
       "      <td>Toward Granular Automatic Unit Test Case Gener...</td>\n",
       "      <td>4</td>\n",
       "    </tr>\n",
       "    <tr>\n",
       "      <th>4</th>\n",
       "      <td>44</td>\n",
       "      <td>Tooling for Time- and Space-efficient git Repo...</td>\n",
       "      <td>4</td>\n",
       "    </tr>\n",
       "  </tbody>\n",
       "</table>\n",
       "</div>"
      ],
      "text/plain": [
       "   session                                         talk_title  duration\n",
       "0       44        On the Naturalness of Fuzzer Generated Code         4\n",
       "1       44  Exploring Apache Incubator Project Trajectorie...         4\n",
       "2       44  Investigating the Impact of Forgetting in Soft...         8\n",
       "3       44  Toward Granular Automatic Unit Test Case Gener...         4\n",
       "4       44  Tooling for Time- and Space-efficient git Repo...         4"
      ]
     },
     "execution_count": 25,
     "metadata": {},
     "output_type": "execute_result"
    }
   ],
   "source": [
    "# Use regular expressions to find the CSV string\n",
    "# The pattern looks for a string enclosed in triple quotes\n",
    "match = re.search(\"```(.*?)```\", ans_string, re.DOTALL)\n",
    "if match:\n",
    "    csv_string = match.group(1)  # Extract the actual CSV data\n",
    "    print(\"Extracted CSV:\\n\", csv_string)\n",
    "\n",
    "    # Convert the CSV string to a DataFrame\n",
    "    # StringIO is used to convert the string to a file-like object\n",
    "    df_results = pd.read_csv(StringIO(csv_string))\n",
    "\n",
    "    # Display the DataFrame\n",
    "    print(\"Got the df!\")\n",
    "else:\n",
    "    print(\"No CSV data found in the string.\")\n",
    "    \n",
    "df_results.head()"
   ]
  },
  {
   "cell_type": "code",
   "execution_count": 26,
   "id": "0ad8f5e9-d3e2-4a0e-b323-0da46d4351b8",
   "metadata": {},
   "outputs": [
    {
     "data": {
      "text/html": [
       "<div>\n",
       "<style scoped>\n",
       "    .dataframe tbody tr th:only-of-type {\n",
       "        vertical-align: middle;\n",
       "    }\n",
       "\n",
       "    .dataframe tbody tr th {\n",
       "        vertical-align: top;\n",
       "    }\n",
       "\n",
       "    .dataframe thead th {\n",
       "        text-align: right;\n",
       "    }\n",
       "</style>\n",
       "<table border=\"1\" class=\"dataframe\">\n",
       "  <thead>\n",
       "    <tr style=\"text-align: right;\">\n",
       "      <th></th>\n",
       "      <th>session</th>\n",
       "      <th>talk_title</th>\n",
       "      <th>duration</th>\n",
       "    </tr>\n",
       "  </thead>\n",
       "  <tbody>\n",
       "    <tr>\n",
       "      <th>0</th>\n",
       "      <td>44</td>\n",
       "      <td>On the Naturalness of Fuzzer Generated Code</td>\n",
       "      <td>4</td>\n",
       "    </tr>\n",
       "    <tr>\n",
       "      <th>1</th>\n",
       "      <td>44</td>\n",
       "      <td>Exploring Apache Incubator Project Trajectorie...</td>\n",
       "      <td>4</td>\n",
       "    </tr>\n",
       "    <tr>\n",
       "      <th>2</th>\n",
       "      <td>44</td>\n",
       "      <td>Investigating the Impact of Forgetting in Soft...</td>\n",
       "      <td>8</td>\n",
       "    </tr>\n",
       "    <tr>\n",
       "      <th>3</th>\n",
       "      <td>44</td>\n",
       "      <td>Toward Granular Automatic Unit Test Case Gener...</td>\n",
       "      <td>4</td>\n",
       "    </tr>\n",
       "    <tr>\n",
       "      <th>4</th>\n",
       "      <td>44</td>\n",
       "      <td>Tooling for Time- and Space-efficient git Repo...</td>\n",
       "      <td>4</td>\n",
       "    </tr>\n",
       "    <tr>\n",
       "      <th>5</th>\n",
       "      <td>14</td>\n",
       "      <td>Discussions and Q&amp;A</td>\n",
       "      <td>14</td>\n",
       "    </tr>\n",
       "    <tr>\n",
       "      <th>6</th>\n",
       "      <td>7</td>\n",
       "      <td>Code Review Practices for Refactoring Changes:...</td>\n",
       "      <td>7</td>\n",
       "    </tr>\n",
       "    <tr>\n",
       "      <th>7</th>\n",
       "      <td>10</td>\n",
       "      <td>Back to the future: Empirical Revolution(s) in...</td>\n",
       "      <td>10</td>\n",
       "    </tr>\n",
       "    <tr>\n",
       "      <th>8</th>\n",
       "      <td>4</td>\n",
       "      <td>Discussions and Q&amp;A</td>\n",
       "      <td>21</td>\n",
       "    </tr>\n",
       "    <tr>\n",
       "      <th>9</th>\n",
       "      <td>8</td>\n",
       "      <td>Challenges in Migrating Imperative Deep Learni...</td>\n",
       "      <td>15</td>\n",
       "    </tr>\n",
       "  </tbody>\n",
       "</table>\n",
       "</div>"
      ],
      "text/plain": [
       "   session                                         talk_title  duration\n",
       "0       44        On the Naturalness of Fuzzer Generated Code         4\n",
       "1       44  Exploring Apache Incubator Project Trajectorie...         4\n",
       "2       44  Investigating the Impact of Forgetting in Soft...         8\n",
       "3       44  Toward Granular Automatic Unit Test Case Gener...         4\n",
       "4       44  Tooling for Time- and Space-efficient git Repo...         4\n",
       "5       14                                Discussions and Q&A        14\n",
       "6        7  Code Review Practices for Refactoring Changes:...         7\n",
       "7       10  Back to the future: Empirical Revolution(s) in...        10\n",
       "8        4                                Discussions and Q&A        21\n",
       "9        8  Challenges in Migrating Imperative Deep Learni...        15"
      ]
     },
     "execution_count": 26,
     "metadata": {},
     "output_type": "execute_result"
    }
   ],
   "source": [
    "df_results"
   ]
  },
  {
   "cell_type": "code",
   "execution_count": null,
   "id": "516c230c-d9a0-45f6-8719-e24853f1c730",
   "metadata": {},
   "outputs": [],
   "source": []
  },
  {
   "cell_type": "code",
   "execution_count": null,
   "id": "e909be25-ed08-485c-9c7c-e42b78b689cc",
   "metadata": {},
   "outputs": [],
   "source": []
  },
  {
   "cell_type": "code",
   "execution_count": null,
   "id": "7ac8dd8f-a8f3-4587-8353-8af60b2e4dd7",
   "metadata": {},
   "outputs": [],
   "source": []
  },
  {
   "cell_type": "code",
   "execution_count": null,
   "id": "3aa9a45d-6727-4888-b24b-12d58bfcd770",
   "metadata": {},
   "outputs": [],
   "source": []
  },
  {
   "cell_type": "code",
   "execution_count": null,
   "id": "83b3f2f0-8a2d-487b-845a-60ec567a256d",
   "metadata": {},
   "outputs": [],
   "source": []
  },
  {
   "cell_type": "code",
   "execution_count": null,
   "id": "fc26fc11-4962-4600-8820-361e6e3252de",
   "metadata": {},
   "outputs": [],
   "source": []
  },
  {
   "cell_type": "code",
   "execution_count": null,
   "id": "87d5ac08-8b13-4611-8cd6-57aa3418ae27",
   "metadata": {},
   "outputs": [],
   "source": []
  },
  {
   "cell_type": "code",
   "execution_count": null,
   "id": "6ab28117-51be-4aba-9b2d-2deca26cabbe",
   "metadata": {},
   "outputs": [],
   "source": []
  },
  {
   "cell_type": "code",
   "execution_count": null,
   "id": "d52c3f7c-1e7e-4857-86be-254beb0b7947",
   "metadata": {},
   "outputs": [],
   "source": []
  },
  {
   "cell_type": "code",
   "execution_count": null,
   "id": "9a2f720d-40de-42ab-b62f-714393028b82",
   "metadata": {},
   "outputs": [],
   "source": []
  },
  {
   "cell_type": "code",
   "execution_count": null,
   "id": "777bdc3d-f413-4fde-82f4-a75f5b1da018",
   "metadata": {},
   "outputs": [],
   "source": []
  },
  {
   "cell_type": "code",
   "execution_count": null,
   "id": "ee08de3d-b69e-492b-bad0-e73c410c8fd2",
   "metadata": {},
   "outputs": [],
   "source": []
  }
 ],
 "metadata": {
  "environment": {
   "kernel": "python3",
   "name": ".m116",
   "type": "gcloud",
   "uri": "gcr.io/deeplearning-platform-release/:m116"
  },
  "kernelspec": {
   "display_name": "Python 3",
   "language": "python",
   "name": "python3"
  },
  "language_info": {
   "codemirror_mode": {
    "name": "ipython",
    "version": 3
   },
   "file_extension": ".py",
   "mimetype": "text/x-python",
   "name": "python",
   "nbconvert_exporter": "python",
   "pygments_lexer": "ipython3",
   "version": "3.10.13"
  }
 },
 "nbformat": 4,
 "nbformat_minor": 5
}
