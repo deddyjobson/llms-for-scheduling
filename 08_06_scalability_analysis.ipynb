{
 "cells": [
  {
   "cell_type": "code",
   "execution_count": 1,
   "id": "f52b3bca-8da1-4f3a-bf58-9633cf4d371d",
   "metadata": {
    "tags": []
   },
   "outputs": [],
   "source": [
    "import numpy as np\n",
    "from io import StringIO"
   ]
  },
  {
   "cell_type": "code",
   "execution_count": 2,
   "id": "f2fd0ef6-a7a3-4593-abf4-83147c572e11",
   "metadata": {},
   "outputs": [],
   "source": [
    "import openai\n",
    "\n",
    "with open(\"secret/secret_key_file.txt\", 'r') as file:\n",
    "    api_key = file.read().strip()\n",
    "\n",
    "client = openai.OpenAI(api_key = api_key)"
   ]
  },
  {
   "cell_type": "code",
   "execution_count": 3,
   "id": "5f1c7ebb-2229-4c01-866f-d118967680c2",
   "metadata": {
    "tags": []
   },
   "outputs": [],
   "source": [
    "import pandas as pd\n",
    "import re\n",
    "from bs4 import BeautifulSoup\n",
    "\n",
    "# Without error capture to ensure the output (whether success or failure) is reported back.\n",
    "# Attempt to read tables from the HTML file using pandas\n",
    "file_path = \"data/Program - MSR 2022.html\""
   ]
  },
  {
   "cell_type": "code",
   "execution_count": 4,
   "id": "12541858-24bc-4f76-b116-ad9f40cc98cf",
   "metadata": {
    "tags": []
   },
   "outputs": [],
   "source": [
    "with open(file_path, 'r') as file:\n",
    "    html_content = file.read()"
   ]
  },
  {
   "cell_type": "code",
   "execution_count": 5,
   "id": "3320d105-9782-4253-baba-3c70a948c8c2",
   "metadata": {
    "tags": []
   },
   "outputs": [],
   "source": [
    "soup = BeautifulSoup(html_content, 'lxml')"
   ]
  },
  {
   "cell_type": "code",
   "execution_count": 6,
   "id": "326b1a65-9233-4e11-b07d-7e8d956c7bb8",
   "metadata": {
    "tags": []
   },
   "outputs": [],
   "source": [
    "rows = soup.find_all('tr', class_='hidable')"
   ]
  },
  {
   "cell_type": "code",
   "execution_count": 7,
   "id": "cf114e01-0846-40e7-aebe-1e52de2e5c34",
   "metadata": {
    "tags": []
   },
   "outputs": [],
   "source": [
    "# Regex to match date pattern (e.g., \"Tue 16 May\")\n",
    "date_pattern = re.compile(r\"\\b(?:Mon|Tue|Wed|Thu|Fri|Sat|Sun)\\s\\d{1,2}\\s(?:Jan|Feb|Mar|Apr|May|Jun|Jul|Aug|Sep|Oct|Nov|Dec)\")"
   ]
  },
  {
   "cell_type": "code",
   "execution_count": 8,
   "id": "c1f56910-958e-4ddd-9d1f-67c8247b226b",
   "metadata": {
    "tags": []
   },
   "outputs": [
    {
     "data": {
      "text/html": [
       "<div>\n",
       "<style scoped>\n",
       "    .dataframe tbody tr th:only-of-type {\n",
       "        vertical-align: middle;\n",
       "    }\n",
       "\n",
       "    .dataframe tbody tr th {\n",
       "        vertical-align: top;\n",
       "    }\n",
       "\n",
       "    .dataframe thead th {\n",
       "        text-align: right;\n",
       "    }\n",
       "</style>\n",
       "<table border=\"1\" class=\"dataframe\">\n",
       "  <thead>\n",
       "    <tr style=\"text-align: right;\">\n",
       "      <th></th>\n",
       "      <th>Time</th>\n",
       "      <th>Duration</th>\n",
       "      <th>Talk Title</th>\n",
       "      <th>Link</th>\n",
       "      <th>Authors</th>\n",
       "      <th>Session</th>\n",
       "      <th>Date</th>\n",
       "    </tr>\n",
       "  </thead>\n",
       "  <tbody>\n",
       "    <tr>\n",
       "      <th>0</th>\n",
       "      <td>22:00</td>\n",
       "      <td>4m</td>\n",
       "      <td>An Empirical Evaluation of GitHub Copilot’s Co...</td>\n",
       "      <td>#</td>\n",
       "      <td>[Nhan Nguyen, Sarah Nadi]</td>\n",
       "      <td>Session 1Technical Papers/Registered Reportsat...</td>\n",
       "      <td>Tue 17 May</td>\n",
       "    </tr>\n",
       "    <tr>\n",
       "      <th>1</th>\n",
       "      <td>22:04</td>\n",
       "      <td>4m</td>\n",
       "      <td>Comments on Comments: Where Code Review and Do...</td>\n",
       "      <td>#</td>\n",
       "      <td>[Nikitha Rao, Jason Tsay, Martin Hirzel, Vince...</td>\n",
       "      <td>Session 1Technical Papers/Registered Reportsat...</td>\n",
       "      <td>Tue 17 May</td>\n",
       "    </tr>\n",
       "    <tr>\n",
       "      <th>2</th>\n",
       "      <td>22:08</td>\n",
       "      <td>7m</td>\n",
       "      <td>Does This Apply to Me? An Empirical Study of T...</td>\n",
       "      <td>#</td>\n",
       "      <td>[Akalanka Galappaththi, Sarah Nadi, Christoph ...</td>\n",
       "      <td>Session 1Technical Papers/Registered Reportsat...</td>\n",
       "      <td>Tue 17 May</td>\n",
       "    </tr>\n",
       "    <tr>\n",
       "      <th>3</th>\n",
       "      <td>22:15</td>\n",
       "      <td>7m</td>\n",
       "      <td>Towards Reliable Agile Iterative Planning via ...</td>\n",
       "      <td>#</td>\n",
       "      <td>[Jirat Pasuksmit, Patanamon Thongtanunam, Shan...</td>\n",
       "      <td>Session 1Technical Papers/Registered Reportsat...</td>\n",
       "      <td>Tue 17 May</td>\n",
       "    </tr>\n",
       "    <tr>\n",
       "      <th>4</th>\n",
       "      <td>22:22</td>\n",
       "      <td>7m</td>\n",
       "      <td>BotHunter: An Approach to Detect Software Bots...</td>\n",
       "      <td>#</td>\n",
       "      <td>[Ahmad Abdellatif, Mairieli Wessel, Igor Stein...</td>\n",
       "      <td>Session 1Technical Papers/Registered Reportsat...</td>\n",
       "      <td>Tue 17 May</td>\n",
       "    </tr>\n",
       "  </tbody>\n",
       "</table>\n",
       "</div>"
      ],
      "text/plain": [
       "    Time Duration                                         Talk Title Link  \\\n",
       "0  22:00       4m  An Empirical Evaluation of GitHub Copilot’s Co...    #   \n",
       "1  22:04       4m  Comments on Comments: Where Code Review and Do...    #   \n",
       "2  22:08       7m  Does This Apply to Me? An Empirical Study of T...    #   \n",
       "3  22:15       7m  Towards Reliable Agile Iterative Planning via ...    #   \n",
       "4  22:22       7m  BotHunter: An Approach to Detect Software Bots...    #   \n",
       "\n",
       "                                             Authors  \\\n",
       "0                          [Nhan Nguyen, Sarah Nadi]   \n",
       "1  [Nikitha Rao, Jason Tsay, Martin Hirzel, Vince...   \n",
       "2  [Akalanka Galappaththi, Sarah Nadi, Christoph ...   \n",
       "3  [Jirat Pasuksmit, Patanamon Thongtanunam, Shan...   \n",
       "4  [Ahmad Abdellatif, Mairieli Wessel, Igor Stein...   \n",
       "\n",
       "                                             Session        Date  \n",
       "0  Session 1Technical Papers/Registered Reportsat...  Tue 17 May  \n",
       "1  Session 1Technical Papers/Registered Reportsat...  Tue 17 May  \n",
       "2  Session 1Technical Papers/Registered Reportsat...  Tue 17 May  \n",
       "3  Session 1Technical Papers/Registered Reportsat...  Tue 17 May  \n",
       "4  Session 1Technical Papers/Registered Reportsat...  Tue 17 May  "
      ]
     },
     "execution_count": 8,
     "metadata": {},
     "output_type": "execute_result"
    }
   ],
   "source": [
    "extracted_rows = []\n",
    "\n",
    "# Loop through each row to extract required details\n",
    "for row in rows:\n",
    "    temp_row = []\n",
    "    \n",
    "    # Extract session details from parent div if not already extracted\n",
    "    session_div = row.find_previous('div', class_='session-info-in-table')\n",
    "    session = session_div.get_text(strip=True) if session_div else ''\n",
    "    \n",
    "    datetime_info = row.find('td', class_='text-right')\n",
    "    talk_info = row.find_all('td')[-1]\n",
    "    \n",
    "    if datetime_info and talk_info:\n",
    "        time = datetime_info.find('div', class_='start-time').get_text(strip=True) if datetime_info.find('div', class_='start-time') else ''\n",
    "        duration = datetime_info.find('strong').get_text(strip=True) if datetime_info.find('strong') else ''\n",
    "        \n",
    "        # Calculate end time based on start time and duration if needed\n",
    "        \n",
    "        temp_row.append(time)\n",
    "        # temp_row.append(end_time)  # Calculate and append end time if needed\n",
    "        temp_row.append(duration)\n",
    "        \n",
    "        talk_title = talk_info.find('strong')\n",
    "        if talk_title:\n",
    "            temp_row.append(talk_title.get_text(strip=True))\n",
    "            \n",
    "            link = talk_title.find('a', href=True)\n",
    "            temp_row.append(link['href'] if link else '')\n",
    "        else:\n",
    "            temp_row.extend(['', ''])\n",
    "            \n",
    "        # Extract authors\n",
    "        authors_div = talk_info.find('div', class_='performers')\n",
    "        authors = [author.get_text(strip=True) for author in authors_div.find_all('a')] if authors_div else []\n",
    "        temp_row.append(authors)\n",
    "        \n",
    "        # Append session information\n",
    "        temp_row.append(session)\n",
    "        \n",
    "        # Locate date information\n",
    "        # Tip: You may need to adjust how you locate the 'date information' based on your HTML structure\n",
    "        date_info = row.find_previous('div', class_='day-wrapper')\n",
    "        if date_info:\n",
    "            date_text = date_info.get_text(strip=True)\n",
    "            matched_date = date_pattern.search(date_text)\n",
    "            date = matched_date.group(0) if matched_date else \"Date Not Found\"\n",
    "        else:\n",
    "            date = None\n",
    "        temp_row.append(date)\n",
    "        \n",
    "        extracted_rows.append(temp_row)\n",
    "\n",
    "columns = ['Time', 'Duration', 'Talk Title', 'Link', 'Authors', 'Session', 'Date']\n",
    "df = pd.DataFrame(extracted_rows, columns=columns)\n",
    "\n",
    "df.head()"
   ]
  },
  {
   "cell_type": "code",
   "execution_count": 9,
   "id": "0cbbcd35-7fe8-4c81-a61f-83b25fe0bef5",
   "metadata": {
    "tags": []
   },
   "outputs": [
    {
     "data": {
      "text/html": [
       "<div>\n",
       "<style scoped>\n",
       "    .dataframe tbody tr th:only-of-type {\n",
       "        vertical-align: middle;\n",
       "    }\n",
       "\n",
       "    .dataframe tbody tr th {\n",
       "        vertical-align: top;\n",
       "    }\n",
       "\n",
       "    .dataframe thead th {\n",
       "        text-align: right;\n",
       "    }\n",
       "</style>\n",
       "<table border=\"1\" class=\"dataframe\">\n",
       "  <thead>\n",
       "    <tr style=\"text-align: right;\">\n",
       "      <th></th>\n",
       "      <th>session</th>\n",
       "      <th>date</th>\n",
       "      <th>start_time</th>\n",
       "      <th>end_time</th>\n",
       "      <th>duration</th>\n",
       "      <th>talk_title</th>\n",
       "      <th>authors</th>\n",
       "    </tr>\n",
       "  </thead>\n",
       "  <tbody>\n",
       "    <tr>\n",
       "      <th>0</th>\n",
       "      <td>Session 1Technical Papers/Registered Reportsat...</td>\n",
       "      <td>Tue 17 May</td>\n",
       "      <td>1900-05-17 22:00:00</td>\n",
       "      <td>1900-05-17 22:04:00</td>\n",
       "      <td>4</td>\n",
       "      <td>An Empirical Evaluation of GitHub Copilot’s Co...</td>\n",
       "      <td>[Nhan Nguyen, Sarah Nadi]</td>\n",
       "    </tr>\n",
       "    <tr>\n",
       "      <th>1</th>\n",
       "      <td>Session 1Technical Papers/Registered Reportsat...</td>\n",
       "      <td>Tue 17 May</td>\n",
       "      <td>1900-05-17 22:04:00</td>\n",
       "      <td>1900-05-17 22:08:00</td>\n",
       "      <td>4</td>\n",
       "      <td>Comments on Comments: Where Code Review and Do...</td>\n",
       "      <td>[Nikitha Rao, Jason Tsay, Martin Hirzel, Vince...</td>\n",
       "    </tr>\n",
       "    <tr>\n",
       "      <th>2</th>\n",
       "      <td>Session 1Technical Papers/Registered Reportsat...</td>\n",
       "      <td>Tue 17 May</td>\n",
       "      <td>1900-05-17 22:08:00</td>\n",
       "      <td>1900-05-17 22:15:00</td>\n",
       "      <td>7</td>\n",
       "      <td>Does This Apply to Me? An Empirical Study of T...</td>\n",
       "      <td>[Akalanka Galappaththi, Sarah Nadi, Christoph ...</td>\n",
       "    </tr>\n",
       "    <tr>\n",
       "      <th>3</th>\n",
       "      <td>Session 1Technical Papers/Registered Reportsat...</td>\n",
       "      <td>Tue 17 May</td>\n",
       "      <td>1900-05-17 22:15:00</td>\n",
       "      <td>1900-05-17 22:22:00</td>\n",
       "      <td>7</td>\n",
       "      <td>Towards Reliable Agile Iterative Planning via ...</td>\n",
       "      <td>[Jirat Pasuksmit, Patanamon Thongtanunam, Shan...</td>\n",
       "    </tr>\n",
       "    <tr>\n",
       "      <th>4</th>\n",
       "      <td>Session 1Technical Papers/Registered Reportsat...</td>\n",
       "      <td>Tue 17 May</td>\n",
       "      <td>1900-05-17 22:22:00</td>\n",
       "      <td>1900-05-17 22:29:00</td>\n",
       "      <td>7</td>\n",
       "      <td>BotHunter: An Approach to Detect Software Bots...</td>\n",
       "      <td>[Ahmad Abdellatif, Mairieli Wessel, Igor Stein...</td>\n",
       "    </tr>\n",
       "  </tbody>\n",
       "</table>\n",
       "</div>"
      ],
      "text/plain": [
       "                                             session        date  \\\n",
       "0  Session 1Technical Papers/Registered Reportsat...  Tue 17 May   \n",
       "1  Session 1Technical Papers/Registered Reportsat...  Tue 17 May   \n",
       "2  Session 1Technical Papers/Registered Reportsat...  Tue 17 May   \n",
       "3  Session 1Technical Papers/Registered Reportsat...  Tue 17 May   \n",
       "4  Session 1Technical Papers/Registered Reportsat...  Tue 17 May   \n",
       "\n",
       "           start_time            end_time  duration  \\\n",
       "0 1900-05-17 22:00:00 1900-05-17 22:04:00         4   \n",
       "1 1900-05-17 22:04:00 1900-05-17 22:08:00         4   \n",
       "2 1900-05-17 22:08:00 1900-05-17 22:15:00         7   \n",
       "3 1900-05-17 22:15:00 1900-05-17 22:22:00         7   \n",
       "4 1900-05-17 22:22:00 1900-05-17 22:29:00         7   \n",
       "\n",
       "                                          talk_title  \\\n",
       "0  An Empirical Evaluation of GitHub Copilot’s Co...   \n",
       "1  Comments on Comments: Where Code Review and Do...   \n",
       "2  Does This Apply to Me? An Empirical Study of T...   \n",
       "3  Towards Reliable Agile Iterative Planning via ...   \n",
       "4  BotHunter: An Approach to Detect Software Bots...   \n",
       "\n",
       "                                             authors  \n",
       "0                          [Nhan Nguyen, Sarah Nadi]  \n",
       "1  [Nikitha Rao, Jason Tsay, Martin Hirzel, Vince...  \n",
       "2  [Akalanka Galappaththi, Sarah Nadi, Christoph ...  \n",
       "3  [Jirat Pasuksmit, Patanamon Thongtanunam, Shan...  \n",
       "4  [Ahmad Abdellatif, Mairieli Wessel, Igor Stein...  "
      ]
     },
     "execution_count": 9,
     "metadata": {},
     "output_type": "execute_result"
    }
   ],
   "source": [
    "# Convert all column names to lowercase and replace spaces with hyphens\n",
    "df.columns = [col.lower().replace(' ', '_') for col in df.columns]\n",
    "\n",
    "# Put date first\n",
    "df = df[['date'] + [col for col in df.columns if col != 'date']]\n",
    "\n",
    "# Convert Time to start_time as datetime and calculate end_time\n",
    "df['start_time'] = pd.to_datetime(df['date'] + ' ' + df['time'], format='%a %d %b %H:%M')\n",
    "df['duration'] = df['duration'].str.extract('(\\d+)').astype(int)  # Extract duration in minutes\n",
    "df['end_time'] = df['start_time'] + pd.to_timedelta(df['duration'], unit='m')\n",
    "\n",
    "# Delete the Link column\n",
    "df = df.drop(['link', 'time'], axis=1)\n",
    "\n",
    "# Move Authors column to the last position\n",
    "df = df[[col for col in df.columns if col != 'authors'] + ['authors']]\n",
    "\n",
    "df = df[['session', 'date', 'start_time', 'end_time', 'duration', 'talk_title','authors']]\n",
    "\n",
    "# Display the final data frame\n",
    "df.head()"
   ]
  },
  {
   "cell_type": "code",
   "execution_count": 10,
   "id": "d27a617a-ec1a-4177-9e80-4c7d1667de41",
   "metadata": {},
   "outputs": [
    {
     "data": {
      "text/html": [
       "<div>\n",
       "<style scoped>\n",
       "    .dataframe tbody tr th:only-of-type {\n",
       "        vertical-align: middle;\n",
       "    }\n",
       "\n",
       "    .dataframe tbody tr th {\n",
       "        vertical-align: top;\n",
       "    }\n",
       "\n",
       "    .dataframe thead th {\n",
       "        text-align: right;\n",
       "    }\n",
       "</style>\n",
       "<table border=\"1\" class=\"dataframe\">\n",
       "  <thead>\n",
       "    <tr style=\"text-align: right;\">\n",
       "      <th></th>\n",
       "      <th>session</th>\n",
       "      <th>date</th>\n",
       "      <th>start_time</th>\n",
       "      <th>end_time</th>\n",
       "      <th>duration</th>\n",
       "      <th>talk_title</th>\n",
       "      <th>authors</th>\n",
       "    </tr>\n",
       "  </thead>\n",
       "  <tbody>\n",
       "    <tr>\n",
       "      <th>0</th>\n",
       "      <td>Session 1Technical Papers/Registered Reportsat...</td>\n",
       "      <td>Tue 17 May</td>\n",
       "      <td>-36619320</td>\n",
       "      <td>-36619316</td>\n",
       "      <td>4</td>\n",
       "      <td>An Empirical Evaluation of GitHub Copilot’s Co...</td>\n",
       "      <td>[Nhan Nguyen, Sarah Nadi]</td>\n",
       "    </tr>\n",
       "    <tr>\n",
       "      <th>1</th>\n",
       "      <td>Session 1Technical Papers/Registered Reportsat...</td>\n",
       "      <td>Tue 17 May</td>\n",
       "      <td>-36619316</td>\n",
       "      <td>-36619312</td>\n",
       "      <td>4</td>\n",
       "      <td>Comments on Comments: Where Code Review and Do...</td>\n",
       "      <td>[Nikitha Rao, Jason Tsay, Martin Hirzel, Vince...</td>\n",
       "    </tr>\n",
       "    <tr>\n",
       "      <th>2</th>\n",
       "      <td>Session 1Technical Papers/Registered Reportsat...</td>\n",
       "      <td>Tue 17 May</td>\n",
       "      <td>-36619312</td>\n",
       "      <td>-36619305</td>\n",
       "      <td>7</td>\n",
       "      <td>Does This Apply to Me? An Empirical Study of T...</td>\n",
       "      <td>[Akalanka Galappaththi, Sarah Nadi, Christoph ...</td>\n",
       "    </tr>\n",
       "    <tr>\n",
       "      <th>3</th>\n",
       "      <td>Session 1Technical Papers/Registered Reportsat...</td>\n",
       "      <td>Tue 17 May</td>\n",
       "      <td>-36619305</td>\n",
       "      <td>-36619298</td>\n",
       "      <td>7</td>\n",
       "      <td>Towards Reliable Agile Iterative Planning via ...</td>\n",
       "      <td>[Jirat Pasuksmit, Patanamon Thongtanunam, Shan...</td>\n",
       "    </tr>\n",
       "    <tr>\n",
       "      <th>4</th>\n",
       "      <td>Session 1Technical Papers/Registered Reportsat...</td>\n",
       "      <td>Tue 17 May</td>\n",
       "      <td>-36619298</td>\n",
       "      <td>-36619291</td>\n",
       "      <td>7</td>\n",
       "      <td>BotHunter: An Approach to Detect Software Bots...</td>\n",
       "      <td>[Ahmad Abdellatif, Mairieli Wessel, Igor Stein...</td>\n",
       "    </tr>\n",
       "  </tbody>\n",
       "</table>\n",
       "</div>"
      ],
      "text/plain": [
       "                                             session        date  start_time  \\\n",
       "0  Session 1Technical Papers/Registered Reportsat...  Tue 17 May   -36619320   \n",
       "1  Session 1Technical Papers/Registered Reportsat...  Tue 17 May   -36619316   \n",
       "2  Session 1Technical Papers/Registered Reportsat...  Tue 17 May   -36619312   \n",
       "3  Session 1Technical Papers/Registered Reportsat...  Tue 17 May   -36619305   \n",
       "4  Session 1Technical Papers/Registered Reportsat...  Tue 17 May   -36619298   \n",
       "\n",
       "   end_time  duration                                         talk_title  \\\n",
       "0 -36619316         4  An Empirical Evaluation of GitHub Copilot’s Co...   \n",
       "1 -36619312         4  Comments on Comments: Where Code Review and Do...   \n",
       "2 -36619305         7  Does This Apply to Me? An Empirical Study of T...   \n",
       "3 -36619298         7  Towards Reliable Agile Iterative Planning via ...   \n",
       "4 -36619291         7  BotHunter: An Approach to Detect Software Bots...   \n",
       "\n",
       "                                             authors  \n",
       "0                          [Nhan Nguyen, Sarah Nadi]  \n",
       "1  [Nikitha Rao, Jason Tsay, Martin Hirzel, Vince...  \n",
       "2  [Akalanka Galappaththi, Sarah Nadi, Christoph ...  \n",
       "3  [Jirat Pasuksmit, Patanamon Thongtanunam, Shan...  \n",
       "4  [Ahmad Abdellatif, Mairieli Wessel, Igor Stein...  "
      ]
     },
     "execution_count": 10,
     "metadata": {},
     "output_type": "execute_result"
    }
   ],
   "source": [
    "df['start_time'] = pd.to_datetime(df['start_time']).astype(int) // 10**9 // 60\n",
    "df['end_time'] = pd.to_datetime(df['end_time']).astype(int) // 10**9 // 60\n",
    "\n",
    "df.head()"
   ]
  },
  {
   "cell_type": "code",
   "execution_count": 11,
   "id": "ce7fa989-65a3-44d2-9354-f5b7da361991",
   "metadata": {
    "tags": []
   },
   "outputs": [
    {
     "data": {
      "text/plain": [
       "(187, 7)"
      ]
     },
     "execution_count": 11,
     "metadata": {},
     "output_type": "execute_result"
    }
   ],
   "source": [
    "df.shape"
   ]
  },
  {
   "cell_type": "code",
   "execution_count": 12,
   "id": "937f76b1-f8d1-4fb4-bc76-6812ef57f298",
   "metadata": {},
   "outputs": [],
   "source": [
    "sessions = df.groupby(\"session\").size()\n",
    "valid_sessions = sessions[sessions>3].index\n",
    "df = df[df.session.isin(valid_sessions)]"
   ]
  },
  {
   "cell_type": "code",
   "execution_count": 13,
   "id": "338e357c-cd3a-4241-8635-c594425e280a",
   "metadata": {
    "tags": []
   },
   "outputs": [],
   "source": [
    "delete_talk_title = \"Discussions and Q&A\"\n",
    "df = df[df.talk_title!=delete_talk_title]"
   ]
  },
  {
   "cell_type": "code",
   "execution_count": 14,
   "id": "3fe5da9c-8e5f-4d12-bf0a-c3133cf13158",
   "metadata": {
    "tags": []
   },
   "outputs": [],
   "source": [
    "df = df[~df.session.str.startswith(\"Blended\")]"
   ]
  },
  {
   "cell_type": "code",
   "execution_count": 15,
   "id": "d21121ba-2349-494f-bddf-18d93d325335",
   "metadata": {
    "tags": []
   },
   "outputs": [
    {
     "data": {
      "text/plain": [
       "(125, 7)"
      ]
     },
     "execution_count": 15,
     "metadata": {},
     "output_type": "execute_result"
    }
   ],
   "source": [
    "df.shape"
   ]
  },
  {
   "cell_type": "code",
   "execution_count": 16,
   "id": "e0bc286c-d50c-4eb6-94b4-43708b997b85",
   "metadata": {
    "tags": []
   },
   "outputs": [
    {
     "data": {
      "text/plain": [
       "session       object\n",
       "date          object\n",
       "start_time     int64\n",
       "end_time       int64\n",
       "duration       int64\n",
       "talk_title    object\n",
       "authors       object\n",
       "dtype: object"
      ]
     },
     "execution_count": 16,
     "metadata": {},
     "output_type": "execute_result"
    }
   ],
   "source": [
    "df.dtypes"
   ]
  },
  {
   "cell_type": "code",
   "execution_count": 17,
   "id": "4e5a9caa-71d0-49aa-ac7c-347d1d5077d4",
   "metadata": {
    "tags": []
   },
   "outputs": [
    {
     "data": {
      "text/html": [
       "<div>\n",
       "<style scoped>\n",
       "    .dataframe tbody tr th:only-of-type {\n",
       "        vertical-align: middle;\n",
       "    }\n",
       "\n",
       "    .dataframe tbody tr th {\n",
       "        vertical-align: top;\n",
       "    }\n",
       "\n",
       "    .dataframe thead th {\n",
       "        text-align: right;\n",
       "    }\n",
       "</style>\n",
       "<table border=\"1\" class=\"dataframe\">\n",
       "  <thead>\n",
       "    <tr style=\"text-align: right;\">\n",
       "      <th></th>\n",
       "      <th>date</th>\n",
       "      <th>total_duration</th>\n",
       "    </tr>\n",
       "  </thead>\n",
       "  <tbody>\n",
       "    <tr>\n",
       "      <th>0</th>\n",
       "      <td>Fri 20 May</td>\n",
       "      <td>147</td>\n",
       "    </tr>\n",
       "    <tr>\n",
       "      <th>1</th>\n",
       "      <td>Thu 19 May</td>\n",
       "      <td>314</td>\n",
       "    </tr>\n",
       "    <tr>\n",
       "      <th>2</th>\n",
       "      <td>Tue 17 May</td>\n",
       "      <td>36</td>\n",
       "    </tr>\n",
       "    <tr>\n",
       "      <th>3</th>\n",
       "      <td>Wed 18 May</td>\n",
       "      <td>238</td>\n",
       "    </tr>\n",
       "  </tbody>\n",
       "</table>\n",
       "</div>"
      ],
      "text/plain": [
       "         date  total_duration\n",
       "0  Fri 20 May             147\n",
       "1  Thu 19 May             314\n",
       "2  Tue 17 May              36\n",
       "3  Wed 18 May             238"
      ]
     },
     "execution_count": 17,
     "metadata": {},
     "output_type": "execute_result"
    }
   ],
   "source": [
    "def merge_intervals(intervals):\n",
    "    if not intervals:\n",
    "        return 0\n",
    "    \n",
    "    # Sort intervals by the start time\n",
    "    intervals.sort(key=lambda x: x[0])\n",
    "    \n",
    "    merged = [intervals[0]]\n",
    "    for current_start, current_end in intervals[1:]:\n",
    "        last_end = merged[-1][1]\n",
    "        \n",
    "        if current_start <= last_end:\n",
    "            # There's an overlap, extend the previous interval\n",
    "            merged[-1] = (merged[-1][0], max(last_end, current_end))\n",
    "        else:\n",
    "            # No overlap, add this interval as is\n",
    "            merged.append((current_start, current_end))\n",
    "    \n",
    "    # Compute total duration in minutes (or another unit as desired)\n",
    "    total_duration_minutes = sum((end - start) for start, end in merged)   # convert seconds to minutes\n",
    "    return total_duration_minutes\n",
    "\n",
    "total_durations = []\n",
    "\n",
    "for date, group in df.groupby('date'):\n",
    "    intervals = list(zip(group['start_time'], group['end_time']))\n",
    "    total_duration = merge_intervals(intervals)\n",
    "    total_durations.append({'date': date, 'total_duration': total_duration})\n",
    "\n",
    "# Converting the result into a DataFrame\n",
    "total_duration_df = pd.DataFrame(total_durations)\n",
    "\n",
    "total_duration_df"
   ]
  },
  {
   "cell_type": "code",
   "execution_count": 18,
   "id": "8ea0bf22-5d87-4f8c-bf6a-6301eb5da164",
   "metadata": {
    "tags": []
   },
   "outputs": [
    {
     "data": {
      "text/html": [
       "<div>\n",
       "<style scoped>\n",
       "    .dataframe tbody tr th:only-of-type {\n",
       "        vertical-align: middle;\n",
       "    }\n",
       "\n",
       "    .dataframe tbody tr th {\n",
       "        vertical-align: top;\n",
       "    }\n",
       "\n",
       "    .dataframe thead th {\n",
       "        text-align: right;\n",
       "    }\n",
       "</style>\n",
       "<table border=\"1\" class=\"dataframe\">\n",
       "  <thead>\n",
       "    <tr style=\"text-align: right;\">\n",
       "      <th></th>\n",
       "      <th>date</th>\n",
       "      <th>duration</th>\n",
       "    </tr>\n",
       "  </thead>\n",
       "  <tbody>\n",
       "    <tr>\n",
       "      <th>0</th>\n",
       "      <td>Fri 20 May</td>\n",
       "      <td>147</td>\n",
       "    </tr>\n",
       "    <tr>\n",
       "      <th>1</th>\n",
       "      <td>Thu 19 May</td>\n",
       "      <td>314</td>\n",
       "    </tr>\n",
       "    <tr>\n",
       "      <th>2</th>\n",
       "      <td>Tue 17 May</td>\n",
       "      <td>36</td>\n",
       "    </tr>\n",
       "    <tr>\n",
       "      <th>3</th>\n",
       "      <td>Wed 18 May</td>\n",
       "      <td>238</td>\n",
       "    </tr>\n",
       "  </tbody>\n",
       "</table>\n",
       "</div>"
      ],
      "text/plain": [
       "         date  duration\n",
       "0  Fri 20 May       147\n",
       "1  Thu 19 May       314\n",
       "2  Tue 17 May        36\n",
       "3  Wed 18 May       238"
      ]
     },
     "execution_count": 18,
     "metadata": {},
     "output_type": "execute_result"
    }
   ],
   "source": [
    "dates = df.groupby(\"date\")[\"duration\"].sum().reset_index()\n",
    "\n",
    "\n",
    "dates"
   ]
  },
  {
   "cell_type": "markdown",
   "id": "1b506b7e-c251-4d69-a4ae-efa64d2eb59a",
   "metadata": {},
   "source": [
    "## Get Schedule through GPT\n"
   ]
  },
  {
   "cell_type": "code",
   "execution_count": 19,
   "id": "6fd44b47-dad4-441b-b1f2-c693ed2a96c2",
   "metadata": {},
   "outputs": [],
   "source": [
    "NUM_SESSION_LIST = [2,3,5,10,len(df.session.unique())] # number of sessions we will consider\n",
    "SESSION_SIZE_LIST = [2, 5, 10] # number of papers in each session. 10 = \"All papers\".  "
   ]
  },
  {
   "cell_type": "code",
   "execution_count": 20,
   "id": "2545a34d-9d55-47d3-8a9e-0d99765f8b54",
   "metadata": {},
   "outputs": [],
   "source": [
    "N_ITERATIONS = 10 # we want to get confidence intervals"
   ]
  },
  {
   "cell_type": "code",
   "execution_count": 21,
   "id": "66f27966-a5f1-4e84-8ad6-0bf79a88bac9",
   "metadata": {},
   "outputs": [
    {
     "name": "stdout",
     "output_type": "stream",
     "text": [
      "\n",
      "Program creation is the process of taking all the accepted papers to a conference and allocating a presentation slot for each paper with parallel sessions. \n",
      "The PC chairs of a conference typically do this manually. \n",
      "Assign sessions to the following papers based on the following constraints:\n",
      "1. The total length of all paper presentations within a session should be less than or equal to the length of the session they are in. \n",
      "2. No new sessions should be added. \n",
      "3. The \"Discussions and Q&A\" event\n"
     ]
    }
   ],
   "source": [
    "prompt_template = \"\"\"\n",
    "Program creation is the process of taking all the accepted papers to a conference and allocating a presentation slot for each paper with parallel sessions. \n",
    "The PC chairs of a conference typically do this manually. \n",
    "Assign sessions to the following papers based on the following constraints:\n",
    "1. The total length of all paper presentations within a session should be less than or equal to the length of the session they are in. \n",
    "2. No new sessions should be added. \n",
    "3. The \"Discussions and Q&A\" event should only be at the end of a session if present. \n",
    "4. All papers must be assigned to some session. \n",
    "\n",
    "The output should contain the schedule in the form of the csv representation of a data frame. This csv representation should be in three quotes (```) on both sides so that I can easily extract it from your result and make a data frame. \n",
    "Example output format(use as many rows as the actual number of papers):\n",
    "\n",
    "```\n",
    "session@talk_title@duration\n",
    "231@An Empirical Study on Maintainable Method Size in Java@7\n",
    "223@Improve Quality of Cloud Serverless Architectures through Software Repository Mining@7\n",
    "15@Extracting corrective actions from code repositories@7\n",
    "15@How to Improve Deep Learning for Software Analytics (a case study with code smell detection)@7\n",
    "11@ReCover: a Curated Dataset for Regression Testing Research@4\n",
    "```\n",
    "\n",
    "The list of paper and session titles are below: \n",
    "\n",
    "Session Lengths:\n",
    "{sessions_df_string}\n",
    "\n",
    "Paper durations:\n",
    "{papers_df_string}\n",
    "\n",
    "\n",
    "Make sure, above all else, that your response is formatted as requested, with the proper headers.\n",
    "\n",
    "\"\"\"\n",
    "\n",
    "# Print the start_prompt to verify\n",
    "print(prompt_template[:500])"
   ]
  },
  {
   "cell_type": "code",
   "execution_count": 22,
   "id": "d9f9efaf-1500-4f9c-9429-524c6b094788",
   "metadata": {},
   "outputs": [],
   "source": [
    "def evaluate_schedule(df_human, df_llm):\n",
    "    sessions_human = df_human.groupby(\"session\")[\"duration\"].sum().sort_values(ascending=False)\n",
    "    sessions_llm = df_llm.groupby(\"session\")[\"duration\"].sum().sort_values(ascending=False)\n",
    "    \n",
    "    result = {}\n",
    "    \n",
    "    result[\"constraint_num_papers_error\"] = len(df_human) / len(df_llm) - 1\n",
    "    result[\"constraint_num_sessions_error\"] = len(sessions_human) / len(sessions_llm) - 1\n",
    "    \n",
    "    # Iterate and compare values\n",
    "    for idx, session_duration_llm in sessions_llm.items():\n",
    "        if idx-1 < len(sessions_human):\n",
    "            session_duration_human = sessions_human.iloc[idx-1]\n",
    "            result[f\"constraint_error_session_{idx}_duration\"] = session_duration_llm / session_duration_human - 1\n",
    "        else:\n",
    "            result[f\"constraint_error_session_{idx}_duration\"] = np.inf\n",
    "    \n",
    "    return result\n"
   ]
  },
  {
   "cell_type": "code",
   "execution_count": 23,
   "id": "4fc15005-cc68-473f-b21e-e8e848d8c32b",
   "metadata": {},
   "outputs": [],
   "source": [
    "def get_llm_schedule(df):\n",
    "    sessions = df.groupby(\"session\")[\"duration\"].sum()\n",
    "    sessions_sorted = sessions.sort_values(ascending=False)\n",
    "\n",
    "    prompt = prompt_template.format(\n",
    "        sessions_df_string = sessions.to_string(index=False)\n",
    "        ,papers_df_string = df.to_string(index=False)\n",
    "    )\n",
    "\n",
    "    response = client.chat.completions.create(\n",
    "    model= \"gpt-4-0125-preview\", #\"gpt-3.5-turbo-0125\",  # You can switch this to \"gpt-4-turbo-preview\", \"gpt-3.5-turbo-0125\"\n",
    "        messages=[\n",
    "            {\n",
    "                \"role\": \"user\",\n",
    "                \"content\": prompt\n",
    "            },\n",
    "        ],\n",
    "        temperature=0.8,\n",
    "        # max_tokens=256,\n",
    "        top_p=1,\n",
    "        frequency_penalty=0,\n",
    "        presence_penalty=0\n",
    "    )\n",
    "    ans_string = response.choices[0].message.content\n",
    "    \n",
    "    match = re.search(\"```\\n(.*?)\\n```\", ans_string, re.DOTALL)\n",
    "    if match:\n",
    "        csv_string = match.group(1)  # Extract the actual CSV data\n",
    "        # print(\"Extracted CSV:\\n\", csv_string)\n",
    "\n",
    "        # Convert the CSV string to a DataFrame\n",
    "        # StringIO is used to convert the string to a file-like object\n",
    "        df_results = pd.read_csv(StringIO(csv_string), sep=\"@\")\n",
    "        \n",
    "\n",
    "        # print(\"Got the df!\")\n",
    "    else:\n",
    "        print(\"No CSV data found in the string. Abort!\")\n",
    "        print(ans_string)\n",
    "        raise ValueError\n",
    "        \n",
    "    # print(df_results.head())\n",
    "    try:\n",
    "        evaluation = evaluate_schedule(df, df_results)\n",
    "    except:\n",
    "        print(df_results.head)\n",
    "        raise ValueError \n",
    "        \n",
    "    return df_results, evaluate_schedule(df, df_results)\n"
   ]
  },
  {
   "cell_type": "code",
   "execution_count": 24,
   "id": "e1c49f76-ab74-4984-9277-8805f0697ee0",
   "metadata": {
    "tags": []
   },
   "outputs": [],
   "source": [
    "all_results = {}\n",
    "for num_sessions in NUM_SESSION_LIST:\n",
    "    for session_size in SESSION_SIZE_LIST:\n",
    "        key = (num_sessions, session_size)\n",
    "        sampled_sessions = np.random.choice(df['session'].unique(), size=num_sessions, replace=False)\n",
    "\n",
    "        # Loop over these selected sessions and sample the required number of papers\n",
    "        session_samples = []\n",
    "        for session in sampled_sessions:\n",
    "            papers = df[df['session'] == session]\n",
    "            # If there are fewer papers than the required session_size, we take all available, repeating if necessary\n",
    "            sampled_papers = papers.sample(n=len(papers)) if len(papers) < session_size else papers.sample(n=session_size)\n",
    "            session_samples.append(sampled_papers)\n",
    "\n",
    "        # Now we store the sampled data\n",
    "        df_dataset = pd.concat(session_samples)\n",
    "        \n",
    "        try:\n",
    "            all_results[(num_sessions, session_size)] = get_llm_schedule(df_dataset), 1\n",
    "        except ValueError: # try once more\n",
    "            try:\n",
    "                all_results[(num_sessions, session_size)] = get_llm_schedule(df_dataset), 1\n",
    "            except ValueError: # Give up and report failure. \n",
    "                all_results[(num_sessions, session_size)] = {}, 0\n",
    "                print(f\"Give up this one, {(num_sessions, session_size)}\")\n",
    "            \n"
   ]
  },
  {
   "cell_type": "code",
   "execution_count": 28,
   "id": "b22450d2-4d15-4811-84ef-1420ddd51ca5",
   "metadata": {
    "tags": []
   },
   "outputs": [
    {
     "name": "stderr",
     "output_type": "stream",
     "text": [
      "/var/tmp/ipykernel_808463/1561215656.py:46: FutureWarning: \n",
      "\n",
      "The `ci` parameter is deprecated. Use `errorbar=None` for the same effect.\n",
      "\n",
      "  sns.barplot(x='Num_Sessions', y='Success', hue='Session_Size', data=df, ci=None)\n"
     ]
    },
    {
     "data": {
      "image/png": "[encoded data removed]",
      "text/plain": [
       "<Figure size 1200x600 with 1 Axes>"
      ]
     },
     "metadata": {},
     "output_type": "display_data"
    },
    {
     "name": "stderr",
     "output_type": "stream",
     "text": [
      "/var/tmp/ipykernel_808463/1561215656.py:54: FutureWarning: \n",
      "\n",
      "The `ci` parameter is deprecated. Use `errorbar=None` for the same effect.\n",
      "\n",
      "  sns.barplot(x='Num_Sessions', y='Constraint_Num_Papers_Error', hue='Session_Size', data=df, ci=None)\n"
     ]
    },
    {
     "data": {
      "image/png": "[encoded data removed]",
      "text/plain": [
       "<Figure size 1200x600 with 1 Axes>"
      ]
     },
     "metadata": {},
     "output_type": "display_data"
    },
    {
     "name": "stderr",
     "output_type": "stream",
     "text": [
      "/var/tmp/ipykernel_808463/1561215656.py:61: FutureWarning: \n",
      "\n",
      "The `ci` parameter is deprecated. Use `errorbar=None` for the same effect.\n",
      "\n",
      "  sns.barplot(x='Num_Sessions', y='Constraint_Num_Sessions_Error', hue='Session_Size', data=df, ci=None)\n"
     ]
    },
    {
     "data": {
      "image/png": "[encoded data removed]",
      "text/plain": [
       "<Figure size 1200x600 with 1 Axes>"
      ]
     },
     "metadata": {},
     "output_type": "display_data"
    },
    {
     "name": "stderr",
     "output_type": "stream",
     "text": [
      "/var/tmp/ipykernel_808463/1561215656.py:69: FutureWarning: \n",
      "\n",
      "The `ci` parameter is deprecated. Use `errorbar=None` for the same effect.\n",
      "\n",
      "  sns.barplot(x='Num_Sessions', y='Average_Session_Duration_Error', hue='Session_Size', data=df, ci=None)\n"
     ]
    },
    {
     "data": {
      "image/png": "[encoded data removed]",
      "text/plain": [
       "<Figure size 1200x600 with 1 Axes>"
      ]
     },
     "metadata": {},
     "output_type": "display_data"
    }
   ],
   "source": [
    "import pandas as pd\n",
    "import matplotlib.pyplot as plt\n",
    "import seaborn as sns\n",
    "\n",
    "def plot_eda(all_results):\n",
    "    # Create a DataFrame to store all relevant metrics for analysis\n",
    "    data = {\n",
    "        'Num_Sessions': [],\n",
    "        'Session_Size': [],\n",
    "        'Constraint_Num_Papers_Error': [],\n",
    "        'Constraint_Num_Sessions_Error': [],\n",
    "        'Average_Session_Duration_Error': [],\n",
    "        'Success': []\n",
    "    }\n",
    "\n",
    "    # Collect data from all_results\n",
    "    for key, (result, success) in all_results.items():\n",
    "        num_sessions, session_size = key\n",
    "        data['Num_Sessions'].append(num_sessions)\n",
    "        data['Session_Size'].append(session_size)\n",
    "        data['Success'].append(success)\n",
    "        \n",
    "        if success == 1:\n",
    "            data['Constraint_Num_Papers_Error'].append(result[1]['constraint_num_papers_error'])\n",
    "            data['Constraint_Num_Sessions_Error'].append(result[1]['constraint_num_sessions_error'])\n",
    "            \n",
    "            # Calculate average session duration error\n",
    "            session_errors = [result[1][k] for k in result[1].keys() if 'constraint_error_session' in k]\n",
    "            if session_errors:\n",
    "                avg_error = sum(session_errors) / len(session_errors)\n",
    "            else:\n",
    "                avg_error = None\n",
    "            data['Average_Session_Duration_Error'].append(avg_error)\n",
    "        else:\n",
    "            data['Constraint_Num_Papers_Error'].append(None)\n",
    "            data['Constraint_Num_Sessions_Error'].append(None)\n",
    "            data['Average_Session_Duration_Error'].append(None)\n",
    "\n",
    "    df = pd.DataFrame(data)\n",
    "\n",
    "    # Plotting\n",
    "    sns.set(style='whitegrid')\n",
    "\n",
    "    # Success rate per number of sessions and session size\n",
    "    plt.figure(figsize=(12, 6))\n",
    "    sns.barplot(x='Num_Sessions', y='Success', hue='Session_Size', data=df, ci=None)\n",
    "    plt.title('Success Rate by Number of Sessions and Session Size')\n",
    "    plt.ylabel('Success Rate')\n",
    "    plt.xlabel('Number of Sessions')\n",
    "    plt.show()\n",
    "\n",
    "    # Constraint Errors\n",
    "    plt.figure(figsize=(12, 6))\n",
    "    sns.barplot(x='Num_Sessions', y='Constraint_Num_Papers_Error', hue='Session_Size', data=df, ci=None)\n",
    "    plt.title('Constraint Number of Papers Error by Number of Sessions and Session Size')\n",
    "    plt.ylabel('Constraint Num Papers Error')\n",
    "    plt.xlabel('Number of Sessions')\n",
    "    plt.show()\n",
    "\n",
    "    plt.figure(figsize=(12, 6))\n",
    "    sns.barplot(x='Num_Sessions', y='Constraint_Num_Sessions_Error', hue='Session_Size', data=df, ci=None)\n",
    "    plt.title('Constraint Number of Sessions Error by Number of and Session Size')\n",
    "    plt.ylabel('Constraint Num Sessions Error')\n",
    "    plt.xlabel('Number of Sessions')\n",
    "    plt.show()\n",
    "\n",
    "    # Average Session Duration Error\n",
    "    plt.figure(figsize=(12, 6))\n",
    "    sns.barplot(x='Num_Sessions', y='Average_Session_Duration_Error', hue='Session_Size', data=df, ci=None)\n",
    "    plt.title('Average Session Duration Error by Number of Sessions and Session Size')\n",
    "    plt.ylabel('Average Session Duration Error')\n",
    "    plt.xlabel('Number of Sessions')\n",
    "    plt.show()\n",
    "\n",
    "# Call the function with the all_results dictionary\n",
    "plot_eda(all_results)"
   ]
  },
  {
   "cell_type": "code",
   "execution_count": null,
   "id": "1353aaad-0472-48ec-ad00-2c9dbfa2d969",
   "metadata": {},
   "outputs": [],
   "source": []
  },
  {
   "cell_type": "code",
   "execution_count": null,
   "id": "e393ef01-2f7a-4f05-8434-f66c2c152f07",
   "metadata": {},
   "outputs": [],
   "source": []
  },
  {
   "cell_type": "code",
   "execution_count": null,
   "id": "91c80833-9f16-4168-a6e8-c4a325918b5e",
   "metadata": {},
   "outputs": [],
   "source": []
  },
  {
   "cell_type": "code",
   "execution_count": null,
   "id": "0b462cf1-e40a-4fda-a044-bdf1f932c860",
   "metadata": {},
   "outputs": [],
   "source": []
  },
  {
   "cell_type": "code",
   "execution_count": null,
   "id": "b546cdee-4105-488e-bb4d-0d8a51bcf449",
   "metadata": {},
   "outputs": [],
   "source": []
  },
  {
   "cell_type": "code",
   "execution_count": null,
   "id": "62be2363-b873-400e-9596-3cff7e322f1d",
   "metadata": {},
   "outputs": [],
   "source": []
  },
  {
   "cell_type": "code",
   "execution_count": null,
   "id": "4c5f360b-34eb-4c4f-a776-d9b773da8631",
   "metadata": {},
   "outputs": [],
   "source": []
  },
  {
   "cell_type": "code",
   "execution_count": null,
   "id": "c20b1832-fe6d-4b8a-aa08-363756223117",
   "metadata": {},
   "outputs": [],
   "source": []
  },
  {
   "cell_type": "code",
   "execution_count": null,
   "id": "ee08de3d-b69e-492b-bad0-e73c410c8fd2",
   "metadata": {},
   "outputs": [],
   "source": []
  }
 ],
 "metadata": {
  "environment": {
   "kernel": "python3",
   "name": ".m116",
   "type": "gcloud",
   "uri": "gcr.io/deeplearning-platform-release/:m116"
  },
  "kernelspec": {
   "display_name": "Python 3",
   "language": "python",
   "name": "python3"
  },
  "language_info": {
   "codemirror_mode": {
    "name": "ipython",
    "version": 3
   },
   "file_extension": ".py",
   "mimetype": "text/x-python",
   "name": "python",
   "nbconvert_exporter": "python",
   "pygments_lexer": "ipython3",
   "version": "3.10.13"
  }
 },
 "nbformat": 4,
 "nbformat_minor": 5
}
