{
 "cells": [
  {
   "cell_type": "code",
   "execution_count": 1,
   "id": "f52b3bca-8da1-4f3a-bf58-9633cf4d371d",
   "metadata": {
    "tags": []
   },
   "outputs": [],
   "source": [
    "import numpy as np\n",
    "from io import StringIO"
   ]
  },
  {
   "cell_type": "code",
   "execution_count": 2,
   "id": "f2fd0ef6-a7a3-4593-abf4-83147c572e11",
   "metadata": {},
   "outputs": [],
   "source": [
    "import openai\n",
    "\n",
    "with open(\"secret/secret_key_file.txt\", 'r') as file:\n",
    "    api_key = file.read().strip()\n",
    "\n",
    "client = openai.OpenAI(api_key = api_key)"
   ]
  },
  {
   "cell_type": "code",
   "execution_count": 3,
   "id": "5f1c7ebb-2229-4c01-866f-d118967680c2",
   "metadata": {
    "tags": []
   },
   "outputs": [],
   "source": [
    "import pandas as pd\n",
    "import re\n",
    "from bs4 import BeautifulSoup\n",
    "\n",
    "# Without error capture to ensure the output (whether success or failure) is reported back.\n",
    "# Attempt to read tables from the HTML file using pandas\n",
    "file_path = \"data/Program - MSR 2022.html\""
   ]
  },
  {
   "cell_type": "code",
   "execution_count": 4,
   "id": "12541858-24bc-4f76-b116-ad9f40cc98cf",
   "metadata": {
    "tags": []
   },
   "outputs": [],
   "source": [
    "with open(file_path, 'r') as file:\n",
    "    html_content = file.read()"
   ]
  },
  {
   "cell_type": "code",
   "execution_count": 5,
   "id": "3320d105-9782-4253-baba-3c70a948c8c2",
   "metadata": {
    "tags": []
   },
   "outputs": [],
   "source": [
    "soup = BeautifulSoup(html_content, 'lxml')"
   ]
  },
  {
   "cell_type": "code",
   "execution_count": 6,
   "id": "326b1a65-9233-4e11-b07d-7e8d956c7bb8",
   "metadata": {
    "tags": []
   },
   "outputs": [],
   "source": [
    "rows = soup.find_all('tr', class_='hidable')"
   ]
  },
  {
   "cell_type": "code",
   "execution_count": 7,
   "id": "cf114e01-0846-40e7-aebe-1e52de2e5c34",
   "metadata": {
    "tags": []
   },
   "outputs": [],
   "source": [
    "# Regex to match date pattern (e.g., \"Tue 16 May\")\n",
    "date_pattern = re.compile(r\"\\b(?:Mon|Tue|Wed|Thu|Fri|Sat|Sun)\\s\\d{1,2}\\s(?:Jan|Feb|Mar|Apr|May|Jun|Jul|Aug|Sep|Oct|Nov|Dec)\")"
   ]
  },
  {
   "cell_type": "code",
   "execution_count": 8,
   "id": "c1f56910-958e-4ddd-9d1f-67c8247b226b",
   "metadata": {
    "tags": []
   },
   "outputs": [
    {
     "data": {
      "text/html": [
       "<div>\n",
       "<style scoped>\n",
       "    .dataframe tbody tr th:only-of-type {\n",
       "        vertical-align: middle;\n",
       "    }\n",
       "\n",
       "    .dataframe tbody tr th {\n",
       "        vertical-align: top;\n",
       "    }\n",
       "\n",
       "    .dataframe thead th {\n",
       "        text-align: right;\n",
       "    }\n",
       "</style>\n",
       "<table border=\"1\" class=\"dataframe\">\n",
       "  <thead>\n",
       "    <tr style=\"text-align: right;\">\n",
       "      <th></th>\n",
       "      <th>Time</th>\n",
       "      <th>Duration</th>\n",
       "      <th>Talk Title</th>\n",
       "      <th>Link</th>\n",
       "      <th>Authors</th>\n",
       "      <th>Session</th>\n",
       "      <th>Date</th>\n",
       "    </tr>\n",
       "  </thead>\n",
       "  <tbody>\n",
       "    <tr>\n",
       "      <th>0</th>\n",
       "      <td>22:00</td>\n",
       "      <td>4m</td>\n",
       "      <td>An Empirical Evaluation of GitHub Copilot’s Co...</td>\n",
       "      <td>#</td>\n",
       "      <td>[Nhan Nguyen, Sarah Nadi]</td>\n",
       "      <td>Session 1Technical Papers/Registered Reportsat...</td>\n",
       "      <td>Tue 17 May</td>\n",
       "    </tr>\n",
       "    <tr>\n",
       "      <th>1</th>\n",
       "      <td>22:04</td>\n",
       "      <td>4m</td>\n",
       "      <td>Comments on Comments: Where Code Review and Do...</td>\n",
       "      <td>#</td>\n",
       "      <td>[Nikitha Rao, Jason Tsay, Martin Hirzel, Vince...</td>\n",
       "      <td>Session 1Technical Papers/Registered Reportsat...</td>\n",
       "      <td>Tue 17 May</td>\n",
       "    </tr>\n",
       "    <tr>\n",
       "      <th>2</th>\n",
       "      <td>22:08</td>\n",
       "      <td>7m</td>\n",
       "      <td>Does This Apply to Me? An Empirical Study of T...</td>\n",
       "      <td>#</td>\n",
       "      <td>[Akalanka Galappaththi, Sarah Nadi, Christoph ...</td>\n",
       "      <td>Session 1Technical Papers/Registered Reportsat...</td>\n",
       "      <td>Tue 17 May</td>\n",
       "    </tr>\n",
       "    <tr>\n",
       "      <th>3</th>\n",
       "      <td>22:15</td>\n",
       "      <td>7m</td>\n",
       "      <td>Towards Reliable Agile Iterative Planning via ...</td>\n",
       "      <td>#</td>\n",
       "      <td>[Jirat Pasuksmit, Patanamon Thongtanunam, Shan...</td>\n",
       "      <td>Session 1Technical Papers/Registered Reportsat...</td>\n",
       "      <td>Tue 17 May</td>\n",
       "    </tr>\n",
       "    <tr>\n",
       "      <th>4</th>\n",
       "      <td>22:22</td>\n",
       "      <td>7m</td>\n",
       "      <td>BotHunter: An Approach to Detect Software Bots...</td>\n",
       "      <td>#</td>\n",
       "      <td>[Ahmad Abdellatif, Mairieli Wessel, Igor Stein...</td>\n",
       "      <td>Session 1Technical Papers/Registered Reportsat...</td>\n",
       "      <td>Tue 17 May</td>\n",
       "    </tr>\n",
       "  </tbody>\n",
       "</table>\n",
       "</div>"
      ],
      "text/plain": [
       "    Time Duration                                         Talk Title Link  \\\n",
       "0  22:00       4m  An Empirical Evaluation of GitHub Copilot’s Co...    #   \n",
       "1  22:04       4m  Comments on Comments: Where Code Review and Do...    #   \n",
       "2  22:08       7m  Does This Apply to Me? An Empirical Study of T...    #   \n",
       "3  22:15       7m  Towards Reliable Agile Iterative Planning via ...    #   \n",
       "4  22:22       7m  BotHunter: An Approach to Detect Software Bots...    #   \n",
       "\n",
       "                                             Authors  \\\n",
       "0                          [Nhan Nguyen, Sarah Nadi]   \n",
       "1  [Nikitha Rao, Jason Tsay, Martin Hirzel, Vince...   \n",
       "2  [Akalanka Galappaththi, Sarah Nadi, Christoph ...   \n",
       "3  [Jirat Pasuksmit, Patanamon Thongtanunam, Shan...   \n",
       "4  [Ahmad Abdellatif, Mairieli Wessel, Igor Stein...   \n",
       "\n",
       "                                             Session        Date  \n",
       "0  Session 1Technical Papers/Registered Reportsat...  Tue 17 May  \n",
       "1  Session 1Technical Papers/Registered Reportsat...  Tue 17 May  \n",
       "2  Session 1Technical Papers/Registered Reportsat...  Tue 17 May  \n",
       "3  Session 1Technical Papers/Registered Reportsat...  Tue 17 May  \n",
       "4  Session 1Technical Papers/Registered Reportsat...  Tue 17 May  "
      ]
     },
     "execution_count": 8,
     "metadata": {},
     "output_type": "execute_result"
    }
   ],
   "source": [
    "extracted_rows = []\n",
    "\n",
    "# Loop through each row to extract required details\n",
    "for row in rows:\n",
    "    temp_row = []\n",
    "    \n",
    "    # Extract session details from parent div if not already extracted\n",
    "    session_div = row.find_previous('div', class_='session-info-in-table')\n",
    "    session = session_div.get_text(strip=True) if session_div else ''\n",
    "    \n",
    "    datetime_info = row.find('td', class_='text-right')\n",
    "    talk_info = row.find_all('td')[-1]\n",
    "    \n",
    "    if datetime_info and talk_info:\n",
    "        time = datetime_info.find('div', class_='start-time').get_text(strip=True) if datetime_info.find('div', class_='start-time') else ''\n",
    "        duration = datetime_info.find('strong').get_text(strip=True) if datetime_info.find('strong') else ''\n",
    "        \n",
    "        # Calculate end time based on start time and duration if needed\n",
    "        \n",
    "        temp_row.append(time)\n",
    "        # temp_row.append(end_time)  # Calculate and append end time if needed\n",
    "        temp_row.append(duration)\n",
    "        \n",
    "        talk_title = talk_info.find('strong')\n",
    "        if talk_title:\n",
    "            temp_row.append(talk_title.get_text(strip=True))\n",
    "            \n",
    "            link = talk_title.find('a', href=True)\n",
    "            temp_row.append(link['href'] if link else '')\n",
    "        else:\n",
    "            temp_row.extend(['', ''])\n",
    "            \n",
    "        # Extract authors\n",
    "        authors_div = talk_info.find('div', class_='performers')\n",
    "        authors = [author.get_text(strip=True) for author in authors_div.find_all('a')] if authors_div else []\n",
    "        temp_row.append(authors)\n",
    "        \n",
    "        # Append session information\n",
    "        temp_row.append(session)\n",
    "        \n",
    "        # Locate date information\n",
    "        # Tip: You may need to adjust how you locate the 'date information' based on your HTML structure\n",
    "        date_info = row.find_previous('div', class_='day-wrapper')\n",
    "        if date_info:\n",
    "            date_text = date_info.get_text(strip=True)\n",
    "            matched_date = date_pattern.search(date_text)\n",
    "            date = matched_date.group(0) if matched_date else \"Date Not Found\"\n",
    "        else:\n",
    "            date = None\n",
    "        temp_row.append(date)\n",
    "        \n",
    "        extracted_rows.append(temp_row)\n",
    "\n",
    "columns = ['Time', 'Duration', 'Talk Title', 'Link', 'Authors', 'Session', 'Date']\n",
    "df = pd.DataFrame(extracted_rows, columns=columns)\n",
    "\n",
    "df.head()"
   ]
  },
  {
   "cell_type": "code",
   "execution_count": null,
   "id": "937f76b1-f8d1-4fb4-bc76-6812ef57f298",
   "metadata": {},
   "outputs": [],
   "source": []
  },
  {
   "cell_type": "code",
   "execution_count": 9,
   "id": "45d6f2ba-4e37-4ba3-8ff4-0329c409c0af",
   "metadata": {},
   "outputs": [],
   "source": [
    "# df = df.sample(n=50, random_state=101)"
   ]
  },
  {
   "cell_type": "code",
   "execution_count": null,
   "id": "33939944-6303-495f-b4cd-009d846b08fc",
   "metadata": {},
   "outputs": [],
   "source": []
  },
  {
   "cell_type": "code",
   "execution_count": 10,
   "id": "0cbbcd35-7fe8-4c81-a61f-83b25fe0bef5",
   "metadata": {
    "tags": []
   },
   "outputs": [
    {
     "data": {
      "text/html": [
       "<div>\n",
       "<style scoped>\n",
       "    .dataframe tbody tr th:only-of-type {\n",
       "        vertical-align: middle;\n",
       "    }\n",
       "\n",
       "    .dataframe tbody tr th {\n",
       "        vertical-align: top;\n",
       "    }\n",
       "\n",
       "    .dataframe thead th {\n",
       "        text-align: right;\n",
       "    }\n",
       "</style>\n",
       "<table border=\"1\" class=\"dataframe\">\n",
       "  <thead>\n",
       "    <tr style=\"text-align: right;\">\n",
       "      <th></th>\n",
       "      <th>session</th>\n",
       "      <th>date</th>\n",
       "      <th>start_time</th>\n",
       "      <th>end_time</th>\n",
       "      <th>duration</th>\n",
       "      <th>talk_title</th>\n",
       "      <th>authors</th>\n",
       "    </tr>\n",
       "  </thead>\n",
       "  <tbody>\n",
       "    <tr>\n",
       "      <th>0</th>\n",
       "      <td>Session 1Technical Papers/Registered Reportsat...</td>\n",
       "      <td>Tue 17 May</td>\n",
       "      <td>1900-05-17 22:00:00</td>\n",
       "      <td>1900-05-17 22:04:00</td>\n",
       "      <td>4</td>\n",
       "      <td>An Empirical Evaluation of GitHub Copilot’s Co...</td>\n",
       "      <td>[Nhan Nguyen, Sarah Nadi]</td>\n",
       "    </tr>\n",
       "    <tr>\n",
       "      <th>1</th>\n",
       "      <td>Session 1Technical Papers/Registered Reportsat...</td>\n",
       "      <td>Tue 17 May</td>\n",
       "      <td>1900-05-17 22:04:00</td>\n",
       "      <td>1900-05-17 22:08:00</td>\n",
       "      <td>4</td>\n",
       "      <td>Comments on Comments: Where Code Review and Do...</td>\n",
       "      <td>[Nikitha Rao, Jason Tsay, Martin Hirzel, Vince...</td>\n",
       "    </tr>\n",
       "    <tr>\n",
       "      <th>2</th>\n",
       "      <td>Session 1Technical Papers/Registered Reportsat...</td>\n",
       "      <td>Tue 17 May</td>\n",
       "      <td>1900-05-17 22:08:00</td>\n",
       "      <td>1900-05-17 22:15:00</td>\n",
       "      <td>7</td>\n",
       "      <td>Does This Apply to Me? An Empirical Study of T...</td>\n",
       "      <td>[Akalanka Galappaththi, Sarah Nadi, Christoph ...</td>\n",
       "    </tr>\n",
       "    <tr>\n",
       "      <th>3</th>\n",
       "      <td>Session 1Technical Papers/Registered Reportsat...</td>\n",
       "      <td>Tue 17 May</td>\n",
       "      <td>1900-05-17 22:15:00</td>\n",
       "      <td>1900-05-17 22:22:00</td>\n",
       "      <td>7</td>\n",
       "      <td>Towards Reliable Agile Iterative Planning via ...</td>\n",
       "      <td>[Jirat Pasuksmit, Patanamon Thongtanunam, Shan...</td>\n",
       "    </tr>\n",
       "    <tr>\n",
       "      <th>4</th>\n",
       "      <td>Session 1Technical Papers/Registered Reportsat...</td>\n",
       "      <td>Tue 17 May</td>\n",
       "      <td>1900-05-17 22:22:00</td>\n",
       "      <td>1900-05-17 22:29:00</td>\n",
       "      <td>7</td>\n",
       "      <td>BotHunter: An Approach to Detect Software Bots...</td>\n",
       "      <td>[Ahmad Abdellatif, Mairieli Wessel, Igor Stein...</td>\n",
       "    </tr>\n",
       "  </tbody>\n",
       "</table>\n",
       "</div>"
      ],
      "text/plain": [
       "                                             session        date  \\\n",
       "0  Session 1Technical Papers/Registered Reportsat...  Tue 17 May   \n",
       "1  Session 1Technical Papers/Registered Reportsat...  Tue 17 May   \n",
       "2  Session 1Technical Papers/Registered Reportsat...  Tue 17 May   \n",
       "3  Session 1Technical Papers/Registered Reportsat...  Tue 17 May   \n",
       "4  Session 1Technical Papers/Registered Reportsat...  Tue 17 May   \n",
       "\n",
       "           start_time            end_time  duration  \\\n",
       "0 1900-05-17 22:00:00 1900-05-17 22:04:00         4   \n",
       "1 1900-05-17 22:04:00 1900-05-17 22:08:00         4   \n",
       "2 1900-05-17 22:08:00 1900-05-17 22:15:00         7   \n",
       "3 1900-05-17 22:15:00 1900-05-17 22:22:00         7   \n",
       "4 1900-05-17 22:22:00 1900-05-17 22:29:00         7   \n",
       "\n",
       "                                          talk_title  \\\n",
       "0  An Empirical Evaluation of GitHub Copilot’s Co...   \n",
       "1  Comments on Comments: Where Code Review and Do...   \n",
       "2  Does This Apply to Me? An Empirical Study of T...   \n",
       "3  Towards Reliable Agile Iterative Planning via ...   \n",
       "4  BotHunter: An Approach to Detect Software Bots...   \n",
       "\n",
       "                                             authors  \n",
       "0                          [Nhan Nguyen, Sarah Nadi]  \n",
       "1  [Nikitha Rao, Jason Tsay, Martin Hirzel, Vince...  \n",
       "2  [Akalanka Galappaththi, Sarah Nadi, Christoph ...  \n",
       "3  [Jirat Pasuksmit, Patanamon Thongtanunam, Shan...  \n",
       "4  [Ahmad Abdellatif, Mairieli Wessel, Igor Stein...  "
      ]
     },
     "execution_count": 10,
     "metadata": {},
     "output_type": "execute_result"
    }
   ],
   "source": [
    "# Convert all column names to lowercase and replace spaces with hyphens\n",
    "df.columns = [col.lower().replace(' ', '_') for col in df.columns]\n",
    "\n",
    "# Put date first\n",
    "df = df[['date'] + [col for col in df.columns if col != 'date']]\n",
    "\n",
    "# Convert Time to start_time as datetime and calculate end_time\n",
    "df['start_time'] = pd.to_datetime(df['date'] + ' ' + df['time'], format='%a %d %b %H:%M')\n",
    "df['duration'] = df['duration'].str.extract('(\\d+)').astype(int)  # Extract duration in minutes\n",
    "df['end_time'] = df['start_time'] + pd.to_timedelta(df['duration'], unit='m')\n",
    "\n",
    "# Delete the Link column\n",
    "df = df.drop(['link', 'time'], axis=1)\n",
    "\n",
    "# Move Authors column to the last position\n",
    "df = df[[col for col in df.columns if col != 'authors'] + ['authors']]\n",
    "\n",
    "df = df[['session', 'date', 'start_time', 'end_time', 'duration', 'talk_title','authors']]\n",
    "\n",
    "# Display the final data frame\n",
    "df.head()"
   ]
  },
  {
   "cell_type": "code",
   "execution_count": 11,
   "id": "d27a617a-ec1a-4177-9e80-4c7d1667de41",
   "metadata": {},
   "outputs": [
    {
     "data": {
      "text/html": [
       "<div>\n",
       "<style scoped>\n",
       "    .dataframe tbody tr th:only-of-type {\n",
       "        vertical-align: middle;\n",
       "    }\n",
       "\n",
       "    .dataframe tbody tr th {\n",
       "        vertical-align: top;\n",
       "    }\n",
       "\n",
       "    .dataframe thead th {\n",
       "        text-align: right;\n",
       "    }\n",
       "</style>\n",
       "<table border=\"1\" class=\"dataframe\">\n",
       "  <thead>\n",
       "    <tr style=\"text-align: right;\">\n",
       "      <th></th>\n",
       "      <th>session</th>\n",
       "      <th>date</th>\n",
       "      <th>start_time</th>\n",
       "      <th>end_time</th>\n",
       "      <th>duration</th>\n",
       "      <th>talk_title</th>\n",
       "      <th>authors</th>\n",
       "    </tr>\n",
       "  </thead>\n",
       "  <tbody>\n",
       "    <tr>\n",
       "      <th>0</th>\n",
       "      <td>Session 1Technical Papers/Registered Reportsat...</td>\n",
       "      <td>Tue 17 May</td>\n",
       "      <td>-36619320</td>\n",
       "      <td>-36619316</td>\n",
       "      <td>4</td>\n",
       "      <td>An Empirical Evaluation of GitHub Copilot’s Co...</td>\n",
       "      <td>[Nhan Nguyen, Sarah Nadi]</td>\n",
       "    </tr>\n",
       "    <tr>\n",
       "      <th>1</th>\n",
       "      <td>Session 1Technical Papers/Registered Reportsat...</td>\n",
       "      <td>Tue 17 May</td>\n",
       "      <td>-36619316</td>\n",
       "      <td>-36619312</td>\n",
       "      <td>4</td>\n",
       "      <td>Comments on Comments: Where Code Review and Do...</td>\n",
       "      <td>[Nikitha Rao, Jason Tsay, Martin Hirzel, Vince...</td>\n",
       "    </tr>\n",
       "    <tr>\n",
       "      <th>2</th>\n",
       "      <td>Session 1Technical Papers/Registered Reportsat...</td>\n",
       "      <td>Tue 17 May</td>\n",
       "      <td>-36619312</td>\n",
       "      <td>-36619305</td>\n",
       "      <td>7</td>\n",
       "      <td>Does This Apply to Me? An Empirical Study of T...</td>\n",
       "      <td>[Akalanka Galappaththi, Sarah Nadi, Christoph ...</td>\n",
       "    </tr>\n",
       "    <tr>\n",
       "      <th>3</th>\n",
       "      <td>Session 1Technical Papers/Registered Reportsat...</td>\n",
       "      <td>Tue 17 May</td>\n",
       "      <td>-36619305</td>\n",
       "      <td>-36619298</td>\n",
       "      <td>7</td>\n",
       "      <td>Towards Reliable Agile Iterative Planning via ...</td>\n",
       "      <td>[Jirat Pasuksmit, Patanamon Thongtanunam, Shan...</td>\n",
       "    </tr>\n",
       "    <tr>\n",
       "      <th>4</th>\n",
       "      <td>Session 1Technical Papers/Registered Reportsat...</td>\n",
       "      <td>Tue 17 May</td>\n",
       "      <td>-36619298</td>\n",
       "      <td>-36619291</td>\n",
       "      <td>7</td>\n",
       "      <td>BotHunter: An Approach to Detect Software Bots...</td>\n",
       "      <td>[Ahmad Abdellatif, Mairieli Wessel, Igor Stein...</td>\n",
       "    </tr>\n",
       "  </tbody>\n",
       "</table>\n",
       "</div>"
      ],
      "text/plain": [
       "                                             session        date  start_time  \\\n",
       "0  Session 1Technical Papers/Registered Reportsat...  Tue 17 May   -36619320   \n",
       "1  Session 1Technical Papers/Registered Reportsat...  Tue 17 May   -36619316   \n",
       "2  Session 1Technical Papers/Registered Reportsat...  Tue 17 May   -36619312   \n",
       "3  Session 1Technical Papers/Registered Reportsat...  Tue 17 May   -36619305   \n",
       "4  Session 1Technical Papers/Registered Reportsat...  Tue 17 May   -36619298   \n",
       "\n",
       "   end_time  duration                                         talk_title  \\\n",
       "0 -36619316         4  An Empirical Evaluation of GitHub Copilot’s Co...   \n",
       "1 -36619312         4  Comments on Comments: Where Code Review and Do...   \n",
       "2 -36619305         7  Does This Apply to Me? An Empirical Study of T...   \n",
       "3 -36619298         7  Towards Reliable Agile Iterative Planning via ...   \n",
       "4 -36619291         7  BotHunter: An Approach to Detect Software Bots...   \n",
       "\n",
       "                                             authors  \n",
       "0                          [Nhan Nguyen, Sarah Nadi]  \n",
       "1  [Nikitha Rao, Jason Tsay, Martin Hirzel, Vince...  \n",
       "2  [Akalanka Galappaththi, Sarah Nadi, Christoph ...  \n",
       "3  [Jirat Pasuksmit, Patanamon Thongtanunam, Shan...  \n",
       "4  [Ahmad Abdellatif, Mairieli Wessel, Igor Stein...  "
      ]
     },
     "execution_count": 11,
     "metadata": {},
     "output_type": "execute_result"
    }
   ],
   "source": [
    "df['start_time'] = pd.to_datetime(df['start_time']).astype(int) // 10**9 // 60\n",
    "df['end_time'] = pd.to_datetime(df['end_time']).astype(int) // 10**9 // 60\n",
    "\n",
    "df.head()"
   ]
  },
  {
   "cell_type": "code",
   "execution_count": null,
   "id": "d3a8487f-2561-4203-ac8e-649b491781c5",
   "metadata": {},
   "outputs": [],
   "source": []
  },
  {
   "cell_type": "code",
   "execution_count": 12,
   "id": "9c3ccbf4-5c5a-4a9d-b877-5e1503e66f6b",
   "metadata": {},
   "outputs": [],
   "source": [
    "df = df[df[\"date\"]==\"Fri 20 May\"]"
   ]
  },
  {
   "cell_type": "code",
   "execution_count": null,
   "id": "d3e60580-c95f-467d-b247-4ebcf8b23aad",
   "metadata": {},
   "outputs": [],
   "source": []
  },
  {
   "cell_type": "code",
   "execution_count": 13,
   "id": "e0bc286c-d50c-4eb6-94b4-43708b997b85",
   "metadata": {
    "tags": []
   },
   "outputs": [
    {
     "data": {
      "text/plain": [
       "session       object\n",
       "date          object\n",
       "start_time     int64\n",
       "end_time       int64\n",
       "duration       int64\n",
       "talk_title    object\n",
       "authors       object\n",
       "dtype: object"
      ]
     },
     "execution_count": 13,
     "metadata": {},
     "output_type": "execute_result"
    }
   ],
   "source": [
    "df.dtypes"
   ]
  },
  {
   "cell_type": "code",
   "execution_count": 14,
   "id": "8943c607-299d-43f0-b5a6-0bfe9f46cea4",
   "metadata": {
    "tags": []
   },
   "outputs": [
    {
     "data": {
      "text/plain": [
       "33"
      ]
     },
     "execution_count": 14,
     "metadata": {},
     "output_type": "execute_result"
    }
   ],
   "source": [
    "len(df)"
   ]
  },
  {
   "cell_type": "code",
   "execution_count": 15,
   "id": "f8834a87-7e2f-4cf5-a6aa-570c57c17e84",
   "metadata": {
    "tags": []
   },
   "outputs": [
    {
     "data": {
      "text/plain": [
       "array(['Session 14: Software QualityTechnical Papers/Industry Track/Data and Tool Showcase TrackatMSR Main room - even hoursChair(s):Kla TantithamthavornMonash University,Simone ScalabrinoUniversity of Molise',\n",
       "       'Session 15: Collaboration & Open SourceRegistered Reports/Data and Tool Showcase Track/Technical Papers/Industry TrackatMSR Main room - odd hoursChair(s):Massimiliano Di PentaUniversity of Sannio, Italy,Fiorella ZampettiUniversity of Sannio, Italy',\n",
       "       'Tutorial: Using Datalore for Reproducible ResearchTutorialsatMSR Main room - odd hours'],\n",
       "      dtype=object)"
      ]
     },
     "execution_count": 15,
     "metadata": {},
     "output_type": "execute_result"
    }
   ],
   "source": [
    "df[\"session\"].unique()[:3]"
   ]
  },
  {
   "cell_type": "code",
   "execution_count": 16,
   "id": "43e1f9e0-df03-4d1f-824a-4f99ed08be64",
   "metadata": {
    "tags": []
   },
   "outputs": [
    {
     "data": {
      "text/html": [
       "<div>\n",
       "<style scoped>\n",
       "    .dataframe tbody tr th:only-of-type {\n",
       "        vertical-align: middle;\n",
       "    }\n",
       "\n",
       "    .dataframe tbody tr th {\n",
       "        vertical-align: top;\n",
       "    }\n",
       "\n",
       "    .dataframe thead th {\n",
       "        text-align: right;\n",
       "    }\n",
       "</style>\n",
       "<table border=\"1\" class=\"dataframe\">\n",
       "  <thead>\n",
       "    <tr style=\"text-align: right;\">\n",
       "      <th></th>\n",
       "      <th>session</th>\n",
       "      <th>date</th>\n",
       "      <th>start_time</th>\n",
       "      <th>end_time</th>\n",
       "      <th>duration</th>\n",
       "      <th>talk_title</th>\n",
       "      <th>authors</th>\n",
       "    </tr>\n",
       "  </thead>\n",
       "  <tbody>\n",
       "  </tbody>\n",
       "</table>\n",
       "</div>"
      ],
      "text/plain": [
       "Empty DataFrame\n",
       "Columns: [session, date, start_time, end_time, duration, talk_title, authors]\n",
       "Index: []"
      ]
     },
     "execution_count": 16,
     "metadata": {},
     "output_type": "execute_result"
    }
   ],
   "source": [
    "df[df[\"session\"]=='Session 1Technical Papers/Registered ReportsatMSR Main room - even hoursChair(s):Hongyu ZhangUniversity of Newcastle,Masud RahmanDalhousie University']"
   ]
  },
  {
   "cell_type": "code",
   "execution_count": 17,
   "id": "4e5a9caa-71d0-49aa-ac7c-347d1d5077d4",
   "metadata": {
    "tags": []
   },
   "outputs": [
    {
     "data": {
      "text/html": [
       "<div>\n",
       "<style scoped>\n",
       "    .dataframe tbody tr th:only-of-type {\n",
       "        vertical-align: middle;\n",
       "    }\n",
       "\n",
       "    .dataframe tbody tr th {\n",
       "        vertical-align: top;\n",
       "    }\n",
       "\n",
       "    .dataframe thead th {\n",
       "        text-align: right;\n",
       "    }\n",
       "</style>\n",
       "<table border=\"1\" class=\"dataframe\">\n",
       "  <thead>\n",
       "    <tr style=\"text-align: right;\">\n",
       "      <th></th>\n",
       "      <th>date</th>\n",
       "      <th>total_duration</th>\n",
       "    </tr>\n",
       "  </thead>\n",
       "  <tbody>\n",
       "    <tr>\n",
       "      <th>0</th>\n",
       "      <td>Fri 20 May</td>\n",
       "      <td>260</td>\n",
       "    </tr>\n",
       "  </tbody>\n",
       "</table>\n",
       "</div>"
      ],
      "text/plain": [
       "         date  total_duration\n",
       "0  Fri 20 May             260"
      ]
     },
     "execution_count": 17,
     "metadata": {},
     "output_type": "execute_result"
    }
   ],
   "source": [
    "def merge_intervals(intervals):\n",
    "    if not intervals:\n",
    "        return 0\n",
    "    \n",
    "    # Sort intervals by the start time\n",
    "    intervals.sort(key=lambda x: x[0])\n",
    "    \n",
    "    merged = [intervals[0]]\n",
    "    for current_start, current_end in intervals[1:]:\n",
    "        last_end = merged[-1][1]\n",
    "        \n",
    "        if current_start <= last_end:\n",
    "            # There's an overlap, extend the previous interval\n",
    "            merged[-1] = (merged[-1][0], max(last_end, current_end))\n",
    "        else:\n",
    "            # No overlap, add this interval as is\n",
    "            merged.append((current_start, current_end))\n",
    "    \n",
    "    # Compute total duration in minutes (or another unit as desired)\n",
    "    total_duration_minutes = sum((end - start) for start, end in merged)   # convert seconds to minutes\n",
    "    return total_duration_minutes\n",
    "\n",
    "total_durations = []\n",
    "\n",
    "for date, group in df.groupby('date'):\n",
    "    intervals = list(zip(group['start_time'], group['end_time']))\n",
    "    total_duration = merge_intervals(intervals)\n",
    "    total_durations.append({'date': date, 'total_duration': total_duration})\n",
    "\n",
    "# Converting the result into a DataFrame\n",
    "total_duration_df = pd.DataFrame(total_durations)\n",
    "\n",
    "total_duration_df"
   ]
  },
  {
   "cell_type": "code",
   "execution_count": 18,
   "id": "8ea0bf22-5d87-4f8c-bf6a-6301eb5da164",
   "metadata": {
    "tags": []
   },
   "outputs": [
    {
     "data": {
      "text/html": [
       "<div>\n",
       "<style scoped>\n",
       "    .dataframe tbody tr th:only-of-type {\n",
       "        vertical-align: middle;\n",
       "    }\n",
       "\n",
       "    .dataframe tbody tr th {\n",
       "        vertical-align: top;\n",
       "    }\n",
       "\n",
       "    .dataframe thead th {\n",
       "        text-align: right;\n",
       "    }\n",
       "</style>\n",
       "<table border=\"1\" class=\"dataframe\">\n",
       "  <thead>\n",
       "    <tr style=\"text-align: right;\">\n",
       "      <th></th>\n",
       "      <th>date</th>\n",
       "      <th>duration</th>\n",
       "    </tr>\n",
       "  </thead>\n",
       "  <tbody>\n",
       "    <tr>\n",
       "      <th>0</th>\n",
       "      <td>Fri 20 May</td>\n",
       "      <td>310</td>\n",
       "    </tr>\n",
       "  </tbody>\n",
       "</table>\n",
       "</div>"
      ],
      "text/plain": [
       "         date  duration\n",
       "0  Fri 20 May       310"
      ]
     },
     "execution_count": 18,
     "metadata": {},
     "output_type": "execute_result"
    }
   ],
   "source": [
    "dates = df.groupby(\"date\")[\"duration\"].sum().reset_index()\n",
    "\n",
    "\n",
    "dates"
   ]
  },
  {
   "cell_type": "markdown",
   "id": "4c726191-a9a6-447f-8e1c-250418fb8ae7",
   "metadata": {},
   "source": [
    "## Perform linear programming"
   ]
  },
  {
   "cell_type": "code",
   "execution_count": 19,
   "id": "545e8160-e4a5-4cd0-a5c3-fca764b205af",
   "metadata": {},
   "outputs": [
    {
     "data": {
      "text/html": [
       "<div>\n",
       "<style scoped>\n",
       "    .dataframe tbody tr th:only-of-type {\n",
       "        vertical-align: middle;\n",
       "    }\n",
       "\n",
       "    .dataframe tbody tr th {\n",
       "        vertical-align: top;\n",
       "    }\n",
       "\n",
       "    .dataframe thead th {\n",
       "        text-align: right;\n",
       "    }\n",
       "</style>\n",
       "<table border=\"1\" class=\"dataframe\">\n",
       "  <thead>\n",
       "    <tr style=\"text-align: right;\">\n",
       "      <th></th>\n",
       "      <th>talk_title</th>\n",
       "      <th>duration</th>\n",
       "    </tr>\n",
       "  </thead>\n",
       "  <tbody>\n",
       "    <tr>\n",
       "      <th>116</th>\n",
       "      <td>Evaluating the effectiveness of local explanat...</td>\n",
       "      <td>4</td>\n",
       "    </tr>\n",
       "    <tr>\n",
       "      <th>117</th>\n",
       "      <td>Problems and Solutions in Applying Continuous ...</td>\n",
       "      <td>7</td>\n",
       "    </tr>\n",
       "    <tr>\n",
       "      <th>118</th>\n",
       "      <td>To Type or Not to Type? A Systematic Compariso...</td>\n",
       "      <td>7</td>\n",
       "    </tr>\n",
       "    <tr>\n",
       "      <th>119</th>\n",
       "      <td>Using Bandit Algorithms for Selecting Feature ...</td>\n",
       "      <td>7</td>\n",
       "    </tr>\n",
       "    <tr>\n",
       "      <th>120</th>\n",
       "      <td>Constructing Dataset of Functionally Equivalen...</td>\n",
       "      <td>4</td>\n",
       "    </tr>\n",
       "  </tbody>\n",
       "</table>\n",
       "</div>"
      ],
      "text/plain": [
       "                                            talk_title  duration\n",
       "116  Evaluating the effectiveness of local explanat...         4\n",
       "117  Problems and Solutions in Applying Continuous ...         7\n",
       "118  To Type or Not to Type? A Systematic Compariso...         7\n",
       "119  Using Bandit Algorithms for Selecting Feature ...         7\n",
       "120  Constructing Dataset of Functionally Equivalen...         4"
      ]
     },
     "execution_count": 19,
     "metadata": {},
     "output_type": "execute_result"
    }
   ],
   "source": [
    "df_input = df[['talk_title', 'duration']].copy()\n",
    "\n",
    "# Display the head of df_input to verify\n",
    "df_input.head()"
   ]
  },
  {
   "cell_type": "code",
   "execution_count": 20,
   "id": "772e4fe4-1064-496a-93cc-27cb113624a9",
   "metadata": {
    "tags": []
   },
   "outputs": [
    {
     "data": {
      "text/plain": [
       "session\n",
       "HackathonHackathon/Technical PapersatMSR Main room - odd hoursChair(s):Gregorio RoblesUniversidad Rey Juan Carlos,Jesus M. Gonzalez-BarahonaUniversidad Rey Juan Carlos,Maëlick ClaesUniversity of Oulu                                                                                  50\n",
       "Session 14: Software QualityTechnical Papers/Industry Track/Data and Tool Showcase TrackatMSR Main room - even hoursChair(s):Kla TantithamthavornMonash University,Simone ScalabrinoUniversity of Molise                                                                                 50\n",
       "Session 15: Collaboration & Open SourceRegistered Reports/Data and Tool Showcase Track/Technical Papers/Industry TrackatMSR Main room - odd hoursChair(s):Massimiliano Di PentaUniversity of Sannio, Italy,Fiorella ZampettiUniversity of Sannio, Italy                                  50\n",
       "Session 16: Non-functional Properties (Availability, Security, Legal Aspects)Industry Track/Technical Papers/Registered Reports/Data and Tool Showcase TrackatMSR Main room - even hoursChair(s):Maxime LamothePolytechnique Montreal, Montreal, Canada,Jin L.C. GuoMcGill University    60\n",
       "Tutorial: Software Bots in Software Engineering: Benefits and ChallengesTutorialsatMSR Tutorials room                                                                                                                                                                                    50\n",
       "Name: duration, dtype: int64"
      ]
     },
     "execution_count": 20,
     "metadata": {},
     "output_type": "execute_result"
    }
   ],
   "source": [
    "sessions = df.groupby(\"session\")[\"duration\"].sum()\n",
    "\n",
    "sessions.head()"
   ]
  },
  {
   "cell_type": "code",
   "execution_count": 21,
   "id": "094c70bf-f5fa-465c-b29e-c4c0ee762ad9",
   "metadata": {},
   "outputs": [
    {
     "name": "stdout",
     "output_type": "stream",
     "text": [
      "\n",
      "Program creation is the process of taking all the accepted papers to a conference and allocating a presentation slot for each paper with parallel sessions. \n",
      "The PC chairs of a conference typically do this manually. \n",
      "Assign sessions to the following papers based on the following constraints:\n",
      "1. The total length of all paper presentations within a session should be smaller than the length of the session they are in. \n",
      "2. No new sessions should be added. '\n",
      "3. The output should contain the schedule \n"
     ]
    }
   ],
   "source": [
    "# Convert df_input to a string representation\n",
    "df_input_str = df_input.sample(frac=1).to_string(index=False)\n",
    "\n",
    "# Construct the prompt\n",
    "prompt = f\"\"\"\n",
    "Program creation is the process of taking all the accepted papers to a conference and allocating a presentation slot for each paper with parallel sessions. \n",
    "The PC chairs of a conference typically do this manually. \n",
    "Assign sessions to the following papers based on the following constraints:\n",
    "1. The total length of all paper presentations within a session should be smaller than the length of the session they are in. \n",
    "2. No new sessions should be added. '\n",
    "3. The output should contain the schedule in the form of the csv representation of a data frame. This csv representation should be in three quotes (```) on both sides so that I can easily extract it from your result and make a data frame. \n",
    "\n",
    "Example output (use as many rows as the actual number of papers):\n",
    "\n",
    "```\n",
    "session@talk_title@duration\n",
    "231@An Empirical Study on Maintainable Method Size in Java@7\n",
    "223@Improve Quality of Cloud Serverless Architectures through Software Repository Mining@7\n",
    "15@Extracting corrective actions from code repositories@7\n",
    "15@How to Improve Deep Learning for Software Analytics (a case study with code smell detection)@7\n",
    "11@ReCover: a Curated Dataset for Regression Testing Research@4\n",
    "```\n",
    "\n",
    "The list of paper and session titles are below: \n",
    "\n",
    "\n",
    "Session Lengths:\n",
    "{sessions.to_string(index=False)}\n",
    "\n",
    "Paper durations:\n",
    "{df_input_str}\n",
    "\n",
    "\n",
    "Make sure all the papers are included in the schedule. \n",
    "\n",
    "\"\"\"\n",
    "\n",
    "# Print the prompt to verify\n",
    "print(prompt[:500])"
   ]
  },
  {
   "cell_type": "code",
   "execution_count": 22,
   "id": "a6b62db0-4aa9-4d66-a86b-a6a85442f3d6",
   "metadata": {
    "tags": []
   },
   "outputs": [
    {
     "data": {
      "text/plain": [
       "6480"
      ]
     },
     "execution_count": 22,
     "metadata": {},
     "output_type": "execute_result"
    }
   ],
   "source": [
    "len(prompt)"
   ]
  },
  {
   "cell_type": "code",
   "execution_count": 23,
   "id": "09f4fdf3-80d5-41b5-8190-ea9ad84587fd",
   "metadata": {
    "tags": []
   },
   "outputs": [],
   "source": [
    "response = client.chat.completions.create(\n",
    "    model= \"gpt-4-0125-preview\", #\"gpt-3.5-turbo-0125\",  # You can switch this to \"gpt-4-turbo-preview\", \"gpt-3.5-turbo-0125\"\n",
    "    messages=[\n",
    "        {\n",
    "            \"role\": \"user\",\n",
    "            \"content\": prompt\n",
    "        },\n",
    "    ],\n",
    "    temperature=0.8,\n",
    "    # max_tokens=256,\n",
    "    top_p=1,\n",
    "    frequency_penalty=0,\n",
    "    presence_penalty=0\n",
    ")\n",
    "ans_string = response.choices[0].message.content"
   ]
  },
  {
   "cell_type": "code",
   "execution_count": 24,
   "id": "661e0ef0-ed67-43c5-a778-7c8e391bff1a",
   "metadata": {
    "tags": []
   },
   "outputs": [
    {
     "data": {
      "text/plain": [
       "3025"
      ]
     },
     "execution_count": 24,
     "metadata": {},
     "output_type": "execute_result"
    }
   ],
   "source": [
    "len(ans_string)"
   ]
  },
  {
   "cell_type": "code",
   "execution_count": 25,
   "id": "ce169c0c-482b-4a40-9ea0-e9816c1c163c",
   "metadata": {
    "tags": []
   },
   "outputs": [
    {
     "name": "stdout",
     "output_type": "stream",
     "text": [
      "To distribute the papers into the sessions while adhering to the constraints, we first note the session lengths and the sum of paper durations to ensure we do not exceed the session capacity. We aim to distribute longer discussions and Q&A sessions across different session slots since their lengths vary significantly, ensuring that no session is underutilized or exceeds its limit.\n",
      "\n",
      "Given the session lengths are all 50 minutes, except one session which is 60 minutes, we can distribute the papers as follows, making sure to distribute the discussions and Q&A papers (14, 12, 20, 17 minutes) across different sessions to balance the time:\n",
      "\n",
      "```\n",
      "session@talk_title@duration\n",
      "1@Quid Pro Quo: An Exploration of Reciprocity in Code Review@5\n",
      "1@FixJS: A Dataset of Bug-fixing JavaScript Commits@4\n",
      "1@Bot Detection in GitHub Repositories@5\n",
      "1@Can instability variations warn developers when open-source projects boost?@4\n",
      "1@A Time Series-Based Dataset of Open-Source Software Evolution@4\n",
      "1@Constructing Dataset of Functionally Equivalent Java Methods Using Automated Test Generation Techniques@4\n",
      "1@A Versatile Dataset of Agile Open Source Software Projects@4\n",
      "1@A Large-scale Dataset of (Open Source) License Text VariantsData and Tool Showcase Award@4\n",
      "1@Evaluating the effectiveness of local explanation methods on source code-based defect prediction models@4\n",
      "1@Towards Understanding Barriers and Mitigation Strategies of Software Engineers with Non-traditional Educational and Occupational Backgrounds@4\n",
      "1@LAGOON: An Analysis Tool for Open Source Communities@4\n",
      "1@Is GitHub's Copilot as Bad As Humans at Introducing Vulnerabilities in Code?@4\n",
      "2@To Type or Not to Type? A Systematic Comparison of the Software Quality of JavaScript and TypeScript Applications on GitHub@7\n",
      "2@Using Bandit Algorithms for Selecting Feature Reduction Techniques in Software Defect Prediction@7\n",
      "2@Automatically Prioritizing and Assigning Tasks from Code Repositories in Puzzle Driven Development@7\n",
      "2@A Deep Study of the Effects and Fixes of Server-Side Request Races in Web Applications@7\n",
      "2@Code Review Practices for Refactoring Changes: An Empirical Study on OpenStack@7\n",
      "2@Varangian: A Git Bot for Augmented Static Analysis@7\n",
      "2@Extracting corrective actions from code repositories@7\n",
      "2@Problems and Solutions in Applying Continuous Integration and Delivery to 20 Open-Source Cyber-Physical Systems@7\n",
      "3@Discussions and Q&A@14\n",
      "3@Replicating Data Pipelines with GrimoireLab@5\n",
      "3@GitRank: A Framework to Rank GitHub Repositories@5\n",
      "3@GrimoireLab Maintenance and Evolution@5\n",
      "3@OpenSSL 3.0.0: An exploratory case study@5\n",
      "3@SECOM: Towards a convention for security commit messagesFOSS Impact Paper Award@7\n",
      "4@Discussions and Q&A@12\n",
      "4@Finding the Fun in Fundraising: Public Issues and Pull Requests in VC-backed Open-Core Companies@7\n",
      "4@Detecting Privacy-Sensitive Code Changes with Language Modeling@7\n",
      "5@Discussions and Q&A@20\n",
      "6@Discussions and Q&A@17\n",
      "6@Using Datalore for Reproducible Research@50\n",
      "6@Software Bots in Software Engineering: Benefits and Challenges@50\n",
      "```\n"
     ]
    }
   ],
   "source": [
    "print(ans_string)"
   ]
  },
  {
   "cell_type": "code",
   "execution_count": 26,
   "id": "6b3beb99-e4a4-49eb-966d-294140356d05",
   "metadata": {
    "tags": []
   },
   "outputs": [
    {
     "name": "stdout",
     "output_type": "stream",
     "text": [
      "Got the df!\n"
     ]
    },
    {
     "data": {
      "text/html": [
       "<div>\n",
       "<style scoped>\n",
       "    .dataframe tbody tr th:only-of-type {\n",
       "        vertical-align: middle;\n",
       "    }\n",
       "\n",
       "    .dataframe tbody tr th {\n",
       "        vertical-align: top;\n",
       "    }\n",
       "\n",
       "    .dataframe thead th {\n",
       "        text-align: right;\n",
       "    }\n",
       "</style>\n",
       "<table border=\"1\" class=\"dataframe\">\n",
       "  <thead>\n",
       "    <tr style=\"text-align: right;\">\n",
       "      <th></th>\n",
       "      <th>session</th>\n",
       "      <th>talk_title</th>\n",
       "      <th>duration</th>\n",
       "    </tr>\n",
       "  </thead>\n",
       "  <tbody>\n",
       "    <tr>\n",
       "      <th>0</th>\n",
       "      <td>1</td>\n",
       "      <td>Quid Pro Quo: An Exploration of Reciprocity in...</td>\n",
       "      <td>5</td>\n",
       "    </tr>\n",
       "    <tr>\n",
       "      <th>1</th>\n",
       "      <td>1</td>\n",
       "      <td>FixJS: A Dataset of Bug-fixing JavaScript Commits</td>\n",
       "      <td>4</td>\n",
       "    </tr>\n",
       "    <tr>\n",
       "      <th>2</th>\n",
       "      <td>1</td>\n",
       "      <td>Bot Detection in GitHub Repositories</td>\n",
       "      <td>5</td>\n",
       "    </tr>\n",
       "    <tr>\n",
       "      <th>3</th>\n",
       "      <td>1</td>\n",
       "      <td>Can instability variations warn developers whe...</td>\n",
       "      <td>4</td>\n",
       "    </tr>\n",
       "    <tr>\n",
       "      <th>4</th>\n",
       "      <td>1</td>\n",
       "      <td>A Time Series-Based Dataset of Open-Source Sof...</td>\n",
       "      <td>4</td>\n",
       "    </tr>\n",
       "  </tbody>\n",
       "</table>\n",
       "</div>"
      ],
      "text/plain": [
       "   session                                         talk_title  duration\n",
       "0        1  Quid Pro Quo: An Exploration of Reciprocity in...         5\n",
       "1        1  FixJS: A Dataset of Bug-fixing JavaScript Commits         4\n",
       "2        1               Bot Detection in GitHub Repositories         5\n",
       "3        1  Can instability variations warn developers whe...         4\n",
       "4        1  A Time Series-Based Dataset of Open-Source Sof...         4"
      ]
     },
     "execution_count": 26,
     "metadata": {},
     "output_type": "execute_result"
    }
   ],
   "source": [
    "# Use regular expressions to find the CSV string\n",
    "# The pattern looks for a string enclosed in triple quotes\n",
    "match = re.search(\"```\\n(.*?)\\n```\", ans_string, re.DOTALL)\n",
    "if match:\n",
    "    csv_string = match.group(1)  # Extract the actual CSV data\n",
    "    # print(\"Extracted CSV:\\n\", csv_string)\n",
    "\n",
    "    # Convert the CSV string to a DataFrame\n",
    "    # StringIO is used to convert the string to a file-like object\n",
    "    df_results = pd.read_csv(StringIO(csv_string), sep=\"@\")\n",
    "\n",
    "    # Display the DataFrame\n",
    "    print(\"Got the df!\")\n",
    "else:\n",
    "    print(\"No CSV data found in the string.\")\n",
    "    \n",
    "df_results.head()"
   ]
  },
  {
   "cell_type": "code",
   "execution_count": 27,
   "id": "0ad8f5e9-d3e2-4a0e-b323-0da46d4351b8",
   "metadata": {},
   "outputs": [
    {
     "data": {
      "text/html": [
       "<div>\n",
       "<style scoped>\n",
       "    .dataframe tbody tr th:only-of-type {\n",
       "        vertical-align: middle;\n",
       "    }\n",
       "\n",
       "    .dataframe tbody tr th {\n",
       "        vertical-align: top;\n",
       "    }\n",
       "\n",
       "    .dataframe thead th {\n",
       "        text-align: right;\n",
       "    }\n",
       "</style>\n",
       "<table border=\"1\" class=\"dataframe\">\n",
       "  <thead>\n",
       "    <tr style=\"text-align: right;\">\n",
       "      <th></th>\n",
       "      <th>session</th>\n",
       "      <th>talk_title</th>\n",
       "      <th>duration</th>\n",
       "    </tr>\n",
       "  </thead>\n",
       "  <tbody>\n",
       "    <tr>\n",
       "      <th>0</th>\n",
       "      <td>1</td>\n",
       "      <td>Quid Pro Quo: An Exploration of Reciprocity in...</td>\n",
       "      <td>5</td>\n",
       "    </tr>\n",
       "    <tr>\n",
       "      <th>1</th>\n",
       "      <td>1</td>\n",
       "      <td>FixJS: A Dataset of Bug-fixing JavaScript Commits</td>\n",
       "      <td>4</td>\n",
       "    </tr>\n",
       "    <tr>\n",
       "      <th>2</th>\n",
       "      <td>1</td>\n",
       "      <td>Bot Detection in GitHub Repositories</td>\n",
       "      <td>5</td>\n",
       "    </tr>\n",
       "    <tr>\n",
       "      <th>3</th>\n",
       "      <td>1</td>\n",
       "      <td>Can instability variations warn developers whe...</td>\n",
       "      <td>4</td>\n",
       "    </tr>\n",
       "    <tr>\n",
       "      <th>4</th>\n",
       "      <td>1</td>\n",
       "      <td>A Time Series-Based Dataset of Open-Source Sof...</td>\n",
       "      <td>4</td>\n",
       "    </tr>\n",
       "    <tr>\n",
       "      <th>5</th>\n",
       "      <td>1</td>\n",
       "      <td>Constructing Dataset of Functionally Equivalen...</td>\n",
       "      <td>4</td>\n",
       "    </tr>\n",
       "    <tr>\n",
       "      <th>6</th>\n",
       "      <td>1</td>\n",
       "      <td>A Versatile Dataset of Agile Open Source Softw...</td>\n",
       "      <td>4</td>\n",
       "    </tr>\n",
       "    <tr>\n",
       "      <th>7</th>\n",
       "      <td>1</td>\n",
       "      <td>A Large-scale Dataset of (Open Source) License...</td>\n",
       "      <td>4</td>\n",
       "    </tr>\n",
       "    <tr>\n",
       "      <th>8</th>\n",
       "      <td>1</td>\n",
       "      <td>Evaluating the effectiveness of local explanat...</td>\n",
       "      <td>4</td>\n",
       "    </tr>\n",
       "    <tr>\n",
       "      <th>9</th>\n",
       "      <td>1</td>\n",
       "      <td>Towards Understanding Barriers and Mitigation ...</td>\n",
       "      <td>4</td>\n",
       "    </tr>\n",
       "    <tr>\n",
       "      <th>10</th>\n",
       "      <td>1</td>\n",
       "      <td>LAGOON: An Analysis Tool for Open Source Commu...</td>\n",
       "      <td>4</td>\n",
       "    </tr>\n",
       "    <tr>\n",
       "      <th>11</th>\n",
       "      <td>1</td>\n",
       "      <td>Is GitHub's Copilot as Bad As Humans at Introd...</td>\n",
       "      <td>4</td>\n",
       "    </tr>\n",
       "    <tr>\n",
       "      <th>12</th>\n",
       "      <td>2</td>\n",
       "      <td>To Type or Not to Type? A Systematic Compariso...</td>\n",
       "      <td>7</td>\n",
       "    </tr>\n",
       "    <tr>\n",
       "      <th>13</th>\n",
       "      <td>2</td>\n",
       "      <td>Using Bandit Algorithms for Selecting Feature ...</td>\n",
       "      <td>7</td>\n",
       "    </tr>\n",
       "    <tr>\n",
       "      <th>14</th>\n",
       "      <td>2</td>\n",
       "      <td>Automatically Prioritizing and Assigning Tasks...</td>\n",
       "      <td>7</td>\n",
       "    </tr>\n",
       "    <tr>\n",
       "      <th>15</th>\n",
       "      <td>2</td>\n",
       "      <td>A Deep Study of the Effects and Fixes of Serve...</td>\n",
       "      <td>7</td>\n",
       "    </tr>\n",
       "    <tr>\n",
       "      <th>16</th>\n",
       "      <td>2</td>\n",
       "      <td>Code Review Practices for Refactoring Changes:...</td>\n",
       "      <td>7</td>\n",
       "    </tr>\n",
       "    <tr>\n",
       "      <th>17</th>\n",
       "      <td>2</td>\n",
       "      <td>Varangian: A Git Bot for Augmented Static Anal...</td>\n",
       "      <td>7</td>\n",
       "    </tr>\n",
       "    <tr>\n",
       "      <th>18</th>\n",
       "      <td>2</td>\n",
       "      <td>Extracting corrective actions from code reposi...</td>\n",
       "      <td>7</td>\n",
       "    </tr>\n",
       "    <tr>\n",
       "      <th>19</th>\n",
       "      <td>2</td>\n",
       "      <td>Problems and Solutions in Applying Continuous ...</td>\n",
       "      <td>7</td>\n",
       "    </tr>\n",
       "    <tr>\n",
       "      <th>20</th>\n",
       "      <td>3</td>\n",
       "      <td>Discussions and Q&amp;A</td>\n",
       "      <td>14</td>\n",
       "    </tr>\n",
       "    <tr>\n",
       "      <th>21</th>\n",
       "      <td>3</td>\n",
       "      <td>Replicating Data Pipelines with GrimoireLab</td>\n",
       "      <td>5</td>\n",
       "    </tr>\n",
       "    <tr>\n",
       "      <th>22</th>\n",
       "      <td>3</td>\n",
       "      <td>GitRank: A Framework to Rank GitHub Repositories</td>\n",
       "      <td>5</td>\n",
       "    </tr>\n",
       "    <tr>\n",
       "      <th>23</th>\n",
       "      <td>3</td>\n",
       "      <td>GrimoireLab Maintenance and Evolution</td>\n",
       "      <td>5</td>\n",
       "    </tr>\n",
       "    <tr>\n",
       "      <th>24</th>\n",
       "      <td>3</td>\n",
       "      <td>OpenSSL 3.0.0: An exploratory case study</td>\n",
       "      <td>5</td>\n",
       "    </tr>\n",
       "    <tr>\n",
       "      <th>25</th>\n",
       "      <td>3</td>\n",
       "      <td>SECOM: Towards a convention for security commi...</td>\n",
       "      <td>7</td>\n",
       "    </tr>\n",
       "    <tr>\n",
       "      <th>26</th>\n",
       "      <td>4</td>\n",
       "      <td>Discussions and Q&amp;A</td>\n",
       "      <td>12</td>\n",
       "    </tr>\n",
       "    <tr>\n",
       "      <th>27</th>\n",
       "      <td>4</td>\n",
       "      <td>Finding the Fun in Fundraising: Public Issues ...</td>\n",
       "      <td>7</td>\n",
       "    </tr>\n",
       "    <tr>\n",
       "      <th>28</th>\n",
       "      <td>4</td>\n",
       "      <td>Detecting Privacy-Sensitive Code Changes with ...</td>\n",
       "      <td>7</td>\n",
       "    </tr>\n",
       "    <tr>\n",
       "      <th>29</th>\n",
       "      <td>5</td>\n",
       "      <td>Discussions and Q&amp;A</td>\n",
       "      <td>20</td>\n",
       "    </tr>\n",
       "    <tr>\n",
       "      <th>30</th>\n",
       "      <td>6</td>\n",
       "      <td>Discussions and Q&amp;A</td>\n",
       "      <td>17</td>\n",
       "    </tr>\n",
       "    <tr>\n",
       "      <th>31</th>\n",
       "      <td>6</td>\n",
       "      <td>Using Datalore for Reproducible Research</td>\n",
       "      <td>50</td>\n",
       "    </tr>\n",
       "    <tr>\n",
       "      <th>32</th>\n",
       "      <td>6</td>\n",
       "      <td>Software Bots in Software Engineering: Benefit...</td>\n",
       "      <td>50</td>\n",
       "    </tr>\n",
       "  </tbody>\n",
       "</table>\n",
       "</div>"
      ],
      "text/plain": [
       "    session                                         talk_title  duration\n",
       "0         1  Quid Pro Quo: An Exploration of Reciprocity in...         5\n",
       "1         1  FixJS: A Dataset of Bug-fixing JavaScript Commits         4\n",
       "2         1               Bot Detection in GitHub Repositories         5\n",
       "3         1  Can instability variations warn developers whe...         4\n",
       "4         1  A Time Series-Based Dataset of Open-Source Sof...         4\n",
       "5         1  Constructing Dataset of Functionally Equivalen...         4\n",
       "6         1  A Versatile Dataset of Agile Open Source Softw...         4\n",
       "7         1  A Large-scale Dataset of (Open Source) License...         4\n",
       "8         1  Evaluating the effectiveness of local explanat...         4\n",
       "9         1  Towards Understanding Barriers and Mitigation ...         4\n",
       "10        1  LAGOON: An Analysis Tool for Open Source Commu...         4\n",
       "11        1  Is GitHub's Copilot as Bad As Humans at Introd...         4\n",
       "12        2  To Type or Not to Type? A Systematic Compariso...         7\n",
       "13        2  Using Bandit Algorithms for Selecting Feature ...         7\n",
       "14        2  Automatically Prioritizing and Assigning Tasks...         7\n",
       "15        2  A Deep Study of the Effects and Fixes of Serve...         7\n",
       "16        2  Code Review Practices for Refactoring Changes:...         7\n",
       "17        2  Varangian: A Git Bot for Augmented Static Anal...         7\n",
       "18        2  Extracting corrective actions from code reposi...         7\n",
       "19        2  Problems and Solutions in Applying Continuous ...         7\n",
       "20        3                                Discussions and Q&A        14\n",
       "21        3        Replicating Data Pipelines with GrimoireLab         5\n",
       "22        3   GitRank: A Framework to Rank GitHub Repositories         5\n",
       "23        3              GrimoireLab Maintenance and Evolution         5\n",
       "24        3           OpenSSL 3.0.0: An exploratory case study         5\n",
       "25        3  SECOM: Towards a convention for security commi...         7\n",
       "26        4                                Discussions and Q&A        12\n",
       "27        4  Finding the Fun in Fundraising: Public Issues ...         7\n",
       "28        4  Detecting Privacy-Sensitive Code Changes with ...         7\n",
       "29        5                                Discussions and Q&A        20\n",
       "30        6                                Discussions and Q&A        17\n",
       "31        6           Using Datalore for Reproducible Research        50\n",
       "32        6  Software Bots in Software Engineering: Benefit...        50"
      ]
     },
     "execution_count": 27,
     "metadata": {},
     "output_type": "execute_result"
    }
   ],
   "source": [
    "df_results"
   ]
  },
  {
   "cell_type": "code",
   "execution_count": 28,
   "id": "65587e5d-084b-48e2-8e2b-4bd182d73f8e",
   "metadata": {
    "tags": []
   },
   "outputs": [
    {
     "data": {
      "text/plain": [
       "(33, 3)"
      ]
     },
     "execution_count": 28,
     "metadata": {},
     "output_type": "execute_result"
    }
   ],
   "source": [
    "df_results.shape"
   ]
  },
  {
   "cell_type": "markdown",
   "id": "538d01ae-286f-44a0-96bf-741f891b771d",
   "metadata": {},
   "source": [
    "## Check if the constraints are met"
   ]
  },
  {
   "cell_type": "markdown",
   "id": "ddbe0ef2-fb37-43d0-ad11-09163a8bda55",
   "metadata": {},
   "source": [
    "### Session Constraints"
   ]
  },
  {
   "cell_type": "code",
   "execution_count": 29,
   "id": "516c230c-d9a0-45f6-8719-e24853f1c730",
   "metadata": {},
   "outputs": [
    {
     "data": {
      "text/plain": [
       "session\n",
       "5     20\n",
       "4     26\n",
       "3     41\n",
       "1     50\n",
       "2     56\n",
       "6    117\n",
       "Name: duration, dtype: int64"
      ]
     },
     "execution_count": 29,
     "metadata": {},
     "output_type": "execute_result"
    }
   ],
   "source": [
    "df_results.groupby(\"session\")[\"duration\"].sum().sort_values()"
   ]
  },
  {
   "cell_type": "code",
   "execution_count": 30,
   "id": "f0f7c2a2-8cf7-4908-9a52-ebdaa6e0a027",
   "metadata": {
    "tags": []
   },
   "outputs": [
    {
     "data": {
      "text/plain": [
       "array([50, 50, 50, 50, 50, 60])"
      ]
     },
     "execution_count": 30,
     "metadata": {},
     "output_type": "execute_result"
    }
   ],
   "source": [
    "np.array(sorted(sessions.values))"
   ]
  },
  {
   "cell_type": "code",
   "execution_count": 31,
   "id": "e909be25-ed08-485c-9c7c-e42b78b689cc",
   "metadata": {},
   "outputs": [
    {
     "name": "stdout",
     "output_type": "stream",
     "text": [
      "Checking the extent to which the constraints are met. If the numbers are different, then the \n"
     ]
    },
    {
     "data": {
      "text/plain": [
       "(6, 6)"
      ]
     },
     "execution_count": 31,
     "metadata": {},
     "output_type": "execute_result"
    }
   ],
   "source": [
    "# Predictions, Trues. \n",
    "print(\"Checking the extent to which the constraints are met. If the numbers are different, then the \")\n",
    "len(df_results.groupby(\"session\")[\"duration\"].sum().sort_values()), len(np.array(sorted(sessions.values)))"
   ]
  },
  {
   "cell_type": "code",
   "execution_count": 32,
   "id": "0e3bfdea-c7c9-4702-a5eb-06aa69706caa",
   "metadata": {
    "tags": []
   },
   "outputs": [
    {
     "name": "stdout",
     "output_type": "stream",
     "text": [
      "Checking the extent to which the constraints are met. Negative numbers are violations where the planned session is too long.\n",
      "Session  1\n",
      "-57\n",
      "Session  2\n",
      "-6\n",
      "Session  3\n",
      "0\n",
      "Session  4\n",
      "9\n",
      "Session  5\n",
      "24\n",
      "Session  6\n",
      "30\n"
     ]
    }
   ],
   "source": [
    "print(\"Checking the extent to which the constraints are met. Negative numbers are violations where the planned session is too long.\")\n",
    "session_count = 0\n",
    "for truth, pred in zip(np.array(sorted(sessions.values))[::-1], df_results.groupby(\"session\")[\"duration\"].sum().sort_values().values[::-1]):\n",
    "    session_count += 1\n",
    "    print(\"Session \",session_count)\n",
    "    if not truth:\n",
    "        print(-pred)\n",
    "    elif not pred:\n",
    "        print(truth)\n",
    "    else:\n",
    "        print(truth-pred)"
   ]
  },
  {
   "cell_type": "markdown",
   "id": "02b6b867-2163-48dc-ab23-89a943f4f86f",
   "metadata": {},
   "source": [
    "### Paper constraints"
   ]
  },
  {
   "cell_type": "code",
   "execution_count": 33,
   "id": "7ac8dd8f-a8f3-4587-8353-8af60b2e4dd7",
   "metadata": {},
   "outputs": [
    {
     "data": {
      "text/plain": [
       "((33, 3), (33, 7))"
      ]
     },
     "execution_count": 33,
     "metadata": {},
     "output_type": "execute_result"
    }
   ],
   "source": [
    "df_results.shape, df.shape"
   ]
  },
  {
   "cell_type": "code",
   "execution_count": null,
   "id": "3aa9a45d-6727-4888-b24b-12d58bfcd770",
   "metadata": {},
   "outputs": [],
   "source": []
  },
  {
   "cell_type": "code",
   "execution_count": null,
   "id": "83b3f2f0-8a2d-487b-845a-60ec567a256d",
   "metadata": {},
   "outputs": [],
   "source": []
  },
  {
   "cell_type": "code",
   "execution_count": null,
   "id": "fc26fc11-4962-4600-8820-361e6e3252de",
   "metadata": {},
   "outputs": [],
   "source": []
  },
  {
   "cell_type": "code",
   "execution_count": null,
   "id": "87d5ac08-8b13-4611-8cd6-57aa3418ae27",
   "metadata": {},
   "outputs": [],
   "source": []
  },
  {
   "cell_type": "code",
   "execution_count": null,
   "id": "6ab28117-51be-4aba-9b2d-2deca26cabbe",
   "metadata": {},
   "outputs": [],
   "source": []
  },
  {
   "cell_type": "code",
   "execution_count": null,
   "id": "d52c3f7c-1e7e-4857-86be-254beb0b7947",
   "metadata": {},
   "outputs": [],
   "source": []
  },
  {
   "cell_type": "code",
   "execution_count": null,
   "id": "9a2f720d-40de-42ab-b62f-714393028b82",
   "metadata": {},
   "outputs": [],
   "source": []
  },
  {
   "cell_type": "code",
   "execution_count": null,
   "id": "777bdc3d-f413-4fde-82f4-a75f5b1da018",
   "metadata": {},
   "outputs": [],
   "source": []
  },
  {
   "cell_type": "code",
   "execution_count": null,
   "id": "ee08de3d-b69e-492b-bad0-e73c410c8fd2",
   "metadata": {},
   "outputs": [],
   "source": []
  }
 ],
 "metadata": {
  "environment": {
   "kernel": "python3",
   "name": ".m116",
   "type": "gcloud",
   "uri": "gcr.io/deeplearning-platform-release/:m116"
  },
  "kernelspec": {
   "display_name": "Python 3",
   "language": "python",
   "name": "python3"
  },
  "language_info": {
   "codemirror_mode": {
    "name": "ipython",
    "version": 3
   },
   "file_extension": ".py",
   "mimetype": "text/x-python",
   "name": "python",
   "nbconvert_exporter": "python",
   "pygments_lexer": "ipython3",
   "version": "3.10.13"
  }
 },
 "nbformat": 4,
 "nbformat_minor": 5
}
