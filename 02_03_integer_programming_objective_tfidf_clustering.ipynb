{
 "cells": [
  {
   "cell_type": "code",
   "execution_count": 1,
   "id": "6a9c1442-6df1-4b07-b7c2-b8e984a1e4db",
   "metadata": {
    "tags": []
   },
   "outputs": [],
   "source": [
    "import datetime\n",
    "from icalendar import Calendar\n",
    "import pandas as pd"
   ]
  },
  {
   "cell_type": "markdown",
   "id": "f1ef014f-41ca-4b80-ad2d-4f0ceae651c3",
   "metadata": {},
   "source": [
    "## Datat preprocessing"
   ]
  },
  {
   "cell_type": "code",
   "execution_count": 2,
   "id": "431446a9-6f44-4480-a3f0-5b019b93467d",
   "metadata": {
    "tags": []
   },
   "outputs": [
    {
     "data": {
      "text/html": [
       "<div>\n",
       "<style scoped>\n",
       "    .dataframe tbody tr th:only-of-type {\n",
       "        vertical-align: middle;\n",
       "    }\n",
       "\n",
       "    .dataframe tbody tr th {\n",
       "        vertical-align: top;\n",
       "    }\n",
       "\n",
       "    .dataframe thead th {\n",
       "        text-align: right;\n",
       "    }\n",
       "</style>\n",
       "<table border=\"1\" class=\"dataframe\">\n",
       "  <thead>\n",
       "    <tr style=\"text-align: right;\">\n",
       "      <th></th>\n",
       "      <th>date</th>\n",
       "      <th>start time</th>\n",
       "      <th>duration_mins</th>\n",
       "      <th>title</th>\n",
       "      <th>authors</th>\n",
       "      <th>description</th>\n",
       "    </tr>\n",
       "  </thead>\n",
       "  <tbody>\n",
       "    <tr>\n",
       "      <th>0</th>\n",
       "      <td>2022-05-18</td>\n",
       "      <td>02:00</td>\n",
       "      <td>4.0</td>\n",
       "      <td>[MSR Technical Papers] An Empirical Evaluation...</td>\n",
       "      <td>[Nhan Nguyen, Sarah Nadi]</td>\n",
       "      <td>GitHub and OpenAI recently launched GitHub Cop...</td>\n",
       "    </tr>\n",
       "    <tr>\n",
       "      <th>1</th>\n",
       "      <td>2022-05-18</td>\n",
       "      <td>02:04</td>\n",
       "      <td>4.0</td>\n",
       "      <td>[MSR Technical Papers] Comments on Comments: W...</td>\n",
       "      <td>[Nikitha Rao, Jason Tsay, Martin Hirzel, Vince...</td>\n",
       "      <td>An important function of code review is to inc...</td>\n",
       "    </tr>\n",
       "    <tr>\n",
       "      <th>2</th>\n",
       "      <td>2022-05-18</td>\n",
       "      <td>02:08</td>\n",
       "      <td>7.0</td>\n",
       "      <td>[MSR Technical Papers] Does This Apply to Me? ...</td>\n",
       "      <td>[Akalanka Galappaththi, Sarah Nadi, Christoph ...</td>\n",
       "      <td>Stack Overflow has become an essential technic...</td>\n",
       "    </tr>\n",
       "    <tr>\n",
       "      <th>3</th>\n",
       "      <td>2022-05-18</td>\n",
       "      <td>02:15</td>\n",
       "      <td>7.0</td>\n",
       "      <td>[MSR Technical Papers] Towards Reliable Agile ...</td>\n",
       "      <td>[Jirat Pasuksmit, Patanamon Thongtanunam, Shan...</td>\n",
       "      <td>In agile iterative development, an agile team ...</td>\n",
       "    </tr>\n",
       "    <tr>\n",
       "      <th>4</th>\n",
       "      <td>2022-05-18</td>\n",
       "      <td>02:22</td>\n",
       "      <td>7.0</td>\n",
       "      <td>[MSR Technical Papers] BotHunter: An Approach ...</td>\n",
       "      <td>[Ahmad Abdellatif, Mairieli Wessel, Igor Stein...</td>\n",
       "      <td>Bots have become popular in software projects ...</td>\n",
       "    </tr>\n",
       "  </tbody>\n",
       "</table>\n",
       "</div>"
      ],
      "text/plain": [
       "         date start time  duration_mins  \\\n",
       "0  2022-05-18      02:00            4.0   \n",
       "1  2022-05-18      02:04            4.0   \n",
       "2  2022-05-18      02:08            7.0   \n",
       "3  2022-05-18      02:15            7.0   \n",
       "4  2022-05-18      02:22            7.0   \n",
       "\n",
       "                                               title  \\\n",
       "0  [MSR Technical Papers] An Empirical Evaluation...   \n",
       "1  [MSR Technical Papers] Comments on Comments: W...   \n",
       "2  [MSR Technical Papers] Does This Apply to Me? ...   \n",
       "3  [MSR Technical Papers] Towards Reliable Agile ...   \n",
       "4  [MSR Technical Papers] BotHunter: An Approach ...   \n",
       "\n",
       "                                             authors  \\\n",
       "0                          [Nhan Nguyen, Sarah Nadi]   \n",
       "1  [Nikitha Rao, Jason Tsay, Martin Hirzel, Vince...   \n",
       "2  [Akalanka Galappaththi, Sarah Nadi, Christoph ...   \n",
       "3  [Jirat Pasuksmit, Patanamon Thongtanunam, Shan...   \n",
       "4  [Ahmad Abdellatif, Mairieli Wessel, Igor Stein...   \n",
       "\n",
       "                                         description  \n",
       "0  GitHub and OpenAI recently launched GitHub Cop...  \n",
       "1  An important function of code review is to inc...  \n",
       "2  Stack Overflow has become an essential technic...  \n",
       "3  In agile iterative development, an agile team ...  \n",
       "4  Bots have become popular in software projects ...  "
      ]
     },
     "execution_count": 2,
     "metadata": {},
     "output_type": "execute_result"
    }
   ],
   "source": [
    "def ics_to_dataframe(file_path):\n",
    "    # Open and parse the .ics file\n",
    "    with open(file_path, 'rb') as f:\n",
    "        cal = Calendar.from_ical(f.read())\n",
    "\n",
    "    # Prepare a list to hold event data\n",
    "    events = []\n",
    "\n",
    "    for component in cal.walk():\n",
    "        if component.name == \"VEVENT\":\n",
    "            # Extract relevant data from each event\n",
    "            try:\n",
    "                title, authors = component.get('summary').split(\" - \", 1)  # Expecting exactly 2 items\n",
    "                authors = authors.split('\\,')\n",
    "            except ValueError:  # If not exactly 2 items, then it's a ValueError\n",
    "                title = component.get('summary')  # Take the whole summary as title\n",
    "                authors = None  # Default, no authors found\n",
    "                \n",
    "            start_dt = component.get('dtstart').dt\n",
    "            end_dt = component.get('dtend').dt\n",
    "            title = component.get('summary')\n",
    "            description = component.get('description')\n",
    "            \n",
    "            if isinstance(start_dt, datetime.datetime) and isinstance(end_dt, datetime.datetime):\n",
    "                # Calculate duration\n",
    "                duration = (end_dt - start_dt).total_seconds() / 60  # duration in minutes\n",
    "                # Formatting date and start time\n",
    "                date = start_dt.strftime('%Y-%m-%d')\n",
    "                start_time = start_dt.strftime('%H:%M')\n",
    "                \n",
    "\n",
    "                # Append event info to the list\n",
    "                events.append([date, start_time, duration, title, authors, description])\n",
    "\n",
    "    # Create a DataFrame\n",
    "    df = pd.DataFrame(events, columns=['date', 'start time', 'duration_mins', 'title', 'authors', 'description'])\n",
    "\n",
    "    return df\n",
    "\n",
    "file_path = \"data/event-calendar-2022.ics\"\n",
    "df = ics_to_dataframe(file_path)\n",
    "df.head()"
   ]
  },
  {
   "cell_type": "code",
   "execution_count": 3,
   "id": "0634b029-418c-440a-8202-5e2dfe29c53e",
   "metadata": {
    "tags": []
   },
   "outputs": [
    {
     "data": {
      "text/html": [
       "<div>\n",
       "<style scoped>\n",
       "    .dataframe tbody tr th:only-of-type {\n",
       "        vertical-align: middle;\n",
       "    }\n",
       "\n",
       "    .dataframe tbody tr th {\n",
       "        vertical-align: top;\n",
       "    }\n",
       "\n",
       "    .dataframe thead th {\n",
       "        text-align: right;\n",
       "    }\n",
       "</style>\n",
       "<table border=\"1\" class=\"dataframe\">\n",
       "  <thead>\n",
       "    <tr style=\"text-align: right;\">\n",
       "      <th></th>\n",
       "      <th>date</th>\n",
       "      <th>start time</th>\n",
       "      <th>duration_mins</th>\n",
       "      <th>title</th>\n",
       "      <th>authors</th>\n",
       "      <th>description</th>\n",
       "      <th>session_name</th>\n",
       "    </tr>\n",
       "  </thead>\n",
       "  <tbody>\n",
       "    <tr>\n",
       "      <th>0</th>\n",
       "      <td>2022-05-18</td>\n",
       "      <td>02:00</td>\n",
       "      <td>4.0</td>\n",
       "      <td>[MSR Technical Papers] An Empirical Evaluation...</td>\n",
       "      <td>[Nhan Nguyen, Sarah Nadi]</td>\n",
       "      <td>GitHub and OpenAI recently launched GitHub Cop...</td>\n",
       "      <td>Unknown Session</td>\n",
       "    </tr>\n",
       "    <tr>\n",
       "      <th>1</th>\n",
       "      <td>2022-05-18</td>\n",
       "      <td>02:04</td>\n",
       "      <td>4.0</td>\n",
       "      <td>[MSR Technical Papers] Comments on Comments: W...</td>\n",
       "      <td>[Nikitha Rao, Jason Tsay, Martin Hirzel, Vince...</td>\n",
       "      <td>An important function of code review is to inc...</td>\n",
       "      <td>Unknown Session</td>\n",
       "    </tr>\n",
       "    <tr>\n",
       "      <th>2</th>\n",
       "      <td>2022-05-18</td>\n",
       "      <td>02:08</td>\n",
       "      <td>7.0</td>\n",
       "      <td>[MSR Technical Papers] Does This Apply to Me? ...</td>\n",
       "      <td>[Akalanka Galappaththi, Sarah Nadi, Christoph ...</td>\n",
       "      <td>Stack Overflow has become an essential technic...</td>\n",
       "      <td>Unknown Session</td>\n",
       "    </tr>\n",
       "    <tr>\n",
       "      <th>3</th>\n",
       "      <td>2022-05-18</td>\n",
       "      <td>02:15</td>\n",
       "      <td>7.0</td>\n",
       "      <td>[MSR Technical Papers] Towards Reliable Agile ...</td>\n",
       "      <td>[Jirat Pasuksmit, Patanamon Thongtanunam, Shan...</td>\n",
       "      <td>In agile iterative development, an agile team ...</td>\n",
       "      <td>Unknown Session</td>\n",
       "    </tr>\n",
       "    <tr>\n",
       "      <th>4</th>\n",
       "      <td>2022-05-18</td>\n",
       "      <td>02:22</td>\n",
       "      <td>7.0</td>\n",
       "      <td>[MSR Technical Papers] BotHunter: An Approach ...</td>\n",
       "      <td>[Ahmad Abdellatif, Mairieli Wessel, Igor Stein...</td>\n",
       "      <td>Bots have become popular in software projects ...</td>\n",
       "      <td>Unknown Session</td>\n",
       "    </tr>\n",
       "  </tbody>\n",
       "</table>\n",
       "</div>"
      ],
      "text/plain": [
       "         date start time  duration_mins  \\\n",
       "0  2022-05-18      02:00            4.0   \n",
       "1  2022-05-18      02:04            4.0   \n",
       "2  2022-05-18      02:08            7.0   \n",
       "3  2022-05-18      02:15            7.0   \n",
       "4  2022-05-18      02:22            7.0   \n",
       "\n",
       "                                               title  \\\n",
       "0  [MSR Technical Papers] An Empirical Evaluation...   \n",
       "1  [MSR Technical Papers] Comments on Comments: W...   \n",
       "2  [MSR Technical Papers] Does This Apply to Me? ...   \n",
       "3  [MSR Technical Papers] Towards Reliable Agile ...   \n",
       "4  [MSR Technical Papers] BotHunter: An Approach ...   \n",
       "\n",
       "                                             authors  \\\n",
       "0                          [Nhan Nguyen, Sarah Nadi]   \n",
       "1  [Nikitha Rao, Jason Tsay, Martin Hirzel, Vince...   \n",
       "2  [Akalanka Galappaththi, Sarah Nadi, Christoph ...   \n",
       "3  [Jirat Pasuksmit, Patanamon Thongtanunam, Shan...   \n",
       "4  [Ahmad Abdellatif, Mairieli Wessel, Igor Stein...   \n",
       "\n",
       "                                         description     session_name  \n",
       "0  GitHub and OpenAI recently launched GitHub Cop...  Unknown Session  \n",
       "1  An important function of code review is to inc...  Unknown Session  \n",
       "2  Stack Overflow has become an essential technic...  Unknown Session  \n",
       "3  In agile iterative development, an agile team ...  Unknown Session  \n",
       "4  Bots have become popular in software projects ...  Unknown Session  "
      ]
     },
     "execution_count": 3,
     "metadata": {},
     "output_type": "execute_result"
    }
   ],
   "source": [
    "def parse_sessions(file_path):\n",
    "    with open(file_path, 'rb') as f:\n",
    "        cal = Calendar.from_ical(f.read())\n",
    "\n",
    "    sessions = {}\n",
    "    \n",
    "    for component in cal.walk('vevent'):\n",
    "        start_dt = component.get('dtstart').dt\n",
    "        end_dt = component.get('dtend').dt\n",
    "        summary = str(component.get('summary'))\n",
    "        session_name = summary.split(': ')[-1]  # Assuming session name is after last colon\n",
    "        \n",
    "        # Key by start date, end date, and location for simplicity; tweak as needed\n",
    "        key = (start_dt, end_dt)\n",
    "        sessions[key] = session_name\n",
    "    \n",
    "    return sessions\n",
    "\n",
    "# Function to find a session for a given event\n",
    "def find_session_for_event(sessions, event_start, event_end):\n",
    "    # Note: This simplistic approach assumes exact match of start/end times. \n",
    "    # Consider more complex logic if sessions/events don't align exactly.\n",
    "    key = (event_start, event_end)\n",
    "    return sessions.get(key, \"Unknown Session\")\n",
    "\n",
    "# Load sessions\n",
    "session_calendar_path = \"data/session-calendar-2022.ics\"\n",
    "sessions = parse_sessions(session_calendar_path)\n",
    "\n",
    "# Map events to sessions and add a new column\n",
    "df['session_name'] = df.apply(lambda row: find_session_for_event(sessions, \n",
    "                                             datetime.datetime.strptime(row['date'] + ' ' + row['start time'], '%Y-%m-%d %H:%M'),\n",
    "                                             datetime.datetime.strptime(row['date'] + ' ' + row['start time'], '%Y-%m-%d %H:%M') + datetime.timedelta(minutes=row['duration_mins'])),\n",
    "                                             axis=1)\n",
    "\n",
    "df.head()"
   ]
  },
  {
   "cell_type": "code",
   "execution_count": 4,
   "id": "a508789c-37ad-4ed2-9413-857aacbac34c",
   "metadata": {
    "tags": []
   },
   "outputs": [],
   "source": [
    "import pandas as pd\n",
    "import re\n",
    "from bs4 import BeautifulSoup\n",
    "\n",
    "# Without error capture to ensure the output (whether success or failure) is reported back.\n",
    "# Attempt to read tables from the HTML file using pandas\n",
    "file_path = \"data/Program - MSR 2022.html\""
   ]
  },
  {
   "cell_type": "code",
   "execution_count": 5,
   "id": "959ad08b-206e-474b-95aa-94e67dc91ba3",
   "metadata": {
    "tags": []
   },
   "outputs": [],
   "source": [
    "with open(file_path, 'r') as file:\n",
    "    html_content = file.read()"
   ]
  },
  {
   "cell_type": "code",
   "execution_count": 6,
   "id": "96dd737a-08c5-444d-aa93-ad9c5b6604f8",
   "metadata": {
    "tags": []
   },
   "outputs": [],
   "source": [
    "soup = BeautifulSoup(html_content, 'lxml')"
   ]
  },
  {
   "cell_type": "code",
   "execution_count": 7,
   "id": "a3f51055-fa00-4a1b-a13c-92e87a55d3b8",
   "metadata": {
    "tags": []
   },
   "outputs": [],
   "source": [
    "rows = soup.find_all('tr', class_='hidable')"
   ]
  },
  {
   "cell_type": "code",
   "execution_count": 8,
   "id": "29d3433b-7c5c-4c8f-abb1-56ba9a80df0e",
   "metadata": {
    "tags": []
   },
   "outputs": [],
   "source": [
    "date_pattern = re.compile(r\"\\b(?:Mon|Tue|Wed|Thu|Fri|Sat|Sun)\\s\\d{1,2}\\s(?:Jan|Feb|Mar|Apr|May|Jun|Jul|Aug|Sep|Oct|Nov|Dec)\")"
   ]
  },
  {
   "cell_type": "code",
   "execution_count": 9,
   "id": "833b9fc0-a20c-4bf9-9279-57da99008bee",
   "metadata": {
    "tags": []
   },
   "outputs": [
    {
     "data": {
      "text/html": [
       "<div>\n",
       "<style scoped>\n",
       "    .dataframe tbody tr th:only-of-type {\n",
       "        vertical-align: middle;\n",
       "    }\n",
       "\n",
       "    .dataframe tbody tr th {\n",
       "        vertical-align: top;\n",
       "    }\n",
       "\n",
       "    .dataframe thead th {\n",
       "        text-align: right;\n",
       "    }\n",
       "</style>\n",
       "<table border=\"1\" class=\"dataframe\">\n",
       "  <thead>\n",
       "    <tr style=\"text-align: right;\">\n",
       "      <th></th>\n",
       "      <th>Time</th>\n",
       "      <th>Duration</th>\n",
       "      <th>Talk Title</th>\n",
       "      <th>Link</th>\n",
       "      <th>Authors</th>\n",
       "      <th>Session</th>\n",
       "      <th>Date</th>\n",
       "    </tr>\n",
       "  </thead>\n",
       "  <tbody>\n",
       "    <tr>\n",
       "      <th>0</th>\n",
       "      <td>22:00</td>\n",
       "      <td>4m</td>\n",
       "      <td>An Empirical Evaluation of GitHub Copilot’s Co...</td>\n",
       "      <td>#</td>\n",
       "      <td>[Nhan Nguyen, Sarah Nadi]</td>\n",
       "      <td>Session 1Technical Papers/Registered Reportsat...</td>\n",
       "      <td>Tue 17 May</td>\n",
       "    </tr>\n",
       "    <tr>\n",
       "      <th>1</th>\n",
       "      <td>22:04</td>\n",
       "      <td>4m</td>\n",
       "      <td>Comments on Comments: Where Code Review and Do...</td>\n",
       "      <td>#</td>\n",
       "      <td>[Nikitha Rao, Jason Tsay, Martin Hirzel, Vince...</td>\n",
       "      <td>Session 1Technical Papers/Registered Reportsat...</td>\n",
       "      <td>Tue 17 May</td>\n",
       "    </tr>\n",
       "    <tr>\n",
       "      <th>2</th>\n",
       "      <td>22:08</td>\n",
       "      <td>7m</td>\n",
       "      <td>Does This Apply to Me? An Empirical Study of T...</td>\n",
       "      <td>#</td>\n",
       "      <td>[Akalanka Galappaththi, Sarah Nadi, Christoph ...</td>\n",
       "      <td>Session 1Technical Papers/Registered Reportsat...</td>\n",
       "      <td>Tue 17 May</td>\n",
       "    </tr>\n",
       "    <tr>\n",
       "      <th>3</th>\n",
       "      <td>22:15</td>\n",
       "      <td>7m</td>\n",
       "      <td>Towards Reliable Agile Iterative Planning via ...</td>\n",
       "      <td>#</td>\n",
       "      <td>[Jirat Pasuksmit, Patanamon Thongtanunam, Shan...</td>\n",
       "      <td>Session 1Technical Papers/Registered Reportsat...</td>\n",
       "      <td>Tue 17 May</td>\n",
       "    </tr>\n",
       "    <tr>\n",
       "      <th>4</th>\n",
       "      <td>22:22</td>\n",
       "      <td>7m</td>\n",
       "      <td>BotHunter: An Approach to Detect Software Bots...</td>\n",
       "      <td>#</td>\n",
       "      <td>[Ahmad Abdellatif, Mairieli Wessel, Igor Stein...</td>\n",
       "      <td>Session 1Technical Papers/Registered Reportsat...</td>\n",
       "      <td>Tue 17 May</td>\n",
       "    </tr>\n",
       "  </tbody>\n",
       "</table>\n",
       "</div>"
      ],
      "text/plain": [
       "    Time Duration                                         Talk Title Link  \\\n",
       "0  22:00       4m  An Empirical Evaluation of GitHub Copilot’s Co...    #   \n",
       "1  22:04       4m  Comments on Comments: Where Code Review and Do...    #   \n",
       "2  22:08       7m  Does This Apply to Me? An Empirical Study of T...    #   \n",
       "3  22:15       7m  Towards Reliable Agile Iterative Planning via ...    #   \n",
       "4  22:22       7m  BotHunter: An Approach to Detect Software Bots...    #   \n",
       "\n",
       "                                             Authors  \\\n",
       "0                          [Nhan Nguyen, Sarah Nadi]   \n",
       "1  [Nikitha Rao, Jason Tsay, Martin Hirzel, Vince...   \n",
       "2  [Akalanka Galappaththi, Sarah Nadi, Christoph ...   \n",
       "3  [Jirat Pasuksmit, Patanamon Thongtanunam, Shan...   \n",
       "4  [Ahmad Abdellatif, Mairieli Wessel, Igor Stein...   \n",
       "\n",
       "                                             Session        Date  \n",
       "0  Session 1Technical Papers/Registered Reportsat...  Tue 17 May  \n",
       "1  Session 1Technical Papers/Registered Reportsat...  Tue 17 May  \n",
       "2  Session 1Technical Papers/Registered Reportsat...  Tue 17 May  \n",
       "3  Session 1Technical Papers/Registered Reportsat...  Tue 17 May  \n",
       "4  Session 1Technical Papers/Registered Reportsat...  Tue 17 May  "
      ]
     },
     "execution_count": 9,
     "metadata": {},
     "output_type": "execute_result"
    }
   ],
   "source": [
    "extracted_rows = []\n",
    "\n",
    "# Loop through each row to extract required details\n",
    "for row in rows:\n",
    "    temp_row = []\n",
    "    \n",
    "    # Extract session details from parent div if not already extracted\n",
    "    session_div = row.find_previous('div', class_='session-info-in-table')\n",
    "    session = session_div.get_text(strip=True) if session_div else ''\n",
    "    \n",
    "    datetime_info = row.find('td', class_='text-right')\n",
    "    talk_info = row.find_all('td')[-1]\n",
    "    \n",
    "    if datetime_info and talk_info:\n",
    "        time = datetime_info.find('div', class_='start-time').get_text(strip=True) if datetime_info.find('div', class_='start-time') else ''\n",
    "        duration = datetime_info.find('strong').get_text(strip=True) if datetime_info.find('strong') else ''\n",
    "        \n",
    "        # Calculate end time based on start time and duration if needed\n",
    "        \n",
    "        temp_row.append(time)\n",
    "        # temp_row.append(end_time)  # Calculate and append end time if needed\n",
    "        temp_row.append(duration)\n",
    "        \n",
    "        talk_title = talk_info.find('strong')\n",
    "        if talk_title:\n",
    "            temp_row.append(talk_title.get_text(strip=True))\n",
    "            \n",
    "            link = talk_title.find('a', href=True)\n",
    "            temp_row.append(link['href'] if link else '')\n",
    "        else:\n",
    "            temp_row.extend(['', ''])\n",
    "            \n",
    "        # Extract authors\n",
    "        authors_div = talk_info.find('div', class_='performers')\n",
    "        authors = [author.get_text(strip=True) for author in authors_div.find_all('a')] if authors_div else []\n",
    "        temp_row.append(authors)\n",
    "        \n",
    "        # Append session information\n",
    "        temp_row.append(session)\n",
    "        \n",
    "        # Locate date information\n",
    "        # Tip: You may need to adjust how you locate the 'date information' based on your HTML structure\n",
    "        date_info = row.find_previous('div', class_='day-wrapper')\n",
    "        if date_info:\n",
    "            date_text = date_info.get_text(strip=True)\n",
    "            matched_date = date_pattern.search(date_text)\n",
    "            date = matched_date.group(0) if matched_date else \"Date Not Found\"\n",
    "        else:\n",
    "            date = None\n",
    "        temp_row.append(date)\n",
    "        \n",
    "        extracted_rows.append(temp_row)\n",
    "\n",
    "columns = ['Time', 'Duration', 'Talk Title', 'Link', 'Authors', 'Session', 'Date']\n",
    "df_1 = pd.DataFrame(extracted_rows, columns=columns)\n",
    "\n",
    "df_1.head()"
   ]
  },
  {
   "cell_type": "code",
   "execution_count": 10,
   "id": "a618a76e-b470-4902-ba88-7273944df256",
   "metadata": {
    "tags": []
   },
   "outputs": [
    {
     "data": {
      "text/plain": [
       "Index(['date', 'start time', 'duration_mins', 'title', 'authors',\n",
       "       'description', 'session_name'],\n",
       "      dtype='object')"
      ]
     },
     "execution_count": 10,
     "metadata": {},
     "output_type": "execute_result"
    }
   ],
   "source": [
    "df.columns"
   ]
  },
  {
   "cell_type": "code",
   "execution_count": 11,
   "id": "14015157-82fb-4716-9655-e93da9828b2d",
   "metadata": {
    "tags": []
   },
   "outputs": [],
   "source": [
    "df_merged = pd.concat([df_1, df[['description']]], axis=1)"
   ]
  },
  {
   "cell_type": "code",
   "execution_count": 12,
   "id": "f3c1f1a1-13f4-4e24-9357-8f0ed67d20d4",
   "metadata": {
    "tags": []
   },
   "outputs": [
    {
     "data": {
      "text/html": [
       "<div>\n",
       "<style scoped>\n",
       "    .dataframe tbody tr th:only-of-type {\n",
       "        vertical-align: middle;\n",
       "    }\n",
       "\n",
       "    .dataframe tbody tr th {\n",
       "        vertical-align: top;\n",
       "    }\n",
       "\n",
       "    .dataframe thead th {\n",
       "        text-align: right;\n",
       "    }\n",
       "</style>\n",
       "<table border=\"1\" class=\"dataframe\">\n",
       "  <thead>\n",
       "    <tr style=\"text-align: right;\">\n",
       "      <th></th>\n",
       "      <th>Time</th>\n",
       "      <th>Duration</th>\n",
       "      <th>Talk Title</th>\n",
       "      <th>Link</th>\n",
       "      <th>Authors</th>\n",
       "      <th>Session</th>\n",
       "      <th>Date</th>\n",
       "      <th>description</th>\n",
       "    </tr>\n",
       "  </thead>\n",
       "  <tbody>\n",
       "    <tr>\n",
       "      <th>0</th>\n",
       "      <td>22:00</td>\n",
       "      <td>4m</td>\n",
       "      <td>An Empirical Evaluation of GitHub Copilot’s Co...</td>\n",
       "      <td>#</td>\n",
       "      <td>[Nhan Nguyen, Sarah Nadi]</td>\n",
       "      <td>Session 1Technical Papers/Registered Reportsat...</td>\n",
       "      <td>Tue 17 May</td>\n",
       "      <td>GitHub and OpenAI recently launched GitHub Cop...</td>\n",
       "    </tr>\n",
       "    <tr>\n",
       "      <th>1</th>\n",
       "      <td>22:04</td>\n",
       "      <td>4m</td>\n",
       "      <td>Comments on Comments: Where Code Review and Do...</td>\n",
       "      <td>#</td>\n",
       "      <td>[Nikitha Rao, Jason Tsay, Martin Hirzel, Vince...</td>\n",
       "      <td>Session 1Technical Papers/Registered Reportsat...</td>\n",
       "      <td>Tue 17 May</td>\n",
       "      <td>An important function of code review is to inc...</td>\n",
       "    </tr>\n",
       "    <tr>\n",
       "      <th>2</th>\n",
       "      <td>22:08</td>\n",
       "      <td>7m</td>\n",
       "      <td>Does This Apply to Me? An Empirical Study of T...</td>\n",
       "      <td>#</td>\n",
       "      <td>[Akalanka Galappaththi, Sarah Nadi, Christoph ...</td>\n",
       "      <td>Session 1Technical Papers/Registered Reportsat...</td>\n",
       "      <td>Tue 17 May</td>\n",
       "      <td>Stack Overflow has become an essential technic...</td>\n",
       "    </tr>\n",
       "  </tbody>\n",
       "</table>\n",
       "</div>"
      ],
      "text/plain": [
       "    Time Duration                                         Talk Title Link  \\\n",
       "0  22:00       4m  An Empirical Evaluation of GitHub Copilot’s Co...    #   \n",
       "1  22:04       4m  Comments on Comments: Where Code Review and Do...    #   \n",
       "2  22:08       7m  Does This Apply to Me? An Empirical Study of T...    #   \n",
       "\n",
       "                                             Authors  \\\n",
       "0                          [Nhan Nguyen, Sarah Nadi]   \n",
       "1  [Nikitha Rao, Jason Tsay, Martin Hirzel, Vince...   \n",
       "2  [Akalanka Galappaththi, Sarah Nadi, Christoph ...   \n",
       "\n",
       "                                             Session        Date  \\\n",
       "0  Session 1Technical Papers/Registered Reportsat...  Tue 17 May   \n",
       "1  Session 1Technical Papers/Registered Reportsat...  Tue 17 May   \n",
       "2  Session 1Technical Papers/Registered Reportsat...  Tue 17 May   \n",
       "\n",
       "                                         description  \n",
       "0  GitHub and OpenAI recently launched GitHub Cop...  \n",
       "1  An important function of code review is to inc...  \n",
       "2  Stack Overflow has become an essential technic...  "
      ]
     },
     "execution_count": 12,
     "metadata": {},
     "output_type": "execute_result"
    }
   ],
   "source": [
    "df_merged.head(3)"
   ]
  },
  {
   "cell_type": "code",
   "execution_count": 13,
   "id": "2d7f0a11-3ba6-4035-9ba4-8b0f3723a9d8",
   "metadata": {
    "tags": []
   },
   "outputs": [
    {
     "data": {
      "text/plain": [
       "Index(['Time', 'Duration', 'Talk Title', 'Link', 'Authors', 'Session', 'Date',\n",
       "       'description'],\n",
       "      dtype='object')"
      ]
     },
     "execution_count": 13,
     "metadata": {},
     "output_type": "execute_result"
    }
   ],
   "source": [
    "df_merged.columns"
   ]
  },
  {
   "cell_type": "code",
   "execution_count": 14,
   "id": "eb8cad69-418f-4047-8c61-1c056f5e573a",
   "metadata": {
    "tags": []
   },
   "outputs": [],
   "source": [
    "df_input = df_merged[['Time', 'Duration', 'Talk Title', 'Link', 'Authors', 'Session', 'Date',\n",
    "       'description']]\n",
    "df_input = df_input[(df_input['Talk Title']!=\"Discussions and Q&A\")&(df_input.description!=\"\")].reset_index(drop=True)\n",
    "df_input = df_input.reset_index()\n",
    "df_input = df_input.rename(columns={\n",
    "    'Talk Title': 'title',\n",
    "    'description': 'abstract',\n",
    "    'index': 'paper_number'})\n",
    "df_input_no_duplication = df_input[~df_input.Session.str.startswith(\"Blended\")]"
   ]
  },
  {
   "cell_type": "code",
   "execution_count": 15,
   "id": "6b68d6b3-f146-4cd3-9597-c5b22ee8d279",
   "metadata": {
    "tags": []
   },
   "outputs": [
    {
     "data": {
      "text/html": [
       "<div>\n",
       "<style scoped>\n",
       "    .dataframe tbody tr th:only-of-type {\n",
       "        vertical-align: middle;\n",
       "    }\n",
       "\n",
       "    .dataframe tbody tr th {\n",
       "        vertical-align: top;\n",
       "    }\n",
       "\n",
       "    .dataframe thead th {\n",
       "        text-align: right;\n",
       "    }\n",
       "</style>\n",
       "<table border=\"1\" class=\"dataframe\">\n",
       "  <thead>\n",
       "    <tr style=\"text-align: right;\">\n",
       "      <th></th>\n",
       "      <th>paper_number</th>\n",
       "      <th>Time</th>\n",
       "      <th>Duration</th>\n",
       "      <th>title</th>\n",
       "      <th>Link</th>\n",
       "      <th>Authors</th>\n",
       "      <th>Session</th>\n",
       "      <th>Date</th>\n",
       "      <th>abstract</th>\n",
       "    </tr>\n",
       "  </thead>\n",
       "  <tbody>\n",
       "    <tr>\n",
       "      <th>0</th>\n",
       "      <td>0</td>\n",
       "      <td>22:00</td>\n",
       "      <td>4m</td>\n",
       "      <td>An Empirical Evaluation of GitHub Copilot’s Co...</td>\n",
       "      <td>#</td>\n",
       "      <td>[Nhan Nguyen, Sarah Nadi]</td>\n",
       "      <td>Session 1Technical Papers/Registered Reportsat...</td>\n",
       "      <td>Tue 17 May</td>\n",
       "      <td>GitHub and OpenAI recently launched GitHub Cop...</td>\n",
       "    </tr>\n",
       "    <tr>\n",
       "      <th>1</th>\n",
       "      <td>1</td>\n",
       "      <td>22:04</td>\n",
       "      <td>4m</td>\n",
       "      <td>Comments on Comments: Where Code Review and Do...</td>\n",
       "      <td>#</td>\n",
       "      <td>[Nikitha Rao, Jason Tsay, Martin Hirzel, Vince...</td>\n",
       "      <td>Session 1Technical Papers/Registered Reportsat...</td>\n",
       "      <td>Tue 17 May</td>\n",
       "      <td>An important function of code review is to inc...</td>\n",
       "    </tr>\n",
       "    <tr>\n",
       "      <th>2</th>\n",
       "      <td>2</td>\n",
       "      <td>22:08</td>\n",
       "      <td>7m</td>\n",
       "      <td>Does This Apply to Me? An Empirical Study of T...</td>\n",
       "      <td>#</td>\n",
       "      <td>[Akalanka Galappaththi, Sarah Nadi, Christoph ...</td>\n",
       "      <td>Session 1Technical Papers/Registered Reportsat...</td>\n",
       "      <td>Tue 17 May</td>\n",
       "      <td>Stack Overflow has become an essential technic...</td>\n",
       "    </tr>\n",
       "  </tbody>\n",
       "</table>\n",
       "</div>"
      ],
      "text/plain": [
       "   paper_number   Time Duration  \\\n",
       "0             0  22:00       4m   \n",
       "1             1  22:04       4m   \n",
       "2             2  22:08       7m   \n",
       "\n",
       "                                               title Link  \\\n",
       "0  An Empirical Evaluation of GitHub Copilot’s Co...    #   \n",
       "1  Comments on Comments: Where Code Review and Do...    #   \n",
       "2  Does This Apply to Me? An Empirical Study of T...    #   \n",
       "\n",
       "                                             Authors  \\\n",
       "0                          [Nhan Nguyen, Sarah Nadi]   \n",
       "1  [Nikitha Rao, Jason Tsay, Martin Hirzel, Vince...   \n",
       "2  [Akalanka Galappaththi, Sarah Nadi, Christoph ...   \n",
       "\n",
       "                                             Session        Date  \\\n",
       "0  Session 1Technical Papers/Registered Reportsat...  Tue 17 May   \n",
       "1  Session 1Technical Papers/Registered Reportsat...  Tue 17 May   \n",
       "2  Session 1Technical Papers/Registered Reportsat...  Tue 17 May   \n",
       "\n",
       "                                            abstract  \n",
       "0  GitHub and OpenAI recently launched GitHub Cop...  \n",
       "1  An important function of code review is to inc...  \n",
       "2  Stack Overflow has become an essential technic...  "
      ]
     },
     "execution_count": 15,
     "metadata": {},
     "output_type": "execute_result"
    }
   ],
   "source": [
    "df_input_no_duplication.head(3)"
   ]
  },
  {
   "cell_type": "code",
   "execution_count": 16,
   "id": "f0fbda66-2ac8-4d35-84bf-66579ab0d306",
   "metadata": {},
   "outputs": [],
   "source": [
    "# !python3 -m spacy download en_core_web_sm"
   ]
  },
  {
   "cell_type": "code",
   "execution_count": 17,
   "id": "81d890ed-2efa-423f-bfe0-0160b3e17084",
   "metadata": {
    "tags": []
   },
   "outputs": [
    {
     "name": "stderr",
     "output_type": "stream",
     "text": [
      "[nltk_data] Downloading package punkt to /home/jupyter/nltk_data...\n",
      "[nltk_data]   Package punkt is already up-to-date!\n",
      "[nltk_data] Downloading package stopwords to\n",
      "[nltk_data]     /home/jupyter/nltk_data...\n",
      "[nltk_data]   Package stopwords is already up-to-date!\n",
      "[nltk_data] Downloading package wordnet to /home/jupyter/nltk_data...\n",
      "[nltk_data]   Package wordnet is already up-to-date!\n"
     ]
    }
   ],
   "source": [
    "from nltk.tokenize import word_tokenize\n",
    "from nltk.corpus import stopwords\n",
    "from nltk.stem import WordNetLemmatizer\n",
    "from sklearn.feature_extraction.text import TfidfVectorizer\n",
    "from sklearn.metrics.pairwise import cosine_similarity\n",
    "import nltk\n",
    "import spacy\n",
    "nltk.download('punkt')\n",
    "nltk.download('stopwords')\n",
    "nltk.download('wordnet')\n",
    "nlp = spacy.load(\"en_core_web_sm\")\n",
    "\n",
    "    \n",
    "def preprocess_text(text):\n",
    "    tokens = word_tokenize(text)\n",
    "    tokens = [word.lower() for word in tokens if word.isalnum()]\n",
    "    filtered_tokens = [word for word in tokens if word not in stopwords.words('english')]\n",
    "    # doc = nlp(\" \".join(filtered_tokens))\n",
    "    # technical_words = [token.text for token in doc if token.pos_ == \"NOUN\"]\n",
    "    lemmatizer = WordNetLemmatizer()\n",
    "    normalized_text = ' '.join([lemmatizer.lemmatize(token) for token in filtered_tokens])\n",
    "    return normalized_text\n",
    "\n",
    "def calculate_similarity(text1, text2):\n",
    "    processed_text1 = preprocess_text(text1)\n",
    "    processed_text2 = preprocess_text(text2)\n",
    "    \n",
    "    tfidf_vectorizer = TfidfVectorizer()\n",
    "    tfidf_matrix = tfidf_vectorizer.fit_transform([processed_text1, processed_text2])\n",
    "    \n",
    "    similarity = cosine_similarity(tfidf_matrix[0], tfidf_matrix[1])[0][0]\n",
    "    return similarity\n",
    "\n",
    "# Example text for two papers\n",
    "# paper_text1 = df_merged.iloc[0]['description']\n",
    "# paper_text2 = df.iloc[1]['description']\n",
    "\n",
    "# similarity_score = calculate_similarity(paper_text1, paper_text2)\n",
    "# print(\"Similarity Score:\", similarity_score)"
   ]
  },
  {
   "cell_type": "code",
   "execution_count": 42,
   "id": "314470c2-cfd7-4fb5-b587-ea44a4fee35a",
   "metadata": {
    "tags": []
   },
   "outputs": [],
   "source": [
    "df_tfidf_input = df_input_no_duplication.copy()\n",
    "df_tfidf_input['preprocessed_abstract'] = df_tfidf_input.abstract.apply(preprocess_text)"
   ]
  },
  {
   "cell_type": "code",
   "execution_count": 134,
   "id": "ddd80e77-3621-41c5-947e-313b2f8f9fad",
   "metadata": {
    "tags": []
   },
   "outputs": [
    {
     "data": {
      "text/plain": [
       "Index(['paper_number', 'Time', 'Duration', 'title', 'Link', 'Authors',\n",
       "       'Session', 'Date', 'abstract', 'preprocessed_abstract'],\n",
       "      dtype='object')"
      ]
     },
     "execution_count": 134,
     "metadata": {},
     "output_type": "execute_result"
    }
   ],
   "source": [
    "df_tfidf_input.columns"
   ]
  },
  {
   "cell_type": "code",
   "execution_count": 154,
   "id": "96d46ee2-e461-42fe-bfe6-f76c47071ab3",
   "metadata": {
    "tags": []
   },
   "outputs": [
    {
     "name": "stdout",
     "output_type": "stream",
     "text": [
      "vectorization done in 0.015 s\n",
      "n_samples: 117, n_features: 502\n"
     ]
    }
   ],
   "source": [
    "from sklearn.feature_extraction.text import TfidfVectorizer\n",
    "from collections import defaultdict\n",
    "from time import time\n",
    "\n",
    "from sklearn import metrics\n",
    "\n",
    "vectorizer = TfidfVectorizer(\n",
    "    max_df=0.5,\n",
    "    min_df=5,\n",
    "    stop_words=\"english\",\n",
    ")\n",
    "t0 = time()\n",
    "X_tfidf = vectorizer.fit_transform(df_tfidf_input['title'] + \" \" + df_tfidf_input['abstract'])\n",
    "\n",
    "print(f\"vectorization done in {time() - t0:.3f} s\")\n",
    "print(f\"n_samples: {X_tfidf.shape[0]}, n_features: {X_tfidf.shape[1]}\")"
   ]
  },
  {
   "cell_type": "code",
   "execution_count": 155,
   "id": "1dda7235-f5a8-4b3c-969b-2eb39a0a6252",
   "metadata": {
    "tags": []
   },
   "outputs": [
    {
     "data": {
      "text/plain": [
       "<1x502 sparse matrix of type '<class 'numpy.float64'>'\n",
       "\twith 37 stored elements in Compressed Sparse Row format>"
      ]
     },
     "execution_count": 155,
     "metadata": {},
     "output_type": "execute_result"
    }
   ],
   "source": [
    "X_tfidf[0]"
   ]
  },
  {
   "cell_type": "code",
   "execution_count": 156,
   "id": "af543470-77bb-4302-9037-c6d6e0b92640",
   "metadata": {
    "tags": []
   },
   "outputs": [
    {
     "name": "stdout",
     "output_type": "stream",
     "text": [
      "Number of elements assigned to each cluster: [34 20 27 22 14]\n",
      "completeness score: 0.2815845559290487\n",
      "homogeneity score: 0.15166431862779559\n",
      "Number of elements assigned to each cluster: [43 21 15 29  9]\n",
      "completeness score: 0.3349498336124785\n",
      "homogeneity score: 0.1706057174075869\n",
      "Number of elements assigned to each cluster: [15 45 16 15 26]\n",
      "completeness score: 0.34067971516855966\n",
      "homogeneity score: 0.1756256702238799\n",
      "Number of elements assigned to each cluster: [25 29 25 12 26]\n",
      "completeness score: 0.29586349729247186\n",
      "homogeneity score: 0.1598967588460001\n",
      "Number of elements assigned to each cluster: [15 28 46 20  8]\n",
      "completeness score: 0.3710156387851561\n",
      "homogeneity score: 0.18584223091115898\n"
     ]
    }
   ],
   "source": [
    "from sklearn.cluster import KMeans\n",
    "import numpy as np\n",
    "score_result = []\n",
    "for i in range(5):\n",
    "    kmeans = KMeans(\n",
    "        n_clusters=5,\n",
    "        max_iter=100,\n",
    "        n_init=1,\n",
    "        random_state=i,\n",
    "    ).fit(X_tfidf)\n",
    "    cluster_ids, cluster_sizes = np.unique(kmeans.labels_, return_counts=True)\n",
    "    completeness_score = metrics.completeness_score(df_tfidf_input['Session'], kmeans.labels_)\n",
    "    homegeneity_score = metrics.homogeneity_score(df_tfidf_input['Session'], kmeans.labels_)\n",
    "    score_result.append({\n",
    "        'iteration': i,\n",
    "        'completeness_score': completeness_score,\n",
    "        'homegeneity_score': homegeneity_score\n",
    "    })\n",
    "    \n",
    "    print(f\"Number of elements assigned to each cluster: {cluster_sizes}\")\n",
    "    print(f\"completeness score: {completeness_score}\")\n",
    "    print(f\"homogeneity score: {homegeneity_score}\") "
   ]
  },
  {
   "cell_type": "code",
   "execution_count": 157,
   "id": "723f9031-6348-409c-beb9-884615e59870",
   "metadata": {
    "tags": []
   },
   "outputs": [
    {
     "data": {
      "text/plain": [
       "iteration             2.000000\n",
       "completeness_score    0.324819\n",
       "homegeneity_score     0.168727\n",
       "dtype: float64"
      ]
     },
     "execution_count": 157,
     "metadata": {},
     "output_type": "execute_result"
    }
   ],
   "source": [
    "pd.DataFrame(score_result).mean()"
   ]
  },
  {
   "cell_type": "code",
   "execution_count": 158,
   "id": "44536dbe-2a21-4795-9c54-6224f0f0b3e4",
   "metadata": {
    "tags": []
   },
   "outputs": [
    {
     "name": "stdout",
     "output_type": "stream",
     "text": [
      "LSA done in 0.020 s\n",
      "Explained variance of the SVD step: 21.2%\n"
     ]
    }
   ],
   "source": [
    "from sklearn.decomposition import TruncatedSVD\n",
    "from sklearn.pipeline import make_pipeline\n",
    "from sklearn.preprocessing import Normalizer\n",
    "\n",
    "lsa = make_pipeline(TruncatedSVD(n_components=10), Normalizer(copy=False))\n",
    "t0 = time()\n",
    "X_lsa = lsa.fit_transform(X_tfidf)\n",
    "explained_variance = lsa[0].explained_variance_ratio_.sum()\n",
    "\n",
    "print(f\"LSA done in {time() - t0:.3f} s\")\n",
    "print(f\"Explained variance of the SVD step: {explained_variance * 100:.1f}%\")"
   ]
  },
  {
   "cell_type": "code",
   "execution_count": 159,
   "id": "7b74681d-e94c-4eeb-8bf8-39bc741ccce1",
   "metadata": {
    "tags": []
   },
   "outputs": [
    {
     "data": {
      "text/plain": [
       "19"
      ]
     },
     "execution_count": 159,
     "metadata": {},
     "output_type": "execute_result"
    }
   ],
   "source": [
    "df_tfidf_input['Session'].nunique()"
   ]
  },
  {
   "cell_type": "code",
   "execution_count": 160,
   "id": "a493c4c2-0a51-4459-9c7a-812f16c46c23",
   "metadata": {
    "tags": []
   },
   "outputs": [
    {
     "name": "stdout",
     "output_type": "stream",
     "text": [
      "Number of elements assigned to each cluster: [38 12 29 17 21]\n",
      "completeness score: 0.3463367085973266\n",
      "homogeneity score: 0.18242162770683176\n",
      "Number of elements assigned to each cluster: [32 23 14 29 19]\n",
      "completeness score: 0.4232906688922764\n",
      "homogeneity score: 0.2282193659457069\n",
      "Number of elements assigned to each cluster: [24 23 22 25 23]\n",
      "completeness score: 0.38071812166306357\n",
      "homogeneity score: 0.2103882957829479\n",
      "Number of elements assigned to each cluster: [21 21 28 22 25]\n",
      "completeness score: 0.3725703277862058\n",
      "homogeneity score: 0.20515753025676708\n",
      "Number of elements assigned to each cluster: [25 29 34 19 10]\n",
      "completeness score: 0.3370356410435383\n",
      "homogeneity score: 0.17832264599615777\n"
     ]
    }
   ],
   "source": [
    "from sklearn.cluster import KMeans\n",
    "import numpy as np\n",
    "score_result = []\n",
    "for i in range(5):\n",
    "    kmeans = KMeans(\n",
    "        n_clusters=5,\n",
    "        max_iter=100,\n",
    "        n_init=1,\n",
    "        random_state=i,\n",
    "    ).fit(X_lsa)\n",
    "    cluster_ids, cluster_sizes = np.unique(kmeans.labels_, return_counts=True)\n",
    "    completeness_score = metrics.completeness_score(df_tfidf_input['Session'], kmeans.labels_)\n",
    "    homegeneity_score = metrics.homogeneity_score(df_tfidf_input['Session'], kmeans.labels_)\n",
    "    \n",
    "    score_result.append({\n",
    "        'iteration': i,\n",
    "        'completeness_score': completeness_score,\n",
    "        'homegeneity_score': homegeneity_score\n",
    "    })\n",
    "    \n",
    "    print(f\"Number of elements assigned to each cluster: {cluster_sizes}\")\n",
    "    print(f\"completeness score: {completeness_score}\")\n",
    "    print(f\"homogeneity score: {homegeneity_score}\")    "
   ]
  },
  {
   "cell_type": "code",
   "execution_count": 161,
   "id": "10fd0b24-1e42-40f9-9311-7bf8724b0938",
   "metadata": {
    "tags": []
   },
   "outputs": [
    {
     "data": {
      "text/plain": [
       "iteration             2.000000\n",
       "completeness_score    0.371990\n",
       "homegeneity_score     0.200902\n",
       "dtype: float64"
      ]
     },
     "execution_count": 161,
     "metadata": {},
     "output_type": "execute_result"
    }
   ],
   "source": [
    "pd.DataFrame(score_result).mean()"
   ]
  },
  {
   "cell_type": "code",
   "execution_count": 50,
   "id": "8d0148b1-cb36-42eb-ab36-fb7ca4442aad",
   "metadata": {
    "tags": []
   },
   "outputs": [],
   "source": [
    "kmeans = KMeans(\n",
    "        n_clusters=5,\n",
    "        max_iter=100,\n",
    "        n_init=1,\n",
    "        random_state=1,\n",
    "    ).fit(X_lsa)\n",
    "cluster_ids, cluster_sizes = np.unique(kmeans.labels_, return_counts=True)"
   ]
  },
  {
   "cell_type": "code",
   "execution_count": 51,
   "id": "e862206f-d1c3-4946-b629-c62c0d20416a",
   "metadata": {
    "tags": []
   },
   "outputs": [],
   "source": [
    "df_tfidf_output = df_tfidf_input.copy()\n",
    "df_tfidf_output['cluster'] = kmeans.labels_"
   ]
  },
  {
   "cell_type": "code",
   "execution_count": 53,
   "id": "75aea453-a1de-47df-b629-af5648d36fc3",
   "metadata": {
    "tags": []
   },
   "outputs": [
    {
     "data": {
      "text/plain": [
       "0.37183301417743797"
      ]
     },
     "execution_count": 53,
     "metadata": {},
     "output_type": "execute_result"
    }
   ],
   "source": [
    "metrics.completeness_score(df_tfidf_output['Session'], df_tfidf_output['cluster'])"
   ]
  },
  {
   "cell_type": "code",
   "execution_count": 96,
   "id": "ea3ac950-d2dc-4325-8ce6-d556c336d5a7",
   "metadata": {
    "tags": []
   },
   "outputs": [
    {
     "data": {
      "text/html": [
       "<div>\n",
       "<style scoped>\n",
       "    .dataframe tbody tr th:only-of-type {\n",
       "        vertical-align: middle;\n",
       "    }\n",
       "\n",
       "    .dataframe tbody tr th {\n",
       "        vertical-align: top;\n",
       "    }\n",
       "\n",
       "    .dataframe thead th {\n",
       "        text-align: right;\n",
       "    }\n",
       "</style>\n",
       "<table border=\"1\" class=\"dataframe\">\n",
       "  <thead>\n",
       "    <tr style=\"text-align: right;\">\n",
       "      <th></th>\n",
       "      <th>session</th>\n",
       "      <th>date</th>\n",
       "      <th>start_time</th>\n",
       "      <th>end_time</th>\n",
       "      <th>duration</th>\n",
       "      <th>title</th>\n",
       "      <th>authors</th>\n",
       "      <th>cluster</th>\n",
       "    </tr>\n",
       "  </thead>\n",
       "  <tbody>\n",
       "    <tr>\n",
       "      <th>0</th>\n",
       "      <td>Session 1Technical Papers/Registered Reportsat...</td>\n",
       "      <td>Tue 17 May</td>\n",
       "      <td>2022-05-17 22:00:00</td>\n",
       "      <td>2022-05-17 22:04:00</td>\n",
       "      <td>4</td>\n",
       "      <td>An Empirical Evaluation of GitHub Copilot’s Co...</td>\n",
       "      <td>[Nhan Nguyen, Sarah Nadi]</td>\n",
       "      <td>1</td>\n",
       "    </tr>\n",
       "    <tr>\n",
       "      <th>1</th>\n",
       "      <td>Session 1Technical Papers/Registered Reportsat...</td>\n",
       "      <td>Tue 17 May</td>\n",
       "      <td>2022-05-17 22:04:00</td>\n",
       "      <td>2022-05-17 22:08:00</td>\n",
       "      <td>4</td>\n",
       "      <td>Comments on Comments: Where Code Review and Do...</td>\n",
       "      <td>[Nikitha Rao, Jason Tsay, Martin Hirzel, Vince...</td>\n",
       "      <td>2</td>\n",
       "    </tr>\n",
       "    <tr>\n",
       "      <th>2</th>\n",
       "      <td>Session 1Technical Papers/Registered Reportsat...</td>\n",
       "      <td>Tue 17 May</td>\n",
       "      <td>2022-05-17 22:08:00</td>\n",
       "      <td>2022-05-17 22:15:00</td>\n",
       "      <td>7</td>\n",
       "      <td>Does This Apply to Me? An Empirical Study of T...</td>\n",
       "      <td>[Akalanka Galappaththi, Sarah Nadi, Christoph ...</td>\n",
       "      <td>1</td>\n",
       "    </tr>\n",
       "    <tr>\n",
       "      <th>3</th>\n",
       "      <td>Session 1Technical Papers/Registered Reportsat...</td>\n",
       "      <td>Tue 17 May</td>\n",
       "      <td>2022-05-17 22:15:00</td>\n",
       "      <td>2022-05-17 22:22:00</td>\n",
       "      <td>7</td>\n",
       "      <td>Towards Reliable Agile Iterative Planning via ...</td>\n",
       "      <td>[Jirat Pasuksmit, Patanamon Thongtanunam, Shan...</td>\n",
       "      <td>2</td>\n",
       "    </tr>\n",
       "    <tr>\n",
       "      <th>4</th>\n",
       "      <td>Session 1Technical Papers/Registered Reportsat...</td>\n",
       "      <td>Tue 17 May</td>\n",
       "      <td>2022-05-17 22:22:00</td>\n",
       "      <td>2022-05-17 22:29:00</td>\n",
       "      <td>7</td>\n",
       "      <td>BotHunter: An Approach to Detect Software Bots...</td>\n",
       "      <td>[Ahmad Abdellatif, Mairieli Wessel, Igor Stein...</td>\n",
       "      <td>3</td>\n",
       "    </tr>\n",
       "  </tbody>\n",
       "</table>\n",
       "</div>"
      ],
      "text/plain": [
       "                                             session        date  \\\n",
       "0  Session 1Technical Papers/Registered Reportsat...  Tue 17 May   \n",
       "1  Session 1Technical Papers/Registered Reportsat...  Tue 17 May   \n",
       "2  Session 1Technical Papers/Registered Reportsat...  Tue 17 May   \n",
       "3  Session 1Technical Papers/Registered Reportsat...  Tue 17 May   \n",
       "4  Session 1Technical Papers/Registered Reportsat...  Tue 17 May   \n",
       "\n",
       "           start_time            end_time  duration  \\\n",
       "0 2022-05-17 22:00:00 2022-05-17 22:04:00         4   \n",
       "1 2022-05-17 22:04:00 2022-05-17 22:08:00         4   \n",
       "2 2022-05-17 22:08:00 2022-05-17 22:15:00         7   \n",
       "3 2022-05-17 22:15:00 2022-05-17 22:22:00         7   \n",
       "4 2022-05-17 22:22:00 2022-05-17 22:29:00         7   \n",
       "\n",
       "                                               title  \\\n",
       "0  An Empirical Evaluation of GitHub Copilot’s Co...   \n",
       "1  Comments on Comments: Where Code Review and Do...   \n",
       "2  Does This Apply to Me? An Empirical Study of T...   \n",
       "3  Towards Reliable Agile Iterative Planning via ...   \n",
       "4  BotHunter: An Approach to Detect Software Bots...   \n",
       "\n",
       "                                             authors  cluster  \n",
       "0                          [Nhan Nguyen, Sarah Nadi]        1  \n",
       "1  [Nikitha Rao, Jason Tsay, Martin Hirzel, Vince...        2  \n",
       "2  [Akalanka Galappaththi, Sarah Nadi, Christoph ...        1  \n",
       "3  [Jirat Pasuksmit, Patanamon Thongtanunam, Shan...        2  \n",
       "4  [Ahmad Abdellatif, Mairieli Wessel, Igor Stein...        3  "
      ]
     },
     "execution_count": 96,
     "metadata": {},
     "output_type": "execute_result"
    }
   ],
   "source": [
    "df = df_tfidf_output.copy()\n",
    "\n",
    "df.columns = [col.lower().replace(' ', '_') for col in df.columns]\n",
    "df = df[['date'] + [col for col in df.columns if col != 'date']]\n",
    "df['start_time'] = pd.to_datetime(\"2022 \" + df['date'] + ' ' + df['time'], format='%Y %a %d %b %H:%M')\n",
    "df['duration'] = df['duration'].str.extract('(\\d+)').astype(int)  # Extract duration in minutes\n",
    "df['end_time'] = df['start_time'] + pd.to_timedelta(df['duration'], unit='m')\n",
    "\n",
    "# Delete the Link column\n",
    "df = df.drop(['link', 'time'], axis=1)\n",
    "\n",
    "# Move Authors column to the last position\n",
    "df = df[[col for col in df.columns if col != 'authors'] + ['authors']]\n",
    "\n",
    "df = df[['session', 'date', 'start_time', 'end_time', 'duration', 'title', 'authors', 'cluster']]\n",
    "\n",
    "# Display the final data frame\n",
    "df.head()"
   ]
  },
  {
   "cell_type": "code",
   "execution_count": 97,
   "id": "608dcdee-b797-491a-bc5c-7b0cf8ffc3bf",
   "metadata": {
    "tags": []
   },
   "outputs": [
    {
     "data": {
      "text/plain": [
       "date\n",
       "Wed 18 May    47\n",
       "Thu 19 May    38\n",
       "Fri 20 May    26\n",
       "Tue 17 May     6\n",
       "Name: count, dtype: int64"
      ]
     },
     "execution_count": 97,
     "metadata": {},
     "output_type": "execute_result"
    }
   ],
   "source": [
    "df.date.value_counts()"
   ]
  },
  {
   "cell_type": "code",
   "execution_count": 98,
   "id": "ac02be14-45eb-4931-af5e-bd9359e8b6bb",
   "metadata": {
    "tags": []
   },
   "outputs": [],
   "source": [
    "# df = df[df.date == 'Fri 20 May']"
   ]
  },
  {
   "cell_type": "code",
   "execution_count": 99,
   "id": "87444cec-afcb-45ce-b696-6ff783982fbb",
   "metadata": {
    "tags": []
   },
   "outputs": [
    {
     "data": {
      "text/html": [
       "<div>\n",
       "<style scoped>\n",
       "    .dataframe tbody tr th:only-of-type {\n",
       "        vertical-align: middle;\n",
       "    }\n",
       "\n",
       "    .dataframe tbody tr th {\n",
       "        vertical-align: top;\n",
       "    }\n",
       "\n",
       "    .dataframe thead th {\n",
       "        text-align: right;\n",
       "    }\n",
       "</style>\n",
       "<table border=\"1\" class=\"dataframe\">\n",
       "  <thead>\n",
       "    <tr style=\"text-align: right;\">\n",
       "      <th></th>\n",
       "      <th>session</th>\n",
       "      <th>date</th>\n",
       "      <th>start_time</th>\n",
       "      <th>end_time</th>\n",
       "      <th>duration</th>\n",
       "      <th>title</th>\n",
       "      <th>authors</th>\n",
       "      <th>cluster</th>\n",
       "    </tr>\n",
       "  </thead>\n",
       "  <tbody>\n",
       "    <tr>\n",
       "      <th>0</th>\n",
       "      <td>Session 1Technical Papers/Registered Reportsat...</td>\n",
       "      <td>Tue 17 May</td>\n",
       "      <td>2022-05-17 22:00:00</td>\n",
       "      <td>2022-05-17 22:04:00</td>\n",
       "      <td>4</td>\n",
       "      <td>An Empirical Evaluation of GitHub Copilot’s Co...</td>\n",
       "      <td>[Nhan Nguyen, Sarah Nadi]</td>\n",
       "      <td>1</td>\n",
       "    </tr>\n",
       "    <tr>\n",
       "      <th>1</th>\n",
       "      <td>Session 1Technical Papers/Registered Reportsat...</td>\n",
       "      <td>Tue 17 May</td>\n",
       "      <td>2022-05-17 22:04:00</td>\n",
       "      <td>2022-05-17 22:08:00</td>\n",
       "      <td>4</td>\n",
       "      <td>Comments on Comments: Where Code Review and Do...</td>\n",
       "      <td>[Nikitha Rao, Jason Tsay, Martin Hirzel, Vince...</td>\n",
       "      <td>2</td>\n",
       "    </tr>\n",
       "    <tr>\n",
       "      <th>2</th>\n",
       "      <td>Session 1Technical Papers/Registered Reportsat...</td>\n",
       "      <td>Tue 17 May</td>\n",
       "      <td>2022-05-17 22:08:00</td>\n",
       "      <td>2022-05-17 22:15:00</td>\n",
       "      <td>7</td>\n",
       "      <td>Does This Apply to Me? An Empirical Study of T...</td>\n",
       "      <td>[Akalanka Galappaththi, Sarah Nadi, Christoph ...</td>\n",
       "      <td>1</td>\n",
       "    </tr>\n",
       "    <tr>\n",
       "      <th>3</th>\n",
       "      <td>Session 1Technical Papers/Registered Reportsat...</td>\n",
       "      <td>Tue 17 May</td>\n",
       "      <td>2022-05-17 22:15:00</td>\n",
       "      <td>2022-05-17 22:22:00</td>\n",
       "      <td>7</td>\n",
       "      <td>Towards Reliable Agile Iterative Planning via ...</td>\n",
       "      <td>[Jirat Pasuksmit, Patanamon Thongtanunam, Shan...</td>\n",
       "      <td>2</td>\n",
       "    </tr>\n",
       "    <tr>\n",
       "      <th>4</th>\n",
       "      <td>Session 1Technical Papers/Registered Reportsat...</td>\n",
       "      <td>Tue 17 May</td>\n",
       "      <td>2022-05-17 22:22:00</td>\n",
       "      <td>2022-05-17 22:29:00</td>\n",
       "      <td>7</td>\n",
       "      <td>BotHunter: An Approach to Detect Software Bots...</td>\n",
       "      <td>[Ahmad Abdellatif, Mairieli Wessel, Igor Stein...</td>\n",
       "      <td>3</td>\n",
       "    </tr>\n",
       "    <tr>\n",
       "      <th>...</th>\n",
       "      <td>...</td>\n",
       "      <td>...</td>\n",
       "      <td>...</td>\n",
       "      <td>...</td>\n",
       "      <td>...</td>\n",
       "      <td>...</td>\n",
       "      <td>...</td>\n",
       "      <td>...</td>\n",
       "    </tr>\n",
       "    <tr>\n",
       "      <th>112</th>\n",
       "      <td>Session 16: Non-functional Properties (Availab...</td>\n",
       "      <td>Fri 20 May</td>\n",
       "      <td>2022-05-20 14:07:00</td>\n",
       "      <td>2022-05-20 14:11:00</td>\n",
       "      <td>4</td>\n",
       "      <td>A Large-scale Dataset of (Open Source) License...</td>\n",
       "      <td>[Stefano Zacchiroli]</td>\n",
       "      <td>4</td>\n",
       "    </tr>\n",
       "    <tr>\n",
       "      <th>113</th>\n",
       "      <td>Session 16: Non-functional Properties (Availab...</td>\n",
       "      <td>Fri 20 May</td>\n",
       "      <td>2022-05-20 14:11:00</td>\n",
       "      <td>2022-05-20 14:18:00</td>\n",
       "      <td>7</td>\n",
       "      <td>SECOM: Towards a convention for security commi...</td>\n",
       "      <td>[Sofia Reis, Rui Abreu, Hakan Erdogmus, Corina...</td>\n",
       "      <td>3</td>\n",
       "    </tr>\n",
       "    <tr>\n",
       "      <th>114</th>\n",
       "      <td>Session 16: Non-functional Properties (Availab...</td>\n",
       "      <td>Fri 20 May</td>\n",
       "      <td>2022-05-20 14:18:00</td>\n",
       "      <td>2022-05-20 14:25:00</td>\n",
       "      <td>7</td>\n",
       "      <td>Varangian: A Git Bot for Augmented Static Anal...</td>\n",
       "      <td>[Saurabh Pujar, Yunhui Zheng, Luca Buratti, Bu...</td>\n",
       "      <td>3</td>\n",
       "    </tr>\n",
       "    <tr>\n",
       "      <th>115</th>\n",
       "      <td>Session 16: Non-functional Properties (Availab...</td>\n",
       "      <td>Fri 20 May</td>\n",
       "      <td>2022-05-20 14:32:00</td>\n",
       "      <td>2022-05-20 14:36:00</td>\n",
       "      <td>4</td>\n",
       "      <td>Is GitHub's Copilot as Bad As Humans at Introd...</td>\n",
       "      <td>[Owura Asare, Mei Nagappan, N. Asokan]</td>\n",
       "      <td>3</td>\n",
       "    </tr>\n",
       "    <tr>\n",
       "      <th>116</th>\n",
       "      <td>Session 16: Non-functional Properties (Availab...</td>\n",
       "      <td>Fri 20 May</td>\n",
       "      <td>2022-05-20 14:36:00</td>\n",
       "      <td>2022-05-20 14:43:00</td>\n",
       "      <td>7</td>\n",
       "      <td>Finding the Fun in Fundraising: Public Issues ...</td>\n",
       "      <td>[Kevin Xu]</td>\n",
       "      <td>0</td>\n",
       "    </tr>\n",
       "  </tbody>\n",
       "</table>\n",
       "<p>117 rows × 8 columns</p>\n",
       "</div>"
      ],
      "text/plain": [
       "                                               session        date  \\\n",
       "0    Session 1Technical Papers/Registered Reportsat...  Tue 17 May   \n",
       "1    Session 1Technical Papers/Registered Reportsat...  Tue 17 May   \n",
       "2    Session 1Technical Papers/Registered Reportsat...  Tue 17 May   \n",
       "3    Session 1Technical Papers/Registered Reportsat...  Tue 17 May   \n",
       "4    Session 1Technical Papers/Registered Reportsat...  Tue 17 May   \n",
       "..                                                 ...         ...   \n",
       "112  Session 16: Non-functional Properties (Availab...  Fri 20 May   \n",
       "113  Session 16: Non-functional Properties (Availab...  Fri 20 May   \n",
       "114  Session 16: Non-functional Properties (Availab...  Fri 20 May   \n",
       "115  Session 16: Non-functional Properties (Availab...  Fri 20 May   \n",
       "116  Session 16: Non-functional Properties (Availab...  Fri 20 May   \n",
       "\n",
       "             start_time            end_time  duration  \\\n",
       "0   2022-05-17 22:00:00 2022-05-17 22:04:00         4   \n",
       "1   2022-05-17 22:04:00 2022-05-17 22:08:00         4   \n",
       "2   2022-05-17 22:08:00 2022-05-17 22:15:00         7   \n",
       "3   2022-05-17 22:15:00 2022-05-17 22:22:00         7   \n",
       "4   2022-05-17 22:22:00 2022-05-17 22:29:00         7   \n",
       "..                  ...                 ...       ...   \n",
       "112 2022-05-20 14:07:00 2022-05-20 14:11:00         4   \n",
       "113 2022-05-20 14:11:00 2022-05-20 14:18:00         7   \n",
       "114 2022-05-20 14:18:00 2022-05-20 14:25:00         7   \n",
       "115 2022-05-20 14:32:00 2022-05-20 14:36:00         4   \n",
       "116 2022-05-20 14:36:00 2022-05-20 14:43:00         7   \n",
       "\n",
       "                                                 title  \\\n",
       "0    An Empirical Evaluation of GitHub Copilot’s Co...   \n",
       "1    Comments on Comments: Where Code Review and Do...   \n",
       "2    Does This Apply to Me? An Empirical Study of T...   \n",
       "3    Towards Reliable Agile Iterative Planning via ...   \n",
       "4    BotHunter: An Approach to Detect Software Bots...   \n",
       "..                                                 ...   \n",
       "112  A Large-scale Dataset of (Open Source) License...   \n",
       "113  SECOM: Towards a convention for security commi...   \n",
       "114  Varangian: A Git Bot for Augmented Static Anal...   \n",
       "115  Is GitHub's Copilot as Bad As Humans at Introd...   \n",
       "116  Finding the Fun in Fundraising: Public Issues ...   \n",
       "\n",
       "                                               authors  cluster  \n",
       "0                            [Nhan Nguyen, Sarah Nadi]        1  \n",
       "1    [Nikitha Rao, Jason Tsay, Martin Hirzel, Vince...        2  \n",
       "2    [Akalanka Galappaththi, Sarah Nadi, Christoph ...        1  \n",
       "3    [Jirat Pasuksmit, Patanamon Thongtanunam, Shan...        2  \n",
       "4    [Ahmad Abdellatif, Mairieli Wessel, Igor Stein...        3  \n",
       "..                                                 ...      ...  \n",
       "112                               [Stefano Zacchiroli]        4  \n",
       "113  [Sofia Reis, Rui Abreu, Hakan Erdogmus, Corina...        3  \n",
       "114  [Saurabh Pujar, Yunhui Zheng, Luca Buratti, Bu...        3  \n",
       "115             [Owura Asare, Mei Nagappan, N. Asokan]        3  \n",
       "116                                         [Kevin Xu]        0  \n",
       "\n",
       "[117 rows x 8 columns]"
      ]
     },
     "execution_count": 99,
     "metadata": {},
     "output_type": "execute_result"
    }
   ],
   "source": [
    "df"
   ]
  },
  {
   "cell_type": "code",
   "execution_count": 100,
   "id": "6217841a-4d63-40e2-b04d-4d589f88b527",
   "metadata": {
    "tags": []
   },
   "outputs": [
    {
     "data": {
      "text/html": [
       "<div>\n",
       "<style scoped>\n",
       "    .dataframe tbody tr th:only-of-type {\n",
       "        vertical-align: middle;\n",
       "    }\n",
       "\n",
       "    .dataframe tbody tr th {\n",
       "        vertical-align: top;\n",
       "    }\n",
       "\n",
       "    .dataframe thead th {\n",
       "        text-align: right;\n",
       "    }\n",
       "</style>\n",
       "<table border=\"1\" class=\"dataframe\">\n",
       "  <thead>\n",
       "    <tr style=\"text-align: right;\">\n",
       "      <th></th>\n",
       "      <th>session</th>\n",
       "      <th>date</th>\n",
       "      <th>start_time</th>\n",
       "      <th>end_time</th>\n",
       "      <th>duration</th>\n",
       "      <th>title</th>\n",
       "      <th>authors</th>\n",
       "      <th>cluster</th>\n",
       "    </tr>\n",
       "  </thead>\n",
       "  <tbody>\n",
       "    <tr>\n",
       "      <th>0</th>\n",
       "      <td>Session 1Technical Papers/Registered Reportsat...</td>\n",
       "      <td>Tue 17 May</td>\n",
       "      <td>27547080</td>\n",
       "      <td>27547084</td>\n",
       "      <td>4</td>\n",
       "      <td>An Empirical Evaluation of GitHub Copilot’s Co...</td>\n",
       "      <td>[Nhan Nguyen, Sarah Nadi]</td>\n",
       "      <td>1</td>\n",
       "    </tr>\n",
       "    <tr>\n",
       "      <th>1</th>\n",
       "      <td>Session 1Technical Papers/Registered Reportsat...</td>\n",
       "      <td>Tue 17 May</td>\n",
       "      <td>27547084</td>\n",
       "      <td>27547088</td>\n",
       "      <td>4</td>\n",
       "      <td>Comments on Comments: Where Code Review and Do...</td>\n",
       "      <td>[Nikitha Rao, Jason Tsay, Martin Hirzel, Vince...</td>\n",
       "      <td>2</td>\n",
       "    </tr>\n",
       "    <tr>\n",
       "      <th>2</th>\n",
       "      <td>Session 1Technical Papers/Registered Reportsat...</td>\n",
       "      <td>Tue 17 May</td>\n",
       "      <td>27547088</td>\n",
       "      <td>27547095</td>\n",
       "      <td>7</td>\n",
       "      <td>Does This Apply to Me? An Empirical Study of T...</td>\n",
       "      <td>[Akalanka Galappaththi, Sarah Nadi, Christoph ...</td>\n",
       "      <td>1</td>\n",
       "    </tr>\n",
       "    <tr>\n",
       "      <th>3</th>\n",
       "      <td>Session 1Technical Papers/Registered Reportsat...</td>\n",
       "      <td>Tue 17 May</td>\n",
       "      <td>27547095</td>\n",
       "      <td>27547102</td>\n",
       "      <td>7</td>\n",
       "      <td>Towards Reliable Agile Iterative Planning via ...</td>\n",
       "      <td>[Jirat Pasuksmit, Patanamon Thongtanunam, Shan...</td>\n",
       "      <td>2</td>\n",
       "    </tr>\n",
       "    <tr>\n",
       "      <th>4</th>\n",
       "      <td>Session 1Technical Papers/Registered Reportsat...</td>\n",
       "      <td>Tue 17 May</td>\n",
       "      <td>27547102</td>\n",
       "      <td>27547109</td>\n",
       "      <td>7</td>\n",
       "      <td>BotHunter: An Approach to Detect Software Bots...</td>\n",
       "      <td>[Ahmad Abdellatif, Mairieli Wessel, Igor Stein...</td>\n",
       "      <td>3</td>\n",
       "    </tr>\n",
       "  </tbody>\n",
       "</table>\n",
       "</div>"
      ],
      "text/plain": [
       "                                             session        date  start_time  \\\n",
       "0  Session 1Technical Papers/Registered Reportsat...  Tue 17 May    27547080   \n",
       "1  Session 1Technical Papers/Registered Reportsat...  Tue 17 May    27547084   \n",
       "2  Session 1Technical Papers/Registered Reportsat...  Tue 17 May    27547088   \n",
       "3  Session 1Technical Papers/Registered Reportsat...  Tue 17 May    27547095   \n",
       "4  Session 1Technical Papers/Registered Reportsat...  Tue 17 May    27547102   \n",
       "\n",
       "   end_time  duration                                              title  \\\n",
       "0  27547084         4  An Empirical Evaluation of GitHub Copilot’s Co...   \n",
       "1  27547088         4  Comments on Comments: Where Code Review and Do...   \n",
       "2  27547095         7  Does This Apply to Me? An Empirical Study of T...   \n",
       "3  27547102         7  Towards Reliable Agile Iterative Planning via ...   \n",
       "4  27547109         7  BotHunter: An Approach to Detect Software Bots...   \n",
       "\n",
       "                                             authors  cluster  \n",
       "0                          [Nhan Nguyen, Sarah Nadi]        1  \n",
       "1  [Nikitha Rao, Jason Tsay, Martin Hirzel, Vince...        2  \n",
       "2  [Akalanka Galappaththi, Sarah Nadi, Christoph ...        1  \n",
       "3  [Jirat Pasuksmit, Patanamon Thongtanunam, Shan...        2  \n",
       "4  [Ahmad Abdellatif, Mairieli Wessel, Igor Stein...        3  "
      ]
     },
     "execution_count": 100,
     "metadata": {},
     "output_type": "execute_result"
    }
   ],
   "source": [
    "df['start_time'] = pd.to_datetime(df['start_time']).astype(int) // 10**9 // 60\n",
    "df['end_time'] = pd.to_datetime(df['end_time']).astype(int) // 10**9 // 60\n",
    "\n",
    "df.head()"
   ]
  },
  {
   "cell_type": "code",
   "execution_count": 101,
   "id": "142cd710-2c3b-4c7d-917e-2af0dd66ac32",
   "metadata": {
    "tags": []
   },
   "outputs": [
    {
     "data": {
      "text/plain": [
       "session       object\n",
       "date          object\n",
       "start_time     int64\n",
       "end_time       int64\n",
       "duration       int64\n",
       "title         object\n",
       "authors       object\n",
       "cluster        int32\n",
       "dtype: object"
      ]
     },
     "execution_count": 101,
     "metadata": {},
     "output_type": "execute_result"
    }
   ],
   "source": [
    "df.dtypes"
   ]
  },
  {
   "cell_type": "code",
   "execution_count": 102,
   "id": "2cc945bd-60ef-48dd-983c-c487f194d737",
   "metadata": {
    "tags": []
   },
   "outputs": [
    {
     "name": "stdout",
     "output_type": "stream",
     "text": [
      "19\n"
     ]
    },
    {
     "data": {
      "text/plain": [
       "array(['Session 1Technical Papers/Registered ReportsatMSR Main room - even hoursChair(s):Hongyu ZhangUniversity of Newcastle,Masud RahmanDalhousie University',\n",
       "       'Session 2: Maintenance (Issues & Smells)Technical Papers/Registered Reports/Data and Tool Showcase Track/Industry TrackatMSR Main room - odd hoursChair(s):Alessio FerrariCNR-ISTI',\n",
       "       'Session 3: Introspection, Vision, and Human AspectsTechnical Papers/Data and Tool Showcase Track/Industry Track/Registered ReportsatMSR Main room - odd hoursChair(s):Alexander SerebrenikEindhoven University of Technology,Sebastian BaltesSAP SE & University of Adelaide'],\n",
       "      dtype=object)"
      ]
     },
     "execution_count": 102,
     "metadata": {},
     "output_type": "execute_result"
    }
   ],
   "source": [
    "print(df[\"session\"].nunique())\n",
    "df[\"session\"].unique()[:3]"
   ]
  },
  {
   "cell_type": "code",
   "execution_count": 103,
   "id": "f042e0b1-bee7-4e56-bb6a-641fbb84b0aa",
   "metadata": {
    "tags": []
   },
   "outputs": [],
   "source": [
    "# df[df[\"session\"]=='Session 1Technical Papers/Registered ReportsatMSR Main room - even hoursChair(s):Hongyu ZhangUniversity of Newcastle,Masud RahmanDalhousie University']"
   ]
  },
  {
   "cell_type": "code",
   "execution_count": 104,
   "id": "e83cae9a-e13b-409e-9f00-d4949998db75",
   "metadata": {
    "tags": []
   },
   "outputs": [
    {
     "data": {
      "text/html": [
       "<div>\n",
       "<style scoped>\n",
       "    .dataframe tbody tr th:only-of-type {\n",
       "        vertical-align: middle;\n",
       "    }\n",
       "\n",
       "    .dataframe tbody tr th {\n",
       "        vertical-align: top;\n",
       "    }\n",
       "\n",
       "    .dataframe thead th {\n",
       "        text-align: right;\n",
       "    }\n",
       "</style>\n",
       "<table border=\"1\" class=\"dataframe\">\n",
       "  <thead>\n",
       "    <tr style=\"text-align: right;\">\n",
       "      <th></th>\n",
       "      <th>date</th>\n",
       "      <th>total_duration</th>\n",
       "    </tr>\n",
       "  </thead>\n",
       "  <tbody>\n",
       "    <tr>\n",
       "      <th>0</th>\n",
       "      <td>Fri 20 May</td>\n",
       "      <td>140</td>\n",
       "    </tr>\n",
       "    <tr>\n",
       "      <th>1</th>\n",
       "      <td>Thu 19 May</td>\n",
       "      <td>212</td>\n",
       "    </tr>\n",
       "    <tr>\n",
       "      <th>2</th>\n",
       "      <td>Tue 17 May</td>\n",
       "      <td>36</td>\n",
       "    </tr>\n",
       "    <tr>\n",
       "      <th>3</th>\n",
       "      <td>Wed 18 May</td>\n",
       "      <td>252</td>\n",
       "    </tr>\n",
       "  </tbody>\n",
       "</table>\n",
       "</div>"
      ],
      "text/plain": [
       "         date  total_duration\n",
       "0  Fri 20 May             140\n",
       "1  Thu 19 May             212\n",
       "2  Tue 17 May              36\n",
       "3  Wed 18 May             252"
      ]
     },
     "execution_count": 104,
     "metadata": {},
     "output_type": "execute_result"
    }
   ],
   "source": [
    "def merge_intervals(intervals):\n",
    "    if not intervals:\n",
    "        return 0\n",
    "    \n",
    "    # Sort intervals by the start time\n",
    "    intervals.sort(key=lambda x: x[0])\n",
    "    \n",
    "    merged = [intervals[0]]\n",
    "    for current_start, current_end in intervals[1:]:\n",
    "        last_end = merged[-1][1]\n",
    "        \n",
    "        if current_start <= last_end:\n",
    "            # There's an overlap, extend the previous interval\n",
    "            merged[-1] = (merged[-1][0], max(last_end, current_end))\n",
    "        else:\n",
    "            # No overlap, add this interval as is\n",
    "            merged.append((current_start, current_end))\n",
    "    \n",
    "    # Compute total duration in minutes (or another unit as desired)\n",
    "    total_duration_minutes = sum((end - start) for start, end in merged)   # convert seconds to minutes\n",
    "    return total_duration_minutes\n",
    "\n",
    "total_durations = []\n",
    "\n",
    "for date, group in df.groupby('date'):\n",
    "    intervals = list(zip(group['start_time'], group['end_time']))\n",
    "    total_duration = merge_intervals(intervals)\n",
    "    total_durations.append({'date': date, 'total_duration': total_duration})\n",
    "\n",
    "# Converting the result into a DataFrame\n",
    "total_duration_df = pd.DataFrame(total_durations)\n",
    "\n",
    "total_duration_df"
   ]
  },
  {
   "cell_type": "code",
   "execution_count": 105,
   "id": "b6d109ce-d4ce-4899-819f-87680a9c6ef9",
   "metadata": {
    "tags": []
   },
   "outputs": [
    {
     "data": {
      "text/html": [
       "<div>\n",
       "<style scoped>\n",
       "    .dataframe tbody tr th:only-of-type {\n",
       "        vertical-align: middle;\n",
       "    }\n",
       "\n",
       "    .dataframe tbody tr th {\n",
       "        vertical-align: top;\n",
       "    }\n",
       "\n",
       "    .dataframe thead th {\n",
       "        text-align: right;\n",
       "    }\n",
       "</style>\n",
       "<table border=\"1\" class=\"dataframe\">\n",
       "  <thead>\n",
       "    <tr style=\"text-align: right;\">\n",
       "      <th></th>\n",
       "      <th>date</th>\n",
       "      <th>duration</th>\n",
       "    </tr>\n",
       "  </thead>\n",
       "  <tbody>\n",
       "    <tr>\n",
       "      <th>0</th>\n",
       "      <td>Fri 20 May</td>\n",
       "      <td>140</td>\n",
       "    </tr>\n",
       "    <tr>\n",
       "      <th>1</th>\n",
       "      <td>Thu 19 May</td>\n",
       "      <td>212</td>\n",
       "    </tr>\n",
       "    <tr>\n",
       "      <th>2</th>\n",
       "      <td>Tue 17 May</td>\n",
       "      <td>36</td>\n",
       "    </tr>\n",
       "    <tr>\n",
       "      <th>3</th>\n",
       "      <td>Wed 18 May</td>\n",
       "      <td>288</td>\n",
       "    </tr>\n",
       "  </tbody>\n",
       "</table>\n",
       "</div>"
      ],
      "text/plain": [
       "         date  duration\n",
       "0  Fri 20 May       140\n",
       "1  Thu 19 May       212\n",
       "2  Tue 17 May        36\n",
       "3  Wed 18 May       288"
      ]
     },
     "execution_count": 105,
     "metadata": {},
     "output_type": "execute_result"
    }
   ],
   "source": [
    "dates = df.groupby(\"date\")[\"duration\"].sum().reset_index()\n",
    "\n",
    "dates\n"
   ]
  },
  {
   "cell_type": "code",
   "execution_count": 106,
   "id": "55d6b4cf-af6f-46b9-8d6c-8a1f8b4ea460",
   "metadata": {
    "tags": []
   },
   "outputs": [
    {
     "data": {
      "text/html": [
       "<div>\n",
       "<style scoped>\n",
       "    .dataframe tbody tr th:only-of-type {\n",
       "        vertical-align: middle;\n",
       "    }\n",
       "\n",
       "    .dataframe tbody tr th {\n",
       "        vertical-align: top;\n",
       "    }\n",
       "\n",
       "    .dataframe thead th {\n",
       "        text-align: right;\n",
       "    }\n",
       "</style>\n",
       "<table border=\"1\" class=\"dataframe\">\n",
       "  <thead>\n",
       "    <tr style=\"text-align: right;\">\n",
       "      <th></th>\n",
       "      <th>session</th>\n",
       "      <th>date</th>\n",
       "      <th>start_time</th>\n",
       "      <th>end_time</th>\n",
       "      <th>duration</th>\n",
       "      <th>title</th>\n",
       "      <th>authors</th>\n",
       "      <th>cluster</th>\n",
       "    </tr>\n",
       "  </thead>\n",
       "  <tbody>\n",
       "    <tr>\n",
       "      <th>0</th>\n",
       "      <td>Session 1Technical Papers/Registered Reportsat...</td>\n",
       "      <td>Tue 17 May</td>\n",
       "      <td>27547080</td>\n",
       "      <td>27547084</td>\n",
       "      <td>4</td>\n",
       "      <td>An Empirical Evaluation of GitHub Copilot’s Co...</td>\n",
       "      <td>[Nhan Nguyen, Sarah Nadi]</td>\n",
       "      <td>1</td>\n",
       "    </tr>\n",
       "    <tr>\n",
       "      <th>1</th>\n",
       "      <td>Session 1Technical Papers/Registered Reportsat...</td>\n",
       "      <td>Tue 17 May</td>\n",
       "      <td>27547084</td>\n",
       "      <td>27547088</td>\n",
       "      <td>4</td>\n",
       "      <td>Comments on Comments: Where Code Review and Do...</td>\n",
       "      <td>[Nikitha Rao, Jason Tsay, Martin Hirzel, Vince...</td>\n",
       "      <td>2</td>\n",
       "    </tr>\n",
       "    <tr>\n",
       "      <th>2</th>\n",
       "      <td>Session 1Technical Papers/Registered Reportsat...</td>\n",
       "      <td>Tue 17 May</td>\n",
       "      <td>27547088</td>\n",
       "      <td>27547095</td>\n",
       "      <td>7</td>\n",
       "      <td>Does This Apply to Me? An Empirical Study of T...</td>\n",
       "      <td>[Akalanka Galappaththi, Sarah Nadi, Christoph ...</td>\n",
       "      <td>1</td>\n",
       "    </tr>\n",
       "    <tr>\n",
       "      <th>3</th>\n",
       "      <td>Session 1Technical Papers/Registered Reportsat...</td>\n",
       "      <td>Tue 17 May</td>\n",
       "      <td>27547095</td>\n",
       "      <td>27547102</td>\n",
       "      <td>7</td>\n",
       "      <td>Towards Reliable Agile Iterative Planning via ...</td>\n",
       "      <td>[Jirat Pasuksmit, Patanamon Thongtanunam, Shan...</td>\n",
       "      <td>2</td>\n",
       "    </tr>\n",
       "    <tr>\n",
       "      <th>4</th>\n",
       "      <td>Session 1Technical Papers/Registered Reportsat...</td>\n",
       "      <td>Tue 17 May</td>\n",
       "      <td>27547102</td>\n",
       "      <td>27547109</td>\n",
       "      <td>7</td>\n",
       "      <td>BotHunter: An Approach to Detect Software Bots...</td>\n",
       "      <td>[Ahmad Abdellatif, Mairieli Wessel, Igor Stein...</td>\n",
       "      <td>3</td>\n",
       "    </tr>\n",
       "  </tbody>\n",
       "</table>\n",
       "</div>"
      ],
      "text/plain": [
       "                                             session        date  start_time  \\\n",
       "0  Session 1Technical Papers/Registered Reportsat...  Tue 17 May    27547080   \n",
       "1  Session 1Technical Papers/Registered Reportsat...  Tue 17 May    27547084   \n",
       "2  Session 1Technical Papers/Registered Reportsat...  Tue 17 May    27547088   \n",
       "3  Session 1Technical Papers/Registered Reportsat...  Tue 17 May    27547095   \n",
       "4  Session 1Technical Papers/Registered Reportsat...  Tue 17 May    27547102   \n",
       "\n",
       "   end_time  duration                                              title  \\\n",
       "0  27547084         4  An Empirical Evaluation of GitHub Copilot’s Co...   \n",
       "1  27547088         4  Comments on Comments: Where Code Review and Do...   \n",
       "2  27547095         7  Does This Apply to Me? An Empirical Study of T...   \n",
       "3  27547102         7  Towards Reliable Agile Iterative Planning via ...   \n",
       "4  27547109         7  BotHunter: An Approach to Detect Software Bots...   \n",
       "\n",
       "                                             authors  cluster  \n",
       "0                          [Nhan Nguyen, Sarah Nadi]        1  \n",
       "1  [Nikitha Rao, Jason Tsay, Martin Hirzel, Vince...        2  \n",
       "2  [Akalanka Galappaththi, Sarah Nadi, Christoph ...        1  \n",
       "3  [Jirat Pasuksmit, Patanamon Thongtanunam, Shan...        2  \n",
       "4  [Ahmad Abdellatif, Mairieli Wessel, Igor Stein...        3  "
      ]
     },
     "execution_count": 106,
     "metadata": {},
     "output_type": "execute_result"
    }
   ],
   "source": [
    "df.head(5)"
   ]
  },
  {
   "cell_type": "code",
   "execution_count": 107,
   "id": "928d79e2-8ee0-44e7-83e8-6db5b673a6eb",
   "metadata": {
    "tags": []
   },
   "outputs": [
    {
     "data": {
      "text/plain": [
       "cluster\n",
       "3    35\n",
       "0    25\n",
       "1    22\n",
       "2    20\n",
       "4    15\n",
       "Name: count, dtype: int64"
      ]
     },
     "execution_count": 107,
     "metadata": {},
     "output_type": "execute_result"
    }
   ],
   "source": [
    "df.cluster.value_counts()"
   ]
  },
  {
   "cell_type": "code",
   "execution_count": 108,
   "id": "f67c97de-940e-4a13-ae7a-d8350d9a57b6",
   "metadata": {
    "tags": []
   },
   "outputs": [
    {
     "data": {
      "text/plain": [
       "1"
      ]
     },
     "execution_count": 108,
     "metadata": {},
     "output_type": "execute_result"
    }
   ],
   "source": [
    "df.iloc[0]['cluster']"
   ]
  },
  {
   "cell_type": "code",
   "execution_count": 109,
   "id": "f0f6a987-1baa-4268-bf24-d807a8662a90",
   "metadata": {
    "tags": []
   },
   "outputs": [],
   "source": [
    "# common_cluster_matrix = pd.DataFrame(np.zeros((len(df), len(df)), dtype=int), index=df['title'], columns=df['title'])\n",
    "common_cluster_pairs = {}\n",
    "\n",
    "# Populate the matrix\n",
    "for i in range(len(df)):\n",
    "    for j in range(len(df)):\n",
    "        # Intersect authors lists, if not empty set cell to 1\n",
    "        if i!=j and df.iloc[i]['cluster'] == df.iloc[j]['cluster']:\n",
    "            common_cluster_pairs[(i,j)] = 1\n",
    "\n",
    "# common_cluster_pairs"
   ]
  },
  {
   "cell_type": "code",
   "execution_count": 110,
   "id": "ddf35db5-56ee-44b7-8e10-c4d8825dd0e5",
   "metadata": {
    "tags": []
   },
   "outputs": [],
   "source": [
    "common_author_matrix = pd.DataFrame(np.zeros((len(df), len(df)), dtype=int), index=df['title'], columns=df['title'])\n",
    "\n",
    "# Populate the matrix\n",
    "for i in range(len(df)):\n",
    "    for j in range(len(df)):\n",
    "        # Intersect authors lists, if not empty set cell to 1\n",
    "        if set(df.iloc[i]['authors']) & set(df.iloc[j]['authors']):\n",
    "            common_author_matrix.iloc[i, j] = 1\n",
    "\n",
    "# common_author_matrix.head()"
   ]
  },
  {
   "cell_type": "code",
   "execution_count": 111,
   "id": "138661e2-6731-43f4-aebf-9604090009a0",
   "metadata": {
    "tags": []
   },
   "outputs": [
    {
     "data": {
      "text/html": [
       "<div>\n",
       "<style scoped>\n",
       "    .dataframe tbody tr th:only-of-type {\n",
       "        vertical-align: middle;\n",
       "    }\n",
       "\n",
       "    .dataframe tbody tr th {\n",
       "        vertical-align: top;\n",
       "    }\n",
       "\n",
       "    .dataframe thead th {\n",
       "        text-align: right;\n",
       "    }\n",
       "</style>\n",
       "<table border=\"1\" class=\"dataframe\">\n",
       "  <thead>\n",
       "    <tr style=\"text-align: right;\">\n",
       "      <th></th>\n",
       "      <th>title</th>\n",
       "      <th>authors</th>\n",
       "      <th>duration</th>\n",
       "    </tr>\n",
       "  </thead>\n",
       "  <tbody>\n",
       "    <tr>\n",
       "      <th>0</th>\n",
       "      <td>An Empirical Evaluation of GitHub Copilot’s Co...</td>\n",
       "      <td>[Nhan Nguyen, Sarah Nadi]</td>\n",
       "      <td>4</td>\n",
       "    </tr>\n",
       "    <tr>\n",
       "      <th>1</th>\n",
       "      <td>Comments on Comments: Where Code Review and Do...</td>\n",
       "      <td>[Nikitha Rao, Jason Tsay, Martin Hirzel, Vince...</td>\n",
       "      <td>4</td>\n",
       "    </tr>\n",
       "    <tr>\n",
       "      <th>2</th>\n",
       "      <td>Does This Apply to Me? An Empirical Study of T...</td>\n",
       "      <td>[Akalanka Galappaththi, Sarah Nadi, Christoph ...</td>\n",
       "      <td>7</td>\n",
       "    </tr>\n",
       "    <tr>\n",
       "      <th>3</th>\n",
       "      <td>Towards Reliable Agile Iterative Planning via ...</td>\n",
       "      <td>[Jirat Pasuksmit, Patanamon Thongtanunam, Shan...</td>\n",
       "      <td>7</td>\n",
       "    </tr>\n",
       "    <tr>\n",
       "      <th>4</th>\n",
       "      <td>BotHunter: An Approach to Detect Software Bots...</td>\n",
       "      <td>[Ahmad Abdellatif, Mairieli Wessel, Igor Stein...</td>\n",
       "      <td>7</td>\n",
       "    </tr>\n",
       "  </tbody>\n",
       "</table>\n",
       "</div>"
      ],
      "text/plain": [
       "                                               title  \\\n",
       "0  An Empirical Evaluation of GitHub Copilot’s Co...   \n",
       "1  Comments on Comments: Where Code Review and Do...   \n",
       "2  Does This Apply to Me? An Empirical Study of T...   \n",
       "3  Towards Reliable Agile Iterative Planning via ...   \n",
       "4  BotHunter: An Approach to Detect Software Bots...   \n",
       "\n",
       "                                             authors  duration  \n",
       "0                          [Nhan Nguyen, Sarah Nadi]         4  \n",
       "1  [Nikitha Rao, Jason Tsay, Martin Hirzel, Vince...         4  \n",
       "2  [Akalanka Galappaththi, Sarah Nadi, Christoph ...         7  \n",
       "3  [Jirat Pasuksmit, Patanamon Thongtanunam, Shan...         7  \n",
       "4  [Ahmad Abdellatif, Mairieli Wessel, Igor Stein...         7  "
      ]
     },
     "execution_count": 111,
     "metadata": {},
     "output_type": "execute_result"
    }
   ],
   "source": [
    "papers = df[[\"title\",\"authors\",\"duration\"]].reset_index(drop=True)\n",
    "papers.head()"
   ]
  },
  {
   "cell_type": "code",
   "execution_count": 112,
   "id": "82b70281-d7bd-4e08-8864-4e42e517e510",
   "metadata": {
    "tags": []
   },
   "outputs": [
    {
     "data": {
      "text/html": [
       "<div>\n",
       "<style scoped>\n",
       "    .dataframe tbody tr th:only-of-type {\n",
       "        vertical-align: middle;\n",
       "    }\n",
       "\n",
       "    .dataframe tbody tr th {\n",
       "        vertical-align: top;\n",
       "    }\n",
       "\n",
       "    .dataframe thead th {\n",
       "        text-align: right;\n",
       "    }\n",
       "</style>\n",
       "<table border=\"1\" class=\"dataframe\">\n",
       "  <thead>\n",
       "    <tr style=\"text-align: right;\">\n",
       "      <th></th>\n",
       "      <th>session</th>\n",
       "      <th>date</th>\n",
       "      <th>start_time</th>\n",
       "      <th>end_time</th>\n",
       "      <th>duration</th>\n",
       "      <th>title</th>\n",
       "      <th>authors</th>\n",
       "      <th>cluster</th>\n",
       "    </tr>\n",
       "  </thead>\n",
       "  <tbody>\n",
       "    <tr>\n",
       "      <th>0</th>\n",
       "      <td>Session 1Technical Papers/Registered Reportsat...</td>\n",
       "      <td>Tue 17 May</td>\n",
       "      <td>27547080</td>\n",
       "      <td>27547084</td>\n",
       "      <td>4</td>\n",
       "      <td>An Empirical Evaluation of GitHub Copilot’s Co...</td>\n",
       "      <td>[Nhan Nguyen, Sarah Nadi]</td>\n",
       "      <td>1</td>\n",
       "    </tr>\n",
       "    <tr>\n",
       "      <th>1</th>\n",
       "      <td>Session 1Technical Papers/Registered Reportsat...</td>\n",
       "      <td>Tue 17 May</td>\n",
       "      <td>27547084</td>\n",
       "      <td>27547088</td>\n",
       "      <td>4</td>\n",
       "      <td>Comments on Comments: Where Code Review and Do...</td>\n",
       "      <td>[Nikitha Rao, Jason Tsay, Martin Hirzel, Vince...</td>\n",
       "      <td>2</td>\n",
       "    </tr>\n",
       "    <tr>\n",
       "      <th>2</th>\n",
       "      <td>Session 1Technical Papers/Registered Reportsat...</td>\n",
       "      <td>Tue 17 May</td>\n",
       "      <td>27547088</td>\n",
       "      <td>27547095</td>\n",
       "      <td>7</td>\n",
       "      <td>Does This Apply to Me? An Empirical Study of T...</td>\n",
       "      <td>[Akalanka Galappaththi, Sarah Nadi, Christoph ...</td>\n",
       "      <td>1</td>\n",
       "    </tr>\n",
       "    <tr>\n",
       "      <th>3</th>\n",
       "      <td>Session 1Technical Papers/Registered Reportsat...</td>\n",
       "      <td>Tue 17 May</td>\n",
       "      <td>27547095</td>\n",
       "      <td>27547102</td>\n",
       "      <td>7</td>\n",
       "      <td>Towards Reliable Agile Iterative Planning via ...</td>\n",
       "      <td>[Jirat Pasuksmit, Patanamon Thongtanunam, Shan...</td>\n",
       "      <td>2</td>\n",
       "    </tr>\n",
       "    <tr>\n",
       "      <th>4</th>\n",
       "      <td>Session 1Technical Papers/Registered Reportsat...</td>\n",
       "      <td>Tue 17 May</td>\n",
       "      <td>27547102</td>\n",
       "      <td>27547109</td>\n",
       "      <td>7</td>\n",
       "      <td>BotHunter: An Approach to Detect Software Bots...</td>\n",
       "      <td>[Ahmad Abdellatif, Mairieli Wessel, Igor Stein...</td>\n",
       "      <td>3</td>\n",
       "    </tr>\n",
       "  </tbody>\n",
       "</table>\n",
       "</div>"
      ],
      "text/plain": [
       "                                             session        date  start_time  \\\n",
       "0  Session 1Technical Papers/Registered Reportsat...  Tue 17 May    27547080   \n",
       "1  Session 1Technical Papers/Registered Reportsat...  Tue 17 May    27547084   \n",
       "2  Session 1Technical Papers/Registered Reportsat...  Tue 17 May    27547088   \n",
       "3  Session 1Technical Papers/Registered Reportsat...  Tue 17 May    27547095   \n",
       "4  Session 1Technical Papers/Registered Reportsat...  Tue 17 May    27547102   \n",
       "\n",
       "   end_time  duration                                              title  \\\n",
       "0  27547084         4  An Empirical Evaluation of GitHub Copilot’s Co...   \n",
       "1  27547088         4  Comments on Comments: Where Code Review and Do...   \n",
       "2  27547095         7  Does This Apply to Me? An Empirical Study of T...   \n",
       "3  27547102         7  Towards Reliable Agile Iterative Planning via ...   \n",
       "4  27547109         7  BotHunter: An Approach to Detect Software Bots...   \n",
       "\n",
       "                                             authors  cluster  \n",
       "0                          [Nhan Nguyen, Sarah Nadi]        1  \n",
       "1  [Nikitha Rao, Jason Tsay, Martin Hirzel, Vince...        2  \n",
       "2  [Akalanka Galappaththi, Sarah Nadi, Christoph ...        1  \n",
       "3  [Jirat Pasuksmit, Patanamon Thongtanunam, Shan...        2  \n",
       "4  [Ahmad Abdellatif, Mairieli Wessel, Igor Stein...        3  "
      ]
     },
     "execution_count": 112,
     "metadata": {},
     "output_type": "execute_result"
    }
   ],
   "source": [
    "df.head()"
   ]
  },
  {
   "cell_type": "code",
   "execution_count": 113,
   "id": "1194ed89-d8f9-48fc-87b3-5cb62860edfa",
   "metadata": {
    "tags": []
   },
   "outputs": [
    {
     "data": {
      "text/plain": [
       "session\n",
       "HackathonHackathon/Technical PapersatMSR Main room - odd hoursChair(s):Gregorio RoblesUniversidad Rey Juan Carlos,Jesus M. Gonzalez-BarahonaUniversidad Rey Juan Carlos,Maëlick ClaesUniversity of Oulu    30\n",
       "Mining ChallengeMining Challenge/Technical PapersatMSR Main room - even hoursChair(s):Steffen HerboldTU Clausthal                                                                                          28\n",
       "Session 10: SecurityTechnical Papers/Data and Tool Showcase Track/Registered ReportsatMSR Main room - odd hoursChair(s):Triet Le Huynh MinhThe University of Adelaide                                      34\n",
       "Session 11: Machine Learning & Information RetrievalTechnical PapersatMSR Main room - odd hoursChair(s):Phuong T. NguyenUniversity of L’Aquila                                                             39\n",
       "Session 12: Integration & Large-Scale MiningTechnical Papers/Data and Tool Showcase TrackatMSR Main room - even hoursChair(s):Jin L.C. GuoMcGill University,Amjed TahirMassey University                   36\n",
       "Name: duration, dtype: int64"
      ]
     },
     "execution_count": 113,
     "metadata": {},
     "output_type": "execute_result"
    }
   ],
   "source": [
    "sessions = df.groupby(\"session\")[\"duration\"].sum()\n",
    "\n",
    "sessions.head()\n"
   ]
  },
  {
   "cell_type": "code",
   "execution_count": 114,
   "id": "8f9f37e5-1377-4a24-aeec-f0fbe35c9325",
   "metadata": {
    "tags": []
   },
   "outputs": [
    {
     "data": {
      "text/plain": [
       "array([30, 28, 34, 39, 36, 36, 36, 38, 36, 36, 33, 33, 36, 34, 37, 37, 37,\n",
       "       30, 50])"
      ]
     },
     "execution_count": 114,
     "metadata": {},
     "output_type": "execute_result"
    }
   ],
   "source": [
    "df.groupby(\"session\")[\"duration\"].sum().values"
   ]
  },
  {
   "cell_type": "code",
   "execution_count": 115,
   "id": "64da635a-9834-4f24-8689-32a13e970160",
   "metadata": {
    "tags": []
   },
   "outputs": [
    {
     "data": {
      "text/plain": [
       "array([6, 7, 7, 6, 6, 6, 6, 8, 6, 6, 6, 6, 6, 7, 7, 7, 7, 6, 1])"
      ]
     },
     "execution_count": 115,
     "metadata": {},
     "output_type": "execute_result"
    }
   ],
   "source": [
    "df.groupby(\"session\").size().values"
   ]
  },
  {
   "cell_type": "code",
   "execution_count": 116,
   "id": "171a83ea-beee-49c2-ae17-04ae018a55f2",
   "metadata": {
    "tags": []
   },
   "outputs": [],
   "source": [
    "# Assumption of variables for illustration\n",
    "num_sessions = len(sessions)  # Number of sessions as defined by PC chairs\n",
    "session_lengths = sessions.values  # Length of each session in minutes\n",
    "# num_tracks = 1 # FOR NOW, ASSUME WE ONLY HAVE A SINGLE TRACK"
   ]
  },
  {
   "cell_type": "code",
   "execution_count": 117,
   "id": "4b2ab463-554a-4794-92a9-8a3e3a89ed56",
   "metadata": {
    "tags": []
   },
   "outputs": [
    {
     "data": {
      "text/plain": [
       "117"
      ]
     },
     "execution_count": 117,
     "metadata": {},
     "output_type": "execute_result"
    }
   ],
   "source": [
    "len(papers)"
   ]
  },
  {
   "cell_type": "code",
   "execution_count": 118,
   "id": "16df75f8-8fca-41bf-b92d-0b9fce8c0497",
   "metadata": {
    "tags": []
   },
   "outputs": [],
   "source": [
    "# Initiate the problem\n",
    "\n",
    "\n",
    "from pulp import *\n",
    "import numpy as np\n",
    "\n",
    "\n",
    "prob = LpProblem(\"Conference_Schedule_Optimization\", LpMaximize)\n",
    "\n",
    "# Decision variables\n",
    "x = LpVariable.dicts(\"schedule\", \n",
    "                            ((i, j) \n",
    "                             for i in range(len(papers)) # paper number\n",
    "                             for j in range(num_sessions) # session number\n",
    "                            ) \n",
    "                            ,cat='Binary' # to make it efficient\n",
    "                       )\n",
    "z = LpVariable.dicts('product', ((i,j,m,n)\n",
    "                                  for i in range(len(papers))\n",
    "                                  for j in range(len(papers))\n",
    "                                  for m in range(num_sessions)\n",
    "                                  for n in range(num_sessions)\n",
    "                                 \n",
    "                                )\n",
    "                                 , 0, 1, cat='Continuous')\n",
    "\n",
    "obj = lpSum(common_cluster_pairs[pair] * z[(pair[0], pair[1],j, j)]\n",
    "             for pair in common_cluster_pairs\n",
    "             for j in range(num_sessions)\n",
    "             )\n",
    "\n",
    "prob += obj\n",
    "\n",
    "\n",
    "for pair in common_cluster_pairs:\n",
    "    for j in range(num_sessions):\n",
    "        prob += z[(pair[0], pair[1], j, j)] >= x[(pair[0],j)] + x[(pair[1],j)] - 1\n",
    "        prob += z[(pair[0], pair[1], j, j)] <= x[(pair[0],j)]\n",
    "        prob += z[(pair[0], pair[1], j, j)] <=  x[(pair[1],j)]\n",
    "\n",
    "# start_times = LpVariable.dicts(\"start_times\", \n",
    "#                             (i \n",
    "#                              for i in range(len(papers)) # paper number\n",
    "#                             ) # start time\n",
    "#                             ,cat='Continuous'\n",
    "#                        )\n",
    "# end_times = LpVariable.dicts(\"end_times\", \n",
    "#                             (i \n",
    "#                              for i in range(len(papers)) # paper number\n",
    "#                             ) # end time\n",
    "#                             ,cat='Continuous'\n",
    "#                        )\n",
    "\n",
    "# Objective function: For the basic structure, we make it a dummy one as our main focus is on satisfying constraints\n",
    "# prob += 0, \"ArbitraryObjective\"\n"
   ]
  },
  {
   "cell_type": "code",
   "execution_count": 119,
   "id": "50ae4084-2c0e-4294-b204-39bfc6525526",
   "metadata": {
    "tags": []
   },
   "outputs": [
    {
     "data": {
      "text/plain": [
       "117"
      ]
     },
     "execution_count": 119,
     "metadata": {},
     "output_type": "execute_result"
    }
   ],
   "source": [
    "len(papers)"
   ]
  },
  {
   "cell_type": "code",
   "execution_count": 120,
   "id": "d5563490-99ae-47b0-bc60-3ecac52e80de",
   "metadata": {
    "tags": []
   },
   "outputs": [],
   "source": [
    " \n",
    "session_lengths_extended = [i + 10 for i in session_lengths]"
   ]
  },
  {
   "cell_type": "code",
   "execution_count": 121,
   "id": "41199e73-91f6-4d67-abea-f9a5bde4df5e",
   "metadata": {
    "tags": []
   },
   "outputs": [
    {
     "data": {
      "text/plain": [
       "[40, 38, 44, 49, 46, 46, 46, 48, 46, 46, 43, 43, 46, 44, 47, 47, 47, 40, 60]"
      ]
     },
     "execution_count": 121,
     "metadata": {},
     "output_type": "execute_result"
    }
   ],
   "source": [
    "session_lengths_extended"
   ]
  },
  {
   "cell_type": "code",
   "execution_count": 122,
   "id": "8e2fa6fa-b911-42d8-8757-c490ca0d1fce",
   "metadata": {
    "tags": []
   },
   "outputs": [],
   "source": [
    "for i in range(len(papers)):\n",
    "    for j in range(num_sessions):\n",
    "            prob += x[(i, j)] >= 0\n",
    "            prob += x[(i, j)] <= 1\n",
    "\n",
    "\n",
    "# Ensure each paper is scheduled exactly once\n",
    "for i in range(len(papers)):\n",
    "    prob += lpSum(x[(i, j)] for j in range(num_sessions)) == 1, f\"One_placement_paper_{i}\"\n",
    "\n",
    "# Do not exceed session length\n",
    "for j in range(num_sessions):\n",
    "    prob += lpSum(x[(i, j)] * papers.loc[i][\"duration\"] for i in range(len(papers))) <= session_lengths_extended[j], f\"Session_length_limit_{j}\"\n"
   ]
  },
  {
   "cell_type": "code",
   "execution_count": 123,
   "id": "ee85e306-859c-4d97-ad63-72b80d7cc7e9",
   "metadata": {
    "tags": []
   },
   "outputs": [
    {
     "data": {
      "text/plain": [
       "['PULP_CBC_CMD']"
      ]
     },
     "execution_count": 123,
     "metadata": {},
     "output_type": "execute_result"
    }
   ],
   "source": [
    "listSolvers(onlyAvailable=True)"
   ]
  },
  {
   "cell_type": "code",
   "execution_count": 124,
   "id": "f9dd9cc3-e923-494e-8362-cc44f952d84e",
   "metadata": {
    "tags": []
   },
   "outputs": [
    {
     "name": "stdout",
     "output_type": "stream",
     "text": [
      "Welcome to the CBC MILP Solver \n",
      "Version: 2.10.3 \n",
      "Build Date: Dec 15 2019 \n",
      "\n",
      "command line - /opt/conda/lib/python3.10/site-packages/pulp/solverdir/cbc/linux/64/cbc /var/tmp/8109478a86b9474ca703512aecbe80d2-pulp.mps -max -sec 2000 -timeMode elapsed -branch -printingOptions all -solution /var/tmp/8109478a86b9474ca703512aecbe80d2-pulp.sol (default strategy 1)\n",
      "At line 2 NAME          MODEL\n",
      "At line 3 ROWS\n",
      "At line 166581 COLUMNS\n",
      "At line 611904 RHS\n",
      "At line 778481 BOUNDS\n",
      "At line 834703 ENDATA\n",
      "Problem MODEL has 166576 rows, 56221 columns and 386878 elements\n",
      "Coin0008I MODEL read with 0 errors\n",
      "seconds was changed from 1e+100 to 2000\n",
      "Option for timeMode changed from cpu to elapsed\n",
      "Continuous objective value is 2842 - 113.67 seconds\n",
      "Cgl0003I 2032 fixed, 0 tightened bounds, 6610 strengthened rows, 6820 substitutions\n",
      "Cgl0003I 0 fixed, 0 tightened bounds, 14696 strengthened rows, 1987 substitutions\n",
      "Cgl0003I 0 fixed, 0 tightened bounds, 8751 strengthened rows, 3516 substitutions\n",
      "Cgl0003I 0 fixed, 0 tightened bounds, 8692 strengthened rows, 3226 substitutions\n",
      "Cgl0003I 0 fixed, 0 tightened bounds, 8630 strengthened rows, 3070 substitutions\n",
      "Cgl0003I 0 fixed, 0 tightened bounds, 8777 strengthened rows, 2428 substitutions\n",
      "Cgl0003I 0 fixed, 0 tightened bounds, 10050 strengthened rows, 2594 substitutions\n",
      "Cgl0003I 0 fixed, 0 tightened bounds, 9766 strengthened rows, 3122 substitutions\n",
      "Cgl0003I 0 fixed, 0 tightened bounds, 8774 strengthened rows, 2454 substitutions\n",
      "Cgl0003I 0 fixed, 0 tightened bounds, 10380 strengthened rows, 3888 substitutions\n",
      "Cgl0004I processed model has 117335 rows, 39643 columns (39643 integer (39643 of which binary)) and 358105 elements\n",
      "Cutoff increment increased from 1e-05 to 0.9999\n",
      "Cbc0038I Initial state - 449 integers unsatisfied sum - 108.727\n",
      "Cbc0038I Pass   1: (287.72 seconds) suminf.    2.35714 (11) obj. -270.714 iterations 33481\n",
      "Cbc0038I Pass   2: (287.86 seconds) suminf.    1.07143 (5) obj. -264.571 iterations 615\n",
      "Cbc0038I Pass   3: (287.94 seconds) suminf.    0.00000 (0) obj. -266 iterations 166\n",
      "Cbc0038I Solution found of -266\n",
      "Cbc0038I Before mini branch and bound, 1657 integers at bound fixed and 26907 continuous\n",
      "Cbc0038I Full problem 117335 rows 39643 columns, reduced to 32484 rows 11057 columns\n",
      "Cbc0038I Mini branch and bound did not improve solution (314.22 seconds)\n",
      "Cbc0038I Round again with cutoff of -519.7\n",
      "Cbc0038I Pass   4: (354.93 seconds) suminf.   48.56961 (139) obj. -519.7 iterations 5932\n",
      "Cbc0038I Pass   5: (388.52 seconds) suminf.   12.35631 (60) obj. -519.7 iterations 25936\n",
      "Cbc0038I Pass   6: (402.42 seconds) suminf.    8.30822 (48) obj. -519.7 iterations 11514\n",
      "Cbc0038I Pass   7: (405.14 seconds) suminf.    7.65714 (50) obj. -519.7 iterations 2803\n",
      "Cbc0038I Pass   8: (408.78 seconds) suminf.    7.54021 (33) obj. -519.7 iterations 4111\n",
      "Cbc0038I Pass   9: (410.05 seconds) suminf.    4.75427 (30) obj. -519.7 iterations 1289\n",
      "Cbc0038I Pass  10: (412.27 seconds) suminf.    4.07143 (29) obj. -519.7 iterations 1941\n",
      "Cbc0038I Pass  11: (418.06 seconds) suminf.    3.64286 (25) obj. -519.7 iterations 6632\n",
      "Cbc0038I Pass  12: (425.43 seconds) suminf.    3.00974 (76) obj. -519.7 iterations 5049\n",
      "Cbc0038I Pass  13: (428.28 seconds) suminf.    3.35247 (73) obj. -519.7 iterations 2203\n",
      "Cbc0038I Pass  14: (429.35 seconds) suminf.    1.52978 (64) obj. -519.7 iterations 560\n",
      "Cbc0038I Pass  15: (433.57 seconds) suminf.    3.61905 (22) obj. -519.7 iterations 5513\n",
      "Cbc0038I Pass  16: (436.24 seconds) suminf.    2.96348 (37) obj. -519.7 iterations 3167\n",
      "Cbc0038I Pass  17: (448.35 seconds) suminf.    1.85714 (27) obj. -519.7 iterations 7039\n",
      "Cbc0038I Pass  18: (451.32 seconds) suminf.    7.06664 (26) obj. -519.7 iterations 3513\n",
      "Cbc0038I Pass  19: (491.02 seconds) suminf.    2.57143 (25) obj. -519.7 iterations 25294\n",
      "Cbc0038I Pass  20: (496.50 seconds) suminf.    1.88772 (60) obj. -519.7 iterations 3822\n",
      "Cbc0038I Pass  21: (497.17 seconds) suminf.    1.25312 (57) obj. -519.7 iterations 373\n",
      "Cbc0038I Pass  22: (517.08 seconds) suminf.    2.69010 (9) obj. -519.7 iterations 18213\n",
      "Cbc0038I Pass  23: (525.40 seconds) suminf.    1.04518 (92) obj. -519.7 iterations 5017\n",
      "Cbc0038I Pass  24: (525.77 seconds) suminf.    1.04518 (92) obj. -519.7 iterations 61\n",
      "Cbc0038I Pass  25: (565.19 seconds) suminf.   49.57815 (155) obj. -519.7 iterations 22131\n",
      "Cbc0038I No solution found this major pass\n",
      "Cbc0038I After 565.19 seconds - Feasibility pump exiting with objective of -266 - took 329.79 seconds\n",
      "Cbc0012I Integer solution of -266 found by feasibility pump after 0 iterations and 0 nodes (565.21 seconds)\n",
      "Cbc0031I 6 added rows had average density of 1127.3333\n",
      "Cbc0013I At root node, 6 cuts changed objective from -2794 to -2794 in 5 passes\n",
      "Cbc0014I Cut generator 0 (Probing) - 0 row cuts average 0.0 elements, 0 column cuts (0 active)  in 5.964 seconds - new frequency is -100\n",
      "Cbc0014I Cut generator 1 (Gomory) - 6 row cuts average 1919.0 elements, 0 column cuts (0 active)  in 18.665 seconds - new frequency is -100\n",
      "Cbc0014I Cut generator 2 (Knapsack) - 0 row cuts average 0.0 elements, 0 column cuts (0 active)  in 0.144 seconds - new frequency is -100\n",
      "Cbc0014I Cut generator 3 (Clique) - 0 row cuts average 0.0 elements, 0 column cuts (0 active)  in 0.006 seconds - new frequency is -100\n",
      "Cbc0014I Cut generator 4 (MixedIntegerRounding2) - 0 row cuts average 0.0 elements, 0 column cuts (0 active)  in 0.214 seconds - new frequency is -100\n",
      "Cbc0014I Cut generator 5 (FlowCover) - 0 row cuts average 0.0 elements, 0 column cuts (0 active)  in 0.028 seconds - new frequency is -100\n",
      "Cbc0014I Cut generator 6 (TwoMirCuts) - 5 row cuts average 226.6 elements, 0 column cuts (0 active)  in 50.159 seconds - new frequency is -100\n",
      "Cbc0014I Cut generator 7 (ZeroHalf) - 1 row cuts average 116.0 elements, 0 column cuts (0 active)  in 21.500 seconds - new frequency is -100\n",
      "Cbc0010I After 0 nodes, 1 on tree, -266 best solution, best possible -2794 (937.59 seconds)\n",
      "Cbc0020I Exiting on maximum time\n",
      "Cbc0005I Partial search - best objective -266 (best possible -2794), took 113593 iterations and 40 nodes (1888.86 seconds)\n",
      "Cbc0032I Strong branching done 912 times (86999 iterations), fathomed 0 nodes and fixed 0 variables\n",
      "Cbc0035I Maximum depth 21, 0 variables fixed on reduced cost\n",
      "Cuts at root node changed objective from -2794 to -2794\n",
      "Probing was tried 5 times and created 0 cuts of which 0 were active after adding rounds of cuts (5.964 seconds)\n",
      "Gomory was tried 5 times and created 6 cuts of which 0 were active after adding rounds of cuts (18.665 seconds)\n",
      "Knapsack was tried 5 times and created 0 cuts of which 0 were active after adding rounds of cuts (0.144 seconds)\n",
      "Clique was tried 5 times and created 0 cuts of which 0 were active after adding rounds of cuts (0.006 seconds)\n",
      "MixedIntegerRounding2 was tried 5 times and created 0 cuts of which 0 were active after adding rounds of cuts (0.214 seconds)\n",
      "FlowCover was tried 5 times and created 0 cuts of which 0 were active after adding rounds of cuts (0.028 seconds)\n",
      "TwoMirCuts was tried 5 times and created 5 cuts of which 0 were active after adding rounds of cuts (50.159 seconds)\n",
      "ZeroHalf was tried 1 times and created 1 cuts of which 0 were active after adding rounds of cuts (21.500 seconds)\n",
      "\n",
      "Result - Stopped on time limit\n",
      "\n",
      "Objective value:                266.00000000\n",
      "Upper bound:                    2794.000\n",
      "Gap:                            -0.90\n",
      "Enumerated nodes:               40\n",
      "Total iterations:               113593\n",
      "Time (CPU seconds):             1905.22\n",
      "Time (Wallclock seconds):       1906.78\n",
      "\n",
      "Option for printingOptions changed from normal to all\n",
      "Total time (CPU seconds):       1905.56   (Wallclock seconds):       1907.14\n",
      "\n"
     ]
    },
    {
     "data": {
      "text/plain": [
       "1"
      ]
     },
     "execution_count": 124,
     "metadata": {},
     "output_type": "execute_result"
    }
   ],
   "source": [
    "# Choose the solver and set the time limit\n",
    "# solver = GLPK(msg=False, timeLimit=600)  # Set the time limit to 600 seconds\n",
    "prob.solve(PULP_CBC_CMD(timeLimit=2000))"
   ]
  },
  {
   "cell_type": "code",
   "execution_count": 125,
   "id": "6cb51b6a-bde6-4afd-929c-dbd3861ae7c8",
   "metadata": {
    "tags": []
   },
   "outputs": [
    {
     "data": {
      "text/html": [
       "<div>\n",
       "<style scoped>\n",
       "    .dataframe tbody tr th:only-of-type {\n",
       "        vertical-align: middle;\n",
       "    }\n",
       "\n",
       "    .dataframe tbody tr th {\n",
       "        vertical-align: top;\n",
       "    }\n",
       "\n",
       "    .dataframe thead th {\n",
       "        text-align: right;\n",
       "    }\n",
       "</style>\n",
       "<table border=\"1\" class=\"dataframe\">\n",
       "  <thead>\n",
       "    <tr style=\"text-align: right;\">\n",
       "      <th></th>\n",
       "      <th>optimized_session</th>\n",
       "      <th>title</th>\n",
       "      <th>duration</th>\n",
       "      <th>validity</th>\n",
       "    </tr>\n",
       "  </thead>\n",
       "  <tbody>\n",
       "    <tr>\n",
       "      <th>0</th>\n",
       "      <td>1</td>\n",
       "      <td>Starting the InnerSource Journey: Key Goals an...</td>\n",
       "      <td>7</td>\n",
       "      <td>1</td>\n",
       "    </tr>\n",
       "    <tr>\n",
       "      <th>1</th>\n",
       "      <td>1</td>\n",
       "      <td>Extracting corrective actions from code reposi...</td>\n",
       "      <td>7</td>\n",
       "      <td>1</td>\n",
       "    </tr>\n",
       "    <tr>\n",
       "      <th>2</th>\n",
       "      <td>1</td>\n",
       "      <td>Code Review Practices for Refactoring Changes:...</td>\n",
       "      <td>7</td>\n",
       "      <td>1</td>\n",
       "    </tr>\n",
       "    <tr>\n",
       "      <th>3</th>\n",
       "      <td>1</td>\n",
       "      <td>Automatically Prioritizing and Assigning Tasks...</td>\n",
       "      <td>7</td>\n",
       "      <td>1</td>\n",
       "    </tr>\n",
       "    <tr>\n",
       "      <th>4</th>\n",
       "      <td>2</td>\n",
       "      <td>Investigating the Impact of Forgetting in Soft...</td>\n",
       "      <td>4</td>\n",
       "      <td>1</td>\n",
       "    </tr>\n",
       "  </tbody>\n",
       "</table>\n",
       "</div>"
      ],
      "text/plain": [
       "   optimized_session                                              title  \\\n",
       "0                  1  Starting the InnerSource Journey: Key Goals an...   \n",
       "1                  1  Extracting corrective actions from code reposi...   \n",
       "2                  1  Code Review Practices for Refactoring Changes:...   \n",
       "3                  1  Automatically Prioritizing and Assigning Tasks...   \n",
       "4                  2  Investigating the Impact of Forgetting in Soft...   \n",
       "\n",
       "   duration  validity  \n",
       "0         7         1  \n",
       "1         7         1  \n",
       "2         7         1  \n",
       "3         7         1  \n",
       "4         4         1  "
      ]
     },
     "execution_count": 125,
     "metadata": {},
     "output_type": "execute_result"
    }
   ],
   "source": [
    "\n",
    "# Initialize an empty list to hold the results\n",
    "results = []\n",
    "\n",
    "# Iterate over each session and track\n",
    "for j in range(num_sessions):\n",
    "    session_number = j + 1\n",
    "    # Iterate over each paper\n",
    "    for i in range(len(papers)):\n",
    "        if x[(i, j)].varValue is not None and  x[(i, j)].varValue== 1:\n",
    "            # Prepare a dict with the required information\n",
    "            paper_info = {\n",
    "                'optimized_session': session_number,\n",
    "                'title': papers.loc[i]['title'],\n",
    "                'duration': papers.loc[i]['duration'],\n",
    "                'validity': 1\n",
    "            }\n",
    "            # Append to the results list\n",
    "            results.append(paper_info)\n",
    "        elif x[(i, j)].varValue is not None and  x[(i, j)].varValue > 0:\n",
    "            # Prepare a dict with the required information\n",
    "            paper_info = {\n",
    "                'optimized_session': session_number,\n",
    "                'title': papers.loc[i]['title'],\n",
    "                'duration': papers.loc[i]['duration'],\n",
    "                'validity': 0\n",
    "            }\n",
    "            # Append to the results list\n",
    "            results.append(paper_info)\n",
    "\n",
    "# Convert the list of dictionaries into a DataFrame\n",
    "df_results = pd.DataFrame(results)\n",
    "\n",
    "# If you need to see the first few rows of the DataFrame to ensure it's correct\n",
    "df_results.head()\n"
   ]
  },
  {
   "cell_type": "code",
   "execution_count": 126,
   "id": "6fc7e112-c4c5-420f-9cfc-755178f07c86",
   "metadata": {
    "tags": []
   },
   "outputs": [
    {
     "data": {
      "text/plain": [
       "1.0"
      ]
     },
     "execution_count": 126,
     "metadata": {},
     "output_type": "execute_result"
    }
   ],
   "source": [
    "df_results[\"validity\"].mean()"
   ]
  },
  {
   "cell_type": "code",
   "execution_count": 127,
   "id": "036c6209-93cb-49b1-a290-c1789ca0649b",
   "metadata": {
    "tags": []
   },
   "outputs": [],
   "source": [
    "df_merged_result = pd.merge(df[['title', 'session', 'cluster']], df_results[['title', 'optimized_session']], on='title', how='left')"
   ]
  },
  {
   "cell_type": "code",
   "execution_count": 128,
   "id": "1b9d75b3-85c7-4950-9eed-d38afaf83ecb",
   "metadata": {
    "tags": []
   },
   "outputs": [
    {
     "data": {
      "text/html": [
       "<div>\n",
       "<style scoped>\n",
       "    .dataframe tbody tr th:only-of-type {\n",
       "        vertical-align: middle;\n",
       "    }\n",
       "\n",
       "    .dataframe tbody tr th {\n",
       "        vertical-align: top;\n",
       "    }\n",
       "\n",
       "    .dataframe thead th {\n",
       "        text-align: right;\n",
       "    }\n",
       "</style>\n",
       "<table border=\"1\" class=\"dataframe\">\n",
       "  <thead>\n",
       "    <tr style=\"text-align: right;\">\n",
       "      <th></th>\n",
       "      <th>title</th>\n",
       "      <th>session</th>\n",
       "      <th>cluster</th>\n",
       "      <th>optimized_session</th>\n",
       "    </tr>\n",
       "  </thead>\n",
       "  <tbody>\n",
       "    <tr>\n",
       "      <th>97</th>\n",
       "      <td>Code Review Practices for Refactoring Changes:...</td>\n",
       "      <td>Session 15: Collaboration &amp; Open SourceRegiste...</td>\n",
       "      <td>2</td>\n",
       "      <td>1</td>\n",
       "    </tr>\n",
       "    <tr>\n",
       "      <th>96</th>\n",
       "      <td>Extracting corrective actions from code reposi...</td>\n",
       "      <td>Session 14: Software QualityTechnical Papers/I...</td>\n",
       "      <td>0</td>\n",
       "      <td>1</td>\n",
       "    </tr>\n",
       "    <tr>\n",
       "      <th>16</th>\n",
       "      <td>Starting the InnerSource Journey: Key Goals an...</td>\n",
       "      <td>Session 3: Introspection, Vision, and Human As...</td>\n",
       "      <td>0</td>\n",
       "      <td>1</td>\n",
       "    </tr>\n",
       "    <tr>\n",
       "      <th>102</th>\n",
       "      <td>Automatically Prioritizing and Assigning Tasks...</td>\n",
       "      <td>Session 15: Collaboration &amp; Open SourceRegiste...</td>\n",
       "      <td>1</td>\n",
       "      <td>1</td>\n",
       "    </tr>\n",
       "    <tr>\n",
       "      <th>24</th>\n",
       "      <td>Which bugs are missed in code reviews: An empi...</td>\n",
       "      <td>Mining ChallengeMining Challenge/Technical Pap...</td>\n",
       "      <td>2</td>\n",
       "      <td>2</td>\n",
       "    </tr>\n",
       "    <tr>\n",
       "      <th>...</th>\n",
       "      <td>...</td>\n",
       "      <td>...</td>\n",
       "      <td>...</td>\n",
       "      <td>...</td>\n",
       "    </tr>\n",
       "    <tr>\n",
       "      <th>83</th>\n",
       "      <td>FaST: A linear time stack trace alignment heur...</td>\n",
       "      <td>Session 12: Integration &amp; Large-Scale MiningTe...</td>\n",
       "      <td>1</td>\n",
       "      <td>18</td>\n",
       "    </tr>\n",
       "    <tr>\n",
       "      <th>60</th>\n",
       "      <td>SniP: An Efficient Stack Tracing Framework for...</td>\n",
       "      <td>Session 9: Scaling &amp; CloudIndustry Track/Regis...</td>\n",
       "      <td>1</td>\n",
       "      <td>18</td>\n",
       "    </tr>\n",
       "    <tr>\n",
       "      <th>31</th>\n",
       "      <td>Empirical Standards for Repository Mining</td>\n",
       "      <td>Tutorial: Empirical Standards for Repository M...</td>\n",
       "      <td>0</td>\n",
       "      <td>19</td>\n",
       "    </tr>\n",
       "    <tr>\n",
       "      <th>50</th>\n",
       "      <td>The Unsolvable Problem or the Unheard Answer? ...</td>\n",
       "      <td>Session 7: Developer Wellbeing &amp; Project Commu...</td>\n",
       "      <td>0</td>\n",
       "      <td>19</td>\n",
       "    </tr>\n",
       "    <tr>\n",
       "      <th>104</th>\n",
       "      <td>Can instability variations warn developers whe...</td>\n",
       "      <td>Session 15: Collaboration &amp; Open SourceRegiste...</td>\n",
       "      <td>0</td>\n",
       "      <td>19</td>\n",
       "    </tr>\n",
       "  </tbody>\n",
       "</table>\n",
       "<p>117 rows × 4 columns</p>\n",
       "</div>"
      ],
      "text/plain": [
       "                                                 title  \\\n",
       "97   Code Review Practices for Refactoring Changes:...   \n",
       "96   Extracting corrective actions from code reposi...   \n",
       "16   Starting the InnerSource Journey: Key Goals an...   \n",
       "102  Automatically Prioritizing and Assigning Tasks...   \n",
       "24   Which bugs are missed in code reviews: An empi...   \n",
       "..                                                 ...   \n",
       "83   FaST: A linear time stack trace alignment heur...   \n",
       "60   SniP: An Efficient Stack Tracing Framework for...   \n",
       "31           Empirical Standards for Repository Mining   \n",
       "50   The Unsolvable Problem or the Unheard Answer? ...   \n",
       "104  Can instability variations warn developers whe...   \n",
       "\n",
       "                                               session  cluster  \\\n",
       "97   Session 15: Collaboration & Open SourceRegiste...        2   \n",
       "96   Session 14: Software QualityTechnical Papers/I...        0   \n",
       "16   Session 3: Introspection, Vision, and Human As...        0   \n",
       "102  Session 15: Collaboration & Open SourceRegiste...        1   \n",
       "24   Mining ChallengeMining Challenge/Technical Pap...        2   \n",
       "..                                                 ...      ...   \n",
       "83   Session 12: Integration & Large-Scale MiningTe...        1   \n",
       "60   Session 9: Scaling & CloudIndustry Track/Regis...        1   \n",
       "31   Tutorial: Empirical Standards for Repository M...        0   \n",
       "50   Session 7: Developer Wellbeing & Project Commu...        0   \n",
       "104  Session 15: Collaboration & Open SourceRegiste...        0   \n",
       "\n",
       "     optimized_session  \n",
       "97                   1  \n",
       "96                   1  \n",
       "16                   1  \n",
       "102                  1  \n",
       "24                   2  \n",
       "..                 ...  \n",
       "83                  18  \n",
       "60                  18  \n",
       "31                  19  \n",
       "50                  19  \n",
       "104                 19  \n",
       "\n",
       "[117 rows x 4 columns]"
      ]
     },
     "execution_count": 128,
     "metadata": {},
     "output_type": "execute_result"
    }
   ],
   "source": [
    "df_merged_result.sort_values('optimized_session')"
   ]
  },
  {
   "cell_type": "code",
   "execution_count": 129,
   "id": "ac1f4c16-c021-4f11-90eb-c3bad3578cec",
   "metadata": {
    "tags": []
   },
   "outputs": [
    {
     "data": {
      "text/plain": [
       "optimized_session\n",
       "1     28\n",
       "2     27\n",
       "3     28\n",
       "4     48\n",
       "5     45\n",
       "6     26\n",
       "7     36\n",
       "8     25\n",
       "9     28\n",
       "10    33\n",
       "11    43\n",
       "12    37\n",
       "13    21\n",
       "14    36\n",
       "15    42\n",
       "16    41\n",
       "17    41\n",
       "18    33\n",
       "19    58\n",
       "dtype: int64"
      ]
     },
     "execution_count": 129,
     "metadata": {},
     "output_type": "execute_result"
    }
   ],
   "source": [
    "new_session_lengths = (df_results.groupby(\"optimized_session\")[\"duration\"].sum() + pd.Series(index=range(1,1+num_sessions), data = 0)).fillna(0)\n",
    "new_session_lengths"
   ]
  },
  {
   "cell_type": "code",
   "execution_count": 130,
   "id": "c50a55c8-c5cd-453b-bfcf-238cec6a96a5",
   "metadata": {
    "tags": []
   },
   "outputs": [
    {
     "data": {
      "text/plain": [
       "array([30, 28, 34, 39, 36, 36, 36, 38, 36, 36, 33, 33, 36, 34, 37, 37, 37,\n",
       "       30, 50])"
      ]
     },
     "execution_count": 130,
     "metadata": {},
     "output_type": "execute_result"
    }
   ],
   "source": [
    "df.groupby(\"session\")[\"duration\"].sum().values"
   ]
  },
  {
   "cell_type": "code",
   "execution_count": 131,
   "id": "5c3a890c-9d50-46a4-b3e8-1e81a51e9aba",
   "metadata": {
    "tags": []
   },
   "outputs": [
    {
     "name": "stdout",
     "output_type": "stream",
     "text": [
      "completeness score: 0.4234040953172233\n",
      "homogeneity score: 0.4211182858948719\n"
     ]
    }
   ],
   "source": [
    "completeness_score = metrics.completeness_score(df_merged_result['session'], df_merged_result['optimized_session'])\n",
    "homegeneity_score = metrics.homogeneity_score(df_merged_result['session'], df_merged_result['optimized_session'])\n",
    "print(f\"completeness score: {completeness_score}\")\n",
    "print(f\"homogeneity score: {homegeneity_score}\")  "
   ]
  },
  {
   "cell_type": "code",
   "execution_count": 132,
   "id": "b09cb204-3bf3-439c-bb6b-9ee924d8609b",
   "metadata": {
    "tags": []
   },
   "outputs": [
    {
     "data": {
      "text/plain": [
       "0.37183301417743797"
      ]
     },
     "execution_count": 132,
     "metadata": {},
     "output_type": "execute_result"
    }
   ],
   "source": [
    "metrics.completeness_score(df_merged_result['session'], df_merged_result['cluster'])"
   ]
  },
  {
   "cell_type": "code",
   "execution_count": 133,
   "id": "1a414eef-2dab-42df-a2ee-6e5ae2643d7a",
   "metadata": {},
   "outputs": [
    {
     "data": {
      "text/plain": [
       "0.20060151486657662"
      ]
     },
     "execution_count": 133,
     "metadata": {},
     "output_type": "execute_result"
    }
   ],
   "source": [
    "metrics.homogeneity_score(df_merged_result['session'], df_merged_result['cluster'])"
   ]
  },
  {
   "cell_type": "code",
   "execution_count": null,
   "id": "6fda5ead-9f09-45c8-a122-90a2e2e3bc53",
   "metadata": {},
   "outputs": [],
   "source": []
  },
  {
   "cell_type": "code",
   "execution_count": null,
   "id": "e52c946c-8f66-46c2-a3cd-3c1ec090c8f7",
   "metadata": {},
   "outputs": [],
   "source": []
  },
  {
   "cell_type": "code",
   "execution_count": null,
   "id": "e55e7d4b-2f6e-490b-8d50-5ca493f766fe",
   "metadata": {},
   "outputs": [],
   "source": []
  },
  {
   "cell_type": "code",
   "execution_count": null,
   "id": "9c772391-dd36-4320-9620-29f70648436b",
   "metadata": {},
   "outputs": [],
   "source": []
  },
  {
   "cell_type": "code",
   "execution_count": null,
   "id": "badb3e5c-9002-4e0c-86cc-c7611571cd29",
   "metadata": {},
   "outputs": [],
   "source": []
  },
  {
   "cell_type": "code",
   "execution_count": null,
   "id": "7bef7c09-aacd-46aa-8529-a345b863e11f",
   "metadata": {},
   "outputs": [],
   "source": []
  },
  {
   "cell_type": "code",
   "execution_count": null,
   "id": "4ced3407-2628-4f36-bcb7-e26e2866a361",
   "metadata": {},
   "outputs": [],
   "source": []
  }
 ],
 "metadata": {
  "environment": {
   "kernel": "conda-root-py",
   "name": "workbench-notebooks.m119",
   "type": "gcloud",
   "uri": "us-docker.pkg.dev/deeplearning-platform-release/gcr.io/workbench-notebooks:m119"
  },
  "kernelspec": {
   "display_name": "Python 3 (ipykernel) (Local)",
   "language": "python",
   "name": "conda-root-py"
  },
  "language_info": {
   "codemirror_mode": {
    "name": "ipython",
    "version": 3
   },
   "file_extension": ".py",
   "mimetype": "text/x-python",
   "name": "python",
   "nbconvert_exporter": "python",
   "pygments_lexer": "ipython3",
   "version": "3.10.14"
  }
 },
 "nbformat": 4,
 "nbformat_minor": 5
}
